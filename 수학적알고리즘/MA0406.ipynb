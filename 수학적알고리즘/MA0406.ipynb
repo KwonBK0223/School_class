{
 "cells": [
  {
   "cell_type": "code",
   "execution_count": 8,
   "id": "c3412087",
   "metadata": {
    "ExecuteTime": {
     "end_time": "2023-04-06T06:32:38.270399Z",
     "start_time": "2023-04-06T06:32:38.254789Z"
    }
   },
   "outputs": [],
   "source": [
    "import pandas as pd\n",
    "\n",
    "g = pd.read_csv(\"ch6-1.csv\")"
   ]
  },
  {
   "cell_type": "code",
   "execution_count": 9,
   "id": "aead3988",
   "metadata": {
    "ExecuteTime": {
     "end_time": "2023-04-06T06:32:38.285989Z",
     "start_time": "2023-04-06T06:32:38.270399Z"
    }
   },
   "outputs": [
    {
     "data": {
      "text/html": [
       "<div>\n",
       "<style scoped>\n",
       "    .dataframe tbody tr th:only-of-type {\n",
       "        vertical-align: middle;\n",
       "    }\n",
       "\n",
       "    .dataframe tbody tr th {\n",
       "        vertical-align: top;\n",
       "    }\n",
       "\n",
       "    .dataframe thead th {\n",
       "        text-align: right;\n",
       "    }\n",
       "</style>\n",
       "<table border=\"1\" class=\"dataframe\">\n",
       "  <thead>\n",
       "    <tr style=\"text-align: right;\">\n",
       "      <th></th>\n",
       "      <th>wing_length</th>\n",
       "      <th>tail_length</th>\n",
       "      <th>gender</th>\n",
       "    </tr>\n",
       "  </thead>\n",
       "  <tbody>\n",
       "    <tr>\n",
       "      <th>0</th>\n",
       "      <td>44</td>\n",
       "      <td>9</td>\n",
       "      <td>m</td>\n",
       "    </tr>\n",
       "    <tr>\n",
       "      <th>1</th>\n",
       "      <td>42</td>\n",
       "      <td>9</td>\n",
       "      <td>m</td>\n",
       "    </tr>\n",
       "    <tr>\n",
       "      <th>2</th>\n",
       "      <td>43</td>\n",
       "      <td>8</td>\n",
       "      <td>m</td>\n",
       "    </tr>\n",
       "    <tr>\n",
       "      <th>3</th>\n",
       "      <td>40</td>\n",
       "      <td>10</td>\n",
       "      <td>m</td>\n",
       "    </tr>\n",
       "    <tr>\n",
       "      <th>4</th>\n",
       "      <td>44</td>\n",
       "      <td>8</td>\n",
       "      <td>m</td>\n",
       "    </tr>\n",
       "  </tbody>\n",
       "</table>\n",
       "</div>"
      ],
      "text/plain": [
       "   wing_length  tail_length gender\n",
       "0           44            9      m\n",
       "1           42            9      m\n",
       "2           43            8      m\n",
       "3           40           10      m\n",
       "4           44            8      m"
      ]
     },
     "execution_count": 9,
     "metadata": {},
     "output_type": "execute_result"
    }
   ],
   "source": [
    "g.head()"
   ]
  },
  {
   "cell_type": "code",
   "execution_count": 10,
   "id": "6020b776",
   "metadata": {
    "ExecuteTime": {
     "end_time": "2023-04-06T06:32:38.317260Z",
     "start_time": "2023-04-06T06:32:38.285989Z"
    }
   },
   "outputs": [
    {
     "data": {
      "text/html": [
       "<div>\n",
       "<style scoped>\n",
       "    .dataframe tbody tr th:only-of-type {\n",
       "        vertical-align: middle;\n",
       "    }\n",
       "\n",
       "    .dataframe tbody tr th {\n",
       "        vertical-align: top;\n",
       "    }\n",
       "\n",
       "    .dataframe thead th {\n",
       "        text-align: right;\n",
       "    }\n",
       "</style>\n",
       "<table border=\"1\" class=\"dataframe\">\n",
       "  <thead>\n",
       "    <tr style=\"text-align: right;\">\n",
       "      <th></th>\n",
       "      <th>wing_length</th>\n",
       "      <th>tail_length</th>\n",
       "      <th>gender</th>\n",
       "    </tr>\n",
       "  </thead>\n",
       "  <tbody>\n",
       "    <tr>\n",
       "      <th>55</th>\n",
       "      <td>43</td>\n",
       "      <td>10</td>\n",
       "      <td>f</td>\n",
       "    </tr>\n",
       "    <tr>\n",
       "      <th>56</th>\n",
       "      <td>46</td>\n",
       "      <td>11</td>\n",
       "      <td>f</td>\n",
       "    </tr>\n",
       "    <tr>\n",
       "      <th>57</th>\n",
       "      <td>44</td>\n",
       "      <td>11</td>\n",
       "      <td>f</td>\n",
       "    </tr>\n",
       "    <tr>\n",
       "      <th>58</th>\n",
       "      <td>45</td>\n",
       "      <td>11</td>\n",
       "      <td>f</td>\n",
       "    </tr>\n",
       "    <tr>\n",
       "      <th>59</th>\n",
       "      <td>46</td>\n",
       "      <td>12</td>\n",
       "      <td>f</td>\n",
       "    </tr>\n",
       "  </tbody>\n",
       "</table>\n",
       "</div>"
      ],
      "text/plain": [
       "    wing_length  tail_length gender\n",
       "55           43           10      f\n",
       "56           46           11      f\n",
       "57           44           11      f\n",
       "58           45           11      f\n",
       "59           46           12      f"
      ]
     },
     "execution_count": 10,
     "metadata": {},
     "output_type": "execute_result"
    }
   ],
   "source": [
    "g.tail()"
   ]
  },
  {
   "cell_type": "code",
   "execution_count": 11,
   "id": "2f440959",
   "metadata": {
    "ExecuteTime": {
     "end_time": "2023-04-06T06:32:38.348503Z",
     "start_time": "2023-04-06T06:32:38.317260Z"
    }
   },
   "outputs": [
    {
     "data": {
      "text/html": [
       "<div>\n",
       "<style scoped>\n",
       "    .dataframe tbody tr th:only-of-type {\n",
       "        vertical-align: middle;\n",
       "    }\n",
       "\n",
       "    .dataframe tbody tr th {\n",
       "        vertical-align: top;\n",
       "    }\n",
       "\n",
       "    .dataframe thead th {\n",
       "        text-align: right;\n",
       "    }\n",
       "</style>\n",
       "<table border=\"1\" class=\"dataframe\">\n",
       "  <thead>\n",
       "    <tr style=\"text-align: right;\">\n",
       "      <th></th>\n",
       "      <th>wing_length</th>\n",
       "      <th>tail_length</th>\n",
       "    </tr>\n",
       "  </thead>\n",
       "  <tbody>\n",
       "    <tr>\n",
       "      <th>count</th>\n",
       "      <td>60.000000</td>\n",
       "      <td>60.000000</td>\n",
       "    </tr>\n",
       "    <tr>\n",
       "      <th>mean</th>\n",
       "      <td>43.833333</td>\n",
       "      <td>10.066667</td>\n",
       "    </tr>\n",
       "    <tr>\n",
       "      <th>std</th>\n",
       "      <td>2.248666</td>\n",
       "      <td>1.436411</td>\n",
       "    </tr>\n",
       "    <tr>\n",
       "      <th>min</th>\n",
       "      <td>40.000000</td>\n",
       "      <td>8.000000</td>\n",
       "    </tr>\n",
       "    <tr>\n",
       "      <th>25%</th>\n",
       "      <td>42.750000</td>\n",
       "      <td>9.000000</td>\n",
       "    </tr>\n",
       "    <tr>\n",
       "      <th>50%</th>\n",
       "      <td>44.000000</td>\n",
       "      <td>10.000000</td>\n",
       "    </tr>\n",
       "    <tr>\n",
       "      <th>75%</th>\n",
       "      <td>46.000000</td>\n",
       "      <td>11.000000</td>\n",
       "    </tr>\n",
       "    <tr>\n",
       "      <th>max</th>\n",
       "      <td>48.000000</td>\n",
       "      <td>12.000000</td>\n",
       "    </tr>\n",
       "  </tbody>\n",
       "</table>\n",
       "</div>"
      ],
      "text/plain": [
       "       wing_length  tail_length\n",
       "count    60.000000    60.000000\n",
       "mean     43.833333    10.066667\n",
       "std       2.248666     1.436411\n",
       "min      40.000000     8.000000\n",
       "25%      42.750000     9.000000\n",
       "50%      44.000000    10.000000\n",
       "75%      46.000000    11.000000\n",
       "max      48.000000    12.000000"
      ]
     },
     "execution_count": 11,
     "metadata": {},
     "output_type": "execute_result"
    }
   ],
   "source": [
    "g.describe()"
   ]
  },
  {
   "cell_type": "code",
   "execution_count": 12,
   "id": "9ac52379",
   "metadata": {
    "ExecuteTime": {
     "end_time": "2023-04-06T06:32:38.379733Z",
     "start_time": "2023-04-06T06:32:38.348503Z"
    },
    "scrolled": true
   },
   "outputs": [
    {
     "name": "stdout",
     "output_type": "stream",
     "text": [
      "<class 'pandas.core.frame.DataFrame'>\n",
      "RangeIndex: 60 entries, 0 to 59\n",
      "Data columns (total 3 columns):\n",
      " #   Column       Non-Null Count  Dtype \n",
      "---  ------       --------------  ----- \n",
      " 0   wing_length  60 non-null     int64 \n",
      " 1   tail_length  60 non-null     int64 \n",
      " 2   gender       60 non-null     object\n",
      "dtypes: int64(2), object(1)\n",
      "memory usage: 1.5+ KB\n"
     ]
    }
   ],
   "source": [
    "g.info()"
   ]
  },
  {
   "cell_type": "code",
   "execution_count": 13,
   "id": "65a76a50",
   "metadata": {
    "ExecuteTime": {
     "end_time": "2023-04-06T06:32:38.395369Z",
     "start_time": "2023-04-06T06:32:38.379733Z"
    }
   },
   "outputs": [],
   "source": [
    "# gender 변수의 m을 1로 f를 0으로 변경\n",
    "g['gender'] = g['gender'].map({\"m\": 1, \"f\": 0})"
   ]
  },
  {
   "cell_type": "code",
   "execution_count": 14,
   "id": "5afe7ecf",
   "metadata": {
    "ExecuteTime": {
     "end_time": "2023-04-06T06:32:38.410960Z",
     "start_time": "2023-04-06T06:32:38.395369Z"
    },
    "scrolled": true
   },
   "outputs": [
    {
     "data": {
      "text/html": [
       "<div>\n",
       "<style scoped>\n",
       "    .dataframe tbody tr th:only-of-type {\n",
       "        vertical-align: middle;\n",
       "    }\n",
       "\n",
       "    .dataframe tbody tr th {\n",
       "        vertical-align: top;\n",
       "    }\n",
       "\n",
       "    .dataframe thead th {\n",
       "        text-align: right;\n",
       "    }\n",
       "</style>\n",
       "<table border=\"1\" class=\"dataframe\">\n",
       "  <thead>\n",
       "    <tr style=\"text-align: right;\">\n",
       "      <th></th>\n",
       "      <th>wing_length</th>\n",
       "      <th>tail_length</th>\n",
       "      <th>gender</th>\n",
       "    </tr>\n",
       "  </thead>\n",
       "  <tbody>\n",
       "    <tr>\n",
       "      <th>0</th>\n",
       "      <td>44</td>\n",
       "      <td>9</td>\n",
       "      <td>1</td>\n",
       "    </tr>\n",
       "    <tr>\n",
       "      <th>1</th>\n",
       "      <td>42</td>\n",
       "      <td>9</td>\n",
       "      <td>1</td>\n",
       "    </tr>\n",
       "    <tr>\n",
       "      <th>2</th>\n",
       "      <td>43</td>\n",
       "      <td>8</td>\n",
       "      <td>1</td>\n",
       "    </tr>\n",
       "    <tr>\n",
       "      <th>3</th>\n",
       "      <td>40</td>\n",
       "      <td>10</td>\n",
       "      <td>1</td>\n",
       "    </tr>\n",
       "    <tr>\n",
       "      <th>4</th>\n",
       "      <td>44</td>\n",
       "      <td>8</td>\n",
       "      <td>1</td>\n",
       "    </tr>\n",
       "  </tbody>\n",
       "</table>\n",
       "</div>"
      ],
      "text/plain": [
       "   wing_length  tail_length  gender\n",
       "0           44            9       1\n",
       "1           42            9       1\n",
       "2           43            8       1\n",
       "3           40           10       1\n",
       "4           44            8       1"
      ]
     },
     "execution_count": 14,
     "metadata": {},
     "output_type": "execute_result"
    }
   ],
   "source": [
    "g.head()"
   ]
  },
  {
   "cell_type": "markdown",
   "id": "4a91793c",
   "metadata": {},
   "source": [
    "# 핵심 단어는 예측 모델"
   ]
  },
  {
   "cell_type": "code",
   "execution_count": 17,
   "id": "7e91ad0a",
   "metadata": {
    "ExecuteTime": {
     "end_time": "2023-04-06T06:36:55.384932Z",
     "start_time": "2023-04-06T06:36:55.353691Z"
    }
   },
   "outputs": [
    {
     "name": "stdout",
     "output_type": "stream",
     "text": [
      "Optimization terminated successfully.\n",
      "         Current function value: 0.137215\n",
      "         Iterations 9\n"
     ]
    }
   ],
   "source": [
    "import statsmodels.api as sm\n",
    "\n",
    "model_glm = sm.Logit.from_formula('gender ~ wing_length + tail_length', data = g).fit()"
   ]
  },
  {
   "cell_type": "code",
   "execution_count": 18,
   "id": "b6b87b10",
   "metadata": {
    "ExecuteTime": {
     "end_time": "2023-04-06T06:37:02.055254Z",
     "start_time": "2023-04-06T06:37:02.008390Z"
    },
    "scrolled": true
   },
   "outputs": [
    {
     "data": {
      "text/html": [
       "<table class=\"simpletable\">\n",
       "<caption>Logit Regression Results</caption>\n",
       "<tr>\n",
       "  <th>Dep. Variable:</th>        <td>gender</td>      <th>  No. Observations:  </th>  <td>    60</td>  \n",
       "</tr>\n",
       "<tr>\n",
       "  <th>Model:</th>                 <td>Logit</td>      <th>  Df Residuals:      </th>  <td>    57</td>  \n",
       "</tr>\n",
       "<tr>\n",
       "  <th>Method:</th>                 <td>MLE</td>       <th>  Df Model:          </th>  <td>     2</td>  \n",
       "</tr>\n",
       "<tr>\n",
       "  <th>Date:</th>            <td>Thu, 06 Apr 2023</td> <th>  Pseudo R-squ.:     </th>  <td>0.8020</td>  \n",
       "</tr>\n",
       "<tr>\n",
       "  <th>Time:</th>                <td>15:37:02</td>     <th>  Log-Likelihood:    </th> <td> -8.2329</td> \n",
       "</tr>\n",
       "<tr>\n",
       "  <th>converged:</th>             <td>True</td>       <th>  LL-Null:           </th> <td> -41.589</td> \n",
       "</tr>\n",
       "<tr>\n",
       "  <th>Covariance Type:</th>     <td>nonrobust</td>    <th>  LLR p-value:       </th> <td>3.264e-15</td>\n",
       "</tr>\n",
       "</table>\n",
       "<table class=\"simpletable\">\n",
       "<tr>\n",
       "       <td></td>          <th>coef</th>     <th>std err</th>      <th>z</th>      <th>P>|z|</th>  <th>[0.025</th>    <th>0.975]</th>  \n",
       "</tr>\n",
       "<tr>\n",
       "  <th>Intercept</th>   <td>   70.1955</td> <td>   23.410</td> <td>    2.999</td> <td> 0.003</td> <td>   24.313</td> <td>  116.078</td>\n",
       "</tr>\n",
       "<tr>\n",
       "  <th>wing_length</th> <td>   -1.0531</td> <td>    0.505</td> <td>   -2.087</td> <td> 0.037</td> <td>   -2.042</td> <td>   -0.064</td>\n",
       "</tr>\n",
       "<tr>\n",
       "  <th>tail_length</th> <td>   -2.3859</td> <td>    0.969</td> <td>   -2.462</td> <td> 0.014</td> <td>   -4.285</td> <td>   -0.486</td>\n",
       "</tr>\n",
       "</table>"
      ],
      "text/plain": [
       "<class 'statsmodels.iolib.summary.Summary'>\n",
       "\"\"\"\n",
       "                           Logit Regression Results                           \n",
       "==============================================================================\n",
       "Dep. Variable:                 gender   No. Observations:                   60\n",
       "Model:                          Logit   Df Residuals:                       57\n",
       "Method:                           MLE   Df Model:                            2\n",
       "Date:                Thu, 06 Apr 2023   Pseudo R-squ.:                  0.8020\n",
       "Time:                        15:37:02   Log-Likelihood:                -8.2329\n",
       "converged:                       True   LL-Null:                       -41.589\n",
       "Covariance Type:            nonrobust   LLR p-value:                 3.264e-15\n",
       "===============================================================================\n",
       "                  coef    std err          z      P>|z|      [0.025      0.975]\n",
       "-------------------------------------------------------------------------------\n",
       "Intercept      70.1955     23.410      2.999      0.003      24.313     116.078\n",
       "wing_length    -1.0531      0.505     -2.087      0.037      -2.042      -0.064\n",
       "tail_length    -2.3859      0.969     -2.462      0.014      -4.285      -0.486\n",
       "===============================================================================\n",
       "\"\"\""
      ]
     },
     "execution_count": 18,
     "metadata": {},
     "output_type": "execute_result"
    }
   ],
   "source": [
    "model_glm.summary()"
   ]
  },
  {
   "cell_type": "code",
   "execution_count": 19,
   "id": "e3ada74f",
   "metadata": {
    "ExecuteTime": {
     "end_time": "2023-04-06T06:41:31.258508Z",
     "start_time": "2023-04-06T06:41:31.242886Z"
    },
    "scrolled": true
   },
   "outputs": [
    {
     "data": {
      "text/plain": [
       "70.19549090131966"
      ]
     },
     "execution_count": 19,
     "metadata": {},
     "output_type": "execute_result"
    }
   ],
   "source": [
    "model_glm.params.Intercept"
   ]
  },
  {
   "cell_type": "code",
   "execution_count": 20,
   "id": "038dcbdb",
   "metadata": {
    "ExecuteTime": {
     "end_time": "2023-04-06T06:41:42.812590Z",
     "start_time": "2023-04-06T06:41:42.796938Z"
    }
   },
   "outputs": [
    {
     "data": {
      "text/plain": [
       "-1.053146179694261"
      ]
     },
     "execution_count": 20,
     "metadata": {},
     "output_type": "execute_result"
    }
   ],
   "source": [
    "model_glm.params.wing_length"
   ]
  },
  {
   "cell_type": "code",
   "execution_count": 21,
   "id": "d3420697",
   "metadata": {
    "ExecuteTime": {
     "end_time": "2023-04-06T06:41:49.827314Z",
     "start_time": "2023-04-06T06:41:49.796093Z"
    }
   },
   "outputs": [
    {
     "data": {
      "text/plain": [
       "-2.3859241165733525"
      ]
     },
     "execution_count": 21,
     "metadata": {},
     "output_type": "execute_result"
    }
   ],
   "source": [
    "model_glm.params.tail_length"
   ]
  },
  {
   "cell_type": "markdown",
   "id": "ec62e5dc",
   "metadata": {},
   "source": [
    "제공받은 데이터, 확률을 숫자로 말하기, 예측 모델\n",
    "\n",
    "제공받은 데이터로 만든 예측모델을 토대로 병아리의 정보를 넣으면 수컷 몇% 암컷 몇%정도로 예측되어진다"
   ]
  },
  {
   "cell_type": "code",
   "execution_count": 23,
   "id": "b1e0d304",
   "metadata": {
    "ExecuteTime": {
     "end_time": "2023-04-06T07:05:38.822026Z",
     "start_time": "2023-04-06T07:05:38.806405Z"
    }
   },
   "outputs": [],
   "source": [
    "y_prob = model_glm.predict(g.iloc[:, 0:2])"
   ]
  },
  {
   "cell_type": "code",
   "execution_count": 24,
   "id": "8039ae6e",
   "metadata": {
    "ExecuteTime": {
     "end_time": "2023-04-06T07:05:46.748109Z",
     "start_time": "2023-04-06T07:05:46.732486Z"
    }
   },
   "outputs": [
    {
     "data": {
      "text/plain": [
       "0    0.915579\n",
       "1    0.988904\n",
       "2    0.997049\n",
       "3    0.985377\n",
       "4    0.991588\n",
       "dtype: float64"
      ]
     },
     "execution_count": 24,
     "metadata": {},
     "output_type": "execute_result"
    }
   ],
   "source": [
    "y_prob.head()"
   ]
  },
  {
   "cell_type": "code",
   "execution_count": 26,
   "id": "4e9856fe",
   "metadata": {
    "ExecuteTime": {
     "end_time": "2023-04-06T07:06:01.869583Z",
     "start_time": "2023-04-06T07:06:01.853964Z"
    }
   },
   "outputs": [],
   "source": [
    "y_pred = list(map(round,y_prob))"
   ]
  },
  {
   "cell_type": "code",
   "execution_count": 27,
   "id": "63205394",
   "metadata": {
    "ExecuteTime": {
     "end_time": "2023-04-06T07:06:12.457360Z",
     "start_time": "2023-04-06T07:06:12.441737Z"
    }
   },
   "outputs": [
    {
     "data": {
      "text/plain": [
       "[1, 1, 1, 1, 1]"
      ]
     },
     "execution_count": 27,
     "metadata": {},
     "output_type": "execute_result"
    }
   ],
   "source": [
    "y_pred[0:5]"
   ]
  },
  {
   "cell_type": "code",
   "execution_count": 28,
   "id": "e93d6f61",
   "metadata": {
    "ExecuteTime": {
     "end_time": "2023-04-06T07:06:18.846497Z",
     "start_time": "2023-04-06T07:06:18.830875Z"
    }
   },
   "outputs": [],
   "source": [
    "y=g[\"gender\"]"
   ]
  },
  {
   "cell_type": "code",
   "execution_count": 31,
   "id": "1bf523f2",
   "metadata": {
    "ExecuteTime": {
     "end_time": "2023-04-06T07:06:48.588473Z",
     "start_time": "2023-04-06T07:06:48.276045Z"
    }
   },
   "outputs": [],
   "source": [
    "from sklearn.metrics import confusion_matrix"
   ]
  },
  {
   "cell_type": "code",
   "execution_count": 32,
   "id": "c460f0e4",
   "metadata": {
    "ExecuteTime": {
     "end_time": "2023-04-06T07:07:04.750027Z",
     "start_time": "2023-04-06T07:07:04.734412Z"
    }
   },
   "outputs": [
    {
     "data": {
      "text/plain": [
       "array([[28,  2],\n",
       "       [ 1, 29]], dtype=int64)"
      ]
     },
     "execution_count": 32,
     "metadata": {},
     "output_type": "execute_result"
    }
   ],
   "source": [
    "confusion_matrix(y, y_pred, labels = [1,0])"
   ]
  },
  {
   "cell_type": "code",
   "execution_count": 34,
   "id": "89ba85bd",
   "metadata": {
    "ExecuteTime": {
     "end_time": "2023-04-06T07:07:30.556519Z",
     "start_time": "2023-04-06T07:07:30.540937Z"
    }
   },
   "outputs": [],
   "source": [
    "from sklearn.metrics import classification_report"
   ]
  },
  {
   "cell_type": "code",
   "execution_count": 35,
   "id": "bf669f7b",
   "metadata": {
    "ExecuteTime": {
     "end_time": "2023-04-06T07:07:44.718965Z",
     "start_time": "2023-04-06T07:07:44.687734Z"
    }
   },
   "outputs": [
    {
     "name": "stdout",
     "output_type": "stream",
     "text": [
      "              precision    recall  f1-score   support\n",
      "\n",
      "           0       0.94      0.97      0.95        30\n",
      "           1       0.97      0.93      0.95        30\n",
      "\n",
      "    accuracy                           0.95        60\n",
      "   macro avg       0.95      0.95      0.95        60\n",
      "weighted avg       0.95      0.95      0.95        60\n",
      "\n"
     ]
    }
   ],
   "source": [
    "print(classification_report(y,y_pred))"
   ]
  },
  {
   "cell_type": "markdown",
   "id": "f85178e6",
   "metadata": {},
   "source": [
    "    precision : 정밀도\n",
    "    recall: 재현율\n",
    "    f1 - score: 분류모델에 사용되는 머신러닝 평가지표 \n",
    "    support "
   ]
  },
  {
   "cell_type": "code",
   "execution_count": null,
   "id": "75394154",
   "metadata": {},
   "outputs": [],
   "source": []
  }
 ],
 "metadata": {
  "kernelspec": {
   "display_name": "Python 3 (ipykernel)",
   "language": "python",
   "name": "python3"
  },
  "language_info": {
   "codemirror_mode": {
    "name": "ipython",
    "version": 3
   },
   "file_extension": ".py",
   "mimetype": "text/x-python",
   "name": "python",
   "nbconvert_exporter": "python",
   "pygments_lexer": "ipython3",
   "version": "3.9.12"
  },
  "toc": {
   "base_numbering": 1,
   "nav_menu": {},
   "number_sections": false,
   "sideBar": true,
   "skip_h1_title": false,
   "title_cell": "Table of Contents",
   "title_sidebar": "Contents",
   "toc_cell": false,
   "toc_position": {},
   "toc_section_display": true,
   "toc_window_display": false
  },
  "varInspector": {
   "cols": {
    "lenName": 16,
    "lenType": 16,
    "lenVar": 40
   },
   "kernels_config": {
    "python": {
     "delete_cmd_postfix": "",
     "delete_cmd_prefix": "del ",
     "library": "var_list.py",
     "varRefreshCmd": "print(var_dic_list())"
    },
    "r": {
     "delete_cmd_postfix": ") ",
     "delete_cmd_prefix": "rm(",
     "library": "var_list.r",
     "varRefreshCmd": "cat(var_dic_list()) "
    }
   },
   "types_to_exclude": [
    "module",
    "function",
    "builtin_function_or_method",
    "instance",
    "_Feature"
   ],
   "window_display": false
  }
 },
 "nbformat": 4,
 "nbformat_minor": 5
}
