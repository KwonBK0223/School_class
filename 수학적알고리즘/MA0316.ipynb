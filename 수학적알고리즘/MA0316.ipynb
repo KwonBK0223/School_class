{
 "cells": [
  {
   "cell_type": "markdown",
   "id": "03ade1a5",
   "metadata": {},
   "source": [
    "# 서버교육"
   ]
  },
  {
   "cell_type": "markdown",
   "id": "a76d66f3",
   "metadata": {},
   "source": [
    "https://jskoream.notion.site/Lecture-1-HPC-1-HPC-Server-Connection-BusanNU-Prof-230316-2baf69db0d9e48e794011b8cafe7c9de"
   ]
  },
  {
   "cell_type": "markdown",
   "id": "5fadbfc3",
   "metadata": {},
   "source": [
    "HPC \n",
    "\n",
    "<랙타입 서버>\n",
    "\n",
    "Cluster 묶음\n",
    "\n",
    "연구에 적합한 장비 선택 , 운영체제, 프로그램 선택(사용자의 니즈에 맞게)\n",
    "\n",
    "Frequency(Hz) CPU 속도 > 예전이나 지금이나 속도의 차이가 별로 없음\n",
    "\n",
    "하나의 물리적인 CPU로는 속도 향상의 어려움\n",
    "\n",
    "그래서 하나에 여러개의 코어를 넣어서 속도 향상\n",
    "\n",
    "한장비에 여러개의 소켓(CPU) 넣기 (2개,4개,8개,,등 128코어도 있음)\n",
    "\n",
    "캐비넷안에 장착해서 사용함\n",
    "\n",
    "여러개 장착이 가능한 CPU는 기존의 모델명과 이름이 다름\n",
    "\n",
    ">서버 : 요청이 들어왔을때 요쳥을 처리해 주는 장비\n",
    "\n",
    "이용 형태에 따라 다양한 서버 존재\n",
    "\n",
    "평균 20개에서 30개 정도 되는 디스크를 꼽는다\n",
    "\n",
    "안정성이 중요하다\n",
    "\n",
    "쿨링 : 전면에 바람 빨아 들여서 뒤로 나가는 방식으로 쿨링을 해서 쿨링이 빠름, 많이 시끄러움\n",
    "\n",
    "리눅스 >> CentOS 8 , Ubuntu 두개 제일 많이 씀\n",
    "\n",
    "RPM Based Linux >> 레드햇(운영체제), 오픈소스로 제공\n",
    "\n",
    "Cent OS : 레드햇 운영체제에서 무료로 이용할 수 있는것만 따로 뺀 OS  >> 최근에 유료로 변경\n",
    "\n",
    "Rocky 리눅스 : 현재는 이쪽으로 가는 추세 >> Cent OS 제작자들이 다시 만듬\n",
    "\n",
    "그래픽 기반으로 쓸 수도 있고(GUI) , 문자열 형식 기반으로도 쓸수 있음(CLI, CUI)\n",
    "\n",
    "윈도우에서 원격으로 접근하는 방법 : 원격데스크탑, 팀뷰어, 애니데스크\n",
    "\n",
    "SSH 방법으로 함\n",
    "\n",
    "MobaXterm 깔아보기\n",
    "\n",
    "설치 >> Sessions >>  SSH >>"
   ]
  }
 ],
 "metadata": {
  "kernelspec": {
   "display_name": "Python 3 (ipykernel)",
   "language": "python",
   "name": "python3"
  },
  "language_info": {
   "codemirror_mode": {
    "name": "ipython",
    "version": 3
   },
   "file_extension": ".py",
   "mimetype": "text/x-python",
   "name": "python",
   "nbconvert_exporter": "python",
   "pygments_lexer": "ipython3",
   "version": "3.9.12"
  }
 },
 "nbformat": 4,
 "nbformat_minor": 5
}
