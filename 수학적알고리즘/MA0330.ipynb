{
 "cells": [
  {
   "cell_type": "markdown",
   "id": "a617fe86",
   "metadata": {},
   "source": [
    "# 회귀분석 결과 해석\n",
    "1.통계값이 유의미가 한지(모델과의 신뢰도)\n",
    "\n",
    "2.각계수와 신뢰(절편값들이 유의미 한지)\n",
    "\n",
    "3.R값(설명력)이 얼마나 대단한지\n",
    "\n",
    "4.y값의 절편값\n",
    "\n"
   ]
  },
  {
   "cell_type": "code",
   "execution_count": 29,
   "id": "7763207d",
   "metadata": {},
   "outputs": [],
   "source": [
    "import pandas as pd\n",
    "w = pd.read_csv(\"ch5-1.csv\")\n",
    "w_n = w.iloc[:,1:5]"
   ]
  },
  {
   "cell_type": "code",
   "execution_count": 30,
   "id": "e724cde5",
   "metadata": {},
   "outputs": [],
   "source": [
    "import statsmodels.formula.api as smf\n",
    "# 회귀분석 수행을 위한 모듈 불러오기\n",
    "model_lm = smf.ols(formula = \"weight ~ egg_weight\", data = w_n)\n",
    "# 종란무게 - 병아리 몸무게 단순선형 회귀모델 구축"
   ]
  },
  {
   "cell_type": "code",
   "execution_count": 31,
   "id": "d522bdfe",
   "metadata": {},
   "outputs": [],
   "source": [
    "#모델 학습\n",
    "result_lm = model_lm.fit()"
   ]
  },
  {
   "cell_type": "code",
   "execution_count": 32,
   "id": "dabd351c",
   "metadata": {},
   "outputs": [
    {
     "data": {
      "text/html": [
       "<table class=\"simpletable\">\n",
       "<caption>OLS Regression Results</caption>\n",
       "<tr>\n",
       "  <th>Dep. Variable:</th>         <td>weight</td>      <th>  R-squared:         </th> <td>   0.916</td>\n",
       "</tr>\n",
       "<tr>\n",
       "  <th>Model:</th>                   <td>OLS</td>       <th>  Adj. R-squared:    </th> <td>   0.913</td>\n",
       "</tr>\n",
       "<tr>\n",
       "  <th>Method:</th>             <td>Least Squares</td>  <th>  F-statistic:       </th> <td>   306.0</td>\n",
       "</tr>\n",
       "<tr>\n",
       "  <th>Date:</th>             <td>Mon, 03 Apr 2023</td> <th>  Prob (F-statistic):</th> <td>1.32e-16</td>\n",
       "</tr>\n",
       "<tr>\n",
       "  <th>Time:</th>                 <td>15:00:42</td>     <th>  Log-Likelihood:    </th> <td> -63.148</td>\n",
       "</tr>\n",
       "<tr>\n",
       "  <th>No. Observations:</th>      <td>    30</td>      <th>  AIC:               </th> <td>   130.3</td>\n",
       "</tr>\n",
       "<tr>\n",
       "  <th>Df Residuals:</th>          <td>    28</td>      <th>  BIC:               </th> <td>   133.1</td>\n",
       "</tr>\n",
       "<tr>\n",
       "  <th>Df Model:</th>              <td>     1</td>      <th>                     </th>     <td> </td>   \n",
       "</tr>\n",
       "<tr>\n",
       "  <th>Covariance Type:</th>      <td>nonrobust</td>    <th>                     </th>     <td> </td>   \n",
       "</tr>\n",
       "</table>\n",
       "<table class=\"simpletable\">\n",
       "<tr>\n",
       "       <td></td>         <th>coef</th>     <th>std err</th>      <th>t</th>      <th>P>|t|</th>  <th>[0.025</th>    <th>0.975]</th>  \n",
       "</tr>\n",
       "<tr>\n",
       "  <th>Intercept</th>  <td>  -14.5475</td> <td>    8.705</td> <td>   -1.671</td> <td> 0.106</td> <td>  -32.380</td> <td>    3.285</td>\n",
       "</tr>\n",
       "<tr>\n",
       "  <th>egg_weight</th> <td>    2.3371</td> <td>    0.134</td> <td>   17.493</td> <td> 0.000</td> <td>    2.063</td> <td>    2.611</td>\n",
       "</tr>\n",
       "</table>\n",
       "<table class=\"simpletable\">\n",
       "<tr>\n",
       "  <th>Omnibus:</th>       <td>15.078</td> <th>  Durbin-Watson:     </th> <td>   1.998</td>\n",
       "</tr>\n",
       "<tr>\n",
       "  <th>Prob(Omnibus):</th> <td> 0.001</td> <th>  Jarque-Bera (JB):  </th> <td>   2.750</td>\n",
       "</tr>\n",
       "<tr>\n",
       "  <th>Skew:</th>          <td> 0.032</td> <th>  Prob(JB):          </th> <td>   0.253</td>\n",
       "</tr>\n",
       "<tr>\n",
       "  <th>Kurtosis:</th>      <td> 1.518</td> <th>  Cond. No.          </th> <td>1.51e+03</td>\n",
       "</tr>\n",
       "</table><br/><br/>Notes:<br/>[1] Standard Errors assume that the covariance matrix of the errors is correctly specified.<br/>[2] The condition number is large, 1.51e+03. This might indicate that there are<br/>strong multicollinearity or other numerical problems."
      ],
      "text/plain": [
       "<class 'statsmodels.iolib.summary.Summary'>\n",
       "\"\"\"\n",
       "                            OLS Regression Results                            \n",
       "==============================================================================\n",
       "Dep. Variable:                 weight   R-squared:                       0.916\n",
       "Model:                            OLS   Adj. R-squared:                  0.913\n",
       "Method:                 Least Squares   F-statistic:                     306.0\n",
       "Date:                Mon, 03 Apr 2023   Prob (F-statistic):           1.32e-16\n",
       "Time:                        15:00:42   Log-Likelihood:                -63.148\n",
       "No. Observations:                  30   AIC:                             130.3\n",
       "Df Residuals:                      28   BIC:                             133.1\n",
       "Df Model:                           1                                         \n",
       "Covariance Type:            nonrobust                                         \n",
       "==============================================================================\n",
       "                 coef    std err          t      P>|t|      [0.025      0.975]\n",
       "------------------------------------------------------------------------------\n",
       "Intercept    -14.5475      8.705     -1.671      0.106     -32.380       3.285\n",
       "egg_weight     2.3371      0.134     17.493      0.000       2.063       2.611\n",
       "==============================================================================\n",
       "Omnibus:                       15.078   Durbin-Watson:                   1.998\n",
       "Prob(Omnibus):                  0.001   Jarque-Bera (JB):                2.750\n",
       "Skew:                           0.032   Prob(JB):                        0.253\n",
       "Kurtosis:                       1.518   Cond. No.                     1.51e+03\n",
       "==============================================================================\n",
       "\n",
       "Notes:\n",
       "[1] Standard Errors assume that the covariance matrix of the errors is correctly specified.\n",
       "[2] The condition number is large, 1.51e+03. This might indicate that there are\n",
       "strong multicollinearity or other numerical problems.\n",
       "\"\"\""
      ]
     },
     "execution_count": 32,
     "metadata": {},
     "output_type": "execute_result"
    }
   ],
   "source": [
    "result_lm.summary()"
   ]
  },
  {
   "cell_type": "code",
   "execution_count": 33,
   "id": "73572b8d",
   "metadata": {},
   "outputs": [],
   "source": [
    "#다중회귀분석 실시\n",
    "model_mim = smf.ols(formula = \"weight ~ egg_weight+food+movement\",data = w_n)"
   ]
  },
  {
   "cell_type": "code",
   "execution_count": 34,
   "id": "9c6e0ca7",
   "metadata": {},
   "outputs": [],
   "source": [
    "#모델 학습\n",
    "result_mim = model_mim.fit()"
   ]
  },
  {
   "cell_type": "code",
   "execution_count": 35,
   "id": "84fe372e",
   "metadata": {},
   "outputs": [
    {
     "data": {
      "text/html": [
       "<table class=\"simpletable\">\n",
       "<caption>OLS Regression Results</caption>\n",
       "<tr>\n",
       "  <th>Dep. Variable:</th>         <td>weight</td>      <th>  R-squared:         </th> <td>   0.948</td>\n",
       "</tr>\n",
       "<tr>\n",
       "  <th>Model:</th>                   <td>OLS</td>       <th>  Adj. R-squared:    </th> <td>   0.942</td>\n",
       "</tr>\n",
       "<tr>\n",
       "  <th>Method:</th>             <td>Least Squares</td>  <th>  F-statistic:       </th> <td>   157.7</td>\n",
       "</tr>\n",
       "<tr>\n",
       "  <th>Date:</th>             <td>Mon, 03 Apr 2023</td> <th>  Prob (F-statistic):</th> <td>8.46e-17</td>\n",
       "</tr>\n",
       "<tr>\n",
       "  <th>Time:</th>                 <td>15:00:42</td>     <th>  Log-Likelihood:    </th> <td> -56.008</td>\n",
       "</tr>\n",
       "<tr>\n",
       "  <th>No. Observations:</th>      <td>    30</td>      <th>  AIC:               </th> <td>   120.0</td>\n",
       "</tr>\n",
       "<tr>\n",
       "  <th>Df Residuals:</th>          <td>    26</td>      <th>  BIC:               </th> <td>   125.6</td>\n",
       "</tr>\n",
       "<tr>\n",
       "  <th>Df Model:</th>              <td>     3</td>      <th>                     </th>     <td> </td>   \n",
       "</tr>\n",
       "<tr>\n",
       "  <th>Covariance Type:</th>      <td>nonrobust</td>    <th>                     </th>     <td> </td>   \n",
       "</tr>\n",
       "</table>\n",
       "<table class=\"simpletable\">\n",
       "<tr>\n",
       "       <td></td>         <th>coef</th>     <th>std err</th>      <th>t</th>      <th>P>|t|</th>  <th>[0.025</th>    <th>0.975]</th>  \n",
       "</tr>\n",
       "<tr>\n",
       "  <th>Intercept</th>  <td>    2.9748</td> <td>    8.587</td> <td>    0.346</td> <td> 0.732</td> <td>  -14.676</td> <td>   20.626</td>\n",
       "</tr>\n",
       "<tr>\n",
       "  <th>egg_weight</th> <td>    1.7763</td> <td>    0.195</td> <td>    9.117</td> <td> 0.000</td> <td>    1.376</td> <td>    2.177</td>\n",
       "</tr>\n",
       "<tr>\n",
       "  <th>food</th>       <td>    1.5847</td> <td>    0.405</td> <td>    3.915</td> <td> 0.001</td> <td>    0.753</td> <td>    2.417</td>\n",
       "</tr>\n",
       "<tr>\n",
       "  <th>movement</th>   <td>   -0.0087</td> <td>    0.017</td> <td>   -0.522</td> <td> 0.606</td> <td>   -0.043</td> <td>    0.026</td>\n",
       "</tr>\n",
       "</table>\n",
       "<table class=\"simpletable\">\n",
       "<tr>\n",
       "  <th>Omnibus:</th>       <td> 1.993</td> <th>  Durbin-Watson:     </th> <td>   2.030</td>\n",
       "</tr>\n",
       "<tr>\n",
       "  <th>Prob(Omnibus):</th> <td> 0.369</td> <th>  Jarque-Bera (JB):  </th> <td>   1.746</td>\n",
       "</tr>\n",
       "<tr>\n",
       "  <th>Skew:</th>          <td>-0.480</td> <th>  Prob(JB):          </th> <td>   0.418</td>\n",
       "</tr>\n",
       "<tr>\n",
       "  <th>Kurtosis:</th>      <td> 2.311</td> <th>  Cond. No.          </th> <td>4.31e+03</td>\n",
       "</tr>\n",
       "</table><br/><br/>Notes:<br/>[1] Standard Errors assume that the covariance matrix of the errors is correctly specified.<br/>[2] The condition number is large, 4.31e+03. This might indicate that there are<br/>strong multicollinearity or other numerical problems."
      ],
      "text/plain": [
       "<class 'statsmodels.iolib.summary.Summary'>\n",
       "\"\"\"\n",
       "                            OLS Regression Results                            \n",
       "==============================================================================\n",
       "Dep. Variable:                 weight   R-squared:                       0.948\n",
       "Model:                            OLS   Adj. R-squared:                  0.942\n",
       "Method:                 Least Squares   F-statistic:                     157.7\n",
       "Date:                Mon, 03 Apr 2023   Prob (F-statistic):           8.46e-17\n",
       "Time:                        15:00:42   Log-Likelihood:                -56.008\n",
       "No. Observations:                  30   AIC:                             120.0\n",
       "Df Residuals:                      26   BIC:                             125.6\n",
       "Df Model:                           3                                         \n",
       "Covariance Type:            nonrobust                                         \n",
       "==============================================================================\n",
       "                 coef    std err          t      P>|t|      [0.025      0.975]\n",
       "------------------------------------------------------------------------------\n",
       "Intercept      2.9748      8.587      0.346      0.732     -14.676      20.626\n",
       "egg_weight     1.7763      0.195      9.117      0.000       1.376       2.177\n",
       "food           1.5847      0.405      3.915      0.001       0.753       2.417\n",
       "movement      -0.0087      0.017     -0.522      0.606      -0.043       0.026\n",
       "==============================================================================\n",
       "Omnibus:                        1.993   Durbin-Watson:                   2.030\n",
       "Prob(Omnibus):                  0.369   Jarque-Bera (JB):                1.746\n",
       "Skew:                          -0.480   Prob(JB):                        0.418\n",
       "Kurtosis:                       2.311   Cond. No.                     4.31e+03\n",
       "==============================================================================\n",
       "\n",
       "Notes:\n",
       "[1] Standard Errors assume that the covariance matrix of the errors is correctly specified.\n",
       "[2] The condition number is large, 4.31e+03. This might indicate that there are\n",
       "strong multicollinearity or other numerical problems.\n",
       "\"\"\""
      ]
     },
     "execution_count": 35,
     "metadata": {},
     "output_type": "execute_result"
    }
   ],
   "source": [
    "result_mim.summary()"
   ]
  },
  {
   "cell_type": "markdown",
   "id": "29202087",
   "metadata": {},
   "source": [
    "### 15페이지\n",
    "다중에는 Adj(조절된)값을 본다\n",
    "\n",
    "1.pvalue\n",
    "\n",
    "2.세번째 값은 0.05보다 크니까 의미가 없다라고 생각하면 된다\n",
    "\n",
    "3.R값을 조합해서 만든거\n",
    "\n",
    "4."
   ]
  },
  {
   "cell_type": "code",
   "execution_count": 36,
   "id": "cff412c2",
   "metadata": {},
   "outputs": [],
   "source": [
    "model_mim2 = smf.ols(formula = \"weight ~ egg_weight+food\",data=w_n)"
   ]
  },
  {
   "cell_type": "code",
   "execution_count": 37,
   "id": "038c02d9",
   "metadata": {},
   "outputs": [],
   "source": [
    "result_mim2=model_mim2.fit()"
   ]
  },
  {
   "cell_type": "code",
   "execution_count": 38,
   "id": "c24d7e8c",
   "metadata": {},
   "outputs": [
    {
     "data": {
      "text/html": [
       "<table class=\"simpletable\">\n",
       "<caption>OLS Regression Results</caption>\n",
       "<tr>\n",
       "  <th>Dep. Variable:</th>         <td>weight</td>      <th>  R-squared:         </th> <td>   0.947</td>\n",
       "</tr>\n",
       "<tr>\n",
       "  <th>Model:</th>                   <td>OLS</td>       <th>  Adj. R-squared:    </th> <td>   0.943</td>\n",
       "</tr>\n",
       "<tr>\n",
       "  <th>Method:</th>             <td>Least Squares</td>  <th>  F-statistic:       </th> <td>   243.0</td>\n",
       "</tr>\n",
       "<tr>\n",
       "  <th>Date:</th>             <td>Mon, 03 Apr 2023</td> <th>  Prob (F-statistic):</th> <td>5.44e-18</td>\n",
       "</tr>\n",
       "<tr>\n",
       "  <th>Time:</th>                 <td>15:00:42</td>     <th>  Log-Likelihood:    </th> <td> -56.164</td>\n",
       "</tr>\n",
       "<tr>\n",
       "  <th>No. Observations:</th>      <td>    30</td>      <th>  AIC:               </th> <td>   118.3</td>\n",
       "</tr>\n",
       "<tr>\n",
       "  <th>Df Residuals:</th>          <td>    27</td>      <th>  BIC:               </th> <td>   122.5</td>\n",
       "</tr>\n",
       "<tr>\n",
       "  <th>Df Model:</th>              <td>     2</td>      <th>                     </th>     <td> </td>   \n",
       "</tr>\n",
       "<tr>\n",
       "  <th>Covariance Type:</th>      <td>nonrobust</td>    <th>                     </th>     <td> </td>   \n",
       "</tr>\n",
       "</table>\n",
       "<table class=\"simpletable\">\n",
       "<tr>\n",
       "       <td></td>         <th>coef</th>     <th>std err</th>      <th>t</th>      <th>P>|t|</th>  <th>[0.025</th>    <th>0.975]</th>  \n",
       "</tr>\n",
       "<tr>\n",
       "  <th>Intercept</th>  <td>    3.6638</td> <td>    8.370</td> <td>    0.438</td> <td> 0.665</td> <td>  -13.510</td> <td>   20.837</td>\n",
       "</tr>\n",
       "<tr>\n",
       "  <th>egg_weight</th> <td>    1.7453</td> <td>    0.183</td> <td>    9.536</td> <td> 0.000</td> <td>    1.370</td> <td>    2.121</td>\n",
       "</tr>\n",
       "<tr>\n",
       "  <th>food</th>       <td>    1.5955</td> <td>    0.399</td> <td>    4.001</td> <td> 0.000</td> <td>    0.777</td> <td>    2.414</td>\n",
       "</tr>\n",
       "</table>\n",
       "<table class=\"simpletable\">\n",
       "<tr>\n",
       "  <th>Omnibus:</th>       <td> 2.302</td> <th>  Durbin-Watson:     </th> <td>   2.103</td>\n",
       "</tr>\n",
       "<tr>\n",
       "  <th>Prob(Omnibus):</th> <td> 0.316</td> <th>  Jarque-Bera (JB):  </th> <td>   1.940</td>\n",
       "</tr>\n",
       "<tr>\n",
       "  <th>Skew:</th>          <td>-0.502</td> <th>  Prob(JB):          </th> <td>   0.379</td>\n",
       "</tr>\n",
       "<tr>\n",
       "  <th>Kurtosis:</th>      <td> 2.263</td> <th>  Cond. No.          </th> <td>1.84e+03</td>\n",
       "</tr>\n",
       "</table><br/><br/>Notes:<br/>[1] Standard Errors assume that the covariance matrix of the errors is correctly specified.<br/>[2] The condition number is large, 1.84e+03. This might indicate that there are<br/>strong multicollinearity or other numerical problems."
      ],
      "text/plain": [
       "<class 'statsmodels.iolib.summary.Summary'>\n",
       "\"\"\"\n",
       "                            OLS Regression Results                            \n",
       "==============================================================================\n",
       "Dep. Variable:                 weight   R-squared:                       0.947\n",
       "Model:                            OLS   Adj. R-squared:                  0.943\n",
       "Method:                 Least Squares   F-statistic:                     243.0\n",
       "Date:                Mon, 03 Apr 2023   Prob (F-statistic):           5.44e-18\n",
       "Time:                        15:00:42   Log-Likelihood:                -56.164\n",
       "No. Observations:                  30   AIC:                             118.3\n",
       "Df Residuals:                      27   BIC:                             122.5\n",
       "Df Model:                           2                                         \n",
       "Covariance Type:            nonrobust                                         \n",
       "==============================================================================\n",
       "                 coef    std err          t      P>|t|      [0.025      0.975]\n",
       "------------------------------------------------------------------------------\n",
       "Intercept      3.6638      8.370      0.438      0.665     -13.510      20.837\n",
       "egg_weight     1.7453      0.183      9.536      0.000       1.370       2.121\n",
       "food           1.5955      0.399      4.001      0.000       0.777       2.414\n",
       "==============================================================================\n",
       "Omnibus:                        2.302   Durbin-Watson:                   2.103\n",
       "Prob(Omnibus):                  0.316   Jarque-Bera (JB):                1.940\n",
       "Skew:                          -0.502   Prob(JB):                        0.379\n",
       "Kurtosis:                       2.263   Cond. No.                     1.84e+03\n",
       "==============================================================================\n",
       "\n",
       "Notes:\n",
       "[1] Standard Errors assume that the covariance matrix of the errors is correctly specified.\n",
       "[2] The condition number is large, 1.84e+03. This might indicate that there are\n",
       "strong multicollinearity or other numerical problems.\n",
       "\"\"\""
      ]
     },
     "execution_count": 38,
     "metadata": {},
     "output_type": "execute_result"
    }
   ],
   "source": [
    "result_mim2.summary()"
   ]
  },
  {
   "cell_type": "code",
   "execution_count": 39,
   "id": "10a2b98f",
   "metadata": {},
   "outputs": [
    {
     "data": {
      "text/html": [
       "<div>\n",
       "<style scoped>\n",
       "    .dataframe tbody tr th:only-of-type {\n",
       "        vertical-align: middle;\n",
       "    }\n",
       "\n",
       "    .dataframe tbody tr th {\n",
       "        vertical-align: top;\n",
       "    }\n",
       "\n",
       "    .dataframe thead th {\n",
       "        text-align: right;\n",
       "    }\n",
       "</style>\n",
       "<table border=\"1\" class=\"dataframe\">\n",
       "  <thead>\n",
       "    <tr style=\"text-align: right;\">\n",
       "      <th></th>\n",
       "      <th>day</th>\n",
       "      <th>weight</th>\n",
       "    </tr>\n",
       "  </thead>\n",
       "  <tbody>\n",
       "    <tr>\n",
       "      <th>0</th>\n",
       "      <td>1</td>\n",
       "      <td>43</td>\n",
       "    </tr>\n",
       "    <tr>\n",
       "      <th>1</th>\n",
       "      <td>2</td>\n",
       "      <td>55</td>\n",
       "    </tr>\n",
       "    <tr>\n",
       "      <th>2</th>\n",
       "      <td>3</td>\n",
       "      <td>69</td>\n",
       "    </tr>\n",
       "    <tr>\n",
       "      <th>3</th>\n",
       "      <td>4</td>\n",
       "      <td>86</td>\n",
       "    </tr>\n",
       "    <tr>\n",
       "      <th>4</th>\n",
       "      <td>5</td>\n",
       "      <td>104</td>\n",
       "    </tr>\n",
       "  </tbody>\n",
       "</table>\n",
       "</div>"
      ],
      "text/plain": [
       "   day  weight\n",
       "0    1      43\n",
       "1    2      55\n",
       "2    3      69\n",
       "3    4      86\n",
       "4    5     104"
      ]
     },
     "execution_count": 39,
     "metadata": {},
     "output_type": "execute_result"
    }
   ],
   "source": [
    "w2 = pd.read_csv(\"ch5-2.csv\")\n",
    "w2.head()"
   ]
  },
  {
   "cell_type": "code",
   "execution_count": 40,
   "id": "30cc1096",
   "metadata": {},
   "outputs": [
    {
     "data": {
      "text/html": [
       "<div>\n",
       "<style scoped>\n",
       "    .dataframe tbody tr th:only-of-type {\n",
       "        vertical-align: middle;\n",
       "    }\n",
       "\n",
       "    .dataframe tbody tr th {\n",
       "        vertical-align: top;\n",
       "    }\n",
       "\n",
       "    .dataframe thead th {\n",
       "        text-align: right;\n",
       "    }\n",
       "</style>\n",
       "<table border=\"1\" class=\"dataframe\">\n",
       "  <thead>\n",
       "    <tr style=\"text-align: right;\">\n",
       "      <th></th>\n",
       "      <th>day</th>\n",
       "      <th>weight</th>\n",
       "    </tr>\n",
       "  </thead>\n",
       "  <tbody>\n",
       "    <tr>\n",
       "      <th>60</th>\n",
       "      <td>61</td>\n",
       "      <td>3184</td>\n",
       "    </tr>\n",
       "    <tr>\n",
       "      <th>61</th>\n",
       "      <td>62</td>\n",
       "      <td>3197</td>\n",
       "    </tr>\n",
       "    <tr>\n",
       "      <th>62</th>\n",
       "      <td>63</td>\n",
       "      <td>3209</td>\n",
       "    </tr>\n",
       "    <tr>\n",
       "      <th>63</th>\n",
       "      <td>64</td>\n",
       "      <td>3220</td>\n",
       "    </tr>\n",
       "    <tr>\n",
       "      <th>64</th>\n",
       "      <td>65</td>\n",
       "      <td>3230</td>\n",
       "    </tr>\n",
       "    <tr>\n",
       "      <th>65</th>\n",
       "      <td>66</td>\n",
       "      <td>3239</td>\n",
       "    </tr>\n",
       "    <tr>\n",
       "      <th>66</th>\n",
       "      <td>67</td>\n",
       "      <td>3247</td>\n",
       "    </tr>\n",
       "    <tr>\n",
       "      <th>67</th>\n",
       "      <td>68</td>\n",
       "      <td>3254</td>\n",
       "    </tr>\n",
       "    <tr>\n",
       "      <th>68</th>\n",
       "      <td>69</td>\n",
       "      <td>3260</td>\n",
       "    </tr>\n",
       "    <tr>\n",
       "      <th>69</th>\n",
       "      <td>70</td>\n",
       "      <td>3265</td>\n",
       "    </tr>\n",
       "  </tbody>\n",
       "</table>\n",
       "</div>"
      ],
      "text/plain": [
       "    day  weight\n",
       "60   61    3184\n",
       "61   62    3197\n",
       "62   63    3209\n",
       "63   64    3220\n",
       "64   65    3230\n",
       "65   66    3239\n",
       "66   67    3247\n",
       "67   68    3254\n",
       "68   69    3260\n",
       "69   70    3265"
      ]
     },
     "execution_count": 40,
     "metadata": {},
     "output_type": "execute_result"
    }
   ],
   "source": [
    "w2.tail(10)"
   ]
  },
  {
   "cell_type": "code",
   "execution_count": 41,
   "id": "2fd62ff8",
   "metadata": {},
   "outputs": [
    {
     "data": {
      "text/html": [
       "<div>\n",
       "<style scoped>\n",
       "    .dataframe tbody tr th:only-of-type {\n",
       "        vertical-align: middle;\n",
       "    }\n",
       "\n",
       "    .dataframe tbody tr th {\n",
       "        vertical-align: top;\n",
       "    }\n",
       "\n",
       "    .dataframe thead th {\n",
       "        text-align: right;\n",
       "    }\n",
       "</style>\n",
       "<table border=\"1\" class=\"dataframe\">\n",
       "  <thead>\n",
       "    <tr style=\"text-align: right;\">\n",
       "      <th></th>\n",
       "      <th>day</th>\n",
       "      <th>weight</th>\n",
       "    </tr>\n",
       "  </thead>\n",
       "  <tbody>\n",
       "    <tr>\n",
       "      <th>count</th>\n",
       "      <td>70.000000</td>\n",
       "      <td>70.000000</td>\n",
       "    </tr>\n",
       "    <tr>\n",
       "      <th>mean</th>\n",
       "      <td>35.500000</td>\n",
       "      <td>1721.300000</td>\n",
       "    </tr>\n",
       "    <tr>\n",
       "      <th>std</th>\n",
       "      <td>20.351085</td>\n",
       "      <td>1168.645944</td>\n",
       "    </tr>\n",
       "    <tr>\n",
       "      <th>min</th>\n",
       "      <td>1.000000</td>\n",
       "      <td>43.000000</td>\n",
       "    </tr>\n",
       "    <tr>\n",
       "      <th>25%</th>\n",
       "      <td>18.250000</td>\n",
       "      <td>573.250000</td>\n",
       "    </tr>\n",
       "    <tr>\n",
       "      <th>50%</th>\n",
       "      <td>35.500000</td>\n",
       "      <td>1724.000000</td>\n",
       "    </tr>\n",
       "    <tr>\n",
       "      <th>75%</th>\n",
       "      <td>52.750000</td>\n",
       "      <td>2947.500000</td>\n",
       "    </tr>\n",
       "    <tr>\n",
       "      <th>max</th>\n",
       "      <td>70.000000</td>\n",
       "      <td>3265.000000</td>\n",
       "    </tr>\n",
       "  </tbody>\n",
       "</table>\n",
       "</div>"
      ],
      "text/plain": [
       "             day       weight\n",
       "count  70.000000    70.000000\n",
       "mean   35.500000  1721.300000\n",
       "std    20.351085  1168.645944\n",
       "min     1.000000    43.000000\n",
       "25%    18.250000   573.250000\n",
       "50%    35.500000  1724.000000\n",
       "75%    52.750000  2947.500000\n",
       "max    70.000000  3265.000000"
      ]
     },
     "execution_count": 41,
     "metadata": {},
     "output_type": "execute_result"
    }
   ],
   "source": [
    "w2.describe()"
   ]
  },
  {
   "cell_type": "code",
   "execution_count": 42,
   "id": "4937d659",
   "metadata": {},
   "outputs": [
    {
     "name": "stdout",
     "output_type": "stream",
     "text": [
      "<class 'pandas.core.frame.DataFrame'>\n",
      "RangeIndex: 70 entries, 0 to 69\n",
      "Data columns (total 2 columns):\n",
      " #   Column  Non-Null Count  Dtype\n",
      "---  ------  --------------  -----\n",
      " 0   day     70 non-null     int64\n",
      " 1   weight  70 non-null     int64\n",
      "dtypes: int64(2)\n",
      "memory usage: 1.2 KB\n"
     ]
    }
   ],
   "source": [
    "w2.info()"
   ]
  },
  {
   "cell_type": "code",
   "execution_count": 43,
   "id": "37ad330c",
   "metadata": {},
   "outputs": [],
   "source": [
    "import matplotlib.pyplot as plt"
   ]
  },
  {
   "cell_type": "code",
   "execution_count": 44,
   "id": "863f8d4e",
   "metadata": {},
   "outputs": [
    {
     "data": {
      "image/png": "[encoded data removed]",
      "text/plain": [
       "<Figure size 720x504 with 1 Axes>"
      ]
     },
     "metadata": {
      "needs_background": "light"
     },
     "output_type": "display_data"
    }
   ],
   "source": [
    "# 성장기간에 따른 몸무게 변화\n",
    "plt.figure(figsize = (10,7))\n",
    "plt.scatter(w2.day, w2.weight, alpha = .5)\n",
    "plt.title('Scatter Plot')\n",
    "plt.xlabel('day')\n",
    "plt.ylabel('weight')\n",
    "plt.show()"
   ]
  },
  {
   "cell_type": "code",
   "execution_count": 45,
   "id": "d27b1af4",
   "metadata": {},
   "outputs": [],
   "source": [
    "model_lm2 = smf.ols(formula = \"weight ~ day\", data =w2)"
   ]
  },
  {
   "cell_type": "code",
   "execution_count": 46,
   "id": "fba5be40",
   "metadata": {},
   "outputs": [],
   "source": [
    "result_lm2 = model_lm2.fit()"
   ]
  },
  {
   "cell_type": "code",
   "execution_count": 47,
   "id": "297a20cb",
   "metadata": {
    "scrolled": false
   },
   "outputs": [
    {
     "data": {
      "text/html": [
       "<table class=\"simpletable\">\n",
       "<caption>OLS Regression Results</caption>\n",
       "<tr>\n",
       "  <th>Dep. Variable:</th>         <td>weight</td>      <th>  R-squared:         </th> <td>   0.979</td>\n",
       "</tr>\n",
       "<tr>\n",
       "  <th>Model:</th>                   <td>OLS</td>       <th>  Adj. R-squared:    </th> <td>   0.979</td>\n",
       "</tr>\n",
       "<tr>\n",
       "  <th>Method:</th>             <td>Least Squares</td>  <th>  F-statistic:       </th> <td>   3189.</td>\n",
       "</tr>\n",
       "<tr>\n",
       "  <th>Date:</th>             <td>Mon, 03 Apr 2023</td> <th>  Prob (F-statistic):</th> <td>7.22e-59</td>\n",
       "</tr>\n",
       "<tr>\n",
       "  <th>Time:</th>                 <td>15:00:42</td>     <th>  Log-Likelihood:    </th> <td> -457.86</td>\n",
       "</tr>\n",
       "<tr>\n",
       "  <th>No. Observations:</th>      <td>    70</td>      <th>  AIC:               </th> <td>   919.7</td>\n",
       "</tr>\n",
       "<tr>\n",
       "  <th>Df Residuals:</th>          <td>    68</td>      <th>  BIC:               </th> <td>   924.2</td>\n",
       "</tr>\n",
       "<tr>\n",
       "  <th>Df Model:</th>              <td>     1</td>      <th>                     </th>     <td> </td>   \n",
       "</tr>\n",
       "<tr>\n",
       "  <th>Covariance Type:</th>      <td>nonrobust</td>    <th>                     </th>     <td> </td>   \n",
       "</tr>\n",
       "</table>\n",
       "<table class=\"simpletable\">\n",
       "<tr>\n",
       "      <td></td>         <th>coef</th>     <th>std err</th>      <th>t</th>      <th>P>|t|</th>  <th>[0.025</th>    <th>0.975]</th>  \n",
       "</tr>\n",
       "<tr>\n",
       "  <th>Intercept</th> <td> -295.8671</td> <td>   41.102</td> <td>   -7.198</td> <td> 0.000</td> <td> -377.885</td> <td> -213.850</td>\n",
       "</tr>\n",
       "<tr>\n",
       "  <th>day</th>       <td>   56.8216</td> <td>    1.006</td> <td>   56.470</td> <td> 0.000</td> <td>   54.814</td> <td>   58.830</td>\n",
       "</tr>\n",
       "</table>\n",
       "<table class=\"simpletable\">\n",
       "<tr>\n",
       "  <th>Omnibus:</th>       <td> 3.866</td> <th>  Durbin-Watson:     </th> <td>   0.025</td>\n",
       "</tr>\n",
       "<tr>\n",
       "  <th>Prob(Omnibus):</th> <td> 0.145</td> <th>  Jarque-Bera (JB):  </th> <td>   2.079</td>\n",
       "</tr>\n",
       "<tr>\n",
       "  <th>Skew:</th>          <td>-0.133</td> <th>  Prob(JB):          </th> <td>   0.354</td>\n",
       "</tr>\n",
       "<tr>\n",
       "  <th>Kurtosis:</th>      <td> 2.199</td> <th>  Cond. No.          </th> <td>    82.6</td>\n",
       "</tr>\n",
       "</table><br/><br/>Notes:<br/>[1] Standard Errors assume that the covariance matrix of the errors is correctly specified."
      ],
      "text/plain": [
       "<class 'statsmodels.iolib.summary.Summary'>\n",
       "\"\"\"\n",
       "                            OLS Regression Results                            \n",
       "==============================================================================\n",
       "Dep. Variable:                 weight   R-squared:                       0.979\n",
       "Model:                            OLS   Adj. R-squared:                  0.979\n",
       "Method:                 Least Squares   F-statistic:                     3189.\n",
       "Date:                Mon, 03 Apr 2023   Prob (F-statistic):           7.22e-59\n",
       "Time:                        15:00:42   Log-Likelihood:                -457.86\n",
       "No. Observations:                  70   AIC:                             919.7\n",
       "Df Residuals:                      68   BIC:                             924.2\n",
       "Df Model:                           1                                         \n",
       "Covariance Type:            nonrobust                                         \n",
       "==============================================================================\n",
       "                 coef    std err          t      P>|t|      [0.025      0.975]\n",
       "------------------------------------------------------------------------------\n",
       "Intercept   -295.8671     41.102     -7.198      0.000    -377.885    -213.850\n",
       "day           56.8216      1.006     56.470      0.000      54.814      58.830\n",
       "==============================================================================\n",
       "Omnibus:                        3.866   Durbin-Watson:                   0.025\n",
       "Prob(Omnibus):                  0.145   Jarque-Bera (JB):                2.079\n",
       "Skew:                          -0.133   Prob(JB):                        0.354\n",
       "Kurtosis:                       2.199   Cond. No.                         82.6\n",
       "==============================================================================\n",
       "\n",
       "Notes:\n",
       "[1] Standard Errors assume that the covariance matrix of the errors is correctly specified.\n",
       "\"\"\""
      ]
     },
     "execution_count": 47,
     "metadata": {},
     "output_type": "execute_result"
    }
   ],
   "source": [
    "result_lm2.summary()"
   ]
  },
  {
   "cell_type": "code",
   "execution_count": 48,
   "id": "58d4a025",
   "metadata": {},
   "outputs": [
    {
     "data": {
      "image/png": "[encoded data removed]",
      "text/plain": [
       "<Figure size 720x504 with 1 Axes>"
      ]
     },
     "metadata": {
      "needs_background": "light"
     },
     "output_type": "display_data"
    }
   ],
   "source": [
    "plt.figure(figsize = (10,7))\n",
    "plt.scatter(w2.day, w2.weight, alpha = .5)\n",
    "plt.plot(w2.day, w2.day*56.8216 - 295.8671, color = 'red')\n",
    "plt.text(40, 500, 'weight = 56.8216day - 295.8671', fontsize = 12)\n",
    "plt.title('Scatter Plot')\n",
    "plt.xlabel('day')\n",
    "plt.ylabel('weight')\n",
    "plt.show()"
   ]
  },
  {
   "cell_type": "code",
   "execution_count": 49,
   "id": "f772fda3",
   "metadata": {},
   "outputs": [],
   "source": [
    "model_nlm = smf.ols(formula = \"weight ~ I(day**3)+I(day**2)+day\",data=w2)\n"
   ]
  },
  {
   "cell_type": "code",
   "execution_count": 57,
   "id": "3cc9f7a1",
   "metadata": {},
   "outputs": [],
   "source": [
    "result_nlm = model_nlm.fit()"
   ]
  },
  {
   "cell_type": "code",
   "execution_count": 60,
   "id": "b51d3f19",
   "metadata": {
    "scrolled": false
   },
   "outputs": [
    {
     "data": {
      "text/html": [
       "<table class=\"simpletable\">\n",
       "<caption>OLS Regression Results</caption>\n",
       "<tr>\n",
       "  <th>Dep. Variable:</th>         <td>weight</td>      <th>  R-squared:         </th> <td>   1.000</td> \n",
       "</tr>\n",
       "<tr>\n",
       "  <th>Model:</th>                   <td>OLS</td>       <th>  Adj. R-squared:    </th> <td>   0.999</td> \n",
       "</tr>\n",
       "<tr>\n",
       "  <th>Method:</th>             <td>Least Squares</td>  <th>  F-statistic:       </th> <td>4.407e+04</td>\n",
       "</tr>\n",
       "<tr>\n",
       "  <th>Date:</th>             <td>Mon, 03 Apr 2023</td> <th>  Prob (F-statistic):</th> <td>7.13e-109</td>\n",
       "</tr>\n",
       "<tr>\n",
       "  <th>Time:</th>                 <td>15:02:08</td>     <th>  Log-Likelihood:    </th> <td> -327.17</td> \n",
       "</tr>\n",
       "<tr>\n",
       "  <th>No. Observations:</th>      <td>    70</td>      <th>  AIC:               </th> <td>   662.3</td> \n",
       "</tr>\n",
       "<tr>\n",
       "  <th>Df Residuals:</th>          <td>    66</td>      <th>  BIC:               </th> <td>   671.3</td> \n",
       "</tr>\n",
       "<tr>\n",
       "  <th>Df Model:</th>              <td>     3</td>      <th>                     </th>     <td> </td>    \n",
       "</tr>\n",
       "<tr>\n",
       "  <th>Covariance Type:</th>      <td>nonrobust</td>    <th>                     </th>     <td> </td>    \n",
       "</tr>\n",
       "</table>\n",
       "<table class=\"simpletable\">\n",
       "<tr>\n",
       "       <td></td>          <th>coef</th>     <th>std err</th>      <th>t</th>      <th>P>|t|</th>  <th>[0.025</th>    <th>0.975]</th>  \n",
       "</tr>\n",
       "<tr>\n",
       "  <th>Intercept</th>   <td>  117.0141</td> <td>   13.476</td> <td>    8.683</td> <td> 0.000</td> <td>   90.108</td> <td>  143.920</td>\n",
       "</tr>\n",
       "<tr>\n",
       "  <th>I(day ** 3)</th> <td>   -0.0253</td> <td>    0.000</td> <td>  -51.312</td> <td> 0.000</td> <td>   -0.026</td> <td>   -0.024</td>\n",
       "</tr>\n",
       "<tr>\n",
       "  <th>I(day ** 2)</th> <td>    2.6241</td> <td>    0.053</td> <td>   49.314</td> <td> 0.000</td> <td>    2.518</td> <td>    2.730</td>\n",
       "</tr>\n",
       "<tr>\n",
       "  <th>day</th>         <td>  -15.2978</td> <td>    1.632</td> <td>   -9.373</td> <td> 0.000</td> <td>  -18.557</td> <td>  -12.039</td>\n",
       "</tr>\n",
       "</table>\n",
       "<table class=\"simpletable\">\n",
       "<tr>\n",
       "  <th>Omnibus:</th>       <td> 6.702</td> <th>  Durbin-Watson:     </th> <td>   0.082</td>\n",
       "</tr>\n",
       "<tr>\n",
       "  <th>Prob(Omnibus):</th> <td> 0.035</td> <th>  Jarque-Bera (JB):  </th> <td>   2.680</td>\n",
       "</tr>\n",
       "<tr>\n",
       "  <th>Skew:</th>          <td> 0.103</td> <th>  Prob(JB):          </th> <td>   0.262</td>\n",
       "</tr>\n",
       "<tr>\n",
       "  <th>Kurtosis:</th>      <td> 2.064</td> <th>  Cond. No.          </th> <td>5.65e+05</td>\n",
       "</tr>\n",
       "</table><br/><br/>Notes:<br/>[1] Standard Errors assume that the covariance matrix of the errors is correctly specified.<br/>[2] The condition number is large, 5.65e+05. This might indicate that there are<br/>strong multicollinearity or other numerical problems."
      ],
      "text/plain": [
       "<class 'statsmodels.iolib.summary.Summary'>\n",
       "\"\"\"\n",
       "                            OLS Regression Results                            \n",
       "==============================================================================\n",
       "Dep. Variable:                 weight   R-squared:                       1.000\n",
       "Model:                            OLS   Adj. R-squared:                  0.999\n",
       "Method:                 Least Squares   F-statistic:                 4.407e+04\n",
       "Date:                Mon, 03 Apr 2023   Prob (F-statistic):          7.13e-109\n",
       "Time:                        15:02:08   Log-Likelihood:                -327.17\n",
       "No. Observations:                  70   AIC:                             662.3\n",
       "Df Residuals:                      66   BIC:                             671.3\n",
       "Df Model:                           3                                         \n",
       "Covariance Type:            nonrobust                                         \n",
       "===============================================================================\n",
       "                  coef    std err          t      P>|t|      [0.025      0.975]\n",
       "-------------------------------------------------------------------------------\n",
       "Intercept     117.0141     13.476      8.683      0.000      90.108     143.920\n",
       "I(day ** 3)    -0.0253      0.000    -51.312      0.000      -0.026      -0.024\n",
       "I(day ** 2)     2.6241      0.053     49.314      0.000       2.518       2.730\n",
       "day           -15.2978      1.632     -9.373      0.000     -18.557     -12.039\n",
       "==============================================================================\n",
       "Omnibus:                        6.702   Durbin-Watson:                   0.082\n",
       "Prob(Omnibus):                  0.035   Jarque-Bera (JB):                2.680\n",
       "Skew:                           0.103   Prob(JB):                        0.262\n",
       "Kurtosis:                       2.064   Cond. No.                     5.65e+05\n",
       "==============================================================================\n",
       "\n",
       "Notes:\n",
       "[1] Standard Errors assume that the covariance matrix of the errors is correctly specified.\n",
       "[2] The condition number is large, 5.65e+05. This might indicate that there are\n",
       "strong multicollinearity or other numerical problems.\n",
       "\"\"\""
      ]
     },
     "execution_count": 60,
     "metadata": {},
     "output_type": "execute_result"
    }
   ],
   "source": [
    "result_nlm.summary()"
   ]
  },
  {
   "cell_type": "code",
   "execution_count": 67,
   "id": "d564b018",
   "metadata": {},
   "outputs": [],
   "source": [
    "a=result_nlm.params"
   ]
  },
  {
   "cell_type": "code",
   "execution_count": 72,
   "id": "f9967f35",
   "metadata": {},
   "outputs": [
    {
     "data": {
      "text/plain": [
       "117.01408121976807"
      ]
     },
     "execution_count": 72,
     "metadata": {},
     "output_type": "execute_result"
    }
   ],
   "source": [
    "result_nlm.params.Intercept"
   ]
  },
  {
   "cell_type": "code",
   "execution_count": 70,
   "id": "8f0ba250",
   "metadata": {},
   "outputs": [
    {
     "data": {
      "text/plain": [
       "Intercept      117.014081\n",
       "I(day ** 3)     -0.025290\n",
       "I(day ** 2)      2.624148\n",
       "day            -15.297817\n",
       "dtype: float64"
      ]
     },
     "execution_count": 70,
     "metadata": {},
     "output_type": "execute_result"
    }
   ],
   "source": [
    "a"
   ]
  },
  {
   "cell_type": "code",
   "execution_count": 71,
   "id": "8be2159d",
   "metadata": {},
   "outputs": [
    {
     "name": "stdout",
     "output_type": "stream",
     "text": [
      "117.01408121976807\n",
      "-0.025290142962562864\n",
      "2.6241483974087663\n",
      "-15.297816774546689\n"
     ]
    }
   ],
   "source": [
    "for i in range(4):\n",
    "    print(a[i])"
   ]
  },
  {
   "cell_type": "code",
   "execution_count": 52,
   "id": "852ebde6",
   "metadata": {
    "scrolled": false
   },
   "outputs": [
    {
     "data": {
      "image/png": "[encoded data removed]",
      "text/plain": [
       "<Figure size 720x504 with 1 Axes>"
      ]
     },
     "metadata": {
      "needs_background": "light"
     },
     "output_type": "display_data"
    }
   ],
   "source": [
    "# 성장기간에 따른 몸무게 변화\n",
    "plt.figure(figsize = (10,7))\n",
    "plt.scatter(w2.day, w2.weight, alpha = .5)\n",
    "plt.plot(w2.day, (w2.day**3)*(-0.0253) + (w2.day**2)*2.6241+w2.day*(-15.2978) + 117.0141, color = 'red')\n",
    "plt.text(0, 3200, 'weight = -0.0253(day^3) + 2.6241(day^2) -15.2978day + 117.0141', fontsize = 12)\n",
    "plt.title('Scatter Plot')\n",
    "plt.xlabel('day')\n",
    "plt.ylabel('weight')\n",
    "plt.show()"
   ]
  },
  {
   "cell_type": "code",
   "execution_count": null,
   "id": "036a67b9",
   "metadata": {},
   "outputs": [],
   "source": []
  }
 ],
 "metadata": {
  "kernelspec": {
   "display_name": "Python 3 (ipykernel)",
   "language": "python",
   "name": "python3"
  },
  "language_info": {
   "codemirror_mode": {
    "name": "ipython",
    "version": 3
   },
   "file_extension": ".py",
   "mimetype": "text/x-python",
   "name": "python",
   "nbconvert_exporter": "python",
   "pygments_lexer": "ipython3",
   "version": "3.9.12"
  }
 },
 "nbformat": 4,
 "nbformat_minor": 5
}
