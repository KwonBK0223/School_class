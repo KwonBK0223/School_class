{
 "cells": [
  {
   "cell_type": "markdown",
   "id": "bb07ddd1",
   "metadata": {},
   "source": [
    "# 병아리\n",
    "1.병아리의 무게가 어떻게 되는가(상관관계)\n",
    "\n",
    "2.병아리 암수 구별(로지스틱 회귀)\n",
    "\n",
    "3.병아리 품종 구분(분류 알고리즘)\n",
    "\n",
    "4.사육환경 분리(군집화)\n",
    "\n",
    "5.예측모델(딥러닝)\n",
    "\n",
    "# 캡스톤디자인 신청서\n",
    "과제 신청금액 : 교수님 제외하고 금액 책정 >> 150,000 * 3 = 450,000\n",
    "\n",
    "교수님 연락처 : 사무실 051.510.2209\n",
    "\n",
    "성명 : 전자서명\n",
    "\n",
    "필요없는 페이지 지워도됨\n",
    "\n"
   ]
  },
  {
   "cell_type": "markdown",
   "id": "e992ebbe",
   "metadata": {},
   "source": [
    "# <수업>\n",
    "모델 : 예측을 하기 위한 장비\n",
    "\n",
    ">알고리즘 + 알고리즘을 돌리기 위한 장비로 모델을 돌림\n",
    "\n",
    "회귀분석 그래프\n",
    ">y축 : 예측 하고 싶은것\n",
    "\n",
    ">x축 : 1개지만 1개가 아니다, 벡터로 들어 갈 수도 있음 ex. (egg_weight, food, movement)\n",
    "\n",
    ">관측값 : 참값에 가깝지만 참값은 아니다 since 다양한 이유, 참값은 존재하지만 관측은 할 수 없다. 여러번 관측하고 히스토그램을 그리면 참값을 기준으로 정규분포가 된다.  "
   ]
  },
  {
   "cell_type": "markdown",
   "id": "e1d9ee29",
   "metadata": {},
   "source": [
    "f(x1,x2) = |x1+1|+|x2-1|\n",
    "\n",
    "f(x1,x2) = (x1+1)^2 + (x2-1)^2\n",
    "\n",
    "least square (최소 자승법)"
   ]
  },
  {
   "cell_type": "markdown",
   "id": "8ccda1bd",
   "metadata": {},
   "source": [
    "### 8페이지 수식 : 예측 모델\n",
    "\n",
    "x,y 는 관측값 -> 알파와 베타가 변수\n",
    "\n",
    "학습(least square, 최소 자승법)을 끝나고 나면 알파와 베타를 알게됨\n",
    "\n",
    "식이 세워지고 나면 x에 값을 넣으면 결과값 y가 나옴\n",
    "\n",
    "최소 자승법을 못쓸때는 딥러닝을 이용하여 식을 세운다\n",
    "\n"
   ]
  },
  {
   "cell_type": "code",
   "execution_count": 3,
   "id": "2eb133c7",
   "metadata": {},
   "outputs": [],
   "source": [
    "import pandas as pd\n",
    "w = pd.read_csv(\"ch5-1.csv\")\n",
    "w_n = w.iloc[:,1:5]"
   ]
  },
  {
   "cell_type": "code",
   "execution_count": 13,
   "id": "51718f95",
   "metadata": {},
   "outputs": [],
   "source": [
    "import statsmodels.formula.api as smf\n",
    "# 회귀분석 수행을 위한 모듈 불러오기\n",
    "model_lm = smf.ols(formula = \"weight ~ egg_weight\", data = w_n)\n",
    "# 종란무게 - 병아리 몸무게 단순선형 회귀모델 구축"
   ]
  },
  {
   "cell_type": "code",
   "execution_count": 14,
   "id": "9ee33545",
   "metadata": {},
   "outputs": [],
   "source": [
    "result_lm = model_lm.fit()"
   ]
  },
  {
   "cell_type": "code",
   "execution_count": 15,
   "id": "04ff39da",
   "metadata": {
    "scrolled": false
   },
   "outputs": [
    {
     "data": {
      "text/html": [
       "<table class=\"simpletable\">\n",
       "<caption>OLS Regression Results</caption>\n",
       "<tr>\n",
       "  <th>Dep. Variable:</th>         <td>weight</td>      <th>  R-squared:         </th> <td>   0.916</td>\n",
       "</tr>\n",
       "<tr>\n",
       "  <th>Model:</th>                   <td>OLS</td>       <th>  Adj. R-squared:    </th> <td>   0.913</td>\n",
       "</tr>\n",
       "<tr>\n",
       "  <th>Method:</th>             <td>Least Squares</td>  <th>  F-statistic:       </th> <td>   306.0</td>\n",
       "</tr>\n",
       "<tr>\n",
       "  <th>Date:</th>             <td>Tue, 28 Mar 2023</td> <th>  Prob (F-statistic):</th> <td>1.32e-16</td>\n",
       "</tr>\n",
       "<tr>\n",
       "  <th>Time:</th>                 <td>16:09:07</td>     <th>  Log-Likelihood:    </th> <td> -63.148</td>\n",
       "</tr>\n",
       "<tr>\n",
       "  <th>No. Observations:</th>      <td>    30</td>      <th>  AIC:               </th> <td>   130.3</td>\n",
       "</tr>\n",
       "<tr>\n",
       "  <th>Df Residuals:</th>          <td>    28</td>      <th>  BIC:               </th> <td>   133.1</td>\n",
       "</tr>\n",
       "<tr>\n",
       "  <th>Df Model:</th>              <td>     1</td>      <th>                     </th>     <td> </td>   \n",
       "</tr>\n",
       "<tr>\n",
       "  <th>Covariance Type:</th>      <td>nonrobust</td>    <th>                     </th>     <td> </td>   \n",
       "</tr>\n",
       "</table>\n",
       "<table class=\"simpletable\">\n",
       "<tr>\n",
       "       <td></td>         <th>coef</th>     <th>std err</th>      <th>t</th>      <th>P>|t|</th>  <th>[0.025</th>    <th>0.975]</th>  \n",
       "</tr>\n",
       "<tr>\n",
       "  <th>Intercept</th>  <td>  -14.5475</td> <td>    8.705</td> <td>   -1.671</td> <td> 0.106</td> <td>  -32.380</td> <td>    3.285</td>\n",
       "</tr>\n",
       "<tr>\n",
       "  <th>egg_weight</th> <td>    2.3371</td> <td>    0.134</td> <td>   17.493</td> <td> 0.000</td> <td>    2.063</td> <td>    2.611</td>\n",
       "</tr>\n",
       "</table>\n",
       "<table class=\"simpletable\">\n",
       "<tr>\n",
       "  <th>Omnibus:</th>       <td>15.078</td> <th>  Durbin-Watson:     </th> <td>   1.998</td>\n",
       "</tr>\n",
       "<tr>\n",
       "  <th>Prob(Omnibus):</th> <td> 0.001</td> <th>  Jarque-Bera (JB):  </th> <td>   2.750</td>\n",
       "</tr>\n",
       "<tr>\n",
       "  <th>Skew:</th>          <td> 0.032</td> <th>  Prob(JB):          </th> <td>   0.253</td>\n",
       "</tr>\n",
       "<tr>\n",
       "  <th>Kurtosis:</th>      <td> 1.518</td> <th>  Cond. No.          </th> <td>1.51e+03</td>\n",
       "</tr>\n",
       "</table><br/><br/>Notes:<br/>[1] Standard Errors assume that the covariance matrix of the errors is correctly specified.<br/>[2] The condition number is large, 1.51e+03. This might indicate that there are<br/>strong multicollinearity or other numerical problems."
      ],
      "text/plain": [
       "<class 'statsmodels.iolib.summary.Summary'>\n",
       "\"\"\"\n",
       "                            OLS Regression Results                            \n",
       "==============================================================================\n",
       "Dep. Variable:                 weight   R-squared:                       0.916\n",
       "Model:                            OLS   Adj. R-squared:                  0.913\n",
       "Method:                 Least Squares   F-statistic:                     306.0\n",
       "Date:                Tue, 28 Mar 2023   Prob (F-statistic):           1.32e-16\n",
       "Time:                        16:09:07   Log-Likelihood:                -63.148\n",
       "No. Observations:                  30   AIC:                             130.3\n",
       "Df Residuals:                      28   BIC:                             133.1\n",
       "Df Model:                           1                                         \n",
       "Covariance Type:            nonrobust                                         \n",
       "==============================================================================\n",
       "                 coef    std err          t      P>|t|      [0.025      0.975]\n",
       "------------------------------------------------------------------------------\n",
       "Intercept    -14.5475      8.705     -1.671      0.106     -32.380       3.285\n",
       "egg_weight     2.3371      0.134     17.493      0.000       2.063       2.611\n",
       "==============================================================================\n",
       "Omnibus:                       15.078   Durbin-Watson:                   1.998\n",
       "Prob(Omnibus):                  0.001   Jarque-Bera (JB):                2.750\n",
       "Skew:                           0.032   Prob(JB):                        0.253\n",
       "Kurtosis:                       1.518   Cond. No.                     1.51e+03\n",
       "==============================================================================\n",
       "\n",
       "Notes:\n",
       "[1] Standard Errors assume that the covariance matrix of the errors is correctly specified.\n",
       "[2] The condition number is large, 1.51e+03. This might indicate that there are\n",
       "strong multicollinearity or other numerical problems.\n",
       "\"\"\""
      ]
     },
     "execution_count": 15,
     "metadata": {},
     "output_type": "execute_result"
    }
   ],
   "source": [
    "result_lm.summary()"
   ]
  },
  {
   "cell_type": "markdown",
   "id": "fcff8152",
   "metadata": {},
   "source": [
    "알파값과 베타값을 구하기 위한 과정"
   ]
  },
  {
   "cell_type": "code",
   "execution_count": null,
   "id": "9a06c1fc",
   "metadata": {},
   "outputs": [],
   "source": []
  }
 ],
 "metadata": {
  "kernelspec": {
   "display_name": "Python 3 (ipykernel)",
   "language": "python",
   "name": "python3"
  },
  "language_info": {
   "codemirror_mode": {
    "name": "ipython",
    "version": 3
   },
   "file_extension": ".py",
   "mimetype": "text/x-python",
   "name": "python",
   "nbconvert_exporter": "python",
   "pygments_lexer": "ipython3",
   "version": "3.9.12"
  }
 },
 "nbformat": 4,
 "nbformat_minor": 5
}
