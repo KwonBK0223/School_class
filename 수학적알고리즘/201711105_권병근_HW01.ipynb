{
 "cells": [
  {
   "cell_type": "markdown",
   "id": "46d0fd13",
   "metadata": {},
   "source": [
    "# 1.3 기초 통계량 구하기"
   ]
  },
  {
   "cell_type": "code",
   "execution_count": 1,
   "id": "e5b83314",
   "metadata": {},
   "outputs": [],
   "source": [
    "import pandas as pd"
   ]
  },
  {
   "cell_type": "code",
   "execution_count": 2,
   "id": "1756d3f5",
   "metadata": {},
   "outputs": [
    {
     "data": {
      "text/html": [
       "<div>\n",
       "<style scoped>\n",
       "    .dataframe tbody tr th:only-of-type {\n",
       "        vertical-align: middle;\n",
       "    }\n",
       "\n",
       "    .dataframe tbody tr th {\n",
       "        vertical-align: top;\n",
       "    }\n",
       "\n",
       "    .dataframe thead th {\n",
       "        text-align: right;\n",
       "    }\n",
       "</style>\n",
       "<table border=\"1\" class=\"dataframe\">\n",
       "  <thead>\n",
       "    <tr style=\"text-align: right;\">\n",
       "      <th></th>\n",
       "      <th>hatchery</th>\n",
       "      <th>chick</th>\n",
       "    </tr>\n",
       "  </thead>\n",
       "  <tbody>\n",
       "    <tr>\n",
       "      <th>0</th>\n",
       "      <td>A</td>\n",
       "      <td>30</td>\n",
       "    </tr>\n",
       "    <tr>\n",
       "      <th>1</th>\n",
       "      <td>B</td>\n",
       "      <td>30</td>\n",
       "    </tr>\n",
       "    <tr>\n",
       "      <th>2</th>\n",
       "      <td>C</td>\n",
       "      <td>29</td>\n",
       "    </tr>\n",
       "    <tr>\n",
       "      <th>3</th>\n",
       "      <td>D</td>\n",
       "      <td>26</td>\n",
       "    </tr>\n",
       "    <tr>\n",
       "      <th>4</th>\n",
       "      <td>E</td>\n",
       "      <td>24</td>\n",
       "    </tr>\n",
       "    <tr>\n",
       "      <th>5</th>\n",
       "      <td>F</td>\n",
       "      <td>28</td>\n",
       "    </tr>\n",
       "    <tr>\n",
       "      <th>6</th>\n",
       "      <td>G</td>\n",
       "      <td>27</td>\n",
       "    </tr>\n",
       "  </tbody>\n",
       "</table>\n",
       "</div>"
      ],
      "text/plain": [
       "  hatchery  chick\n",
       "0        A     30\n",
       "1        B     30\n",
       "2        C     29\n",
       "3        D     26\n",
       "4        E     24\n",
       "5        F     28\n",
       "6        G     27"
      ]
     },
     "execution_count": 2,
     "metadata": {},
     "output_type": "execute_result"
    }
   ],
   "source": [
    "hat=pd.read_csv('class0309.csv')\n",
    "hat"
   ]
  },
  {
   "cell_type": "code",
   "execution_count": 4,
   "id": "580b69f9",
   "metadata": {},
   "outputs": [
    {
     "data": {
      "text/plain": [
       "194"
      ]
     },
     "execution_count": 4,
     "metadata": {},
     "output_type": "execute_result"
    }
   ],
   "source": [
    "hat.chick.sum()"
   ]
  },
  {
   "cell_type": "code",
   "execution_count": 5,
   "id": "71b3f916",
   "metadata": {},
   "outputs": [
    {
     "data": {
      "text/plain": [
       "194"
      ]
     },
     "execution_count": 5,
     "metadata": {},
     "output_type": "execute_result"
    }
   ],
   "source": [
    "hat['chick'].sum()"
   ]
  },
  {
   "cell_type": "code",
   "execution_count": 6,
   "id": "a2bd76e9",
   "metadata": {},
   "outputs": [
    {
     "data": {
      "text/plain": [
       "27.714285714285715"
      ]
     },
     "execution_count": 6,
     "metadata": {},
     "output_type": "execute_result"
    }
   ],
   "source": [
    "hat['chick'].mean()"
   ]
  },
  {
   "cell_type": "code",
   "execution_count": 7,
   "id": "6065fe8b",
   "metadata": {},
   "outputs": [
    {
     "data": {
      "text/plain": [
       "2.2146697055682827"
      ]
     },
     "execution_count": 7,
     "metadata": {},
     "output_type": "execute_result"
    }
   ],
   "source": [
    "hat['chick'].std()"
   ]
  },
  {
   "cell_type": "code",
   "execution_count": 8,
   "id": "7b85ecca",
   "metadata": {},
   "outputs": [
    {
     "data": {
      "text/plain": [
       "28.0"
      ]
     },
     "execution_count": 8,
     "metadata": {},
     "output_type": "execute_result"
    }
   ],
   "source": [
    "hat['chick'].median()"
   ]
  },
  {
   "cell_type": "code",
   "execution_count": 9,
   "id": "2e66978b",
   "metadata": {},
   "outputs": [
    {
     "data": {
      "text/plain": [
       "24"
      ]
     },
     "execution_count": 9,
     "metadata": {},
     "output_type": "execute_result"
    }
   ],
   "source": [
    "hat['chick'].min()"
   ]
  },
  {
   "cell_type": "code",
   "execution_count": 10,
   "id": "6d5c3ef0",
   "metadata": {},
   "outputs": [
    {
     "data": {
      "text/plain": [
       "30"
      ]
     },
     "execution_count": 10,
     "metadata": {},
     "output_type": "execute_result"
    }
   ],
   "source": [
    "hat['chick'].max()"
   ]
  },
  {
   "cell_type": "markdown",
   "id": "94dbdecb",
   "metadata": {},
   "source": [
    "# 1.4 데이터 정렬하기"
   ]
  },
  {
   "cell_type": "code",
   "execution_count": 12,
   "id": "28bbb6d8",
   "metadata": {},
   "outputs": [
    {
     "data": {
      "text/html": [
       "<div>\n",
       "<style scoped>\n",
       "    .dataframe tbody tr th:only-of-type {\n",
       "        vertical-align: middle;\n",
       "    }\n",
       "\n",
       "    .dataframe tbody tr th {\n",
       "        vertical-align: top;\n",
       "    }\n",
       "\n",
       "    .dataframe thead th {\n",
       "        text-align: right;\n",
       "    }\n",
       "</style>\n",
       "<table border=\"1\" class=\"dataframe\">\n",
       "  <thead>\n",
       "    <tr style=\"text-align: right;\">\n",
       "      <th></th>\n",
       "      <th>hatchery</th>\n",
       "      <th>chick</th>\n",
       "    </tr>\n",
       "  </thead>\n",
       "  <tbody>\n",
       "    <tr>\n",
       "      <th>4</th>\n",
       "      <td>E</td>\n",
       "      <td>24</td>\n",
       "    </tr>\n",
       "    <tr>\n",
       "      <th>3</th>\n",
       "      <td>D</td>\n",
       "      <td>26</td>\n",
       "    </tr>\n",
       "    <tr>\n",
       "      <th>6</th>\n",
       "      <td>G</td>\n",
       "      <td>27</td>\n",
       "    </tr>\n",
       "    <tr>\n",
       "      <th>5</th>\n",
       "      <td>F</td>\n",
       "      <td>28</td>\n",
       "    </tr>\n",
       "    <tr>\n",
       "      <th>2</th>\n",
       "      <td>C</td>\n",
       "      <td>29</td>\n",
       "    </tr>\n",
       "    <tr>\n",
       "      <th>0</th>\n",
       "      <td>A</td>\n",
       "      <td>30</td>\n",
       "    </tr>\n",
       "    <tr>\n",
       "      <th>1</th>\n",
       "      <td>B</td>\n",
       "      <td>30</td>\n",
       "    </tr>\n",
       "  </tbody>\n",
       "</table>\n",
       "</div>"
      ],
      "text/plain": [
       "  hatchery  chick\n",
       "4        E     24\n",
       "3        D     26\n",
       "6        G     27\n",
       "5        F     28\n",
       "2        C     29\n",
       "0        A     30\n",
       "1        B     30"
      ]
     },
     "execution_count": 12,
     "metadata": {},
     "output_type": "execute_result"
    }
   ],
   "source": [
    "hat.sort_values(by=['chick'],ascending=True)"
   ]
  },
  {
   "cell_type": "markdown",
   "id": "4adb32ed",
   "metadata": {},
   "source": [
    "# 1.5 막대 그래프 그려보기"
   ]
  },
  {
   "cell_type": "code",
   "execution_count": 13,
   "id": "27f9345d",
   "metadata": {},
   "outputs": [],
   "source": [
    "import matplotlib.pyplot as plt"
   ]
  },
  {
   "cell_type": "code",
   "execution_count": 15,
   "id": "dc0c759e",
   "metadata": {},
   "outputs": [
    {
     "data": {
      "image/png": "[encoded data removed]",
      "text/plain": [
       "<Figure size 432x288 with 1 Axes>"
      ]
     },
     "metadata": {
      "needs_background": "light"
     },
     "output_type": "display_data"
    }
   ],
   "source": [
    "plt.bar(hat['hatchery'],hat['chick'])\n",
    "plt.show()"
   ]
  },
  {
   "cell_type": "code",
   "execution_count": 17,
   "id": "ebc8abaf",
   "metadata": {
    "scrolled": false
   },
   "outputs": [
    {
     "data": {
      "image/png": "[encoded data removed]",
      "text/plain": [
       "<Figure size 1080x720 with 1 Axes>"
      ]
     },
     "metadata": {
      "needs_background": "light"
     },
     "output_type": "display_data"
    }
   ],
   "source": [
    "plt.figure(figsize=(15,10))\n",
    "plt.bar(hat['hatchery'],hat['chick'],\n",
    "       color = ('red','orange','yellow','green','blue','navy','purple'))\n",
    "plt.title(\"Hatchery's chick number\")\n",
    "plt.xlabel(\"Hatchery\")\n",
    "plt.ylabel(\"chick number\")\n",
    "plt.show()"
   ]
  },
  {
   "cell_type": "markdown",
   "id": "aa338637",
   "metadata": {},
   "source": [
    "# 1-6 한글 폰트 지정 및 그래프 색상 바꿔보기"
   ]
  },
  {
   "cell_type": "code",
   "execution_count": 19,
   "id": "cd4a364c",
   "metadata": {},
   "outputs": [],
   "source": [
    "from matplotlib import font_manager, rc\n",
    "font_path = \"c:/Windows/Fonts/malgun.ttf\"\n",
    "font_name = font_manager.FontProperties(fname=font_path).get_name()\n",
    "rc('font', family=font_name)\n"
   ]
  },
  {
   "cell_type": "code",
   "execution_count": 20,
   "id": "0929dbaa",
   "metadata": {},
   "outputs": [
    {
     "data": {
      "image/png": "[encoded data removed]",
      "text/plain": [
       "<Figure size 1080x720 with 1 Axes>"
      ]
     },
     "metadata": {
      "needs_background": "light"
     },
     "output_type": "display_data"
    }
   ],
   "source": [
    "plt.figure(figsize=(15,10))\n",
    "plt.bar(hat['hatchery'],hat['chick'],\n",
    "       color = ('red','orange','yellow','green','blue','navy','purple'))\n",
    "plt.title(\"부화장별 병아리 부화현황\")\n",
    "plt.xlabel(\"부화장\")\n",
    "plt.ylabel(\"부화마릿수\")\n",
    "plt.show()"
   ]
  },
  {
   "cell_type": "markdown",
   "id": "3ac10e73",
   "metadata": {},
   "source": [
    "# 1.7 한글 폰트 지정 및 그래프 색상 바꿔보기"
   ]
  },
  {
   "cell_type": "code",
   "execution_count": 22,
   "id": "2826dd1a",
   "metadata": {},
   "outputs": [
    {
     "data": {
      "image/png": "[encoded data removed]",
      "text/plain": [
       "<Figure size 720x504 with 1 Axes>"
      ]
     },
     "metadata": {
      "needs_background": "light"
     },
     "output_type": "display_data"
    }
   ],
   "source": [
    "import seaborn as sns\n",
    "col7 = sns.color_palette('Pastel2',7)\n",
    "plt.figure(figsize=(10, 7))\n",
    "plt.bar(hat['hatchery'], hat['chick'], color = col7, edgecolor = 'black')\n",
    "plt.title('부화장별 병아리 부화현황')\n",
    "plt.xlabel('부화장')\n",
    "plt.ylabel('부화마릿수')\n",
    "plt.show()"
   ]
  },
  {
   "cell_type": "markdown",
   "id": "0a868910",
   "metadata": {},
   "source": [
    "# 1.7 그래프 위에 텍스트 추가하기"
   ]
  },
  {
   "cell_type": "code",
   "execution_count": 23,
   "id": "25d48b09",
   "metadata": {},
   "outputs": [],
   "source": [
    "def addtext(x,y):\n",
    "    for i in range(len(x)):\n",
    "        plt.text(i,y[i]+0.5,y[i], ha='center')"
   ]
  },
  {
   "cell_type": "code",
   "execution_count": 24,
   "id": "29f1e451",
   "metadata": {},
   "outputs": [
    {
     "data": {
      "image/png": "[encoded data removed]",
      "text/plain": [
       "<Figure size 720x504 with 1 Axes>"
      ]
     },
     "metadata": {
      "needs_background": "light"
     },
     "output_type": "display_data"
    }
   ],
   "source": [
    "col7 = sns.color_palette('Pastel2', 7)\n",
    "plt.figure(figsize=(10, 7))\n",
    "plt.bar(hat['hatchery'], hat['chick'], color = col7, edgecolor = 'black')\n",
    "addtext(hat['hatchery'], hat['chick']) \n",
    "plt.title('부화장별 병아리 부화현황', fontsize =17)\n",
    "plt.xlabel('부화장')\n",
    "plt.ylabel('부화마릿수')\n",
    "plt.show()"
   ]
  },
  {
   "cell_type": "markdown",
   "id": "43edb0fc",
   "metadata": {},
   "source": [
    "# 1.8 그래프 위에 선 추가"
   ]
  },
  {
   "cell_type": "code",
   "execution_count": 25,
   "id": "45af5318",
   "metadata": {},
   "outputs": [
    {
     "data": {
      "image/png": "[encoded data removed]",
      "text/plain": [
       "<Figure size 720x504 with 1 Axes>"
      ]
     },
     "metadata": {
      "needs_background": "light"
     },
     "output_type": "display_data"
    }
   ],
   "source": [
    "col7 = sns.color_palette('Pastel2', 7)\n",
    "plt.figure(figsize=(10, 7))\n",
    "plt.bar(hat['hatchery'], hat['chick'], color = col7, edgecolor = 'black')\n",
    "addtext(hat['hatchery'], hat['chick']) \n",
    "plt.hlines(30, -1, 7, colors = 'red', linestyles = 'dashed')\n",
    "plt.title('부화장별 병아리 부화현황', fontsize =17)\n",
    "plt.xlabel('부화장')\n",
    "plt.ylabel('부화마릿수')\n",
    "plt.show()"
   ]
  },
  {
   "cell_type": "markdown",
   "id": "5befdb0c",
   "metadata": {},
   "source": [
    "# 1.9 파이 차트 그려보기"
   ]
  },
  {
   "cell_type": "code",
   "execution_count": 26,
   "id": "072a9d16",
   "metadata": {},
   "outputs": [
    {
     "data": {
      "text/plain": [
       "0    0.154639\n",
       "1    0.154639\n",
       "2    0.149485\n",
       "3    0.134021\n",
       "4    0.123711\n",
       "5    0.144330\n",
       "6    0.139175\n",
       "Name: chick, dtype: float64"
      ]
     },
     "execution_count": 26,
     "metadata": {},
     "output_type": "execute_result"
    }
   ],
   "source": [
    "pct = hat['chick']/hat['chick'].sum()\n",
    "pct"
   ]
  },
  {
   "cell_type": "code",
   "execution_count": 30,
   "id": "04d00674",
   "metadata": {},
   "outputs": [
    {
     "data": {
      "image/png": "[encoded data removed]",
      "text/plain": [
       "<Figure size 720x720 with 1 Axes>"
      ]
     },
     "metadata": {},
     "output_type": "display_data"
    }
   ],
   "source": [
    "col7 = sns.color_palette('Pastel2',7)\n",
    "plt.figure(figsize=(10,10))\n",
    "plt.pie(pct, labels = hat['hatchery'], autopct='%.1f%%', colors = col7,\n",
    "        startangle = 90, counterclock = False)\n",
    "plt.show()"
   ]
  }
 ],
 "metadata": {
  "kernelspec": {
   "display_name": "Python 3 (ipykernel)",
   "language": "python",
   "name": "python3"
  },
  "language_info": {
   "codemirror_mode": {
    "name": "ipython",
    "version": 3
   },
   "file_extension": ".py",
   "mimetype": "text/x-python",
   "name": "python",
   "nbconvert_exporter": "python",
   "pygments_lexer": "ipython3",
   "version": "3.9.12"
  }
 },
 "nbformat": 4,
 "nbformat_minor": 5
}
