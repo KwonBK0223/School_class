{
 "cells": [
  {
   "cell_type": "markdown",
   "id": "ad677bcc",
   "metadata": {},
   "source": [
    "https://wikidocs.net/book/922\n",
    "\n",
    "초보자를 위한 파이썬 300제"
   ]
  },
  {
   "cell_type": "markdown",
   "id": "26dfd0b7",
   "metadata": {},
   "source": [
    "# <01. 파이썬 시작하기>"
   ]
  },
  {
   "cell_type": "markdown",
   "id": "814bfa8a",
   "metadata": {},
   "source": [
    "# 001 print 기초\n",
    "화면에 Hello World 문자열을 출력하세요."
   ]
  },
  {
   "cell_type": "code",
   "execution_count": 1,
   "id": "4c6f1ebc",
   "metadata": {
    "scrolled": true
   },
   "outputs": [
    {
     "name": "stdout",
     "output_type": "stream",
     "text": [
      "Hello World\n"
     ]
    }
   ],
   "source": [
    "print(\"Hello World\")"
   ]
  },
  {
   "cell_type": "markdown",
   "id": "7fb2b8c6",
   "metadata": {},
   "source": [
    "# 002 print 기초\n",
    "화면에 Mary's cosmetics을 출력하세요. (중간에 '가 있음에 주의하세요)"
   ]
  },
  {
   "cell_type": "code",
   "execution_count": 5,
   "id": "294d9335",
   "metadata": {},
   "outputs": [
    {
     "name": "stdout",
     "output_type": "stream",
     "text": [
      "Mary's cosmetics\n"
     ]
    }
   ],
   "source": [
    "print(\"Mary's cosmetics\")"
   ]
  },
  {
   "cell_type": "markdown",
   "id": "0405d0a5",
   "metadata": {},
   "source": [
    "# 003 print 기초\n",
    "화면에 아래 문장을 출력하세요. (중간에 \"가 있음에 주의하세요.)"
   ]
  },
  {
   "cell_type": "code",
   "execution_count": 6,
   "id": "99572e33",
   "metadata": {},
   "outputs": [
    {
     "name": "stdout",
     "output_type": "stream",
     "text": [
      "신씨가 소리질렀다. \"도둑이야\".\n"
     ]
    }
   ],
   "source": [
    "print('신씨가 소리질렀다. \"도둑이야\".')"
   ]
  },
  {
   "cell_type": "markdown",
   "id": "de91c5a8",
   "metadata": {},
   "source": [
    "# 004 print 기초\n",
    "화면에 \"C:\\Windows\"를 출력하세요."
   ]
  },
  {
   "cell_type": "code",
   "execution_count": 7,
   "id": "634ffc27",
   "metadata": {},
   "outputs": [
    {
     "name": "stdout",
     "output_type": "stream",
     "text": [
      "\"C:\\Windows\"\n"
     ]
    }
   ],
   "source": [
    "print('\"C:\\Windows\"')"
   ]
  },
  {
   "cell_type": "markdown",
   "id": "23dc373a",
   "metadata": {},
   "source": [
    "# 005 print 탭과 줄바꿈\n",
    "다음 코드를 실행해보고 \\t와 \\n의 역할을 설명해보세요."
   ]
  },
  {
   "cell_type": "markdown",
   "id": "57473625",
   "metadata": {},
   "source": [
    "print(\"안녕하세요.\\n만나서\\t\\t반갑습니다.\")"
   ]
  },
  {
   "cell_type": "code",
   "execution_count": 8,
   "id": "7d4db6a5",
   "metadata": {},
   "outputs": [
    {
     "name": "stdout",
     "output_type": "stream",
     "text": [
      "안녕하세요.\n",
      "만나서\t\t반갑습니다.\n"
     ]
    }
   ],
   "source": [
    "print(\"안녕하세요.\\n만나서\\t\\t반갑습니다.\")"
   ]
  },
  {
   "cell_type": "markdown",
   "id": "d8a348dc",
   "metadata": {},
   "source": [
    "\\t 는 tab을 출력\n",
    "\n",
    "\\n 은 줄바꿈"
   ]
  },
  {
   "cell_type": "markdown",
   "id": "a7c505c9",
   "metadata": {},
   "source": [
    "# 006 print 여러 데이터 출력\n",
    "print 함수에 두 개의 단어를 입력한 예제입니다. 아래 코드의 출력 결과를 예상해봅시다."
   ]
  },
  {
   "cell_type": "markdown",
   "id": "c006e3bc",
   "metadata": {},
   "source": [
    "print (\"오늘은\", \"일요일\")"
   ]
  },
  {
   "cell_type": "markdown",
   "id": "be2f46d9",
   "metadata": {},
   "source": [
    "오늘은 일요일\n",
    "\n",
    "이라고 출력 될 것이다."
   ]
  },
  {
   "cell_type": "code",
   "execution_count": 9,
   "id": "5630c5c2",
   "metadata": {},
   "outputs": [
    {
     "name": "stdout",
     "output_type": "stream",
     "text": [
      "오늘은 일요일\n"
     ]
    }
   ],
   "source": [
    "print (\"오늘은\", \"일요일\")"
   ]
  },
  {
   "cell_type": "markdown",
   "id": "09db0396",
   "metadata": {},
   "source": [
    "# 007 print 기초\n",
    "print() 함수를 사용하여 다음과 같이 출력하세요."
   ]
  },
  {
   "cell_type": "markdown",
   "id": "4d665798",
   "metadata": {},
   "source": [
    "naver;kakao;sk;samsung"
   ]
  },
  {
   "cell_type": "code",
   "execution_count": 14,
   "id": "ec6dad62",
   "metadata": {},
   "outputs": [
    {
     "name": "stdout",
     "output_type": "stream",
     "text": [
      "naver;kakao;sk;samsung\n"
     ]
    }
   ],
   "source": [
    "print(\"naver;kakao;sk;samsung\")"
   ]
  },
  {
   "cell_type": "code",
   "execution_count": 15,
   "id": "17c91d13",
   "metadata": {},
   "outputs": [
    {
     "name": "stdout",
     "output_type": "stream",
     "text": [
      "naver;kakao;sk;samsung\n"
     ]
    }
   ],
   "source": [
    "print('naver','kakao','sk','samsung',sep=';')"
   ]
  },
  {
   "cell_type": "markdown",
   "id": "a66a31de",
   "metadata": {},
   "source": [
    "# 008 print 기초\n",
    "print() 함수를 사용하여 다음과 같이 출력하세요."
   ]
  },
  {
   "cell_type": "markdown",
   "id": "64b12234",
   "metadata": {},
   "source": [
    "naver/kakao/sk/samsung"
   ]
  },
  {
   "cell_type": "code",
   "execution_count": 13,
   "id": "9c365d7f",
   "metadata": {},
   "outputs": [
    {
     "name": "stdout",
     "output_type": "stream",
     "text": [
      "naver/kakao/sk/samsung\n"
     ]
    }
   ],
   "source": [
    "print('naver/kakao/sk/samsung')"
   ]
  },
  {
   "cell_type": "code",
   "execution_count": 16,
   "id": "df666c55",
   "metadata": {},
   "outputs": [
    {
     "name": "stdout",
     "output_type": "stream",
     "text": [
      "naver/kakao/sk/samsung\n"
     ]
    }
   ],
   "source": [
    "print('naver','kakao','sk','samsung',sep='/')"
   ]
  },
  {
   "cell_type": "markdown",
   "id": "5af7272c",
   "metadata": {},
   "source": [
    "# 009 print 줄바꿈\n",
    "다음 코드를 수정하여 줄바꿈이 없이 출력하세요. (힌트: end='') print 함수는 두 번 사용합니다. 세미콜론 (;)은 한줄에 여러 개의 명령을 작성하기 위해 사용합니다."
   ]
  },
  {
   "cell_type": "markdown",
   "id": "1f02411a",
   "metadata": {},
   "source": [
    "print(\"first\");print(\"second\")"
   ]
  },
  {
   "cell_type": "code",
   "execution_count": 18,
   "id": "bf5ef216",
   "metadata": {},
   "outputs": [
    {
     "name": "stdout",
     "output_type": "stream",
     "text": [
      "first second\n"
     ]
    }
   ],
   "source": [
    "print(\"first\",end=' ')\n",
    "print(\"second\")"
   ]
  },
  {
   "cell_type": "markdown",
   "id": "81f24a23",
   "metadata": {},
   "source": [
    "# 010 연산 결과 출력\n",
    "5/3의 결과를 화면에 출력하세요."
   ]
  },
  {
   "cell_type": "code",
   "execution_count": 19,
   "id": "577df783",
   "metadata": {},
   "outputs": [
    {
     "name": "stdout",
     "output_type": "stream",
     "text": [
      "1.6666666666666667\n"
     ]
    }
   ],
   "source": [
    "print(5/3)"
   ]
  },
  {
   "cell_type": "markdown",
   "id": "4be45346",
   "metadata": {},
   "source": [
    "# <02. 파이썬 변수>"
   ]
  },
  {
   "cell_type": "markdown",
   "id": "97f92747",
   "metadata": {},
   "source": [
    "# 011 변수 사용하기\n",
    "삼성전자라는 변수로 50,000원을 바인딩해보세요. 삼성전자 주식 10주를 보유하고 있을 때 총 평가금액을 출력하세요."
   ]
  },
  {
   "cell_type": "code",
   "execution_count": 22,
   "id": "06bd7c14",
   "metadata": {},
   "outputs": [
    {
     "name": "stdout",
     "output_type": "stream",
     "text": [
      "500000원\n"
     ]
    }
   ],
   "source": [
    "삼성전자 = 50000\n",
    "print(삼성전자*10,'원',sep='')"
   ]
  },
  {
   "cell_type": "markdown",
   "id": "ec90a04d",
   "metadata": {},
   "source": [
    "# 012 변수 사용하기\n",
    "다음 표는 삼성전자의 일부 투자정보입니다. 변수를 사용해서 시가총액, 현재가, PER 등을 바인딩해보세요."
   ]
  },
  {
   "cell_type": "markdown",
   "id": "e7b00c37",
   "metadata": {},
   "source": [
    "바인딩 : 프로그램에 사용된 구성 요소의 실제 값 또는 프로퍼티를 결정짓는 행위"
   ]
  },
  {
   "cell_type": "code",
   "execution_count": 1,
   "id": "4256a874",
   "metadata": {},
   "outputs": [
    {
     "name": "stdout",
     "output_type": "stream",
     "text": [
      "2980000000000 <class 'int'>\n",
      "50000 <class 'int'>\n",
      "15.79 <class 'float'>\n"
     ]
    }
   ],
   "source": [
    "시가총액 = 2980000000000\n",
    "현재가 = 50000\n",
    "PER = 15.79\n",
    "print(시가총액,type(시가총액))\n",
    "print(현재가,type(현재가))\n",
    "print(PER,type(PER))"
   ]
  },
  {
   "cell_type": "markdown",
   "id": "1219580d",
   "metadata": {},
   "source": [
    "# 013 문자열 출력\n",
    "변수 s와 t에는 각각 문자열이 바인딩 되어있습니다."
   ]
  },
  {
   "cell_type": "code",
   "execution_count": 2,
   "id": "364951d3",
   "metadata": {},
   "outputs": [],
   "source": [
    "s=\"hello\"\n",
    "t=\"python\""
   ]
  },
  {
   "cell_type": "markdown",
   "id": "79ddd1b6",
   "metadata": {},
   "source": [
    "두 변수를 이용하여 아래와 같이 출력해보세요.\n",
    "\n",
    "실행 예:\n",
    "hello! python"
   ]
  },
  {
   "cell_type": "code",
   "execution_count": 4,
   "id": "5690b6ab",
   "metadata": {},
   "outputs": [
    {
     "name": "stdout",
     "output_type": "stream",
     "text": [
      "hello! python\n"
     ]
    }
   ],
   "source": [
    "s+='!'\n",
    "print(s,t)"
   ]
  },
  {
   "cell_type": "markdown",
   "id": "2c6ab154",
   "metadata": {},
   "source": [
    "# 014 파이썬을 이용한 값 계산\n",
    "아래 코드의 실행 결과를 예상해보세요.\n",
    "\n",
    ">> 2 + 2 * 3 "
   ]
  },
  {
   "cell_type": "markdown",
   "id": "5db81327",
   "metadata": {},
   "source": [
    "답 : 8"
   ]
  },
  {
   "cell_type": "code",
   "execution_count": 5,
   "id": "c0e89200",
   "metadata": {},
   "outputs": [
    {
     "data": {
      "text/plain": [
       "8"
      ]
     },
     "execution_count": 5,
     "metadata": {},
     "output_type": "execute_result"
    }
   ],
   "source": [
    "2 + 2*3"
   ]
  },
  {
   "cell_type": "markdown",
   "id": "b42198a9",
   "metadata": {},
   "source": [
    "# 015 type 함수"
   ]
  },
  {
   "cell_type": "markdown",
   "id": "4a4a53fa",
   "metadata": {},
   "source": [
    "type() 함수는 데이터 타입을 판별합니다. 변수 a에는 128 숫자가 바인딩돼 있어 type 함수가 int (정수)형임을 알려줍니다.\n",
    "\n",
    ">> a = 128\n",
    "\n",
    ">> print (type(a))\n",
    "\n",
    "<class 'int'>"
   ]
  },
  {
   "cell_type": "markdown",
   "id": "808b6076",
   "metadata": {},
   "source": [
    "아래 변수에 바인딩된 값의 타입을 판별해보세요.\n",
    "\n",
    ">> a = \"132\"\n"
   ]
  },
  {
   "cell_type": "code",
   "execution_count": 7,
   "id": "db0d955e",
   "metadata": {},
   "outputs": [
    {
     "name": "stdout",
     "output_type": "stream",
     "text": [
      "<class 'str'>\n"
     ]
    }
   ],
   "source": [
    "a=\"132\"\n",
    "print(type(a))"
   ]
  },
  {
   "cell_type": "markdown",
   "id": "44be0cda",
   "metadata": {},
   "source": [
    "# 016 문자열을 정수로 변환\n",
    "문자열 '720'를 정수형으로 변환해보세요.\n",
    "\n",
    ">> num_str = \"720\""
   ]
  },
  {
   "cell_type": "code",
   "execution_count": 9,
   "id": "e2ab9f33",
   "metadata": {},
   "outputs": [
    {
     "name": "stdout",
     "output_type": "stream",
     "text": [
      "<class 'int'>\n"
     ]
    }
   ],
   "source": [
    "num_str = \"720\"\n",
    "num_str2 = int(num_str)\n",
    "print(type(num_str2))"
   ]
  },
  {
   "cell_type": "markdown",
   "id": "b353dee3",
   "metadata": {},
   "source": [
    "# 017 정수를 문자열 100으로 변환\n",
    "정수 100을 문자열 '100'으로 변환해보세요.\n",
    "\n",
    "num = 100"
   ]
  },
  {
   "cell_type": "code",
   "execution_count": 10,
   "id": "b5f70e58",
   "metadata": {},
   "outputs": [
    {
     "name": "stdout",
     "output_type": "stream",
     "text": [
      "<class 'str'>\n"
     ]
    }
   ],
   "source": [
    "num = 100\n",
    "num2 = str(num)\n",
    "print(type(num2))"
   ]
  },
  {
   "cell_type": "markdown",
   "id": "7b5ef3e3",
   "metadata": {},
   "source": [
    "# 018 문자열을 실수로변환\n",
    "문자열 \"15.79\"를 실수(float) 타입으로 변환해보세요."
   ]
  },
  {
   "cell_type": "code",
   "execution_count": 14,
   "id": "2c3c21e9",
   "metadata": {},
   "outputs": [
    {
     "name": "stdout",
     "output_type": "stream",
     "text": [
      "<class 'float'>\n"
     ]
    }
   ],
   "source": [
    "x = \"15.79\"\n",
    "ans = float(x)\n",
    "print(type(ans))"
   ]
  },
  {
   "cell_type": "markdown",
   "id": "8b6d49ec",
   "metadata": {},
   "source": [
    "# 019 문자열을 정수로 변환\n",
    "year라는 변수가 문자열 타입의 연도를 바인딩하고 있습니다. 이를 정수로 변환한 후 최근 3년의 연도를 화면에 출력해보세요.\n",
    "\n",
    "year = \"2020\""
   ]
  },
  {
   "cell_type": "code",
   "execution_count": 15,
   "id": "f5773d6c",
   "metadata": {},
   "outputs": [
    {
     "name": "stdout",
     "output_type": "stream",
     "text": [
      "2017\n",
      "2018\n",
      "2019\n"
     ]
    }
   ],
   "source": [
    "year = \"2020\"\n",
    "ans = int(year)\n",
    "for i in range(3,0,-1):\n",
    "    print(ans-i)"
   ]
  },
  {
   "cell_type": "markdown",
   "id": "5081b53a",
   "metadata": {},
   "source": [
    "# 020 파이썬 계산\n",
    "에이컨이 월 48,584원에 무이자 36개월의 조건으로 홈쇼핑에서 판매되고 있습니다. 총 금액은 계산한 후 이를 화면에 출력해보세요. (변수사용하기)\n",
    "\n"
   ]
  },
  {
   "cell_type": "code",
   "execution_count": 16,
   "id": "261244c8",
   "metadata": {},
   "outputs": [
    {
     "name": "stdout",
     "output_type": "stream",
     "text": [
      "1749024\n"
     ]
    }
   ],
   "source": [
    "air = 48584\n",
    "month = 36\n",
    "ans = air*month\n",
    "print(ans)"
   ]
  },
  {
   "cell_type": "markdown",
   "id": "5003a2b3",
   "metadata": {},
   "source": [
    "# <파이썬 문자열>"
   ]
  },
  {
   "cell_type": "markdown",
   "id": "4ac3ea48",
   "metadata": {},
   "source": [
    "# 021 문자열 인덱싱\n",
    "letters가 바인딩하는 문자열에서 첫번째와 세번째 문자를 출력하세요.\n",
    "\n",
    ">> letters = 'python'"
   ]
  },
  {
   "cell_type": "code",
   "execution_count": 17,
   "id": "daff26e4",
   "metadata": {},
   "outputs": [
    {
     "name": "stdout",
     "output_type": "stream",
     "text": [
      "p t\n"
     ]
    }
   ],
   "source": [
    "letters = 'python'\n",
    "print(letters[0],letters[2])"
   ]
  },
  {
   "cell_type": "markdown",
   "id": "286c9733",
   "metadata": {},
   "source": [
    "# 022 문자열 슬라이싱\n",
    "자동차 번호가 다음과 같을 때 뒤에 4자리만 출력하세요.\n",
    "\n",
    ">> license_plate = \"24가 2210\""
   ]
  },
  {
   "cell_type": "code",
   "execution_count": 18,
   "id": "1d972fdf",
   "metadata": {},
   "outputs": [
    {
     "name": "stdout",
     "output_type": "stream",
     "text": [
      "2210\n"
     ]
    }
   ],
   "source": [
    "license_plate = \"24가 2210\"\n",
    "print(license_plate[4:])"
   ]
  },
  {
   "cell_type": "markdown",
   "id": "ccbdd49c",
   "metadata": {},
   "source": [
    "# 023 문자열 인덱싱\n",
    "아래의 문자열에서 '홀' 만 출력하세요.\n",
    "\n",
    ">> string = \"홀짝홀짝홀짝\""
   ]
  },
  {
   "cell_type": "code",
   "execution_count": 20,
   "id": "9c150538",
   "metadata": {},
   "outputs": [
    {
     "name": "stdout",
     "output_type": "stream",
     "text": [
      "홀홀홀"
     ]
    }
   ],
   "source": [
    "string = \"홀짝홀짝홀짝\"\n",
    "for i in range(len(string)):\n",
    "    if string[i]=='홀':\n",
    "        print('홀',end='')"
   ]
  },
  {
   "cell_type": "markdown",
   "id": "24871161",
   "metadata": {},
   "source": [
    "# 024 문자열 슬라이싱\n",
    "문자열을 거꾸로 뒤집어 출력하세요.\n",
    "\n",
    ">> string = \"PYTHON\""
   ]
  },
  {
   "cell_type": "code",
   "execution_count": 22,
   "id": "80b3eee4",
   "metadata": {},
   "outputs": [
    {
     "name": "stdout",
     "output_type": "stream",
     "text": [
      "NOHTYP\n"
     ]
    }
   ],
   "source": [
    "string='PYTHON'\n",
    "print(string[::-1])"
   ]
  },
  {
   "cell_type": "markdown",
   "id": "abe81b9a",
   "metadata": {},
   "source": [
    "# 025 문자열 치환\n",
    "아래의 전화번호에서 하이푼 ('-')을 제거하고 출력하세요.\n",
    "\n",
    ">> phone_number = \"010-1111-2222\""
   ]
  },
  {
   "cell_type": "code",
   "execution_count": 24,
   "id": "b058309b",
   "metadata": {},
   "outputs": [
    {
     "name": "stdout",
     "output_type": "stream",
     "text": [
      "010 1111 2222\n"
     ]
    }
   ],
   "source": [
    "phone_number = \"010-1111-2222\"\n",
    "print(phone_number.replace(\"-\",\" \"))"
   ]
  },
  {
   "cell_type": "markdown",
   "id": "aa4521e9",
   "metadata": {},
   "source": [
    "# 026 문자열 다루기\n",
    "25번 문제의 전화번호를 아래와 같이 모두 붙여 출력하세요.\n",
    "\n"
   ]
  },
  {
   "cell_type": "code",
   "execution_count": 27,
   "id": "4332117a",
   "metadata": {},
   "outputs": [
    {
     "name": "stdout",
     "output_type": "stream",
     "text": [
      "01011112222\n"
     ]
    }
   ],
   "source": [
    "print(phone_number.replace(\"-\",\"\"))"
   ]
  },
  {
   "cell_type": "markdown",
   "id": "562957dc",
   "metadata": {},
   "source": [
    "# 027 문자열 다루기"
   ]
  },
  {
   "cell_type": "markdown",
   "id": "c584cec2",
   "metadata": {},
   "source": [
    "url 에 저장된 웹 페이지 주소에서 도메인을 출력하세요.\n",
    "\n",
    ">> url = \"http://sharebook.kr\""
   ]
  },
  {
   "cell_type": "code",
   "execution_count": 30,
   "id": "1871c89c",
   "metadata": {},
   "outputs": [
    {
     "name": "stdout",
     "output_type": "stream",
     "text": [
      "kr\n"
     ]
    }
   ],
   "source": [
    "url = \"http://sharebook.kr\"\n",
    "print(url[-2:])"
   ]
  },
  {
   "cell_type": "markdown",
   "id": "4c4568aa",
   "metadata": {},
   "source": [
    "# 028 문자열은 immutable\n",
    "아래 코드의 실행 결과를 예상해보세요.\n",
    "\n",
    ">> lang = 'python'\n",
    "\n",
    ">> lang[0] = 'P'\n",
    "\n",
    ">> print(lang)"
   ]
  },
  {
   "cell_type": "markdown",
   "id": "c5bf2f54",
   "metadata": {},
   "source": [
    "에러발생\n",
    "\n",
    "문자열은 저 형식으로 수정 불가"
   ]
  },
  {
   "cell_type": "markdown",
   "id": "89afb107",
   "metadata": {},
   "source": [
    "# 029 replace 메서드\n",
    "아래 문자열에서 소문자 'a'를 대문자 'A'로 변경하세요.\n",
    "\n",
    ">> string = 'abcdfe2a354a32a'"
   ]
  },
  {
   "cell_type": "code",
   "execution_count": 32,
   "id": "1ed44ac0",
   "metadata": {},
   "outputs": [
    {
     "name": "stdout",
     "output_type": "stream",
     "text": [
      "Abcdfe2A354A32A\n"
     ]
    }
   ],
   "source": [
    "string = 'abcdfe2a354a32a'\n",
    "string2 = string.replace('a','A')\n",
    "print(string2)"
   ]
  },
  {
   "cell_type": "markdown",
   "id": "e258cfe6",
   "metadata": {},
   "source": [
    "# 030 replace 메서드\n",
    "아래 코드의 실행 결과를 예상해보세요.\n",
    "\n",
    ">> string = 'abcd'\n",
    "\n",
    ">> string.replace('b', 'B')\n",
    "\n",
    ">> print(string)"
   ]
  },
  {
   "cell_type": "markdown",
   "id": "186a4f32",
   "metadata": {},
   "source": [
    "답 : abcd 그대로 출력"
   ]
  },
  {
   "cell_type": "code",
   "execution_count": 34,
   "id": "f19484bd",
   "metadata": {},
   "outputs": [
    {
     "name": "stdout",
     "output_type": "stream",
     "text": [
      "abcd\n"
     ]
    }
   ],
   "source": [
    "string = 'abcd'\n",
    "string.replace('b', 'B')\n",
    "print(string)"
   ]
  },
  {
   "cell_type": "markdown",
   "id": "4c5423bf",
   "metadata": {},
   "source": [
    "# 031 문자열 합치기\n",
    "아래 코드의 실행 결과를 예상해보세요.\n",
    "\n",
    ">> a = \"3\"\n",
    "\n",
    ">> b = \"4\"\n",
    "\n",
    ">> print(a + b)"
   ]
  },
  {
   "cell_type": "markdown",
   "id": "eccc2a61",
   "metadata": {},
   "source": [
    "답 : 34출력"
   ]
  },
  {
   "cell_type": "code",
   "execution_count": 35,
   "id": "3ebf6878",
   "metadata": {},
   "outputs": [
    {
     "name": "stdout",
     "output_type": "stream",
     "text": [
      "34\n"
     ]
    }
   ],
   "source": [
    "a = \"3\"\n",
    "b = \"4\"\n",
    "print(a + b)"
   ]
  },
  {
   "cell_type": "markdown",
   "id": "df4fbe4a",
   "metadata": {},
   "source": [
    "# 032 문자열 곱하기\n",
    "아래 코드의 실행 결과를 예상해보세요.\n",
    "\n",
    ">> print(\"Hi\" * 3)"
   ]
  },
  {
   "cell_type": "markdown",
   "id": "d03a6595",
   "metadata": {},
   "source": [
    "답 : HiHiHi 출력"
   ]
  },
  {
   "cell_type": "code",
   "execution_count": 37,
   "id": "d4f72e5f",
   "metadata": {},
   "outputs": [
    {
     "name": "stdout",
     "output_type": "stream",
     "text": [
      "HiHiHi\n"
     ]
    }
   ],
   "source": [
    "print(\"Hi\" * 3)"
   ]
  },
  {
   "cell_type": "markdown",
   "id": "65e021f8",
   "metadata": {},
   "source": [
    "# 033 문자열 곱하기\n",
    "\n",
    "화면에 '-'를 80개 출력하세요."
   ]
  },
  {
   "cell_type": "code",
   "execution_count": 38,
   "id": "ba47647a",
   "metadata": {},
   "outputs": [
    {
     "name": "stdout",
     "output_type": "stream",
     "text": [
      "--------------------------------------------------------------------------------\n"
     ]
    }
   ],
   "source": [
    "print('-'*80)"
   ]
  },
  {
   "cell_type": "markdown",
   "id": "8354b438",
   "metadata": {},
   "source": [
    "# 034 문자열 곱하기\n",
    "변수에 다음과 같은 문자열이 바인딩되어 있습니다.\n",
    "\n",
    ">>> t1 = 'python'\n",
    "\n",
    ">>> t2 = 'java'\n",
    "\n",
    "변수에 문자열 더하기와 문자열 곱하기를 사용해서 아래와 같이 출력해보세요."
   ]
  },
  {
   "cell_type": "markdown",
   "id": "64b45611",
   "metadata": {},
   "source": [
    "실행 예:\n",
    "python java python java python java python java"
   ]
  },
  {
   "cell_type": "code",
   "execution_count": 46,
   "id": "8feda1eb",
   "metadata": {},
   "outputs": [
    {
     "name": "stdout",
     "output_type": "stream",
     "text": [
      "python java python java python java python java \n"
     ]
    }
   ],
   "source": [
    "t1 = 'python'\n",
    "t2 = 'java'\n",
    "ans = t1+' '+t2+' '\n",
    "print((ans)*4)"
   ]
  },
  {
   "cell_type": "markdown",
   "id": "e1bbec83",
   "metadata": {},
   "source": [
    "# 035 문자열 출력\n",
    "변수에 다음과 같이 문자열과 정수가 바인딩되어 있을 때 % formatting을 사용해서 다음과 같이 출력해보세요.\n",
    "\n",
    "name1 = \"김민수\" \n",
    "\n",
    "age1 = 10\n",
    "\n",
    "name2 = \"이철희\"\n",
    "\n",
    "age2 = 13\n",
    "\n",
    "이름: 김민수 나이: 10\n",
    "\n",
    "이름: 이철희 나이: 13"
   ]
  },
  {
   "cell_type": "code",
   "execution_count": 47,
   "id": "281b1d97",
   "metadata": {},
   "outputs": [
    {
     "name": "stdout",
     "output_type": "stream",
     "text": [
      "이름 : 김민수 나이: 10\n",
      "이름 : 이철희 나이: 13\n"
     ]
    }
   ],
   "source": [
    "name1 = \"김민수\" \n",
    "age1 = 10\n",
    "name2 = \"이철희\"\n",
    "age2 = 13\n",
    "print(\"이름 : %s 나이: %d\" %(name1,age1))\n",
    "print(\"이름 : %s 나이: %d\" %(name2,age2))"
   ]
  },
  {
   "cell_type": "markdown",
   "id": "2cdd3d9d",
   "metadata": {},
   "source": [
    "# 036 문자열 출력\n",
    "문자열의 format( ) 메서드를 사용해서 035번 문제를 다시 풀어보세요."
   ]
  },
  {
   "cell_type": "code",
   "execution_count": 48,
   "id": "6b0c9a1c",
   "metadata": {},
   "outputs": [
    {
     "name": "stdout",
     "output_type": "stream",
     "text": [
      "이름: 김민수 나이: 10\n",
      "이름: 이철희 나이: 13\n"
     ]
    }
   ],
   "source": [
    "print(\"이름: {} 나이: {}\".format(name1, age1))\n",
    "print(\"이름: {} 나이: {}\".format(name2, age2))"
   ]
  },
  {
   "cell_type": "markdown",
   "id": "012f34cc",
   "metadata": {},
   "source": [
    "# 037 문자열 출력\n",
    "파이썬 3.6부터 지원하는 f-string을 사용해서 035번 문제를 다시 풀어보세요."
   ]
  },
  {
   "cell_type": "code",
   "execution_count": 49,
   "id": "27ca69c3",
   "metadata": {},
   "outputs": [
    {
     "name": "stdout",
     "output_type": "stream",
     "text": [
      "이름: 김민수 나이: 10\n",
      "이름: 이철희 나이: 13\n"
     ]
    }
   ],
   "source": [
    "print(f\"이름: {name1} 나이: {age1}\")\n",
    "print(f\"이름: {name2} 나이: {age2}\")"
   ]
  },
  {
   "cell_type": "markdown",
   "id": "6e2deef8",
   "metadata": {},
   "source": [
    "# 038 컴마 제거하기\n",
    "삼성전자의 상장주식수가 다음과 같습니다. 컴마를 제거한 후 이를 정수 타입으로 변환해보세요.\n",
    "\n",
    "상장주식수 = \"5,969,782,550\""
   ]
  },
  {
   "cell_type": "code",
   "execution_count": 51,
   "id": "2cd53e4e",
   "metadata": {},
   "outputs": [
    {
     "name": "stdout",
     "output_type": "stream",
     "text": [
      "5969782550 <class 'int'>\n"
     ]
    }
   ],
   "source": [
    "상장주식수 = \"5,969,782,550\"\n",
    "ans = 상장주식수.replace(\",\",\"\")\n",
    "ans = int(ans)\n",
    "print(ans,type(ans))"
   ]
  },
  {
   "cell_type": "markdown",
   "id": "44bf0810",
   "metadata": {},
   "source": [
    "# 039 문자열 슬라이싱\n",
    "다음과 같은 문자열에서 '2020/03'만 출력하세요.\n",
    "\n",
    "분기 = \"2020/03(E) (IFRS연결)\""
   ]
  },
  {
   "cell_type": "code",
   "execution_count": 53,
   "id": "91aafdae",
   "metadata": {},
   "outputs": [
    {
     "name": "stdout",
     "output_type": "stream",
     "text": [
      "2020/03\n"
     ]
    }
   ],
   "source": [
    "분기 = \"2020/03(E) (IFRS연결)\"\n",
    "print(분기[:7])"
   ]
  },
  {
   "cell_type": "markdown",
   "id": "fddee386",
   "metadata": {},
   "source": [
    "# 040 strip 메서드\n",
    "문자열의 좌우의 공백이 있을 때 이를 제거해보세요.\n",
    "\n",
    "data = \"   삼성전자    \""
   ]
  },
  {
   "cell_type": "code",
   "execution_count": 54,
   "id": "7deaa78f",
   "metadata": {},
   "outputs": [
    {
     "name": "stdout",
     "output_type": "stream",
     "text": [
      "삼성전자\n"
     ]
    }
   ],
   "source": [
    "data = \"   삼성전자    \"\n",
    "ans = data.strip()\n",
    "print(ans)"
   ]
  },
  {
   "cell_type": "markdown",
   "id": "231d1561",
   "metadata": {},
   "source": [
    "# 041 upper 메서드\n",
    "다음과 같은 문자열이 있을 때 이를 대문자 BTC_KRW로 변경하세요.\n",
    "\n",
    "ticker = \"btc_krw\""
   ]
  },
  {
   "cell_type": "code",
   "execution_count": 56,
   "id": "2109b510",
   "metadata": {},
   "outputs": [
    {
     "name": "stdout",
     "output_type": "stream",
     "text": [
      "BTC_KRW\n"
     ]
    }
   ],
   "source": [
    "ticker = \"btc_krw\"\n",
    "ans = ticker.upper()\n",
    "print(ans)"
   ]
  },
  {
   "cell_type": "markdown",
   "id": "dc15fcfa",
   "metadata": {},
   "source": [
    "# 042 lower 메서드\n",
    "다음과 같은 문자열이 있을 때 이를 소문자 btc_krw로 변경하세요.\n",
    "\n",
    "ticker = \"BTC_KRW\""
   ]
  },
  {
   "cell_type": "code",
   "execution_count": 57,
   "id": "f5f3a877",
   "metadata": {},
   "outputs": [
    {
     "name": "stdout",
     "output_type": "stream",
     "text": [
      "btc_krw\n"
     ]
    }
   ],
   "source": [
    "ticker = \"BTC_KRW\"\n",
    "ans = ticker.lower()\n",
    "print(ans)"
   ]
  },
  {
   "cell_type": "markdown",
   "id": "2c50361e",
   "metadata": {},
   "source": [
    "# 043 capitalize 메서드\n",
    "문자열 'hello'가 있을 때 이를 'Hello'로 변경해보세요."
   ]
  },
  {
   "cell_type": "code",
   "execution_count": 58,
   "id": "01367373",
   "metadata": {},
   "outputs": [
    {
     "name": "stdout",
     "output_type": "stream",
     "text": [
      "Hello\n"
     ]
    }
   ],
   "source": [
    "a = 'hello'\n",
    "ans = a.capitalize()\n",
    "print(ans)"
   ]
  },
  {
   "cell_type": "markdown",
   "id": "c6d71905",
   "metadata": {},
   "source": [
    "# 044 endswith 메서드\n",
    "파일 이름이 문자열로 저장되어 있을 때 endswith 메서드를 사용해서 파일 이름이 'xlsx'로 끝나는지 확인해보세요.\n",
    "\n",
    "file_name = \"보고서.xlsx\""
   ]
  },
  {
   "cell_type": "code",
   "execution_count": 62,
   "id": "70a6c85f",
   "metadata": {},
   "outputs": [
    {
     "name": "stdout",
     "output_type": "stream",
     "text": [
      "True\n"
     ]
    }
   ],
   "source": [
    "file_name = \"보고서.xlsx\"\n",
    "ans = file_name.endswith(\"xlsx\")\n",
    "print(ans)"
   ]
  },
  {
   "cell_type": "markdown",
   "id": "81cb139a",
   "metadata": {},
   "source": [
    "# 045 endswith 메서드\n",
    "파일 이름이 문자열로 저장되어 있을 때 endswith 메서드를 사용해서 파일 이름이 'xlsx' 또는 'xls'로 끝나는지 확인해보세요.\n",
    "\n",
    "file_name = \"보고서.xlsx\""
   ]
  },
  {
   "cell_type": "code",
   "execution_count": 64,
   "id": "04570de6",
   "metadata": {},
   "outputs": [
    {
     "name": "stdout",
     "output_type": "stream",
     "text": [
      "True\n"
     ]
    }
   ],
   "source": [
    "file_name = \"보고서.xlsx\"\n",
    "ans = file_name.endswith((\"xlsx\", \"xls\"))\n",
    "print(ans)"
   ]
  },
  {
   "cell_type": "markdown",
   "id": "8f474e32",
   "metadata": {},
   "source": [
    "# 046 startswith 메서드\n",
    "파일 이름이 문자열로 저장되어 있을 때 startswith 메서드를 사용해서 파일 이름이 '2020'로 시작하는지 확인해보세요.\n",
    "\n",
    "file_name = \"2020_보고서.xlsx\""
   ]
  },
  {
   "cell_type": "code",
   "execution_count": 65,
   "id": "ac4abe32",
   "metadata": {},
   "outputs": [
    {
     "name": "stdout",
     "output_type": "stream",
     "text": [
      "True\n"
     ]
    }
   ],
   "source": [
    "file_name = \"2020_보고서.xlsx\"\n",
    "ans = file_name.startswith(\"2020\")\n",
    "print(ans)"
   ]
  },
  {
   "cell_type": "markdown",
   "id": "ef9713ce",
   "metadata": {},
   "source": [
    "# 047 split 메서드\n",
    "다음과 같은 문자열이 있을 때 공백을 기준으로 문자열을 나눠보세요.\n",
    "\n",
    "a = \"hello world\""
   ]
  },
  {
   "cell_type": "code",
   "execution_count": 67,
   "id": "8cf43a8e",
   "metadata": {},
   "outputs": [
    {
     "name": "stdout",
     "output_type": "stream",
     "text": [
      "['hello', 'world']\n"
     ]
    }
   ],
   "source": [
    "a=\"hello world\"\n",
    "ans = a.split()\n",
    "print(ans)"
   ]
  },
  {
   "cell_type": "code",
   "execution_count": 68,
   "id": "12e4fad5",
   "metadata": {},
   "outputs": [
    {
     "data": {
      "text/plain": [
       "list"
      ]
     },
     "execution_count": 68,
     "metadata": {},
     "output_type": "execute_result"
    }
   ],
   "source": [
    "type(ans)"
   ]
  },
  {
   "cell_type": "markdown",
   "id": "81039fd5",
   "metadata": {},
   "source": [
    "# 048 split 메서드\n",
    "다음과 같이 문자열이 있을 때 btc와 krw로 나눠보세요.\n",
    "\n",
    "ticker = \"btc_krw\""
   ]
  },
  {
   "cell_type": "code",
   "execution_count": 69,
   "id": "a7ef2be3",
   "metadata": {},
   "outputs": [
    {
     "name": "stdout",
     "output_type": "stream",
     "text": [
      "['btc', 'krw']\n"
     ]
    }
   ],
   "source": [
    "ticker = \"btc_krw\"\n",
    "ans = ticker.split('_')\n",
    "print(ans)"
   ]
  },
  {
   "cell_type": "markdown",
   "id": "9bc37457",
   "metadata": {},
   "source": [
    "# 049 split 메서드\n",
    "다음과 같이 날짜를 표현하는 문자열이 있을 때 연도, 월, 일로 나눠보세요.\n",
    "\n",
    "date = \"2020-05-01\""
   ]
  },
  {
   "cell_type": "code",
   "execution_count": 72,
   "id": "1bfeb615",
   "metadata": {},
   "outputs": [
    {
     "name": "stdout",
     "output_type": "stream",
     "text": [
      "['2020', '05', '01']\n"
     ]
    }
   ],
   "source": [
    "date = \"2020-05-01\"\n",
    "ans = date.split('-')\n",
    "print(ans)"
   ]
  },
  {
   "cell_type": "markdown",
   "id": "13da2fd7",
   "metadata": {},
   "source": [
    "# 050 rstrip 메서드\n",
    "\n",
    "문자열의 오른쪽에 공백이 있을 때 이를 제거해보세요.\n",
    "\n",
    "data = \"039490     \""
   ]
  },
  {
   "cell_type": "code",
   "execution_count": 73,
   "id": "2ff7b96e",
   "metadata": {},
   "outputs": [
    {
     "name": "stdout",
     "output_type": "stream",
     "text": [
      "039490\n"
     ]
    }
   ],
   "source": [
    "data = \"039490     \"\n",
    "ans=data.rstrip()\n",
    "print(ans)"
   ]
  },
  {
   "cell_type": "markdown",
   "id": "068d7a10",
   "metadata": {},
   "source": [
    "# <04. 파이썬 리스트>"
   ]
  },
  {
   "cell_type": "markdown",
   "id": "9e783f79",
   "metadata": {},
   "source": [
    "# 051 리스트 생성\n",
    "2016년 11월 영화 예매 순위 기준 top3는 다음과 같습니다. 영화 제목을 movie_rank 이름의 리스트에 저장해보세요. (순위 정보는 저장하지 않습니다.)"
   ]
  },
  {
   "cell_type": "code",
   "execution_count": 74,
   "id": "53052e14",
   "metadata": {},
   "outputs": [
    {
     "name": "stdout",
     "output_type": "stream",
     "text": [
      "['닥터스트레인지', '스플릿', '럭키']\n"
     ]
    }
   ],
   "source": [
    "movie_rank=['닥터스트레인지','스플릿','럭키']\n",
    "print(movie_rank)"
   ]
  },
  {
   "cell_type": "markdown",
   "id": "0c0195f3",
   "metadata": {},
   "source": [
    "# 052 리스트에 원소추가\n",
    "051의 movie_rank 리스트에 \"배트맨\"을 추가하라."
   ]
  },
  {
   "cell_type": "code",
   "execution_count": 75,
   "id": "b36ccc9c",
   "metadata": {},
   "outputs": [
    {
     "name": "stdout",
     "output_type": "stream",
     "text": [
      "['닥터스트레인지', '스플릿', '럭키', '배트맨']\n"
     ]
    }
   ],
   "source": [
    "movie_rank.append('배트맨')\n",
    "print(movie_rank)"
   ]
  },
  {
   "cell_type": "markdown",
   "id": "818d851a",
   "metadata": {},
   "source": [
    "# 053\n",
    "movie_rank 리스트에는 아래와 같이 네 개의 영화 제목이 바인딩되어 있다. \"슈퍼맨\"을 \"닥터 스트레인지\"와 \"스플릿\" 사이에 추가하라.\n",
    "\n",
    "movie_rank = ['닥터 스트레인지', '스플릿', '럭키', '배트맨']"
   ]
  },
  {
   "cell_type": "code",
   "execution_count": 76,
   "id": "2b28b803",
   "metadata": {},
   "outputs": [
    {
     "name": "stdout",
     "output_type": "stream",
     "text": [
      "['닥터스트레인지', '슈퍼맨', '스플릿', '럭키', '배트맨']\n"
     ]
    }
   ],
   "source": [
    "movie_rank.insert(1, \"슈퍼맨\")\n",
    "print(movie_rank)"
   ]
  },
  {
   "cell_type": "markdown",
   "id": "90400199",
   "metadata": {},
   "source": [
    "# 054\n",
    "movie_rank 리스트에서 '럭키'를 삭제하라.\n",
    "\n",
    "movie_rank = ['닥터 스트레인지', '슈퍼맨', '스플릿', '럭키', '배트맨']"
   ]
  },
  {
   "cell_type": "code",
   "execution_count": 78,
   "id": "4c08ee8e",
   "metadata": {},
   "outputs": [
    {
     "name": "stdout",
     "output_type": "stream",
     "text": [
      "['닥터스트레인지', '슈퍼맨', '스플릿', '배트맨']\n"
     ]
    }
   ],
   "source": [
    "del movie_rank[3]\n",
    "print(movie_rank)"
   ]
  },
  {
   "cell_type": "markdown",
   "id": "8e2c2376",
   "metadata": {},
   "source": [
    "# 055\n",
    "movie_rank 리스트에서 '스플릿' 과 '배트맨'을 를 삭제하라.\n",
    "\n",
    "movie_rank = ['닥터 스트레인지', '슈퍼맨', '스플릿', '배트맨']"
   ]
  },
  {
   "cell_type": "code",
   "execution_count": 79,
   "id": "fc91893f",
   "metadata": {},
   "outputs": [
    {
     "name": "stdout",
     "output_type": "stream",
     "text": [
      "['닥터스트레인지', '배트맨']\n"
     ]
    }
   ],
   "source": [
    "del movie_rank[1]\n",
    "del movie_rank[1]\n",
    "print(movie_rank)"
   ]
  },
  {
   "cell_type": "markdown",
   "id": "baa02751",
   "metadata": {},
   "source": [
    "# 056\n",
    "lang1과 lang2 리스트가 있을 때 lang1과 lang2의 원소를 모두 갖고 있는 langs 리스트를 만들어라.\n",
    "\n",
    ">> lang1 = [\"C\", \"C++\", \"JAVA\"]\n",
    "\n",
    ">> lang2 = [\"Python\", \"Go\", \"C#\"]"
   ]
  },
  {
   "cell_type": "code",
   "execution_count": 80,
   "id": "cd699b83",
   "metadata": {},
   "outputs": [
    {
     "name": "stdout",
     "output_type": "stream",
     "text": [
      "['C', 'C++', 'JAVA', 'Python', 'Go', 'C#']\n"
     ]
    }
   ],
   "source": [
    "lang1 = [\"C\", \"C++\", \"JAVA\"]\n",
    "lang2 = [\"Python\", \"Go\", \"C#\"]\n",
    "ans = lang1+lang2\n",
    "print(ans)"
   ]
  },
  {
   "cell_type": "markdown",
   "id": "371a9038",
   "metadata": {},
   "source": [
    "# 057\n",
    "다음 리스트에서 최댓값과 최솟값을 출력하라. (힌트: min(), max() 함수 사용)\n",
    "\n",
    "nums = [1, 2, 3, 4, 5, 6, 7]"
   ]
  },
  {
   "cell_type": "code",
   "execution_count": 82,
   "id": "17d995cc",
   "metadata": {},
   "outputs": [
    {
     "name": "stdout",
     "output_type": "stream",
     "text": [
      "1 7\n"
     ]
    }
   ],
   "source": [
    "nums = [1, 2, 3, 4, 5, 6, 7]\n",
    "print(min(nums),max(nums))"
   ]
  },
  {
   "cell_type": "markdown",
   "id": "93fa47ad",
   "metadata": {},
   "source": [
    "# 058\n",
    "다음 리스트의 합을 출력하라.\n",
    "\n",
    "nums = [1, 2, 3, 4, 5]"
   ]
  },
  {
   "cell_type": "code",
   "execution_count": 84,
   "id": "0278d27d",
   "metadata": {},
   "outputs": [
    {
     "name": "stdout",
     "output_type": "stream",
     "text": [
      "15\n"
     ]
    }
   ],
   "source": [
    "nums = [1, 2, 3, 4, 5]\n",
    "ans = sum(nums)\n",
    "print(ans)"
   ]
  },
  {
   "cell_type": "markdown",
   "id": "fd54b7b4",
   "metadata": {},
   "source": [
    "# 059\n",
    "다음 리스트에 저장된 데이터의 개수를 화면에 구하하라.\n",
    "\n",
    "cook = [\"피자\", \"김밥\", \"만두\", \"양념치킨\", \"족발\", \"피자\", \"김치만두\", \"쫄면\", \"소시지\", \"라면\", \"팥빙수\", \"김치전\"]"
   ]
  },
  {
   "cell_type": "code",
   "execution_count": 85,
   "id": "4b1d6ffa",
   "metadata": {},
   "outputs": [
    {
     "name": "stdout",
     "output_type": "stream",
     "text": [
      "12\n"
     ]
    }
   ],
   "source": [
    "cook = [\"피자\", \"김밥\", \"만두\", \"양념치킨\", \"족발\", \"피자\", \"김치만두\", \"쫄면\", \"소시지\", \"라면\", \"팥빙수\", \"김치전\"]\n",
    "ans = len(cook)\n",
    "print(ans)"
   ]
  },
  {
   "cell_type": "markdown",
   "id": "5dad9635",
   "metadata": {},
   "source": [
    "# 060\n",
    "다음 리스트의 평균을 출력하라.\n",
    "\n",
    "nums = [1, 2, 3, 4, 5]"
   ]
  },
  {
   "cell_type": "code",
   "execution_count": 88,
   "id": "feef67d1",
   "metadata": {},
   "outputs": [
    {
     "name": "stdout",
     "output_type": "stream",
     "text": [
      "3.0\n"
     ]
    }
   ],
   "source": [
    "nums=[1,2,3,4,5]\n",
    "ans = sum(nums)/len(nums)\n",
    "print(ans)"
   ]
  },
  {
   "cell_type": "markdown",
   "id": "6a7243cd",
   "metadata": {},
   "source": [
    "# 061\n",
    "price 변수에는 날짜와 종가 정보가 저장돼 있다. 날짜 정보를 제외하고 가격 정보만을 출력하라. (힌트 : 슬라이싱)\n",
    "\n",
    "price = ['20180728', 100, 130, 140, 150, 160, 170]"
   ]
  },
  {
   "cell_type": "code",
   "execution_count": 89,
   "id": "348dfa47",
   "metadata": {},
   "outputs": [
    {
     "name": "stdout",
     "output_type": "stream",
     "text": [
      "[100, 130, 140, 150, 160, 170]\n"
     ]
    }
   ],
   "source": [
    "price = ['20180728', 100, 130, 140, 150, 160, 170]\n",
    "print(price[1:])"
   ]
  },
  {
   "cell_type": "markdown",
   "id": "3d02d737",
   "metadata": {},
   "source": [
    "# 062\n",
    "슬라이싱을 사용해서 홀수만 출력하라.\n",
    "\n",
    "nums = [1, 2, 3, 4, 5, 6, 7, 8, 9, 10]"
   ]
  },
  {
   "cell_type": "code",
   "execution_count": 90,
   "id": "ae572821",
   "metadata": {},
   "outputs": [
    {
     "name": "stdout",
     "output_type": "stream",
     "text": [
      "[1, 3, 5, 7, 9]\n"
     ]
    }
   ],
   "source": [
    "nums = [1, 2, 3, 4, 5, 6, 7, 8, 9, 10]\n",
    "print(nums[::2])"
   ]
  },
  {
   "cell_type": "markdown",
   "id": "13c87579",
   "metadata": {},
   "source": [
    "# 063\n",
    "슬라이싱을 사용해서 짝수만 출력하라.\n",
    "\n",
    "nums = [1, 2, 3, 4, 5, 6, 7, 8, 9, 10]"
   ]
  },
  {
   "cell_type": "code",
   "execution_count": 91,
   "id": "64f64ecd",
   "metadata": {},
   "outputs": [
    {
     "name": "stdout",
     "output_type": "stream",
     "text": [
      "[2, 4, 6, 8, 10]\n"
     ]
    }
   ],
   "source": [
    "nums = [1, 2, 3, 4, 5, 6, 7, 8, 9, 10]\n",
    "print(nums[1::2])"
   ]
  },
  {
   "cell_type": "markdown",
   "id": "e0f8f493",
   "metadata": {},
   "source": [
    "# 064\n",
    "슬라이싱을 사용해서 리스트의 숫자를 역 방향으로 출력하라.\n",
    "\n",
    "nums = [1, 2, 3, 4, 5]"
   ]
  },
  {
   "cell_type": "code",
   "execution_count": 92,
   "id": "7130e4ff",
   "metadata": {},
   "outputs": [
    {
     "name": "stdout",
     "output_type": "stream",
     "text": [
      "[5, 4, 3, 2, 1]\n"
     ]
    }
   ],
   "source": [
    "nums = [1, 2, 3, 4, 5]\n",
    "print(nums[::-1])"
   ]
  },
  {
   "cell_type": "markdown",
   "id": "cfbd73cf",
   "metadata": {},
   "source": [
    "# 065\n",
    "interest 리스트에는 아래의 데이터가 바인딩되어 있다.\n",
    "\n",
    "interest = ['삼성전자', 'LG전자', 'Naver']\n",
    "\n",
    "interest 리스트를 사용하여 아래와 같이 화면에 출력하라.\n",
    "\n",
    "출력 예시:\n",
    "삼성전자 Naver"
   ]
  },
  {
   "cell_type": "code",
   "execution_count": 94,
   "id": "348f7927",
   "metadata": {},
   "outputs": [
    {
     "name": "stdout",
     "output_type": "stream",
     "text": [
      "삼성전자 Naver\n"
     ]
    }
   ],
   "source": [
    "interest = ['삼성전자', 'LG전자', 'Naver']\n",
    "print(interest[0],interest[-1])"
   ]
  },
  {
   "cell_type": "markdown",
   "id": "fb4902be",
   "metadata": {},
   "source": [
    "# 066\n",
    "interest 리스트에는 아래의 데이터가 바인딩되어 있다.\n",
    "\n",
    "interest = ['삼성전자', 'LG전자', 'Naver', 'SK하이닉스', '미래에셋대우']\n",
    "interest 리스트를 사용하여 아래와 같이 화면에 출력하라.\n",
    "\n",
    "출력 예시:\n",
    "삼성전자 LG전자 Naver SK하이닉스 미래에셋대우"
   ]
  },
  {
   "cell_type": "code",
   "execution_count": 97,
   "id": "c9125483",
   "metadata": {},
   "outputs": [
    {
     "name": "stdout",
     "output_type": "stream",
     "text": [
      "삼성전자 LG전자 Naver SK하이닉스 미래에셋대우\n"
     ]
    }
   ],
   "source": [
    "interest = ['삼성전자', 'LG전자', 'Naver', 'SK하이닉스', '미래에셋대우']\n",
    "print(\" \".join(interest))"
   ]
  },
  {
   "cell_type": "markdown",
   "id": "0903ffd0",
   "metadata": {},
   "source": [
    "# 067\n",
    "interest 리스트에는 아래의 데이터가 바인딩되어 있다.\n",
    "\n",
    "interest = ['삼성전자', 'LG전자', 'Naver', 'SK하이닉스', '미래에셋대우']\n",
    "\n",
    "interest 리스트를 사용하여 아래와 같이 화면에 출력하라.\n",
    "\n",
    "출력 예시:\n",
    "삼성전자/LG전자/Naver/SK하이닉스/미래에셋대우"
   ]
  },
  {
   "cell_type": "code",
   "execution_count": 99,
   "id": "4b76dd60",
   "metadata": {},
   "outputs": [
    {
     "name": "stdout",
     "output_type": "stream",
     "text": [
      "삼성전자/LG전자/Naver/SK하이닉스/미래에셋대우\n"
     ]
    }
   ],
   "source": [
    "interest = ['삼성전자', 'LG전자', 'Naver', 'SK하이닉스', '미래에셋대우']\n",
    "print(\"/\".join(interest))"
   ]
  },
  {
   "cell_type": "markdown",
   "id": "4ea1e0e1",
   "metadata": {},
   "source": [
    "# 068\n",
    "interest 리스트에는 아래의 데이터가 바인딩되어 있다.\n",
    "\n",
    "interest = ['삼성전자', 'LG전자', 'Naver', 'SK하이닉스', '미래에셋대우']\n",
    "\n",
    "join() 메서드를 사용해서 interest 리스트를 아래와 같이 화면에 출력하라.\n",
    "\n",
    "출력 예시:\n",
    "\n",
    "삼성전자\n",
    "\n",
    "LG전자\n",
    "\n",
    "Naver\n",
    "\n",
    "SK하이닉스\n",
    "\n",
    "미래에셋대우\n"
   ]
  },
  {
   "cell_type": "code",
   "execution_count": 100,
   "id": "193b0e21",
   "metadata": {},
   "outputs": [
    {
     "name": "stdout",
     "output_type": "stream",
     "text": [
      "삼성전자\n",
      "LG전자\n",
      "Naver\n",
      "SK하이닉스\n",
      "미래에셋대우\n"
     ]
    }
   ],
   "source": [
    "interest = ['삼성전자', 'LG전자', 'Naver', 'SK하이닉스', '미래에셋대우']\n",
    "print(\"\\n\".join(interest))"
   ]
  },
  {
   "cell_type": "markdown",
   "id": "b647ca1c",
   "metadata": {},
   "source": [
    "# 069\n",
    "회사 이름이 슬래시 ('/')로 구분되어 하나의 문자열로 저장되어 있다.\n",
    "\n",
    "string = \"삼성전자/LG전자/Naver\"\n",
    "\n",
    "이를 interest 이름의 리스트로 분리 저장하라.\n",
    "\n",
    "실행 예시\n",
    "\n",
    ">> print(interest)\n",
    "\n",
    "['삼성전자', 'LG전자', 'Naver']"
   ]
  },
  {
   "cell_type": "code",
   "execution_count": 102,
   "id": "3f496d5b",
   "metadata": {},
   "outputs": [
    {
     "name": "stdout",
     "output_type": "stream",
     "text": [
      "['삼성전자', 'LG전자', 'Naver']\n"
     ]
    }
   ],
   "source": [
    "string = \"삼성전자/LG전자/Naver\"\n",
    "interest = string.split('/')\n",
    "print(interest)"
   ]
  },
  {
   "cell_type": "markdown",
   "id": "49164c36",
   "metadata": {},
   "source": [
    "# 070 리스트 정렬\n",
    "리스트에 있는 값을 오름차순으로 정렬하세요.\n",
    "\n",
    "data = [2, 4, 3, 1, 5, 10, 9]"
   ]
  },
  {
   "cell_type": "code",
   "execution_count": 103,
   "id": "5ecd0f2f",
   "metadata": {},
   "outputs": [
    {
     "name": "stdout",
     "output_type": "stream",
     "text": [
      "[1, 2, 3, 4, 5, 9, 10]\n"
     ]
    }
   ],
   "source": [
    "data = [2, 4, 3, 1, 5, 10, 9]\n",
    "data.sort()\n",
    "print(data)"
   ]
  },
  {
   "cell_type": "markdown",
   "id": "5201bf31",
   "metadata": {},
   "source": [
    "# <05. 파이썬 튜플>"
   ]
  },
  {
   "cell_type": "markdown",
   "id": "2fe49523",
   "metadata": {},
   "source": [
    "# 071\n",
    "my_variable 이름의 비어있는 튜플을 만들라."
   ]
  },
  {
   "cell_type": "code",
   "execution_count": 104,
   "id": "c40a866a",
   "metadata": {},
   "outputs": [],
   "source": [
    "my_variable=()"
   ]
  },
  {
   "cell_type": "markdown",
   "id": "7e761792",
   "metadata": {},
   "source": [
    "# 072\n",
    "2016년 11월 영화 예매 순위 기준 top3는 다음과 같다. 영화 제목을 movie_rank 이름의 튜플에 저장하라. (순위 정보는 저장하지 않는다.)"
   ]
  },
  {
   "cell_type": "code",
   "execution_count": 106,
   "id": "4ad59ed4",
   "metadata": {},
   "outputs": [
    {
     "name": "stdout",
     "output_type": "stream",
     "text": [
      "('닥터스트레인지', '스플릿', '럭키')\n"
     ]
    }
   ],
   "source": [
    "movie_rank=('닥터스트레인지','스플릿','럭키')\n",
    "print(movie_rank)"
   ]
  },
  {
   "cell_type": "markdown",
   "id": "d44e479d",
   "metadata": {},
   "source": [
    "# 073\n",
    "숫자 1 이 저장된 튜플을 생성하라."
   ]
  },
  {
   "cell_type": "code",
   "execution_count": 109,
   "id": "73c8b03e",
   "metadata": {},
   "outputs": [
    {
     "name": "stdout",
     "output_type": "stream",
     "text": [
      "(1,)\n"
     ]
    }
   ],
   "source": [
    "ans = (1,)\n",
    "print(ans)"
   ]
  },
  {
   "cell_type": "markdown",
   "id": "ff303b9a",
   "metadata": {},
   "source": [
    "# 074\n",
    "다음 코드를 실행해보고 오류가 발생하는 원인을 설명하라.\n",
    "\n",
    ">> t = (1, 2, 3)\n",
    "\n",
    ">> t[0] = 'a'\n",
    "\n",
    "Traceback (most recent call last):\n",
    "\n",
    "File \"<pyshell#46>\", line 1, in <module>\n",
    "\n",
    "    t[0] = 'a'\n",
    "\n",
    "    TypeError: 'tuple' object does not support item assignment"
   ]
  },
  {
   "cell_type": "code",
   "execution_count": 111,
   "id": "76cb4aa5",
   "metadata": {},
   "outputs": [
    {
     "ename": "TypeError",
     "evalue": "'tuple' object does not support item assignment",
     "output_type": "error",
     "traceback": [
      "\u001b[1;31m---------------------------------------------------------------------------\u001b[0m",
      "\u001b[1;31mTypeError\u001b[0m                                 Traceback (most recent call last)",
      "Input \u001b[1;32mIn [111]\u001b[0m, in \u001b[0;36m<cell line: 2>\u001b[1;34m()\u001b[0m\n\u001b[0;32m      1\u001b[0m t \u001b[38;5;241m=\u001b[39m (\u001b[38;5;241m1\u001b[39m, \u001b[38;5;241m2\u001b[39m, \u001b[38;5;241m3\u001b[39m)\n\u001b[1;32m----> 2\u001b[0m t[\u001b[38;5;241m0\u001b[39m] \u001b[38;5;241m=\u001b[39m \u001b[38;5;124m'\u001b[39m\u001b[38;5;124ma\u001b[39m\u001b[38;5;124m'\u001b[39m\n",
      "\u001b[1;31mTypeError\u001b[0m: 'tuple' object does not support item assignment"
     ]
    }
   ],
   "source": [
    "t = (1, 2, 3)\n",
    "t[0] = 'a'"
   ]
  },
  {
   "cell_type": "markdown",
   "id": "37438cfa",
   "metadata": {},
   "source": [
    "답 : 튜플은 원소 값 변경 불가"
   ]
  },
  {
   "cell_type": "markdown",
   "id": "7f6e786f",
   "metadata": {},
   "source": [
    "# 075\n",
    "아래와 같이 t에는 1, 2, 3, 4 데이터가 바인딩되어 있다. t가 바인딩하는 데이터 타입은 무엇인가?\n",
    "\n",
    "t = 1, 2, 3, 4\n"
   ]
  },
  {
   "cell_type": "markdown",
   "id": "ca9f608d",
   "metadata": {},
   "source": [
    "답 : tuple "
   ]
  },
  {
   "cell_type": "code",
   "execution_count": 112,
   "id": "339e3434",
   "metadata": {},
   "outputs": [
    {
     "data": {
      "text/plain": [
       "tuple"
      ]
     },
     "execution_count": 112,
     "metadata": {},
     "output_type": "execute_result"
    }
   ],
   "source": [
    "t = 1,2,3,4\n",
    "type(t)"
   ]
  },
  {
   "cell_type": "markdown",
   "id": "efac6454",
   "metadata": {},
   "source": [
    "# 076\n",
    "변수 t에는 아래와 같은 값이 저장되어 있다. 변수 t가 ('A', 'b', 'c') 튜플을 가리키도록 수정 하라.\n",
    "\n",
    "t = ('a', 'b', 'c')"
   ]
  },
  {
   "cell_type": "code",
   "execution_count": 113,
   "id": "f0bf2e39",
   "metadata": {},
   "outputs": [
    {
     "name": "stdout",
     "output_type": "stream",
     "text": [
      "('A', 'b', 'c')\n"
     ]
    }
   ],
   "source": [
    "t = ('a', 'b', 'c')\n",
    "t = ('A', 'b', 'c')\n",
    "print(t)"
   ]
  },
  {
   "cell_type": "markdown",
   "id": "9d72d8af",
   "metadata": {},
   "source": [
    "# 077\n",
    "다음 튜플을 리스트로 변환하라.\n",
    "\n",
    "interest = ('삼성전자', 'LG전자', 'SK Hynix')"
   ]
  },
  {
   "cell_type": "code",
   "execution_count": 115,
   "id": "18c983f9",
   "metadata": {},
   "outputs": [
    {
     "name": "stdout",
     "output_type": "stream",
     "text": [
      "['삼성전자', 'LG전자', 'SK Hynix']\n"
     ]
    }
   ],
   "source": [
    "interest = ('삼성전자', 'LG전자', 'SK Hynix')\n",
    "ans=list(interest)\n",
    "print(ans)"
   ]
  },
  {
   "cell_type": "markdown",
   "id": "752dcff9",
   "metadata": {},
   "source": [
    "# 078\n",
    "다음 리스트를 튜플로 변경하라.\n",
    "\n",
    "interest = ['삼성전자', 'LG전자', 'SK Hynix']"
   ]
  },
  {
   "cell_type": "code",
   "execution_count": 116,
   "id": "bbf0f15c",
   "metadata": {},
   "outputs": [
    {
     "name": "stdout",
     "output_type": "stream",
     "text": [
      "('삼성전자', 'LG전자', 'SK Hynix')\n"
     ]
    }
   ],
   "source": [
    "interest = ['삼성전자', 'LG전자', 'SK Hynix']\n",
    "ans = tuple(interest)\n",
    "print(ans)"
   ]
  },
  {
   "cell_type": "markdown",
   "id": "4b0d8c15",
   "metadata": {},
   "source": [
    "# 079\n",
    "다음 코드의 실행 결과를 예상하라.\n",
    "\n",
    "temp = ('apple', 'banana', 'cake')\n",
    "\n",
    "a, b, c = temp\n",
    "\n",
    "print(a, b, c)"
   ]
  },
  {
   "cell_type": "markdown",
   "id": "36db9405",
   "metadata": {},
   "source": [
    "답 : apple banana cake 출력"
   ]
  },
  {
   "cell_type": "code",
   "execution_count": 117,
   "id": "bc8a5804",
   "metadata": {},
   "outputs": [
    {
     "name": "stdout",
     "output_type": "stream",
     "text": [
      "apple banana cake\n"
     ]
    }
   ],
   "source": [
    "temp = ('apple', 'banana', 'cake')\n",
    "a, b, c = temp\n",
    "print(a, b, c)\n"
   ]
  },
  {
   "cell_type": "markdown",
   "id": "f706888d",
   "metadata": {},
   "source": [
    "# 080 range 함수\n",
    "1 부터 99까지의 정수 중 짝수만 저장된 튜플을 생성하라.\n",
    "\n",
    "(2, 4, 6, 8 ... 98)"
   ]
  },
  {
   "cell_type": "code",
   "execution_count": 120,
   "id": "3528c931",
   "metadata": {},
   "outputs": [
    {
     "name": "stdout",
     "output_type": "stream",
     "text": [
      "(2, 4, 6, 8, 10, 12, 14, 16, 18, 20, 22, 24, 26, 28, 30, 32, 34, 36, 38, 40, 42, 44, 46, 48, 50, 52, 54, 56, 58, 60, 62, 64, 66, 68, 70, 72, 74, 76, 78, 80, 82, 84, 86, 88, 90, 92, 94, 96, 98)\n"
     ]
    }
   ],
   "source": [
    "ans = tuple(range(2,100,2))\n",
    "print(ans)"
   ]
  },
  {
   "cell_type": "markdown",
   "id": "c6550fa1",
   "metadata": {},
   "source": [
    "# <06. 파이썬 딕셔너리>"
   ]
  },
  {
   "cell_type": "markdown",
   "id": "fd79b4a1",
   "metadata": {},
   "source": [
    "# 081 별 표현식\n",
    "기본적으로 데이터 언패킹은 좌변의 변수와 우변 데이터 개수가 같아야 합니다. 하지만 star expression을 사용하면 변수의 개수가 달라도 데이터 언패킹을 할 수 있습니다. 튜플에 저장된 데이터 중에서 앞에 있는 두 개의 데이터만 필요할 경우 나머지 데이터의 언패킹 코드를 작성할 필요가 없습니다.\n",
    "\n",
    "a, b, *c = (0, 1, 2, 3, 4, 5)\n",
    "\n",
    ">a\n",
    "\n",
    "0\n",
    "\n",
    ">b\n",
    "\n",
    "1\n",
    "\n",
    ">c\n",
    "\n",
    "[2, 3, 4, 5]\n",
    "\n",
    "다음과 같이 10개의 값이 저장된 scores 리스트가 있을 때, start expression을 사용하여 좌측 8개의 값을 valid_score 변수에 바인딩하여라.\n",
    "\n",
    "scores = [8.8, 8.9, 8.7, 9.2, 9.3, 9.7, 9.9, 9.5, 7.8, 9.4]"
   ]
  },
  {
   "cell_type": "code",
   "execution_count": 122,
   "id": "1651cd49",
   "metadata": {},
   "outputs": [
    {
     "name": "stdout",
     "output_type": "stream",
     "text": [
      "[8.8, 8.9, 8.7, 9.2, 9.3, 9.7, 9.9, 9.5]\n"
     ]
    }
   ],
   "source": [
    "scores = [8.8, 8.9, 8.7, 9.2, 9.3, 9.7, 9.9, 9.5, 7.8, 9.4]\n",
    "*valid_score, a, b= scores\n",
    "print(valid_score)"
   ]
  },
  {
   "cell_type": "markdown",
   "id": "e63ee1c0",
   "metadata": {},
   "source": [
    "# 082\n",
    "다음과 같이 10개의 값이 저장된 scores 리스트가 있을 때, start expression을 사용하여 우측 8개의 값을 valid_score 변수에 바인딩하여라.\n",
    "\n",
    "scores = [8.8, 8.9, 8.7, 9.2, 9.3, 9.7, 9.9, 9.5, 7.8, 9.4]"
   ]
  },
  {
   "cell_type": "code",
   "execution_count": 124,
   "id": "da6d0c86",
   "metadata": {},
   "outputs": [
    {
     "name": "stdout",
     "output_type": "stream",
     "text": [
      "[8.7, 9.2, 9.3, 9.7, 9.9, 9.5, 7.8, 9.4]\n"
     ]
    }
   ],
   "source": [
    "scores = [8.8, 8.9, 8.7, 9.2, 9.3, 9.7, 9.9, 9.5, 7.8, 9.4]\n",
    "a,b,*valid_score = scores\n",
    "print(valid_score)"
   ]
  },
  {
   "cell_type": "markdown",
   "id": "1eaf2e4c",
   "metadata": {},
   "source": [
    "# 083\n",
    "다음과 같이 10개의 값이 저장된 scores 리스트가 있을 때, start expression을 사용하여 가운데 있는 8개의 값을 valid_score 변수에 바인딩하여라.\n",
    "\n",
    "scores = [8.8, 8.9, 8.7, 9.2, 9.3, 9.7, 9.9, 9.5, 7.8, 9.4]"
   ]
  },
  {
   "cell_type": "code",
   "execution_count": 125,
   "id": "4687b27c",
   "metadata": {},
   "outputs": [
    {
     "name": "stdout",
     "output_type": "stream",
     "text": [
      "[8.9, 8.7, 9.2, 9.3, 9.7, 9.9, 9.5, 7.8]\n"
     ]
    }
   ],
   "source": [
    "scores = [8.8, 8.9, 8.7, 9.2, 9.3, 9.7, 9.9, 9.5, 7.8, 9.4]\n",
    "a,*valid_score,b=scores\n",
    "print(valid_score)"
   ]
  },
  {
   "cell_type": "markdown",
   "id": "6f72da76",
   "metadata": {},
   "source": [
    "# 084 비어있는 딕셔너리\n",
    "temp 이름의 비어있는 딕셔너리를 만들어라"
   ]
  },
  {
   "cell_type": "code",
   "execution_count": 126,
   "id": "888f912f",
   "metadata": {},
   "outputs": [
    {
     "name": "stdout",
     "output_type": "stream",
     "text": [
      "{} <class 'dict'>\n"
     ]
    }
   ],
   "source": [
    "temp = {}\n",
    "print(temp,type(temp))"
   ]
  },
  {
   "cell_type": "markdown",
   "id": "33bd0599",
   "metadata": {},
   "source": [
    "# 085\n",
    "다음 아이스크림 이름과 희망 가격을 딕셔너리로 구성하라."
   ]
  },
  {
   "cell_type": "code",
   "execution_count": 127,
   "id": "86c13770",
   "metadata": {},
   "outputs": [
    {
     "name": "stdout",
     "output_type": "stream",
     "text": [
      "{'메로나': 1000, '폴라포': 1200, '빵빠레': 1800}\n"
     ]
    }
   ],
   "source": [
    "ans = {'메로나':1000, '폴라포':1200, '빵빠레':1800}\n",
    "print(ans)"
   ]
  },
  {
   "cell_type": "markdown",
   "id": "8d9b0c5f",
   "metadata": {},
   "source": [
    "# 086\n",
    "085 번의 딕셔너리에 아래 아이스크림 가격정보를 추가하라."
   ]
  },
  {
   "cell_type": "code",
   "execution_count": 128,
   "id": "a8ec26c4",
   "metadata": {},
   "outputs": [
    {
     "name": "stdout",
     "output_type": "stream",
     "text": [
      "{'메로나': 1000, '폴라포': 1200, '빵빠레': 1800, '죠스바': 1200, '월드콘': 1500}\n"
     ]
    }
   ],
   "source": [
    "ans[\"죠스바\"]=1200\n",
    "ans[\"월드콘\"]=1500\n",
    "print(ans)"
   ]
  },
  {
   "cell_type": "markdown",
   "id": "c400d9cf",
   "metadata": {},
   "source": [
    "# 087\n",
    "다음 딕셔너리를 사용하여 메로나 가격을 출력하라."
   ]
  },
  {
   "cell_type": "code",
   "execution_count": 129,
   "id": "d83605e9",
   "metadata": {},
   "outputs": [
    {
     "name": "stdout",
     "output_type": "stream",
     "text": [
      "메로나 가격: 1000\n"
     ]
    }
   ],
   "source": [
    "print(f'메로나 가격: {ans[\"메로나\"]}')"
   ]
  },
  {
   "cell_type": "markdown",
   "id": "a139d9b6",
   "metadata": {},
   "source": [
    "# 088\n",
    "다음 딕셔너리에서 메로나의 가격을 1300으로 수정하라."
   ]
  },
  {
   "cell_type": "code",
   "execution_count": 130,
   "id": "88b56075",
   "metadata": {},
   "outputs": [
    {
     "name": "stdout",
     "output_type": "stream",
     "text": [
      "{'메로나': 1300, '폴라포': 1200, '빵빠레': 1800, '죠스바': 1200, '월드콘': 1500}\n"
     ]
    }
   ],
   "source": [
    "ans['메로나']=1300\n",
    "print(ans)"
   ]
  },
  {
   "cell_type": "markdown",
   "id": "ee77b169",
   "metadata": {},
   "source": [
    "# 089\n",
    "다음 딕셔너리에서 메로나를 삭제하라."
   ]
  },
  {
   "cell_type": "code",
   "execution_count": 131,
   "id": "ae0e7190",
   "metadata": {},
   "outputs": [],
   "source": [
    "ans = {'메로나': 1000, '폴라포': 1200, '빵빠레': 1800, '죠스바': 1200, '월드콘': 1500}"
   ]
  },
  {
   "cell_type": "code",
   "execution_count": 133,
   "id": "82799c09",
   "metadata": {},
   "outputs": [
    {
     "name": "stdout",
     "output_type": "stream",
     "text": [
      "{'폴라포': 1200, '빵빠레': 1800, '죠스바': 1200, '월드콘': 1500}\n"
     ]
    }
   ],
   "source": [
    "del ans[\"메로나\"]\n",
    "print(ans)"
   ]
  },
  {
   "cell_type": "markdown",
   "id": "01098001",
   "metadata": {},
   "source": [
    "# 090\n",
    "다음 코드에서 에러가 발생한 원인을 설명하라.\n",
    "\n",
    ">> icecream = {'폴라포': 1200, '빵빠레': 1800, '월드콘': 1500, '메로나': 1000}\n",
    "\n",
    ">> icecream['누가바']\n",
    "\n",
    "Traceback (most recent call last):\n",
    "\n",
    "File \"<pyshell#69>\", line 1, in <module>\n",
    "\n",
    "    icecream['누가바']\n",
    "\n",
    "KeyError: '누가바'"
   ]
  },
  {
   "cell_type": "markdown",
   "id": "6a65d7c8",
   "metadata": {},
   "source": [
    "답 : icecream 딕셔너리에 누가바 라는 키가 없음"
   ]
  },
  {
   "cell_type": "markdown",
   "id": "f90d0ed3",
   "metadata": {},
   "source": [
    "# 091 딕셔너리 생성\n",
    "아래의 표에서, 아이스크림 이름을 키값으로, (가격, 재고) 리스트를 딕셔너리의 값으로 저장하라. 딕셔너리의 이름은 inventory로 한다."
   ]
  },
  {
   "cell_type": "code",
   "execution_count": 134,
   "id": "8a012422",
   "metadata": {},
   "outputs": [
    {
     "name": "stdout",
     "output_type": "stream",
     "text": [
      "{'메로나': [300, 20], '비비빅': [400, 3], '죠스바': [250, 100]}\n"
     ]
    }
   ],
   "source": [
    "inventory={'메로나':[300,20],'비비빅':[400,3],'죠스바':[250,100]}\n",
    "print(inventory)"
   ]
  },
  {
   "cell_type": "markdown",
   "id": "6d84d41c",
   "metadata": {},
   "source": [
    "# 092 딕셔너리 인덱싱\n",
    "inventory 딕셔너리에서 메로나의 가격을 화면에 출력하라.\n",
    "\n",
    "inventory = {\"메로나\": [300, 20],\n",
    "              \"비비빅\": [400, 3],\n",
    "              \"죠스바\": [250, 100]}"
   ]
  },
  {
   "cell_type": "code",
   "execution_count": 135,
   "id": "3cf7b6e8",
   "metadata": {
    "scrolled": true
   },
   "outputs": [
    {
     "name": "stdout",
     "output_type": "stream",
     "text": [
      "300 원\n"
     ]
    }
   ],
   "source": [
    "print(f'{inventory[\"메로나\"][0]} 원')"
   ]
  },
  {
   "cell_type": "markdown",
   "id": "c257b368",
   "metadata": {},
   "source": [
    "# 093 딕셔너리 인덱싱\n",
    "inventory 딕셔너리에서 메로나의 재고를 화면에 출력하라."
   ]
  },
  {
   "cell_type": "code",
   "execution_count": 136,
   "id": "30b3b3cf",
   "metadata": {
    "scrolled": true
   },
   "outputs": [
    {
     "name": "stdout",
     "output_type": "stream",
     "text": [
      "20 개\n"
     ]
    }
   ],
   "source": [
    "print(f'{inventory[\"메로나\"][1]} 개')"
   ]
  },
  {
   "cell_type": "markdown",
   "id": "782ff4b9",
   "metadata": {},
   "source": [
    "# 094 딕셔너리 추가\n",
    "inventory 딕셔너리에 아래 데이터를 추가하라."
   ]
  },
  {
   "cell_type": "code",
   "execution_count": 1,
   "id": "6721ff62",
   "metadata": {},
   "outputs": [],
   "source": [
    "inventory = {\"메로나\": [300, 20],\"비비빅\": [400, 3],\"죠스바\": [250, 100]}"
   ]
  },
  {
   "cell_type": "code",
   "execution_count": 2,
   "id": "52952907",
   "metadata": {},
   "outputs": [
    {
     "name": "stdout",
     "output_type": "stream",
     "text": [
      "{'메로나': [300, 20], '비비빅': [400, 3], '죠스바': [250, 100], '월드콘': [500, 7]}\n"
     ]
    }
   ],
   "source": [
    "inventory[\"월드콘\"]=[500,7]\n",
    "print(inventory)"
   ]
  },
  {
   "cell_type": "markdown",
   "id": "df517642",
   "metadata": {},
   "source": [
    "# 095 딕셔너리 keys() 메서드\n",
    "다음의 딕셔너리로부터 key 값으로만 구성된 리스트를 생성하라.\n",
    "\n",
    "icecream = {'탱크보이': 1200, '폴라포': 1200, '빵빠레': 1800, '월드콘': 1500, '메로나': 1000}"
   ]
  },
  {
   "cell_type": "code",
   "execution_count": 3,
   "id": "2b4d89e7",
   "metadata": {},
   "outputs": [
    {
     "name": "stdout",
     "output_type": "stream",
     "text": [
      "['탱크보이', '폴라포', '빵빠레', '월드콘', '메로나']\n"
     ]
    }
   ],
   "source": [
    "icecream = {'탱크보이': 1200, '폴라포': 1200, \n",
    "            '빵빠레': 1800, '월드콘': 1500, '메로나': 1000}\n",
    "ans = list(icecream.keys())\n",
    "print(ans)"
   ]
  },
  {
   "cell_type": "markdown",
   "id": "ff438dc8",
   "metadata": {},
   "source": [
    "# 096 딕셔너리 values() 메서드"
   ]
  },
  {
   "cell_type": "markdown",
   "id": "e7a336b8",
   "metadata": {},
   "source": [
    "다음의 딕셔너리에서 values 값으로만 구성된 리스트를 생성하라.\n",
    "\n",
    "icecream = {'탱크보이': 1200, '폴라포': 1200, '빵빠레': 1800, '월드콘': 1500, '메로나': 1000}"
   ]
  },
  {
   "cell_type": "code",
   "execution_count": 4,
   "id": "a869809f",
   "metadata": {},
   "outputs": [
    {
     "name": "stdout",
     "output_type": "stream",
     "text": [
      "[1200, 1200, 1800, 1500, 1000]\n"
     ]
    }
   ],
   "source": [
    "icecream = {'탱크보이': 1200, '폴라포': 1200, '빵빠레': 1800, \n",
    "            '월드콘': 1500, '메로나': 1000}\n",
    "ans = list(icecream.values())\n",
    "print(ans)"
   ]
  },
  {
   "cell_type": "markdown",
   "id": "294e2094",
   "metadata": {},
   "source": [
    "# 097 딕셔너리 values() 메서드"
   ]
  },
  {
   "cell_type": "code",
   "execution_count": 5,
   "id": "df23e308",
   "metadata": {},
   "outputs": [
    {
     "name": "stdout",
     "output_type": "stream",
     "text": [
      "6700\n"
     ]
    }
   ],
   "source": [
    "icecream = {'탱크보이': 1200, '폴라포': 1200, '빵빠레': 1800, \n",
    "            '월드콘': 1500, '메로나': 1000}\n",
    "ans = list(icecream.values())\n",
    "print(sum(ans))"
   ]
  },
  {
   "cell_type": "markdown",
   "id": "e501bb51",
   "metadata": {},
   "source": [
    "# 098 딕셔너리 update 메서드"
   ]
  },
  {
   "cell_type": "markdown",
   "id": "823292d5",
   "metadata": {},
   "source": [
    "아래의 new_product 딕셔너리를 다음 icecream 딕셔너리에 추가하라.\n",
    "\n",
    "icecream = {'탱크보이': 1200, '폴라포': 1200, '빵빠레': 1800, '월드콘': 1500, '메로나': 1000}\n",
    "new_product = {'팥빙수':2700, '아맛나':1000}"
   ]
  },
  {
   "cell_type": "code",
   "execution_count": 10,
   "id": "a8efac95",
   "metadata": {},
   "outputs": [
    {
     "name": "stdout",
     "output_type": "stream",
     "text": [
      "{'탱크보이': 1200, '폴라포': 1200, '빵빠레': 1800, '월드콘': 1500, '메로나': 1000, '팥빙수': 2700, '아맛나': 1000}\n"
     ]
    }
   ],
   "source": [
    "icecream = {'탱크보이': 1200, '폴라포': 1200, '빵빠레': 1800, \n",
    "            '월드콘': 1500, '메로나': 1000}\n",
    "new_product = {'팥빙수':2700, '아맛나':1000}\n",
    "icecream.update(new_product)\n",
    "print(icecream)"
   ]
  },
  {
   "cell_type": "markdown",
   "id": "5afad9bd",
   "metadata": {},
   "source": [
    "# 099 zip과 dict"
   ]
  },
  {
   "cell_type": "markdown",
   "id": "eaf036d5",
   "metadata": {},
   "source": [
    "아래 두 개의 튜플을 하나의 딕셔너리로 변환하라. keys를 키로, vals를 값으로 result 이름의 딕셔너리로 저장한다.\n",
    "\n",
    "keys = (\"apple\", \"pear\", \"peach\")\n",
    "vals = (300, 250, 400)"
   ]
  },
  {
   "cell_type": "code",
   "execution_count": 12,
   "id": "5adb04c5",
   "metadata": {},
   "outputs": [
    {
     "name": "stdout",
     "output_type": "stream",
     "text": [
      "{'apple': 300, 'pear': 250, 'peach': 400}\n"
     ]
    }
   ],
   "source": [
    "keys = (\"apple\", \"pear\", \"peach\")\n",
    "vals = (300, 250, 400)\n",
    "result = dict(zip(keys,vals))\n",
    "print(result)"
   ]
  },
  {
   "cell_type": "markdown",
   "id": "cbdd24a4",
   "metadata": {},
   "source": [
    "# 100 zip과 dict"
   ]
  },
  {
   "cell_type": "markdown",
   "id": "3b07fcb2",
   "metadata": {},
   "source": [
    "date와 close_price 두 개의 리스트를 close_table 이름의 딕셔너리로 생성하라.\n",
    "\n",
    "date = ['09/05', '09/06', '09/07', '09/08', '09/09']\n",
    "close_price = [10500, 10300, 10100, 10800, 11000]"
   ]
  },
  {
   "cell_type": "code",
   "execution_count": 14,
   "id": "d809b238",
   "metadata": {},
   "outputs": [
    {
     "name": "stdout",
     "output_type": "stream",
     "text": [
      "{'09/05': 10500, '09/06': 10300, '09/07': 10100, '09/08': 10800, '09/09': 11000}\n"
     ]
    }
   ],
   "source": [
    "date = ['09/05', '09/06', '09/07', '09/08', '09/09']\n",
    "close_price = [10500, 10300, 10100, 10800, 11000]\n",
    "close_table = dict(zip(date,close_price))\n",
    "print(close_table)"
   ]
  },
  {
   "cell_type": "markdown",
   "id": "23a45b4b",
   "metadata": {},
   "source": [
    "# <07. 파이썬 분기문>"
   ]
  },
  {
   "cell_type": "markdown",
   "id": "7bec3165",
   "metadata": {},
   "source": [
    "# 101\n",
    "파이썬에서 True 혹은 False를 갖는 데이터 타입은 무엇인가?"
   ]
  },
  {
   "cell_type": "markdown",
   "id": "594e3dfe",
   "metadata": {},
   "source": [
    "답 : bool"
   ]
  },
  {
   "cell_type": "markdown",
   "id": "11a5e91c",
   "metadata": {},
   "source": [
    "# 102\n",
    "아래 코드의 출력 결과를 예상하라\n",
    "\n",
    "print(3 == 5)"
   ]
  },
  {
   "cell_type": "markdown",
   "id": "a7cad189",
   "metadata": {},
   "source": [
    "답 : False"
   ]
  },
  {
   "cell_type": "code",
   "execution_count": 15,
   "id": "e79f90c9",
   "metadata": {},
   "outputs": [
    {
     "name": "stdout",
     "output_type": "stream",
     "text": [
      "False\n"
     ]
    }
   ],
   "source": [
    "print(3 == 5)"
   ]
  },
  {
   "cell_type": "markdown",
   "id": "79fc9347",
   "metadata": {},
   "source": [
    "# 103\n",
    "아래 코드의 출력 결과를 예상하라\n",
    "\n",
    "print(3 < 5)"
   ]
  },
  {
   "cell_type": "markdown",
   "id": "5d653ffe",
   "metadata": {},
   "source": [
    "답 : True"
   ]
  },
  {
   "cell_type": "code",
   "execution_count": 16,
   "id": "062c925b",
   "metadata": {},
   "outputs": [
    {
     "name": "stdout",
     "output_type": "stream",
     "text": [
      "True\n"
     ]
    }
   ],
   "source": [
    "print(3<5)"
   ]
  },
  {
   "cell_type": "markdown",
   "id": "cbafdd60",
   "metadata": {},
   "source": [
    "# 104\n",
    "아래 코드의 결과를 예상하라.\n",
    "\n",
    "x = 4\n",
    "\n",
    "print(1 < x < 5)"
   ]
  },
  {
   "cell_type": "markdown",
   "id": "8ffa54d1",
   "metadata": {},
   "source": [
    "답 : True"
   ]
  },
  {
   "cell_type": "code",
   "execution_count": 17,
   "id": "06d5429a",
   "metadata": {},
   "outputs": [
    {
     "name": "stdout",
     "output_type": "stream",
     "text": [
      "True\n"
     ]
    }
   ],
   "source": [
    "x = 4\n",
    "print(1 < x < 5)"
   ]
  },
  {
   "cell_type": "markdown",
   "id": "483c0000",
   "metadata": {},
   "source": [
    "# 105\n",
    "아래 코드의 결과를 예상하라.\n",
    "\n",
    "print ((3 == 3) and (4 != 3))"
   ]
  },
  {
   "cell_type": "markdown",
   "id": "dd758467",
   "metadata": {},
   "source": [
    "답 : True"
   ]
  },
  {
   "cell_type": "code",
   "execution_count": 18,
   "id": "e119fb4c",
   "metadata": {},
   "outputs": [
    {
     "name": "stdout",
     "output_type": "stream",
     "text": [
      "True\n"
     ]
    }
   ],
   "source": [
    "print ((3 == 3) and (4 != 3))"
   ]
  },
  {
   "cell_type": "markdown",
   "id": "b922f389",
   "metadata": {},
   "source": [
    "# 106\n",
    "아래 코드에서 에러가 발생하는 원인에 대해 설명하라.\n",
    "\n",
    "print(3 => 4)"
   ]
  },
  {
   "cell_type": "markdown",
   "id": "6ecb6deb",
   "metadata": {},
   "source": [
    "답 : => 이 아니라 >=이라 입력하면 False 출력"
   ]
  },
  {
   "cell_type": "code",
   "execution_count": 20,
   "id": "453da79b",
   "metadata": {},
   "outputs": [
    {
     "name": "stdout",
     "output_type": "stream",
     "text": [
      "False\n"
     ]
    }
   ],
   "source": [
    "print(3 >= 4)"
   ]
  },
  {
   "cell_type": "markdown",
   "id": "a0f6ede5",
   "metadata": {},
   "source": [
    "# 107\n",
    "아래 코드의 출력 결과를 예상하라\n",
    "\n",
    "if 4 < 3:\n",
    "    \n",
    "    print(\"Hello World\")"
   ]
  },
  {
   "cell_type": "markdown",
   "id": "613dc0bd",
   "metadata": {},
   "source": [
    "답 : 아무것도 출력 안함"
   ]
  },
  {
   "cell_type": "code",
   "execution_count": 19,
   "id": "281743e0",
   "metadata": {},
   "outputs": [],
   "source": [
    "if 4 < 3:\n",
    "    print(\"Hello World\")"
   ]
  },
  {
   "cell_type": "markdown",
   "id": "732b1329",
   "metadata": {},
   "source": [
    "# 108\n",
    "아래 코드의 출력 결과를 예상하라\n",
    "\n",
    "if 4 < 3:\n",
    "\n",
    "    print(\"Hello World.\")\n",
    "\n",
    "else:\n",
    "\n",
    "    print(\"Hi, there.\")"
   ]
  },
  {
   "cell_type": "markdown",
   "id": "5bc4682a",
   "metadata": {},
   "source": [
    "답 : Hi, there. 출력"
   ]
  },
  {
   "cell_type": "code",
   "execution_count": 21,
   "id": "9c66509f",
   "metadata": {},
   "outputs": [
    {
     "name": "stdout",
     "output_type": "stream",
     "text": [
      "Hi, there.\n"
     ]
    }
   ],
   "source": [
    "if 4 < 3:\n",
    "    print(\"Hello World.\")\n",
    "else:\n",
    "    print(\"Hi, there.\")"
   ]
  },
  {
   "cell_type": "markdown",
   "id": "5846c62d",
   "metadata": {},
   "source": [
    "# 109\n",
    "아래 코드의 출력 결과를 예상하라\n",
    "\n",
    "if True :\n",
    "    \n",
    "    print (\"1\")\n",
    "    \n",
    "    print (\"2\")\n",
    "\n",
    "else :\n",
    "    \n",
    "    print(\"3\")\n",
    "\n",
    "print(\"4\")"
   ]
  },
  {
   "cell_type": "markdown",
   "id": "a5b9e9ee",
   "metadata": {},
   "source": [
    "답 :"
   ]
  },
  {
   "cell_type": "markdown",
   "id": "4f60ab25",
   "metadata": {},
   "source": [
    "1\n",
    "\n",
    "2\n",
    "\n",
    "4"
   ]
  },
  {
   "cell_type": "markdown",
   "id": "8d739b33",
   "metadata": {},
   "source": [
    "출력"
   ]
  },
  {
   "cell_type": "code",
   "execution_count": 22,
   "id": "782b0109",
   "metadata": {},
   "outputs": [
    {
     "name": "stdout",
     "output_type": "stream",
     "text": [
      "1\n",
      "2\n",
      "4\n"
     ]
    }
   ],
   "source": [
    "if True :\n",
    "    print (\"1\")\n",
    "    print (\"2\")\n",
    "else :\n",
    "    print(\"3\")\n",
    "print(\"4\")"
   ]
  },
  {
   "cell_type": "markdown",
   "id": "22ab5c70",
   "metadata": {},
   "source": [
    "# 110\n",
    "아래 코드의 출력 결과를 예상하라\n",
    "\n",
    "if True :\n",
    "    \n",
    "    if False:\n",
    "        \n",
    "        print(\"1\")\n",
    "        \n",
    "        print(\"2\")\n",
    "    \n",
    "    else:\n",
    "        \n",
    "        print(\"3\")\n",
    "\n",
    "else :\n",
    "    \n",
    "    print(\"4\")\n",
    "\n",
    "print(\"5\")"
   ]
  },
  {
   "cell_type": "markdown",
   "id": "ab5e3fbc",
   "metadata": {},
   "source": [
    "답 :"
   ]
  },
  {
   "cell_type": "markdown",
   "id": "6ddbbba0",
   "metadata": {},
   "source": [
    "3\n",
    "\n",
    "5"
   ]
  },
  {
   "cell_type": "markdown",
   "id": "fbeadae3",
   "metadata": {},
   "source": [
    "출력"
   ]
  },
  {
   "cell_type": "code",
   "execution_count": 23,
   "id": "43b91c18",
   "metadata": {},
   "outputs": [
    {
     "name": "stdout",
     "output_type": "stream",
     "text": [
      "3\n",
      "5\n"
     ]
    }
   ],
   "source": [
    "if True :\n",
    "    if False:\n",
    "        print(\"1\")\n",
    "        print(\"2\")\n",
    "    else:\n",
    "        print(\"3\")\n",
    "else :\n",
    "    print(\"4\")\n",
    "print(\"5\")"
   ]
  },
  {
   "cell_type": "markdown",
   "id": "17bd2028",
   "metadata": {},
   "source": [
    "# 111\n",
    "사용자로부터 입력받은 문자열을 두 번 출력하라. 아래는 사용자가 \"안녕하세요\"를 입력한 경우의 출력 결과이다."
   ]
  },
  {
   "cell_type": "code",
   "execution_count": 24,
   "id": "da38c71d",
   "metadata": {},
   "outputs": [
    {
     "name": "stdout",
     "output_type": "stream",
     "text": [
      "안녕하세요\n",
      "안녕하세요안녕하세요\n"
     ]
    }
   ],
   "source": [
    "a=input()\n",
    "print(a*2)"
   ]
  },
  {
   "cell_type": "markdown",
   "id": "724888fd",
   "metadata": {},
   "source": [
    "# 112\n",
    "사용자로부터 하나의 숫자를 입력받고, 입력 받은 숫자에 10을 더해 출력하라."
   ]
  },
  {
   "cell_type": "code",
   "execution_count": 28,
   "id": "10d6a09c",
   "metadata": {},
   "outputs": [
    {
     "name": "stdout",
     "output_type": "stream",
     "text": [
      "숫자를 입력하세요 : 30\n",
      "40\n"
     ]
    }
   ],
   "source": [
    "a=int(input(\"숫자를 입력하세요 : \"))\n",
    "print(a+10)"
   ]
  },
  {
   "cell_type": "markdown",
   "id": "58060907",
   "metadata": {},
   "source": [
    "# 113\n",
    "사용자로부터 하나의 숫자를 입력 받고 짝수/홀수를 판별하라."
   ]
  },
  {
   "cell_type": "code",
   "execution_count": 33,
   "id": "b89630d1",
   "metadata": {},
   "outputs": [
    {
     "name": "stdout",
     "output_type": "stream",
     "text": [
      "30\n",
      "짝수\n"
     ]
    }
   ],
   "source": [
    "a = int(input())\n",
    "if a%2==0:\n",
    "    print(\"짝수\")\n",
    "else :\n",
    "    print(\"홀수\")"
   ]
  },
  {
   "cell_type": "markdown",
   "id": "4dc14e5f",
   "metadata": {},
   "source": [
    "# 114\n",
    "사용자로부터 값을 입력받은 후 해당 값에 20을 더한 값을 출력하라. 단 사용자가 입력한 값과 20을 더한 계산 값이 255를 초과하는 경우 255를 출력해야 한다."
   ]
  },
  {
   "cell_type": "code",
   "execution_count": 38,
   "id": "b233dfca",
   "metadata": {},
   "outputs": [
    {
     "name": "stdout",
     "output_type": "stream",
     "text": [
      "입력값 : 240\n",
      "출력값 : 255\n"
     ]
    }
   ],
   "source": [
    "a = int(input(\"입력값 : \"))\n",
    "a+=20\n",
    "if a>255:\n",
    "    print('출력값 : 255')\n",
    "else:\n",
    "    print(f'출력값 : {a}')"
   ]
  },
  {
   "cell_type": "markdown",
   "id": "1e066053",
   "metadata": {},
   "source": [
    "# 115\n",
    "사용자로부터 하나의 값을 입력받은 후 해당 값에 20을 뺀 값을 출력하라. 단 출력 값의 범위는 0~255이다. 예를 들어 결괏값이 0보다 작은 값이되는 경우 0을 출력하고 255보다 큰 값이 되는 경우 255를 출력해야 한다."
   ]
  },
  {
   "cell_type": "code",
   "execution_count": 40,
   "id": "193111aa",
   "metadata": {},
   "outputs": [
    {
     "name": "stdout",
     "output_type": "stream",
     "text": [
      "15\n",
      "출력값 : 0\n"
     ]
    }
   ],
   "source": [
    "a = int(input())\n",
    "a-=20\n",
    "if a>255:\n",
    "    print('출력값 : 255')\n",
    "elif a<0:\n",
    "    print('출력값 : 0')\n",
    "else:\n",
    "    print(f'출력값 : {a}')"
   ]
  },
  {
   "cell_type": "markdown",
   "id": "8e0d96ae",
   "metadata": {},
   "source": [
    "# 116\n",
    "사용자로부터 입력 받은 시간이 정각인지 판별하라."
   ]
  },
  {
   "cell_type": "code",
   "execution_count": 44,
   "id": "be55f3e7",
   "metadata": {},
   "outputs": [
    {
     "name": "stdout",
     "output_type": "stream",
     "text": [
      "현재시간:03:10\n",
      "정각이 아닙니다\n"
     ]
    }
   ],
   "source": [
    "a=input(\"현재시간:\")\n",
    "ans=a[-2:]\n",
    "if ans =='00':\n",
    "    print(\"정각 입니다\")\n",
    "else:\n",
    "    print(\"정각이 아닙니다\")"
   ]
  },
  {
   "cell_type": "markdown",
   "id": "6fb5cc6a",
   "metadata": {},
   "source": [
    "# 117\n",
    "사용자로 입력받은 단어가 아래 fruit 리스트에 포함되어 있는지를 확인하라. 포함되었다면 \"정답입니다\"를 아닐 경우 \"오답입니다\" 출력하라.\n",
    "\n",
    "fruit = [\"사과\", \"포도\", \"홍시\"]"
   ]
  },
  {
   "cell_type": "code",
   "execution_count": 47,
   "id": "ab770d4d",
   "metadata": {},
   "outputs": [
    {
     "name": "stdout",
     "output_type": "stream",
     "text": [
      "좋아하는 과일은? 사과\n",
      "정답입니다.\n"
     ]
    }
   ],
   "source": [
    "fruit = [\"사과\", \"포도\", \"홍시\"]\n",
    "a=input(\"좋아하는 과일은? \")\n",
    "if a in fruit:\n",
    "    print(\"정답입니다.\")\n",
    "else:\n",
    "    print(\"오답입니다\")"
   ]
  },
  {
   "cell_type": "markdown",
   "id": "648c76f8",
   "metadata": {},
   "source": [
    "# 118\n",
    "투자 경고 종목 리스트가 있을 때 사용자로부터 종목명을 입력 받은 후 해당 종목이 투자 경고 종목이라면 '투자 경고 종목입니다'를 아니면 \"투자 경고 종목이 아닙니다.\"를 출력하는 프로그램을 작성하라.\n",
    "\n",
    "warn_investment_list = [\"Microsoft\", \"Google\", \"Naver\", \"Kakao\", \"SAMSUNG\", \"LG\"]"
   ]
  },
  {
   "cell_type": "code",
   "execution_count": 49,
   "id": "805b0bf7",
   "metadata": {},
   "outputs": [
    {
     "name": "stdout",
     "output_type": "stream",
     "text": [
      "투자 종목 입력 : Microsoft\n",
      "투자 경고 종목입니다\n"
     ]
    }
   ],
   "source": [
    "warn_investment_list = [\"Microsoft\", \"Google\", \"Naver\", \"Kakao\", \"SAMSUNG\", \"LG\"]\n",
    "a=input(\"투자 종목 입력 : \")\n",
    "if a in warn_investment_list:\n",
    "    print(\"투자 경고 종목입니다\")\n",
    "else:\n",
    "    print(\"투자 경고 종목이 아닙니다\")"
   ]
  },
  {
   "cell_type": "markdown",
   "id": "299f0cef",
   "metadata": {},
   "source": [
    "# 119\n",
    "아래와 같이 fruit 딕셔너리가 정의되어 있다. 사용자가 입력한 값이 딕셔너리 키 (key) 값에 포함되었다면 \"정답입니다\"를 아닐 경우 \"오답입니다\" 출력하라.\n",
    "\n",
    "fruit = {\"봄\" : \"딸기\", \"여름\" : \"토마토\", \"가을\" : \"사과\"}"
   ]
  },
  {
   "cell_type": "code",
   "execution_count": 50,
   "id": "460cbc39",
   "metadata": {},
   "outputs": [
    {
     "name": "stdout",
     "output_type": "stream",
     "text": [
      "제가좋아하는계절은 : 봄\n",
      "정답입니다.\n"
     ]
    }
   ],
   "source": [
    "fruit = {\"봄\" : \"딸기\", \"여름\" : \"토마토\", \"가을\" : \"사과\"}\n",
    "a=input(\"제가좋아하는계절은 : \")\n",
    "if a in fruit:\n",
    "    print(\"정답입니다.\")\n",
    "else:\n",
    "    print(\"오답입니다.\")"
   ]
  },
  {
   "cell_type": "markdown",
   "id": "1b46566f",
   "metadata": {},
   "source": [
    "# 120\n",
    "아래와 같이 fruit 딕셔너리가 정의되어 있다. 사용자가 입력한 값이 딕셔너리 값 (value)에 포함되었다면 \"정답입니다\"를 아닐 경우 \"오답입니다\" 출력하라.\n",
    "\n",
    "fruit = {\"봄\" : \"딸기\", \"여름\" : \"토마토\", \"가을\" : \"사과\"}"
   ]
  },
  {
   "cell_type": "code",
   "execution_count": 53,
   "id": "138e328c",
   "metadata": {},
   "outputs": [
    {
     "name": "stdout",
     "output_type": "stream",
     "text": [
      "좋아하는과일은? 한라봉\n",
      "오답입니다.\n"
     ]
    }
   ],
   "source": [
    "fruit = {\"봄\" : \"딸기\", \"여름\" : \"토마토\", \"가을\" : \"사과\"}\n",
    "a=input(\"좋아하는과일은? \")\n",
    "if a in fruit.values():\n",
    "    print(\"정답입니다.\")\n",
    "else:\n",
    "    print(\"오답입니다.\")"
   ]
  },
  {
   "cell_type": "markdown",
   "id": "f4f938c9",
   "metadata": {},
   "source": [
    "# 121\n",
    "사용자로부터 문자 한 개를 입력 받고, 소문자일 경우 대문자로, 대문자 일 경우, 소문자로 변경해서 출력하라."
   ]
  },
  {
   "cell_type": "code",
   "execution_count": 54,
   "id": "916949d0",
   "metadata": {},
   "outputs": [
    {
     "name": "stdout",
     "output_type": "stream",
     "text": [
      "a\n",
      "A\n"
     ]
    }
   ],
   "source": [
    "a=input()\n",
    "if a.islower():\n",
    "    print(a.upper())\n",
    "else:\n",
    "    print(a.lower())"
   ]
  },
  {
   "cell_type": "markdown",
   "id": "cb8af695",
   "metadata": {},
   "source": [
    "# 122\n",
    "점수 구간에 해당하는 학점이 아래와 같이 정의되어 있다. 사용자로부터 score를 입력받아 학점을 출력하라."
   ]
  },
  {
   "cell_type": "code",
   "execution_count": 55,
   "id": "74030af1",
   "metadata": {},
   "outputs": [
    {
     "name": "stdout",
     "output_type": "stream",
     "text": [
      "score: 83\n",
      "grade is A\n"
     ]
    }
   ],
   "source": [
    "score = int(input(\"score: \"))\n",
    "if score>80:\n",
    "    print(\"grade is A\")\n",
    "elif score>60:\n",
    "    print(\"grade is B\")\n",
    "elif score>40:\n",
    "    print(\"grade is C\")\n",
    "elif score>20:\n",
    "    print(\"grade is D\")\n",
    "else:\n",
    "    print(\"grade is E\")"
   ]
  },
  {
   "cell_type": "markdown",
   "id": "4fec2fe1",
   "metadata": {},
   "source": [
    "# 123\n",
    "사용자로부터 달러, 엔, 유로, 또는 위안 금액을 입력받은 후 이를 원으로 변환하는 프로그램을 작성하라. 각 통화별 환율은 다음과 같다. 사용자는 100 달러, 1000 엔, 13 유로, 100 위안과 같이 금액과 통화명 사이에 공백을 넣어 입력한다고 가정한다."
   ]
  },
  {
   "cell_type": "code",
   "execution_count": 62,
   "id": "8700a72f",
   "metadata": {},
   "outputs": [
    {
     "name": "stdout",
     "output_type": "stream",
     "text": [
      "입력 : 100 달러\n",
      "116700.0 원\n"
     ]
    }
   ],
   "source": [
    "dic = {\"달러\": 1167, \"엔\": 1.096, \"유로\": 1268, \"위안\": 171}\n",
    "a,b = input(\"입력 : \").split()\n",
    "a=int(a)\n",
    "ans = float(a*dic[b])\n",
    "print(ans,'원')"
   ]
  },
  {
   "cell_type": "markdown",
   "id": "a190e0cb",
   "metadata": {},
   "source": [
    "# 124\n",
    "사용자로부터 세 개의 숫자를 입력 받은 후 가장 큰 숫자를 출력하라."
   ]
  },
  {
   "cell_type": "code",
   "execution_count": 63,
   "id": "d22936d7",
   "metadata": {},
   "outputs": [
    {
     "name": "stdout",
     "output_type": "stream",
     "text": [
      "input number1: 10\n",
      "input number2: 9\n",
      "input number3: 20\n",
      "20\n"
     ]
    }
   ],
   "source": [
    "ans=[]\n",
    "for i in range(3):\n",
    "    k=int(input(f'input number{i+1}: '))\n",
    "    ans.append(k)\n",
    "print(max(ans))"
   ]
  },
  {
   "cell_type": "markdown",
   "id": "d42db1f6",
   "metadata": {},
   "source": [
    "# 125\n",
    "휴대폰 번호 앞자리에 따라 통신사는 아래와 같이 구분된다. 사용자로부터 휴대전화 번호를 입력 받고, 통신사를 출력하는 프로그램을 작성하라."
   ]
  },
  {
   "cell_type": "code",
   "execution_count": 66,
   "id": "ae535a13",
   "metadata": {},
   "outputs": [
    {
     "name": "stdout",
     "output_type": "stream",
     "text": [
      "휴대전화 번호 입력: 011-345-1922\n",
      "당신은 SKT 사용자입니다.\n"
     ]
    }
   ],
   "source": [
    "a=input(\"휴대전화 번호 입력: \")\n",
    "a=a[:3]\n",
    "dic={'011':'SKT','016':'KT','019':'LGU','010':'알수없음'}\n",
    "ans=dic[a]\n",
    "print(f'당신은 {ans} 사용자입니다.')"
   ]
  },
  {
   "cell_type": "markdown",
   "id": "e66c4de1",
   "metadata": {},
   "source": [
    "# 126\n",
    "우편번호는 5자리로 구성되는데, 앞의 세자리는 구를 나타낸다. 예를들어, 강북구의 경우 010, 011, 012 세 자리로 시작한다."
   ]
  },
  {
   "cell_type": "code",
   "execution_count": 70,
   "id": "24459485",
   "metadata": {},
   "outputs": [
    {
     "name": "stdout",
     "output_type": "stream",
     "text": [
      "우편번호: 01400\n",
      "도봉구\n"
     ]
    }
   ],
   "source": [
    "a = input(\"우편번호: \")\n",
    "a = int(a[2])\n",
    "if a in [0,1,2]:\n",
    "    print(\"강북구\")\n",
    "elif a in [3,4,5]:\n",
    "    print(\"도봉구\")\n",
    "else:\n",
    "    print(\"노원구\")"
   ]
  },
  {
   "cell_type": "markdown",
   "id": "3bcf7730",
   "metadata": {},
   "source": [
    "# 127\n",
    "주민등록번호 뒷 자리 7자리 중 첫째 자리는 성별을 나타내는데, 1, 3은 남자 2, 4는 여자를 의미한다. 사용자로부터 13자리의 주민등록번호를 입력 받은 후 성별 (남자, 여자)를 출력하는 프로그램을 작성하라."
   ]
  },
  {
   "cell_type": "code",
   "execution_count": 76,
   "id": "fd4772f7",
   "metadata": {},
   "outputs": [
    {
     "name": "stdout",
     "output_type": "stream",
     "text": [
      "주민등록번호: 821010-1635210\n",
      "남자\n"
     ]
    }
   ],
   "source": [
    "a,b=input('주민등록번호: ').split('-')\n",
    "ans=int(b[0])\n",
    "if ans in [1,3]:\n",
    "    print(\"남자\")\n",
    "else:\n",
    "    print(\"여자\")"
   ]
  },
  {
   "cell_type": "markdown",
   "id": "9b09676b",
   "metadata": {},
   "source": [
    "# 128\n",
    "주민등록번호의 뒷 자리 7자리 중 두번째와 세번째는 지역코드를 의미한다. 주민 등록 번호를 입력 받은 후 출생지가 서울인지 아닌지 판단하는 코드를 작성하라"
   ]
  },
  {
   "cell_type": "code",
   "execution_count": 80,
   "id": "fed6a04a",
   "metadata": {},
   "outputs": [
    {
     "name": "stdout",
     "output_type": "stream",
     "text": [
      "주민등록번호: 861010-1015210\n",
      "서울 입니다\n"
     ]
    }
   ],
   "source": [
    "a,b=input('주민등록번호: ').split('-')\n",
    "ans = b[1:3]\n",
    "if ans in ['00','01','02','03','04','05','06','07','08']:\n",
    "    print(\"서울 입니다\")\n",
    "else:\n",
    "    print(\"서울이 아닙니다\")"
   ]
  },
  {
   "cell_type": "markdown",
   "id": "fff66ad4",
   "metadata": {},
   "source": [
    "# 129\n",
    "주민등록번호는 13자리로 구성되는데 마지막 자리수는 주민등록번호의 유효성을 체크하는데 사용된다. 먼저 앞에서부터 12자리의 숫자에 2, 3, 4, 5, 6, 7, 8, 9, 2, 3, 4, 5를 차례로 곱한 뒤 그 값을 전부 더한다. 연산 결과 값을 11로 나누면 나머지가 나오는데 11에서 나머지를 뺀 값이 주민등록번호의 마지막 번호가 된다."
   ]
  },
  {
   "cell_type": "code",
   "execution_count": 87,
   "id": "09e95121",
   "metadata": {},
   "outputs": [
    {
     "name": "stdout",
     "output_type": "stream",
     "text": [
      "주민등록번호: 821010-1635210\n",
      "유효하지 않은 주민등록번호입니다\n"
     ]
    }
   ],
   "source": [
    "a,b=input('주민등록번호: ').split('-')\n",
    "first = 0\n",
    "for i in range(6):\n",
    "    first += int(a[i])*(i+2)\n",
    "for i in range(2):\n",
    "    first += int(b[i])*(i+8)\n",
    "for i in range(2,6):\n",
    "    first += int(b[i])*i\n",
    "first %= 11\n",
    "second = 11-first\n",
    "if second == b[-1]:\n",
    "    print(\"유효한 주민등록번호입니다.\")\n",
    "else:\n",
    "    print(\"유효하지 않은 주민등록번호입니다\")"
   ]
  },
  {
   "cell_type": "markdown",
   "id": "af301829",
   "metadata": {},
   "source": [
    "# 130\n",
    "아래 코드는 비트코인의 가격 정보를 딕셔너리로 가져오는 코드이다.\n",
    "\n",
    "import requests\n",
    "\n",
    "btc = requests.get(\"https://api.bithumb.com/public/ticker/\").json()['data']\n",
    "\n",
    "btc 딕셔너리 안에는 시가, 종가, 최고가, 최저가 등이 저장되어 있다. 최고가와 최저가의 차이를 변동폭으로 정의할 때 (시가 + 변동폭)이 최고가 보다 높을 경우 \"상승장\", 그렇지 않은 경우 \"하락장\" 문자열을 출력하라."
   ]
  },
  {
   "cell_type": "code",
   "execution_count": 90,
   "id": "9d299ae3",
   "metadata": {},
   "outputs": [
    {
     "name": "stdout",
     "output_type": "stream",
     "text": [
      "상승장\n"
     ]
    }
   ],
   "source": [
    "import requests\n",
    "btc = requests.get(\"https://api.bithumb.com/public/ticker/\").json()['data']\n",
    "\n",
    "opening_price=float(btc['opening_price'])\n",
    "closing_price=float(btc['closing_price'])\n",
    "min_price=float(btc['min_price'])\n",
    "max_price=float(btc['max_price'])\n",
    "\n",
    "a = opening_price + (max_price - min_price)\n",
    "\n",
    "if a > max_price:\n",
    "    print(\"상승장\")\n",
    "else:\n",
    "    print(\"하락장\")"
   ]
  },
  {
   "cell_type": "markdown",
   "id": "98f16ed8",
   "metadata": {},
   "source": [
    "# <08. 파이썬 반복문>"
   ]
  },
  {
   "cell_type": "markdown",
   "id": "f29e41a0",
   "metadata": {},
   "source": [
    "# 131\n",
    "for문의 실행결과를 예측하라.\n",
    "\n",
    "과일 = [\"사과\", \"귤\", \"수박\"]\n",
    "\n",
    "for 변수 in 과일:\n",
    "\n",
    "    print(변수)"
   ]
  },
  {
   "cell_type": "markdown",
   "id": "8fc88a89",
   "metadata": {},
   "source": [
    "답 :"
   ]
  },
  {
   "cell_type": "markdown",
   "id": "2698ca9c",
   "metadata": {},
   "source": [
    "사과\n",
    "\n",
    "귤\n",
    "\n",
    "수박"
   ]
  },
  {
   "cell_type": "markdown",
   "id": "88b27a76",
   "metadata": {},
   "source": [
    "출력"
   ]
  },
  {
   "cell_type": "code",
   "execution_count": 91,
   "id": "6f29f886",
   "metadata": {},
   "outputs": [
    {
     "name": "stdout",
     "output_type": "stream",
     "text": [
      "사과\n",
      "귤\n",
      "수박\n"
     ]
    }
   ],
   "source": [
    "과일 = [\"사과\", \"귤\", \"수박\"]\n",
    "for 변수 in 과일:\n",
    "    print(변수)"
   ]
  },
  {
   "cell_type": "markdown",
   "id": "ca21e565",
   "metadata": {},
   "source": [
    "# 132\n",
    "for문의 실행결과를 예측하라.\n",
    "\n",
    "과일 = [\"사과\", \"귤\", \"수박\"]\n",
    "\n",
    "for 변수 in 과일:\n",
    "\n",
    "    print(\"#####\")"
   ]
  },
  {
   "cell_type": "markdown",
   "id": "31d011b1",
   "metadata": {},
   "source": [
    "답:"
   ]
  },
  {
   "cell_type": "markdown",
   "id": "5e824d9b",
   "metadata": {},
   "source": [
    "####\n",
    "\n",
    "####\n",
    "\n",
    "####"
   ]
  },
  {
   "cell_type": "markdown",
   "id": "872fa377",
   "metadata": {},
   "source": [
    "출력"
   ]
  },
  {
   "cell_type": "code",
   "execution_count": 93,
   "id": "b2567ed8",
   "metadata": {},
   "outputs": [
    {
     "name": "stdout",
     "output_type": "stream",
     "text": [
      "#####\n",
      "#####\n",
      "#####\n"
     ]
    }
   ],
   "source": [
    "과일 = [\"사과\", \"귤\", \"수박\"]\n",
    "for 변수 in 과일:\n",
    "    print(\"#####\")"
   ]
  },
  {
   "cell_type": "markdown",
   "id": "5cd08594",
   "metadata": {},
   "source": [
    "# 133\n",
    "다음 for 문과 동일한 기능을 수행하는 코드를 작성하세요.\n",
    "\n",
    "for 변수 in [\"A\", \"B\", \"C\"]:\n",
    "  \n",
    "     print(변수)"
   ]
  },
  {
   "cell_type": "code",
   "execution_count": 95,
   "id": "12e65272",
   "metadata": {},
   "outputs": [
    {
     "name": "stdout",
     "output_type": "stream",
     "text": [
      "A\n",
      "B\n",
      "C\n"
     ]
    }
   ],
   "source": [
    "print(\"A\")\n",
    "print(\"B\")\n",
    "print(\"C\")"
   ]
  },
  {
   "cell_type": "markdown",
   "id": "e369ae77",
   "metadata": {},
   "source": [
    "# 134\n",
    "for문을 풀어서 동일한 동작을하는 코드를 작성하라.\n",
    "\n",
    "for 변수 in [\"A\", \"B\", \"C\"]:\n",
    "  \n",
    "    print(\"출력:\", 변수)"
   ]
  },
  {
   "cell_type": "code",
   "execution_count": 96,
   "id": "2b6d8c25",
   "metadata": {},
   "outputs": [
    {
     "name": "stdout",
     "output_type": "stream",
     "text": [
      "출력: A\n",
      "출력: B\n",
      "출력: C\n"
     ]
    }
   ],
   "source": [
    "print(\"출력: A\")\n",
    "print(\"출력: B\")\n",
    "print(\"출력: C\")"
   ]
  },
  {
   "cell_type": "code",
   "execution_count": 97,
   "id": "bc0afe87",
   "metadata": {},
   "outputs": [
    {
     "name": "stdout",
     "output_type": "stream",
     "text": [
      "출력: A\n",
      "출력: B\n",
      "출력: C\n"
     ]
    }
   ],
   "source": [
    "for 변수 in [\"A\", \"B\", \"C\"]:\n",
    "  print(\"출력:\", 변수)"
   ]
  },
  {
   "cell_type": "markdown",
   "id": "e7205047",
   "metadata": {},
   "source": [
    "# 135\n",
    "for문을 풀어서 동일한 동작을 하는 코드를 작성하라.\n",
    "\n",
    "for 변수 in [\"A\", \"B\", \"C\"]:\n",
    "\n",
    "    b = 변수.lower()\n",
    "\n",
    "    print(\"변환:\", b)"
   ]
  },
  {
   "cell_type": "code",
   "execution_count": 102,
   "id": "40fdc839",
   "metadata": {},
   "outputs": [
    {
     "name": "stdout",
     "output_type": "stream",
     "text": [
      "변환: a\n",
      "변환: b\n",
      "변환: c\n"
     ]
    }
   ],
   "source": [
    "print(f\"변환: {'A'.lower()}\")\n",
    "print(f\"변환: {'B'.lower()}\")\n",
    "print(f\"변환: {'C'.lower()}\")"
   ]
  },
  {
   "cell_type": "code",
   "execution_count": 98,
   "id": "0df3d544",
   "metadata": {},
   "outputs": [
    {
     "name": "stdout",
     "output_type": "stream",
     "text": [
      "변환: a\n",
      "변환: b\n",
      "변환: c\n"
     ]
    }
   ],
   "source": [
    "for 변수 in [\"A\", \"B\", \"C\"]:\n",
    "  b = 변수.lower()\n",
    "  print(\"변환:\", b)"
   ]
  },
  {
   "cell_type": "markdown",
   "id": "87f3ec8b",
   "metadata": {},
   "source": [
    "# 136\n",
    "다음 코드를 for문으로 작성하라.\n",
    "\n",
    "변수 = 10\n",
    "\n",
    "print(변수)\n",
    "\n",
    "변수 = 20\n",
    "\n",
    "print(변수)\n",
    "\n",
    "변수 = 30\n",
    "\n",
    "print(변수)"
   ]
  },
  {
   "cell_type": "code",
   "execution_count": 104,
   "id": "78e0a0dc",
   "metadata": {},
   "outputs": [
    {
     "name": "stdout",
     "output_type": "stream",
     "text": [
      "변수 = 10\n",
      "10\n",
      "변수 = 20\n",
      "20\n",
      "변수 = 30\n",
      "30\n"
     ]
    }
   ],
   "source": [
    "for i in range(3):\n",
    "    print(int(input(\"변수 = \")))"
   ]
  },
  {
   "cell_type": "markdown",
   "id": "d987439e",
   "metadata": {},
   "source": [
    "# 137\n",
    "다음 코드를 for문으로 작성하라.\n",
    "\n",
    "print(10)\n",
    "\n",
    "print(20)\n",
    "\n",
    "print(30)"
   ]
  },
  {
   "cell_type": "code",
   "execution_count": 105,
   "id": "d05c8d72",
   "metadata": {},
   "outputs": [
    {
     "name": "stdout",
     "output_type": "stream",
     "text": [
      "10\n",
      "20\n",
      "30\n"
     ]
    }
   ],
   "source": [
    "for i in range(3):\n",
    "    print(10*(i+1))"
   ]
  },
  {
   "cell_type": "markdown",
   "id": "5db452bd",
   "metadata": {},
   "source": [
    "# 138\n",
    "다음 코드를 for문으로 작성하라.\n",
    "\n",
    "print(10)\n",
    "\n",
    "print(\"-------\")\n",
    "\n",
    "print(20)\n",
    "\n",
    "print(\"-------\")\n",
    "\n",
    "print(30)\n",
    "\n",
    "print(\"-------\")"
   ]
  },
  {
   "cell_type": "code",
   "execution_count": 108,
   "id": "be791624",
   "metadata": {},
   "outputs": [
    {
     "name": "stdout",
     "output_type": "stream",
     "text": [
      "10\n",
      "-------\n",
      "20\n",
      "-------\n",
      "30\n",
      "-------\n"
     ]
    }
   ],
   "source": [
    "for i in range(3):\n",
    "    print(10*(i+1))\n",
    "    print('-------')"
   ]
  },
  {
   "cell_type": "markdown",
   "id": "e2d532a2",
   "metadata": {},
   "source": [
    "# 139\n",
    "다음 코드를 for문으로 작성하라.\n",
    "\n",
    "print(\"++++\")\n",
    "\n",
    "print(10)\n",
    "\n",
    "print(20)\n",
    "\n",
    "print(30)"
   ]
  },
  {
   "cell_type": "code",
   "execution_count": 107,
   "id": "3b8923f6",
   "metadata": {},
   "outputs": [
    {
     "name": "stdout",
     "output_type": "stream",
     "text": [
      "++++\n",
      "10\n",
      "20\n",
      "30\n"
     ]
    }
   ],
   "source": [
    "print(\"++++\")\n",
    "for i in range(3):\n",
    "    print(10*(i+1))"
   ]
  },
  {
   "cell_type": "markdown",
   "id": "172f94dc",
   "metadata": {},
   "source": [
    "# 140\n",
    "다음 코드를 for문으로 작성하라.\n",
    "\n",
    "print(\"-------\")\n",
    "\n",
    "print(\"-------\")\n",
    "\n",
    "print(\"-------\")\n",
    "\n",
    "print(\"-------\")"
   ]
  },
  {
   "cell_type": "code",
   "execution_count": 109,
   "id": "199a863b",
   "metadata": {},
   "outputs": [
    {
     "name": "stdout",
     "output_type": "stream",
     "text": [
      "-------\n",
      "-------\n",
      "-------\n",
      "-------\n"
     ]
    }
   ],
   "source": [
    "for i in range(4):\n",
    "    print(\"-------\")"
   ]
  },
  {
   "cell_type": "markdown",
   "id": "795d50e8",
   "metadata": {},
   "source": [
    "# 141\n",
    "다음과 같이 판매가가 저장된 리스트가 있을 때 부가세가 포함된 가격을 for 문을 사용해서 화면에 출력하라. 단 부가세는 10원으로 가정한다.\n",
    "\n",
    "리스트 = [100, 200, 300]\n",
    "\n",
    "110\n",
    "\n",
    "210\n",
    "\n",
    "310"
   ]
  },
  {
   "cell_type": "code",
   "execution_count": 110,
   "id": "63748992",
   "metadata": {},
   "outputs": [
    {
     "name": "stdout",
     "output_type": "stream",
     "text": [
      "110\n",
      "210\n",
      "310\n"
     ]
    }
   ],
   "source": [
    "리스트 = [100,200,300]\n",
    "for i in range(3):\n",
    "    print(리스트[i]+10)"
   ]
  },
  {
   "cell_type": "markdown",
   "id": "d2af7c10",
   "metadata": {},
   "source": [
    "# 142\n",
    "for 문을 사용해서 리스트에 저장된 값을 다음과 같이 출력하라.\n",
    "\n",
    "리스트 = [\"김밥\", \"라면\", \"튀김\"]\n",
    "\n",
    "오늘의 메뉴: 김밥\n",
    "\n",
    "오늘의 메뉴: 라면\n",
    "\n",
    "오늘의 메뉴: 튀김"
   ]
  },
  {
   "cell_type": "code",
   "execution_count": 111,
   "id": "946db2e2",
   "metadata": {},
   "outputs": [
    {
     "name": "stdout",
     "output_type": "stream",
     "text": [
      "오늘의 메뉴: 김밥\n",
      "오늘의 메뉴: 라면\n",
      "오늘의 메뉴: 튀김\n"
     ]
    }
   ],
   "source": [
    "리스트 = [\"김밥\", \"라면\", \"튀김\"]\n",
    "for i in range(3):\n",
    "    print(f'오늘의 메뉴: {리스트[i]}')"
   ]
  },
  {
   "cell_type": "markdown",
   "id": "eccc9493",
   "metadata": {},
   "source": [
    "# 143\n",
    "리스트에 주식 종목이름이 저장돼 있다.\n",
    "\n",
    "리스트 = [\"SK하이닉스\", \"삼성전자\", \"LG전자\"]\n",
    "\n",
    "저장된 문자열의 길이를 다음과 같이 출력하라.\n",
    "\n",
    "6\n",
    "\n",
    "4\n",
    "\n",
    "4"
   ]
  },
  {
   "cell_type": "code",
   "execution_count": 112,
   "id": "a1ce7b51",
   "metadata": {},
   "outputs": [
    {
     "name": "stdout",
     "output_type": "stream",
     "text": [
      "6\n",
      "4\n",
      "4\n"
     ]
    }
   ],
   "source": [
    "리스트 = [\"SK하이닉스\", \"삼성전자\", \"LG전자\"]\n",
    "for i in range(3):\n",
    "    print(len(리스트[i]))"
   ]
  },
  {
   "cell_type": "markdown",
   "id": "809ea89c",
   "metadata": {},
   "source": [
    "# 144\n",
    "리스트에는 동물이름이 문자열로 저장돼 있다.\n",
    "\n",
    "리스트 = ['dog', 'cat', 'parrot']\n",
    "\n",
    "동물 이름과 글자수를 다음과 같이 출력하라.\n",
    "\n",
    "dog 3\n",
    "\n",
    "cat 3\n",
    "\n",
    "parrot 6"
   ]
  },
  {
   "cell_type": "code",
   "execution_count": 113,
   "id": "0e66c0d1",
   "metadata": {},
   "outputs": [
    {
     "name": "stdout",
     "output_type": "stream",
     "text": [
      "dog 3\n",
      "cat 3\n",
      "parrot 6\n"
     ]
    }
   ],
   "source": [
    "리스트 = ['dog', 'cat', 'parrot']\n",
    "for i in range(3):\n",
    "    print(리스트[i],end=' ')\n",
    "    print(len(리스트[i]))"
   ]
  },
  {
   "cell_type": "markdown",
   "id": "c8f81176",
   "metadata": {},
   "source": [
    "# 145\n",
    "리스트에 동물 이름 저장돼 있다.\n",
    "\n",
    "리스트 = ['dog', 'cat', 'parrot']\n",
    "\n",
    "for문을 사용해서 동물 이름의 첫 글자만 출력하라.\n",
    "\n",
    "d\n",
    "\n",
    "c\n",
    "\n",
    "p"
   ]
  },
  {
   "cell_type": "code",
   "execution_count": 114,
   "id": "89b8fd95",
   "metadata": {},
   "outputs": [
    {
     "name": "stdout",
     "output_type": "stream",
     "text": [
      "d\n",
      "c\n",
      "p\n"
     ]
    }
   ],
   "source": [
    "리스트 = ['dog', 'cat', 'parrot']\n",
    "for i in range(3):\n",
    "    print(리스트[i][0])"
   ]
  },
  {
   "cell_type": "markdown",
   "id": "06ea9744",
   "metadata": {},
   "source": [
    "# 146\n",
    "리스트에는 세 개의 숫자가 바인딩돼 있다.\n",
    "\n",
    "리스트 = [1, 2, 3]\n",
    "\n",
    "for문을 사용해서 다음과 같이 출력하라.\n",
    "\n",
    "3 x 1\n",
    "\n",
    "3 x 2\n",
    "\n",
    "3 x 3"
   ]
  },
  {
   "cell_type": "code",
   "execution_count": 115,
   "id": "5c225c4b",
   "metadata": {},
   "outputs": [
    {
     "name": "stdout",
     "output_type": "stream",
     "text": [
      "3 X 1\n",
      "3 X 2\n",
      "3 X 3\n"
     ]
    }
   ],
   "source": [
    "리스트 = [1,2,3]\n",
    "for i in range(3):\n",
    "    print(f'3 X {리스트[i]}')"
   ]
  },
  {
   "cell_type": "markdown",
   "id": "a8a73849",
   "metadata": {},
   "source": [
    "# 147\n",
    "리스트에는 세 개의 숫자가 바인딩돼 있다.\n",
    "\n",
    "리스트 = [1, 2, 3]\n",
    "\n",
    "for문을 사용해서 다음과 같이 출력하라.\n",
    "\n",
    "3 x 1 = 3\n",
    "\n",
    "3 x 2 = 6\n",
    "\n",
    "3 x 3 = 9"
   ]
  },
  {
   "cell_type": "code",
   "execution_count": 116,
   "id": "2eb64fef",
   "metadata": {},
   "outputs": [
    {
     "name": "stdout",
     "output_type": "stream",
     "text": [
      "3 X 1 = 3\n",
      "3 X 2 = 6\n",
      "3 X 3 = 9\n"
     ]
    }
   ],
   "source": [
    "리스트 = [1,2,3]\n",
    "리스트 = [1,2,3]\n",
    "for i in range(3):\n",
    "    print(f'3 X {리스트[i]} = {3*리스트[i]}')"
   ]
  },
  {
   "cell_type": "markdown",
   "id": "981d417d",
   "metadata": {},
   "source": [
    "# 148\n",
    "리스트에는 네 개의 문자열이 바인딩돼 있다.\n",
    "\n",
    "리스트 = [\"가\", \"나\", \"다\", \"라\"]\n",
    "\n",
    "for문을 사용해서 다음과 같이 출력하라.\n",
    "\n",
    "나\n",
    "\n",
    "다\n",
    "\n",
    "라"
   ]
  },
  {
   "cell_type": "code",
   "execution_count": 123,
   "id": "29ada5d8",
   "metadata": {},
   "outputs": [
    {
     "name": "stdout",
     "output_type": "stream",
     "text": [
      "나\n",
      "다\n",
      "라\n"
     ]
    }
   ],
   "source": [
    "리스트 = [\"가\", \"나\", \"다\", \"라\"]\n",
    "del 리스트[0]\n",
    "for i in range(len(리스트)):\n",
    "    print(리스트[i])"
   ]
  },
  {
   "cell_type": "markdown",
   "id": "dbdc5db0",
   "metadata": {},
   "source": [
    "# 149\n",
    "리스트에는 네 개의 문자열이 바인딩돼 있다.\n",
    "\n",
    "리스트 = [\"가\", \"나\", \"다\", \"라\"]\n",
    "\n",
    "for문을 사용해서 다음과 같이 출력하라.\n",
    "\n",
    "가\n",
    "\n",
    "다"
   ]
  },
  {
   "cell_type": "code",
   "execution_count": 126,
   "id": "a00c9d68",
   "metadata": {},
   "outputs": [
    {
     "name": "stdout",
     "output_type": "stream",
     "text": [
      "가\n",
      "다\n"
     ]
    }
   ],
   "source": [
    "리스트 = [\"가\", \"나\", \"다\", \"라\"]\n",
    "for i in range(2):\n",
    "    print(리스트[i*2])"
   ]
  },
  {
   "cell_type": "markdown",
   "id": "83ccb7c9",
   "metadata": {},
   "source": [
    "# 150\n",
    "리스트에는 네 개의 문자열이 바인딩돼 있다.\n",
    "\n",
    "리스트 = [\"가\", \"나\", \"다\", \"라\"]\n",
    "\n",
    "for문을 사용해서 다음과 같이 출력하라.\n",
    "\n",
    "라\n",
    "\n",
    "다\n",
    "\n",
    "나\n",
    "\n",
    "가"
   ]
  },
  {
   "cell_type": "code",
   "execution_count": 129,
   "id": "73a1c62a",
   "metadata": {},
   "outputs": [
    {
     "name": "stdout",
     "output_type": "stream",
     "text": [
      "라\n",
      "다\n",
      "나\n",
      "가\n"
     ]
    }
   ],
   "source": [
    "리스트 = [\"가\", \"나\", \"다\", \"라\"]\n",
    "리스트.reverse()\n",
    "for i in range(4):\n",
    "    print(리스트[i])"
   ]
  },
  {
   "cell_type": "markdown",
   "id": "5af59b75",
   "metadata": {},
   "source": [
    "# 151\n",
    "리스트에는 네 개의 정수가 저장돼 있다.\n",
    "\n",
    "리스트 = [3, -20, -3, 44]\n",
    "\n",
    "for문을 사용해서 리스트의 음수를 출력하라.\n",
    "\n",
    "-20\n",
    "\n",
    "-3"
   ]
  },
  {
   "cell_type": "code",
   "execution_count": 130,
   "id": "dffe3486",
   "metadata": {},
   "outputs": [
    {
     "name": "stdout",
     "output_type": "stream",
     "text": [
      "-20\n",
      "-3\n"
     ]
    }
   ],
   "source": [
    "리스트 = [3, -20, -3, 44]\n",
    "for i in 리스트:\n",
    "    if i<0:\n",
    "        print(i)"
   ]
  },
  {
   "cell_type": "markdown",
   "id": "f1cde673",
   "metadata": {},
   "source": [
    "# 152\n",
    "for문을 사용해서 3의 배수만을 출력하라.\n",
    "\n",
    "리스트 = [3, 100, 23, 44]\n",
    "\n",
    "3"
   ]
  },
  {
   "cell_type": "code",
   "execution_count": 131,
   "id": "8eab6913",
   "metadata": {},
   "outputs": [
    {
     "name": "stdout",
     "output_type": "stream",
     "text": [
      "3\n"
     ]
    }
   ],
   "source": [
    "리스트 = [3, 100, 23, 44]\n",
    "for i in 리스트:\n",
    "    if i%3==0:\n",
    "        print(i)"
   ]
  },
  {
   "cell_type": "markdown",
   "id": "52300eb9",
   "metadata": {},
   "source": [
    "# 153\n",
    "리스트에서 20 보다 작은 3의 배수를 출력하라\n",
    "\n",
    "리스트 = [13, 21, 12, 14, 30, 18]\n",
    "\n",
    "12\n",
    "\n",
    "18"
   ]
  },
  {
   "cell_type": "code",
   "execution_count": 136,
   "id": "1d775fe6",
   "metadata": {},
   "outputs": [
    {
     "name": "stdout",
     "output_type": "stream",
     "text": [
      "12\n",
      "18\n"
     ]
    }
   ],
   "source": [
    "리스트 = [13, 21, 12, 14, 30, 18]\n",
    "for i in 리스트:\n",
    "    if i<20 and i%3==0:\n",
    "        print(i)"
   ]
  },
  {
   "cell_type": "markdown",
   "id": "cddc095d",
   "metadata": {},
   "source": [
    "# 154\n",
    "리스트에서 세 글자 이상의 문자를 화면에 출력하라\n",
    "\n",
    "리스트 = [\"I\", \"study\", \"python\", \"language\", \"!\"]\n",
    "\n",
    "study\n",
    "\n",
    "python\n",
    "\n",
    "language"
   ]
  },
  {
   "cell_type": "code",
   "execution_count": 143,
   "id": "ca464a56",
   "metadata": {},
   "outputs": [
    {
     "name": "stdout",
     "output_type": "stream",
     "text": [
      "study\n",
      "python\n",
      "language\n"
     ]
    }
   ],
   "source": [
    "리스트 = [\"I\", \"study\", \"python\", \"language\", \"!\"]\n",
    "for i in range(len(리스트)):\n",
    "    a = 리스트[i]\n",
    "    if len(a)>=3:\n",
    "        print(리스트[i])"
   ]
  },
  {
   "cell_type": "markdown",
   "id": "eba17ae0",
   "metadata": {},
   "source": [
    "# 155\n",
    "리스트에서 대문자만 화면에 출력하라.\n",
    "\n",
    "리스트 = [\"A\", \"b\", \"c\", \"D\"]\n",
    "\n",
    "A\n",
    "\n",
    "D"
   ]
  },
  {
   "cell_type": "code",
   "execution_count": 144,
   "id": "fa423c72",
   "metadata": {},
   "outputs": [
    {
     "name": "stdout",
     "output_type": "stream",
     "text": [
      "A\n",
      "D\n"
     ]
    }
   ],
   "source": [
    "리스트 = [\"A\", \"b\", \"c\", \"D\"]\n",
    "for i in 리스트:\n",
    "    if i.isupper():\n",
    "        print(i)"
   ]
  },
  {
   "cell_type": "markdown",
   "id": "15f09881",
   "metadata": {},
   "source": [
    "# 156\n",
    "리스트에서 소문자만 화면에 출력하라.\n",
    "\n",
    "리스트 = [\"A\", \"b\", \"c\", \"D\"]\n",
    "\n",
    "b\n",
    "\n",
    "c"
   ]
  },
  {
   "cell_type": "code",
   "execution_count": 145,
   "id": "51a778f2",
   "metadata": {},
   "outputs": [
    {
     "name": "stdout",
     "output_type": "stream",
     "text": [
      "b\n",
      "c\n"
     ]
    }
   ],
   "source": [
    "리스트 = [\"A\", \"b\", \"c\", \"D\"]\n",
    "for i in 리스트:\n",
    "    if i.islower():\n",
    "        print(i)"
   ]
  },
  {
   "cell_type": "markdown",
   "id": "c8cc1b7b",
   "metadata": {},
   "source": [
    "# 157\n",
    "이름의 첫 글자를 대문자로 변경해서 출력하라.\n",
    "\n",
    "리스트 = ['dog', 'cat', 'parrot']\n",
    "\n",
    "Dog\n",
    "\n",
    "Cat\n",
    "\n",
    "Parrot"
   ]
  },
  {
   "cell_type": "code",
   "execution_count": 151,
   "id": "8fd0e290",
   "metadata": {},
   "outputs": [
    {
     "name": "stdout",
     "output_type": "stream",
     "text": [
      "Dog\n",
      "Cat\n",
      "Parrot\n"
     ]
    }
   ],
   "source": [
    "리스트 = ['dog', 'cat', 'parrot']\n",
    "for i in range(3):\n",
    "    a=리스트[i][0]\n",
    "    b=리스트[i][1:]\n",
    "    k=a.upper()\n",
    "    print(k+b)"
   ]
  },
  {
   "cell_type": "markdown",
   "id": "b06b25cc",
   "metadata": {},
   "source": [
    "# 158\n",
    "파일 이름이 저장된 리스트에서 확장자를 제거하고 파일 이름만 화면에 출력하라. (힌트: split() 메서드)\n",
    "\n",
    "리스트 = ['hello.py', 'ex01.py', 'intro.hwp']\n",
    "\n",
    "hello\n",
    "\n",
    "ex01\n",
    "\n",
    "intro"
   ]
  },
  {
   "cell_type": "code",
   "execution_count": 152,
   "id": "f3dc6cb0",
   "metadata": {},
   "outputs": [
    {
     "name": "stdout",
     "output_type": "stream",
     "text": [
      "hello\n",
      "ex01\n",
      "intro\n"
     ]
    }
   ],
   "source": [
    "리스트 = ['hello.py', 'ex01.py', 'intro.hwp']\n",
    "for i in 리스트:\n",
    "    ans=i.split(\".\")\n",
    "    print(ans[0])"
   ]
  },
  {
   "cell_type": "markdown",
   "id": "32f9f6f0",
   "metadata": {},
   "source": [
    "# 159\n",
    "파일 이름이 저장된 리스트에서 확장자가 .h인 파일 이름을 출력하라.\n",
    "\n",
    "리스트 = ['intra.h', 'intra.c', 'define.h', 'run.py']\n",
    "\n",
    "intra.h\n",
    "\n",
    "define.h"
   ]
  },
  {
   "cell_type": "code",
   "execution_count": 154,
   "id": "9ec2df8c",
   "metadata": {},
   "outputs": [
    {
     "name": "stdout",
     "output_type": "stream",
     "text": [
      "intra.h\n",
      "define.h\n"
     ]
    }
   ],
   "source": [
    "리스트 = ['intra.h', 'intra.c', 'define.h', 'run.py']\n",
    "for i in 리스트:\n",
    "    if '.h' in i:\n",
    "        print(i)"
   ]
  },
  {
   "cell_type": "markdown",
   "id": "a932255a",
   "metadata": {},
   "source": [
    "# 160\n",
    "파일 이름이 저장된 리스트에서 확장자가 .h나 .c인 파일을 화면에 출력하라.\n",
    "\n",
    "리스트 = ['intra.h', 'intra.c', 'define.h', 'run.py']\n",
    "\n",
    "intra.h\n",
    "\n",
    "intra.c\n",
    "\n",
    "define.h"
   ]
  },
  {
   "cell_type": "code",
   "execution_count": 155,
   "id": "81aa0f85",
   "metadata": {},
   "outputs": [
    {
     "name": "stdout",
     "output_type": "stream",
     "text": [
      "intra.h\n",
      "intra.c\n",
      "define.h\n"
     ]
    }
   ],
   "source": [
    "리스트 = ['intra.h', 'intra.c', 'define.h', 'run.py']\n",
    "for i in 리스트:\n",
    "    if '.h' in i or '.c' in i:\n",
    "        print(i)"
   ]
  },
  {
   "cell_type": "markdown",
   "id": "243eb310",
   "metadata": {},
   "source": [
    "# 161\n",
    "for문과 range 구문을 사용해서 0~99까지 한 라인에 하나씩 순차적으로 출력하는 프로그램을 작성하라."
   ]
  },
  {
   "cell_type": "code",
   "execution_count": 156,
   "id": "a789b3ab",
   "metadata": {
    "scrolled": false
   },
   "outputs": [
    {
     "name": "stdout",
     "output_type": "stream",
     "text": [
      "0\n",
      "1\n",
      "2\n",
      "3\n",
      "4\n",
      "5\n",
      "6\n",
      "7\n",
      "8\n",
      "9\n",
      "10\n",
      "11\n",
      "12\n",
      "13\n",
      "14\n",
      "15\n",
      "16\n",
      "17\n",
      "18\n",
      "19\n",
      "20\n",
      "21\n",
      "22\n",
      "23\n",
      "24\n",
      "25\n",
      "26\n",
      "27\n",
      "28\n",
      "29\n",
      "30\n",
      "31\n",
      "32\n",
      "33\n",
      "34\n",
      "35\n",
      "36\n",
      "37\n",
      "38\n",
      "39\n",
      "40\n",
      "41\n",
      "42\n",
      "43\n",
      "44\n",
      "45\n",
      "46\n",
      "47\n",
      "48\n",
      "49\n",
      "50\n",
      "51\n",
      "52\n",
      "53\n",
      "54\n",
      "55\n",
      "56\n",
      "57\n",
      "58\n",
      "59\n",
      "60\n",
      "61\n",
      "62\n",
      "63\n",
      "64\n",
      "65\n",
      "66\n",
      "67\n",
      "68\n",
      "69\n",
      "70\n",
      "71\n",
      "72\n",
      "73\n",
      "74\n",
      "75\n",
      "76\n",
      "77\n",
      "78\n",
      "79\n",
      "80\n",
      "81\n",
      "82\n",
      "83\n",
      "84\n",
      "85\n",
      "86\n",
      "87\n",
      "88\n",
      "89\n",
      "90\n",
      "91\n",
      "92\n",
      "93\n",
      "94\n",
      "95\n",
      "96\n",
      "97\n",
      "98\n",
      "99\n"
     ]
    }
   ],
   "source": [
    "for i in range(100):\n",
    "    print(i)"
   ]
  },
  {
   "cell_type": "markdown",
   "id": "583899ff",
   "metadata": {},
   "source": [
    "# 162\n",
    "월드컵은 4년에 한 번 개최된다. range()를 사용하여 2002~2050년까지 중 월드컵이 개최되는 연도를 출력하라.\n",
    "\n",
    "2002\n",
    "\n",
    "2006\n",
    "\n",
    "2010\n",
    "\n",
    "...\n",
    "\n",
    "2042\n",
    "\n",
    "2046\n",
    "\n",
    "2050"
   ]
  },
  {
   "cell_type": "code",
   "execution_count": 158,
   "id": "b4d1753c",
   "metadata": {},
   "outputs": [
    {
     "name": "stdout",
     "output_type": "stream",
     "text": [
      "2002\n",
      "2006\n",
      "2010\n",
      "2014\n",
      "2018\n",
      "2022\n",
      "2026\n",
      "2030\n",
      "2034\n",
      "2038\n",
      "2042\n",
      "2046\n",
      "2050\n"
     ]
    }
   ],
   "source": [
    "for i in range(13):\n",
    "    print(2002+(i*4))"
   ]
  },
  {
   "cell_type": "markdown",
   "id": "91298f34",
   "metadata": {},
   "source": [
    "# 163\n",
    "1부터 30까지의 숫자 중 3의 배수를 출력하라."
   ]
  },
  {
   "cell_type": "code",
   "execution_count": 159,
   "id": "f78aadee",
   "metadata": {},
   "outputs": [
    {
     "name": "stdout",
     "output_type": "stream",
     "text": [
      "3\n",
      "6\n",
      "9\n",
      "12\n",
      "15\n",
      "18\n",
      "21\n",
      "24\n",
      "27\n",
      "30\n"
     ]
    }
   ],
   "source": [
    "for i in range(3,33,3):\n",
    "    print(i)"
   ]
  },
  {
   "cell_type": "markdown",
   "id": "1a957db2",
   "metadata": {},
   "source": [
    "# 164\n",
    "99부터 0까지 1씩 감소하는 숫자들을, 한 라인에 하나씩 출력하라."
   ]
  },
  {
   "cell_type": "code",
   "execution_count": 161,
   "id": "067587f2",
   "metadata": {},
   "outputs": [
    {
     "name": "stdout",
     "output_type": "stream",
     "text": [
      "99\n",
      "98\n",
      "97\n",
      "96\n",
      "95\n",
      "94\n",
      "93\n",
      "92\n",
      "91\n",
      "90\n",
      "89\n",
      "88\n",
      "87\n",
      "86\n",
      "85\n",
      "84\n",
      "83\n",
      "82\n",
      "81\n",
      "80\n",
      "79\n",
      "78\n",
      "77\n",
      "76\n",
      "75\n",
      "74\n",
      "73\n",
      "72\n",
      "71\n",
      "70\n",
      "69\n",
      "68\n",
      "67\n",
      "66\n",
      "65\n",
      "64\n",
      "63\n",
      "62\n",
      "61\n",
      "60\n",
      "59\n",
      "58\n",
      "57\n",
      "56\n",
      "55\n",
      "54\n",
      "53\n",
      "52\n",
      "51\n",
      "50\n",
      "49\n",
      "48\n",
      "47\n",
      "46\n",
      "45\n",
      "44\n",
      "43\n",
      "42\n",
      "41\n",
      "40\n",
      "39\n",
      "38\n",
      "37\n",
      "36\n",
      "35\n",
      "34\n",
      "33\n",
      "32\n",
      "31\n",
      "30\n",
      "29\n",
      "28\n",
      "27\n",
      "26\n",
      "25\n",
      "24\n",
      "23\n",
      "22\n",
      "21\n",
      "20\n",
      "19\n",
      "18\n",
      "17\n",
      "16\n",
      "15\n",
      "14\n",
      "13\n",
      "12\n",
      "11\n",
      "10\n",
      "9\n",
      "8\n",
      "7\n",
      "6\n",
      "5\n",
      "4\n",
      "3\n",
      "2\n",
      "1\n",
      "0\n"
     ]
    }
   ],
   "source": [
    "for i in range(99,-1,-1):\n",
    "    print(i)"
   ]
  },
  {
   "cell_type": "markdown",
   "id": "4220a34f",
   "metadata": {},
   "source": [
    "# 165\n",
    "for문을 사용해서 아래와 같이 출력하라.\n",
    "\n",
    "0.0\n",
    "\n",
    "0.1\n",
    "\n",
    "0.2\n",
    "\n",
    "0.3\n",
    "\n",
    "0.4\n",
    "\n",
    "0.5\n",
    "\n",
    "...\n",
    "\n",
    "0.9"
   ]
  },
  {
   "cell_type": "code",
   "execution_count": 162,
   "id": "18f3e772",
   "metadata": {},
   "outputs": [
    {
     "name": "stdout",
     "output_type": "stream",
     "text": [
      "0.0\n",
      "0.1\n",
      "0.2\n",
      "0.3\n",
      "0.4\n",
      "0.5\n",
      "0.6\n",
      "0.7\n",
      "0.8\n",
      "0.9\n"
     ]
    }
   ],
   "source": [
    "for i in range(10):\n",
    "    print(i/10)"
   ]
  },
  {
   "cell_type": "markdown",
   "id": "75fd9ebe",
   "metadata": {},
   "source": [
    "# 166\n",
    "구구단 3단을 출력하라."
   ]
  },
  {
   "cell_type": "code",
   "execution_count": 163,
   "id": "0f2b5451",
   "metadata": {},
   "outputs": [
    {
     "name": "stdout",
     "output_type": "stream",
     "text": [
      "3x1 = 3\n",
      "3x2 = 6\n",
      "3x3 = 9\n",
      "3x4 = 12\n",
      "3x5 = 15\n",
      "3x6 = 18\n",
      "3x7 = 21\n",
      "3x8 = 24\n",
      "3x9 = 27\n",
      "3x10 = 30\n"
     ]
    }
   ],
   "source": [
    "for i in range(10):\n",
    "    print(f'3x{i+1} = {3*(i+1)}')"
   ]
  },
  {
   "cell_type": "markdown",
   "id": "4b187cef",
   "metadata": {},
   "source": [
    "# 167\n",
    "구구단 3단을 출력하라. 단 홀수 번째만 출력한다."
   ]
  },
  {
   "cell_type": "code",
   "execution_count": 164,
   "id": "3a424116",
   "metadata": {},
   "outputs": [
    {
     "name": "stdout",
     "output_type": "stream",
     "text": [
      "3x1 = 3\n",
      "3x3 = 9\n",
      "3x5 = 15\n",
      "3x7 = 21\n",
      "3x9 = 27\n"
     ]
    }
   ],
   "source": [
    "for i in range(5):\n",
    "    print(f'3x{2*i+1} = {3*(2*i+1)}')"
   ]
  },
  {
   "cell_type": "markdown",
   "id": "b63562c3",
   "metadata": {},
   "source": [
    "# 168\n",
    "1~10까지의 숫자에 대해 모두 더한 값을 출력하는 프로그램을 for 문을 사용하여 작성하라."
   ]
  },
  {
   "cell_type": "code",
   "execution_count": 165,
   "id": "f4470f25",
   "metadata": {},
   "outputs": [
    {
     "name": "stdout",
     "output_type": "stream",
     "text": [
      "55\n"
     ]
    }
   ],
   "source": [
    "ans = 0\n",
    "for i in range(1,11):\n",
    "    ans+=i\n",
    "print(ans)"
   ]
  },
  {
   "cell_type": "markdown",
   "id": "f9fcdca1",
   "metadata": {},
   "source": [
    "# 169\n",
    "1~10까지의 숫자 중 모든 홀수의 합을 출력하는 프로그램을 for 문을 사용하여 작성하라."
   ]
  },
  {
   "cell_type": "code",
   "execution_count": 166,
   "id": "ba7ae79d",
   "metadata": {},
   "outputs": [
    {
     "name": "stdout",
     "output_type": "stream",
     "text": [
      "25\n"
     ]
    }
   ],
   "source": [
    "ans = 0\n",
    "for i in range(1,11,2):\n",
    "    ans+=i\n",
    "print(ans)"
   ]
  },
  {
   "cell_type": "markdown",
   "id": "8e5a327a",
   "metadata": {},
   "source": [
    "# 170\n",
    "1~10까지의 숫자를 모두 곱한 값을 출력하는 프로그램을 for 문을 사용하여 작성하라."
   ]
  },
  {
   "cell_type": "code",
   "execution_count": 167,
   "id": "5bdec341",
   "metadata": {},
   "outputs": [
    {
     "name": "stdout",
     "output_type": "stream",
     "text": [
      "3628800\n"
     ]
    }
   ],
   "source": [
    "ans = 1\n",
    "for i in range(1,11):\n",
    "    ans*=i\n",
    "print(ans)"
   ]
  },
  {
   "cell_type": "markdown",
   "id": "3555c9a5",
   "metadata": {},
   "source": [
    "# 171\n",
    "아래와 같이 리스트의 데이터를 출력하라. 단, for문과 range문을 사용하라.\n",
    "\n",
    "price_list = [32100, 32150, 32000, 32500]\n",
    "32100\n",
    "\n",
    "32150\n",
    "\n",
    "32000\n",
    "\n",
    "32500"
   ]
  },
  {
   "cell_type": "code",
   "execution_count": 168,
   "id": "fcfa8e87",
   "metadata": {},
   "outputs": [
    {
     "name": "stdout",
     "output_type": "stream",
     "text": [
      "32100\n",
      "32150\n",
      "32000\n",
      "32500\n"
     ]
    }
   ],
   "source": [
    "price_list = [32100, 32150, 32000, 32500]\n",
    "for i in range(4):\n",
    "    print(price_list[i])"
   ]
  },
  {
   "cell_type": "markdown",
   "id": "a031b3ca",
   "metadata": {},
   "source": [
    "# 172\n",
    "아래와 같이 리스트의 데이터를 출력하라. 단, for문과 range문을 사용하라.\n",
    "\n",
    "price_list = [32100, 32150, 32000, 32500]\n",
    "\n",
    "0 32100\n",
    "\n",
    "1 32150\n",
    "\n",
    "2 32000\n",
    "\n",
    "3 32500"
   ]
  },
  {
   "cell_type": "code",
   "execution_count": 169,
   "id": "6f6ad3c3",
   "metadata": {},
   "outputs": [
    {
     "name": "stdout",
     "output_type": "stream",
     "text": [
      "0 32100\n",
      "1 32150\n",
      "2 32000\n",
      "3 32500\n"
     ]
    }
   ],
   "source": [
    "price_list = [32100, 32150, 32000, 32500]\n",
    "for i in range(4):\n",
    "    print(i,end=' ')\n",
    "    print(price_list[i])"
   ]
  },
  {
   "cell_type": "markdown",
   "id": "bf134bea",
   "metadata": {},
   "source": [
    "# 173\n",
    "아래와 같이 리스트의 데이터를 출력하라. 단, for문과 range문을 사용하라.\n",
    "\n",
    "price_list = [32100, 32150, 32000, 32500]\n",
    "\n",
    "3 32100\n",
    "\n",
    "2 32150\n",
    "\n",
    "1 32000\n",
    "\n",
    "0 32500"
   ]
  },
  {
   "cell_type": "code",
   "execution_count": 170,
   "id": "e6693fef",
   "metadata": {},
   "outputs": [
    {
     "name": "stdout",
     "output_type": "stream",
     "text": [
      "3 32100\n",
      "2 32150\n",
      "1 32000\n",
      "0 32500\n"
     ]
    }
   ],
   "source": [
    "price_list = [32100, 32150, 32000, 32500]\n",
    "for i in range(4):\n",
    "    print(3-i,end=' ')\n",
    "    print(price_list[i])"
   ]
  },
  {
   "cell_type": "markdown",
   "id": "481e2805",
   "metadata": {},
   "source": [
    "# 174\n",
    "아래와 같이 리스트의 데이터를 출력하라. 단, for문과 range문을 사용하라.\n",
    "\n",
    "price_list = [32100, 32150, 32000, 32500]\n",
    "\n",
    "100 32150\n",
    "\n",
    "110 32000\n",
    "\n",
    "120 32500"
   ]
  },
  {
   "cell_type": "code",
   "execution_count": 172,
   "id": "b9a21a46",
   "metadata": {},
   "outputs": [
    {
     "name": "stdout",
     "output_type": "stream",
     "text": [
      "100 32150\n",
      "110 32000\n",
      "120 32500\n"
     ]
    }
   ],
   "source": [
    "price_list = [32100, 32150, 32000, 32500]\n",
    "del price_list[0]\n",
    "for i in range(3):\n",
    "    print(100+i*10,end=' ')\n",
    "    print(price_list[i])"
   ]
  },
  {
   "cell_type": "markdown",
   "id": "53f3e0fb",
   "metadata": {},
   "source": [
    "# 175\n",
    "my_list를 아래와 같이 출력하라.\n",
    "\n",
    "my_list = [\"가\", \"나\", \"다\", \"라\"]\n",
    "\n",
    "가 나\n",
    "\n",
    "나 다\n",
    "\n",
    "다 라"
   ]
  },
  {
   "cell_type": "code",
   "execution_count": 173,
   "id": "ebde3515",
   "metadata": {},
   "outputs": [
    {
     "name": "stdout",
     "output_type": "stream",
     "text": [
      "가 나\n",
      "나 다\n",
      "다 라\n"
     ]
    }
   ],
   "source": [
    "my_list = [\"가\", \"나\", \"다\", \"라\"]\n",
    "for i in range(3):\n",
    "    print(my_list[i],my_list[i+1])"
   ]
  },
  {
   "cell_type": "markdown",
   "id": "453ff522",
   "metadata": {},
   "source": [
    "# 176\n",
    "리스트를 아래와 같이 출력하라.\n",
    "\n",
    "my_list = [\"가\", \"나\", \"다\", \"라\", \"마\"]\n",
    "\n",
    "가 나 다\n",
    "\n",
    "나 다 라\n",
    "\n",
    "다 라 마"
   ]
  },
  {
   "cell_type": "code",
   "execution_count": 174,
   "id": "25b6915e",
   "metadata": {},
   "outputs": [
    {
     "name": "stdout",
     "output_type": "stream",
     "text": [
      "가 나 다\n",
      "나 다 라\n",
      "다 라 마\n"
     ]
    }
   ],
   "source": [
    "my_list = [\"가\", \"나\", \"다\", \"라\", \"마\"]\n",
    "for i in range(3):\n",
    "    print(my_list[i],my_list[i+1],my_list[i+2])"
   ]
  },
  {
   "cell_type": "markdown",
   "id": "c9c7719e",
   "metadata": {},
   "source": [
    "# 177\n",
    "반복문과 range 함수를 사용해서 my_list를 아래와 같이 출력하라.\n",
    "\n",
    "my_list = [\"가\", \"나\", \"다\", \"라\"]\n",
    "\n",
    "라 다\n",
    "\n",
    "다 나\n",
    "\n",
    "나 가"
   ]
  },
  {
   "cell_type": "code",
   "execution_count": 175,
   "id": "8e8bf927",
   "metadata": {},
   "outputs": [
    {
     "name": "stdout",
     "output_type": "stream",
     "text": [
      "라 다\n",
      "다 나\n",
      "나 가\n"
     ]
    }
   ],
   "source": [
    "my_list = [\"가\", \"나\", \"다\", \"라\"]\n",
    "for i in range(3):\n",
    "    print(my_list[3-i],my_list[2-i])"
   ]
  },
  {
   "cell_type": "markdown",
   "id": "f7c9644a",
   "metadata": {},
   "source": [
    "# 178\n",
    "리스트에는 네 개의 정수가 저장되어 있다. 각각의 데이터에 대해서 자신과 우측값과의 차분값을 화면에 출력하라.\n",
    "\n",
    "my_list = [100, 200, 400, 800]\n",
    "\n",
    "예를들어 100을 기준으로 우측에 위치한 200과의 차분 값를 화면에 출력하고, 200을 기준으로 우측에 위치한 400과의 차분값을 화면에 출력한다. 이어서 400을 기준으로 우측에 위치한 800과의 차분값을 화면에 출력한다.\n",
    "\n",
    "100\n",
    "\n",
    "200\n",
    "\n",
    "400"
   ]
  },
  {
   "cell_type": "code",
   "execution_count": 176,
   "id": "4accae67",
   "metadata": {},
   "outputs": [
    {
     "name": "stdout",
     "output_type": "stream",
     "text": [
      "100\n",
      "200\n",
      "400\n"
     ]
    }
   ],
   "source": [
    "my_list = [100, 200, 400, 800]\n",
    "for i in range(3):\n",
    "    print(my_list[i+1]-my_list[i])"
   ]
  },
  {
   "cell_type": "markdown",
   "id": "a10116ee",
   "metadata": {},
   "source": [
    "# 179\n",
    "리스트에는 6일 간의 종가 데이터가 저장되어 있다. 종가 데이터의 3일 이동 평균을 계산하고 이를 화면에 출력하라.\n",
    "\n",
    "my_list = [100, 200, 400, 800, 1000, 1300]\n",
    "\n",
    "첫 번째 줄에는 100, 200, 400의 평균값이 출력된다. 두 번째 줄에는 200, 400, 800의 평균값이 출력된다. 같은 방식으로 나머지 데이터의 평균을 출력한다.\n",
    "\n",
    "\n",
    "233.33333333333334\n",
    "\n",
    "466.6666666666667\n",
    "\n",
    "733.3333333333334\n",
    "\n",
    "1033.3333333333333"
   ]
  },
  {
   "cell_type": "code",
   "execution_count": 177,
   "id": "b1cfec30",
   "metadata": {},
   "outputs": [
    {
     "name": "stdout",
     "output_type": "stream",
     "text": [
      "233.33333333333334\n",
      "466.6666666666667\n",
      "733.3333333333334\n",
      "1033.3333333333333\n"
     ]
    }
   ],
   "source": [
    "my_list = [100, 200, 400, 800, 1000, 1300]\n",
    "for i in range(4):\n",
    "    x=my_list[i]+my_list[i+1]+my_list[i+2]\n",
    "    x/=3\n",
    "    print(x)"
   ]
  },
  {
   "cell_type": "markdown",
   "id": "9273baf9",
   "metadata": {},
   "source": [
    "# 180\n",
    "리스트에 5일간의 저가, 고가 정보가 저장돼 있다. 고가와 저가의 차를 변동폭이라고 정의할 때, low, high 두 개의 리스트를 사용해서 5일간의 변동폭을 volatility 리스트에 저장하라.\n",
    "\n",
    "low_prices  = [100, 200, 400, 800, 1000]\n",
    "\n",
    "high_prices = [150, 300, 430, 880, 1000]"
   ]
  },
  {
   "cell_type": "code",
   "execution_count": 180,
   "id": "cfdaf631",
   "metadata": {},
   "outputs": [
    {
     "name": "stdout",
     "output_type": "stream",
     "text": [
      "[50, 100, 30, 80, 0]\n"
     ]
    }
   ],
   "source": [
    "low_prices  = [100, 200, 400, 800, 1000]\n",
    "high_prices = [150, 300, 430, 880, 1000]\n",
    "volatility=[]\n",
    "for i in range(5):\n",
    "    k=high_prices[i] - low_prices[i]\n",
    "    volatility.append(k)\n",
    "print(volatility)"
   ]
  },
  {
   "cell_type": "markdown",
   "id": "092d3ca8",
   "metadata": {},
   "source": [
    "# 181\n",
    "아래 표에서 하나의 행을 하나의 리스트로, 총 3개의 리스트를 갖는 이차원 리스트 apart를 정의하라."
   ]
  },
  {
   "cell_type": "code",
   "execution_count": 182,
   "id": "57cfca39",
   "metadata": {},
   "outputs": [
    {
     "name": "stdout",
     "output_type": "stream",
     "text": [
      "[['101호', '102호'], ['201호', '202호'], ['301호', '302호']]\n"
     ]
    }
   ],
   "source": [
    "apart = [ [\"101호\", \"102호\"], [\"201호\", \"202호\"], [\"301호\", \"302호\"] ]\n",
    "print(apart)"
   ]
  },
  {
   "cell_type": "markdown",
   "id": "4394eebb",
   "metadata": {},
   "source": [
    "# 182\n",
    "아래 표에서 하나의 열을 하나의 리스트로, 총 2개의 리스트를 갖는 이차원 리스트 stock을 정의하라."
   ]
  },
  {
   "cell_type": "code",
   "execution_count": 183,
   "id": "7f611985",
   "metadata": {},
   "outputs": [
    {
     "name": "stdout",
     "output_type": "stream",
     "text": [
      "[['시가', 100, 200, 300], ['종가', 80, 210, 330]]\n"
     ]
    }
   ],
   "source": [
    "stock = [ [\"시가\", 100, 200, 300], [\"종가\", 80, 210, 330] ]\n",
    "print(stock)"
   ]
  },
  {
   "cell_type": "markdown",
   "id": "9caa3fdf",
   "metadata": {},
   "source": [
    "# 183\n",
    "아래 표를 stock 이름의 딕셔너리로 표현하라.시가를 key로 저장하고, 나머지 같은 열의 데이터를 리스트로 저장해서 value로 저장한다. 종가 역시 key로 저장하고 나머지 같은 열의 데이터를 리스트로 저장해서 value로 저장한다."
   ]
  },
  {
   "cell_type": "code",
   "execution_count": 184,
   "id": "358f4188",
   "metadata": {},
   "outputs": [
    {
     "name": "stdout",
     "output_type": "stream",
     "text": [
      "{'시가': [100, 200, 300], '종가': [80, 210, 330]}\n"
     ]
    }
   ],
   "source": [
    "stock = {\"시가\": [100, 200, 300], \"종가\": [80, 210, 330] }\n",
    "print(stock)"
   ]
  },
  {
   "cell_type": "markdown",
   "id": "ee13e261",
   "metadata": {},
   "source": [
    "# 184\n",
    "아래 표를 stock 이라는 이름의 딕셔너리로 표현하라. 날짜를 key로 저장하고, 나머지 같은 행의 데이터를 리스트로 저장해서 value로 저장한다. 첫 열이 날짜이다."
   ]
  },
  {
   "cell_type": "code",
   "execution_count": 185,
   "id": "c5fa49ed",
   "metadata": {},
   "outputs": [
    {
     "name": "stdout",
     "output_type": "stream",
     "text": [
      "{'10/10': [80, 110, 70, 90], '10/11': [210, 230, 190, 200]}\n"
     ]
    }
   ],
   "source": [
    "stock = {\"10/10\": [80, 110, 70, 90], \"10/11\": [210, 230, 190, 200] }\n",
    "print(stock)"
   ]
  },
  {
   "cell_type": "markdown",
   "id": "0a558f94",
   "metadata": {},
   "source": [
    "# 185\n",
    "리스트에 저장된 데이터를 아래와 같이 출력하라.\n",
    "\n",
    "apart = [ [101, 102], [201, 202], [301, 302] ]\n",
    "\n",
    "101 호\n",
    "\n",
    "\n",
    "102 호\n",
    "\n",
    "201 호\n",
    "\n",
    "202 호\n",
    "\n",
    "301 호\n",
    "\n",
    "302 호"
   ]
  },
  {
   "cell_type": "code",
   "execution_count": 187,
   "id": "e6827e81",
   "metadata": {},
   "outputs": [
    {
     "name": "stdout",
     "output_type": "stream",
     "text": [
      "101 호\n",
      "102 호\n",
      "201 호\n",
      "202 호\n",
      "301 호\n",
      "302 호\n"
     ]
    }
   ],
   "source": [
    "apart = [ [101, 102], [201, 202], [301, 302] ]\n",
    "for i in range(3):\n",
    "    for j in range(2):\n",
    "        print(apart[i][j],'호')"
   ]
  },
  {
   "cell_type": "markdown",
   "id": "71d86d5f",
   "metadata": {},
   "source": [
    "# 186\n",
    "리스트에 저장된 데이터를 아래와 같이 출력하라.\n",
    "\n",
    "apart = [ [101, 102], [201, 202], [301, 302] ]\n",
    "\n",
    "301 호\n",
    "\n",
    "302 호\n",
    "\n",
    "201 호\n",
    "\n",
    "202 호\n",
    "\n",
    "101 호\n",
    "\n",
    "102 호"
   ]
  },
  {
   "cell_type": "code",
   "execution_count": 188,
   "id": "09f6f27f",
   "metadata": {},
   "outputs": [
    {
     "name": "stdout",
     "output_type": "stream",
     "text": [
      "301 호\n",
      "302 호\n",
      "201 호\n",
      "202 호\n",
      "101 호\n",
      "102 호\n"
     ]
    }
   ],
   "source": [
    "apart = [ [101, 102], [201, 202], [301, 302] ]\n",
    "for i in range(3):\n",
    "    for j in range(2):\n",
    "        print(apart[2-i][j],'호')"
   ]
  },
  {
   "cell_type": "markdown",
   "id": "5323185c",
   "metadata": {},
   "source": [
    "# 187\n",
    "리스트에 저장된 데이터를 아래와 같이 출력하라.\n",
    "\n",
    "apart = [ [101, 102], [201, 202], [301, 302] ]\n",
    "\n",
    "302 호\n",
    "\n",
    "301 호\n",
    "\n",
    "202 호\n",
    "\n",
    "201 호\n",
    "\n",
    "102 호\n",
    "\n",
    "101 호"
   ]
  },
  {
   "cell_type": "code",
   "execution_count": 189,
   "id": "9784660a",
   "metadata": {},
   "outputs": [
    {
     "name": "stdout",
     "output_type": "stream",
     "text": [
      "302 호\n",
      "301 호\n",
      "202 호\n",
      "201 호\n",
      "102 호\n",
      "101 호\n"
     ]
    }
   ],
   "source": [
    "apart = [ [101, 102], [201, 202], [301, 302] ]\n",
    "for i in range(3):\n",
    "    for j in range(2):\n",
    "        print(apart[2-i][1-j],'호')"
   ]
  },
  {
   "cell_type": "markdown",
   "id": "6e4be979",
   "metadata": {},
   "source": [
    "# 188\n",
    "리스트에 저장된 데이터를 아래와 같이 출력하라.\n",
    "\n",
    "apart = [ [101, 102], [201, 202], [301, 302] ]\n",
    "\n",
    "#### 101 호\n",
    "#### -----\n",
    "#### 102 호\n",
    "#### -----\n",
    "#### 201 호\n",
    "#### -----\n",
    "#### 202 호\n",
    "#### -----\n",
    "#### 301 호\n",
    "#### -----\n",
    "#### 302 호\n",
    "#### -----"
   ]
  },
  {
   "cell_type": "code",
   "execution_count": 190,
   "id": "ee888747",
   "metadata": {},
   "outputs": [
    {
     "name": "stdout",
     "output_type": "stream",
     "text": [
      "101 호\n",
      "-----\n",
      "102 호\n",
      "-----\n",
      "201 호\n",
      "-----\n",
      "202 호\n",
      "-----\n",
      "301 호\n",
      "-----\n",
      "302 호\n",
      "-----\n"
     ]
    }
   ],
   "source": [
    "apart = [ [101, 102], [201, 202], [301, 302] ]\n",
    "for i in range(3):\n",
    "    for j in range(2):\n",
    "        print(apart[i][j],'호')\n",
    "        print('-----')"
   ]
  },
  {
   "cell_type": "markdown",
   "id": "670380d3",
   "metadata": {},
   "source": [
    "# 189\n",
    "리스트에 저장된 데이터를 아래와 같이 출력하라.\n",
    "\n",
    "apart = [ [101, 102], [201, 202], [301, 302] ]\n",
    "#### 101 호\n",
    "#### 102 호\n",
    "#### -----\n",
    "#### 201 호\n",
    "#### 202 호\n",
    "#### -----\n",
    "#### 301 호\n",
    "#### 302 호\n",
    "#### -----"
   ]
  },
  {
   "cell_type": "code",
   "execution_count": 191,
   "id": "683da68c",
   "metadata": {},
   "outputs": [
    {
     "name": "stdout",
     "output_type": "stream",
     "text": [
      "101 호\n",
      "102 호\n",
      "-----\n",
      "201 호\n",
      "202 호\n",
      "-----\n",
      "301 호\n",
      "302 호\n",
      "-----\n"
     ]
    }
   ],
   "source": [
    "apart = [ [101, 102], [201, 202], [301, 302] ]\n",
    "for i in range(3):\n",
    "    for j in range(2):\n",
    "        print(apart[i][j],'호')\n",
    "    print('-----')"
   ]
  },
  {
   "cell_type": "markdown",
   "id": "01c48625",
   "metadata": {},
   "source": [
    "# 190\n",
    "리스트에 저장된 데이터를 아래와 같이 출력하라.\n",
    "\n",
    "apart = [ [101, 102], [201, 202], [301, 302] ]\n",
    "\n",
    "101 호\n",
    "\n",
    "102 호\n",
    "\n",
    "201 호\n",
    "\n",
    "202 호\n",
    "\n",
    "301 호\n",
    "\n",
    "302 호\n",
    "#### -----"
   ]
  },
  {
   "cell_type": "code",
   "execution_count": 192,
   "id": "1c7bcb79",
   "metadata": {},
   "outputs": [
    {
     "name": "stdout",
     "output_type": "stream",
     "text": [
      "101 호\n",
      "102 호\n",
      "201 호\n",
      "202 호\n",
      "301 호\n",
      "302 호\n",
      "-----\n"
     ]
    }
   ],
   "source": [
    "apart = [ [101, 102], [201, 202], [301, 302] ]\n",
    "for i in range(3):\n",
    "    for j in range(2):\n",
    "        print(apart[i][j],'호')\n",
    "print('-----')"
   ]
  },
  {
   "cell_type": "markdown",
   "id": "2e21bd83",
   "metadata": {},
   "source": [
    "# 191\n",
    "ata에는 매수한 종목들의 OHLC (open/high/low/close) 가격 정보가 바인딩 되어있다.\n",
    "\n",
    "data = [\n",
    "    \n",
    "    [ 2000,  3050,  2050,  1980],\n",
    "    \n",
    "    [ 7500,  2050,  2050,  1980],\n",
    "    \n",
    "    [15450, 15050, 15550, 14900]\n",
    "\n",
    "]\n",
    "\n",
    "수수료를 0.014 %로 가정할 때, 각 가격에 수수료를 포함한 가격을 한라인에 하나씩 출력하라.\n",
    "\n",
    "2000.28\n",
    "\n",
    "3050.427\n",
    "\n",
    "2050.2870000000003\n",
    "\n",
    "...\n"
   ]
  },
  {
   "cell_type": "code",
   "execution_count": 193,
   "id": "d390f321",
   "metadata": {},
   "outputs": [
    {
     "name": "stdout",
     "output_type": "stream",
     "text": [
      "2000.28\n",
      "3050.427\n",
      "2050.287\n",
      "1980.2772\n",
      "7501.05\n",
      "2050.287\n",
      "2050.287\n",
      "1980.2772\n",
      "15452.163\n",
      "15052.107\n",
      "15552.177\n",
      "14902.086\n"
     ]
    }
   ],
   "source": [
    "data = [\n",
    "    [ 2000,  3050,  2050,  1980],\n",
    "    [ 7500,  2050,  2050,  1980],\n",
    "    [15450, 15050, 15550, 14900]\n",
    "]\n",
    "for i in range(3):\n",
    "    for j in range(4):\n",
    "        ans = data[i][j]\n",
    "        x=ans*0.014\n",
    "        x/=100\n",
    "        print(ans+x)"
   ]
  },
  {
   "cell_type": "markdown",
   "id": "87eabcb6",
   "metadata": {},
   "source": [
    "# 192\n",
    "191번의 출력 결과에 행단위로 \"----\" 구분자를 추가하라."
   ]
  },
  {
   "cell_type": "code",
   "execution_count": 194,
   "id": "564bb42d",
   "metadata": {},
   "outputs": [
    {
     "name": "stdout",
     "output_type": "stream",
     "text": [
      "2000.28\n",
      "3050.427\n",
      "2050.287\n",
      "1980.2772\n",
      "----\n",
      "7501.05\n",
      "2050.287\n",
      "2050.287\n",
      "1980.2772\n",
      "----\n",
      "15452.163\n",
      "15052.107\n",
      "15552.177\n",
      "14902.086\n",
      "----\n"
     ]
    }
   ],
   "source": [
    "data = [\n",
    "    [ 2000,  3050,  2050,  1980],\n",
    "    [ 7500,  2050,  2050,  1980],\n",
    "    [15450, 15050, 15550, 14900]\n",
    "]\n",
    "for i in range(3):\n",
    "    for j in range(4):\n",
    "        ans = data[i][j]\n",
    "        x=ans*0.014\n",
    "        x/=100\n",
    "        print(ans+x)\n",
    "    print('----')"
   ]
  },
  {
   "cell_type": "markdown",
   "id": "7fe58d05",
   "metadata": {},
   "source": [
    "# 193\n",
    "192 번 문제의 결괏값을 result 이름의 리스트에 1차원 배열로 저장하라.\n",
    "\n",
    "print(result)\n",
    "\n",
    "[2000.28, 3050.427, 2050.2870000000003, 1980.2772, 7501.05, 2050.2870000000003, 2050.2870000000003, ...]"
   ]
  },
  {
   "cell_type": "code",
   "execution_count": 196,
   "id": "40807470",
   "metadata": {},
   "outputs": [
    {
     "name": "stdout",
     "output_type": "stream",
     "text": [
      "[2000.28, 3050.427, 2050.287, 1980.2772, 7501.05, 2050.287, 2050.287, 1980.2772, 15452.163, 15052.107, 15552.177, 14902.086]\n"
     ]
    }
   ],
   "source": [
    "data = [\n",
    "    [ 2000,  3050,  2050,  1980],\n",
    "    [ 7500,  2050,  2050,  1980],\n",
    "    [15450, 15050, 15550, 14900]\n",
    "]\n",
    "result=[]\n",
    "for i in range(3):\n",
    "    for j in range(4):\n",
    "        ans = data[i][j]\n",
    "        x=ans*0.014\n",
    "        x/=100\n",
    "        result.append(ans+x)\n",
    "print(result)"
   ]
  },
  {
   "cell_type": "markdown",
   "id": "9d55f890",
   "metadata": {},
   "source": [
    "# 194\n",
    "191번 문제의 결괏값을 result 이름의 리스트에 2차원 배열로 저장하라. 저장 포맷은 아래와 같다. 각 행에 대한 데이터끼리 리스트에 저장되어야 한다.\n",
    "\n",
    "print(result)\n",
    "\n",
    "[\n",
    " [2000.28, 3050.427, 2050.2870000000003, 1980.2772],\n",
    " [7501.05, 2050.2870000000003, 2050.2870000000003, 1980.2772],\n",
    " [15452.163, 15052.107, 15552.177, 14902.086000000001]\n",
    "]"
   ]
  },
  {
   "cell_type": "code",
   "execution_count": 201,
   "id": "697ddd43",
   "metadata": {},
   "outputs": [
    {
     "name": "stdout",
     "output_type": "stream",
     "text": [
      "[[2000.28, 3050.427, 2050.287, 1980.2772], [7501.05, 2050.287, 2050.287, 1980.2772], [15452.163, 15052.107, 15552.177, 14902.086]]\n"
     ]
    }
   ],
   "source": [
    "data = [\n",
    "    [ 2000,  3050,  2050,  1980],\n",
    "    [ 7500,  2050,  2050,  1980],\n",
    "    [15450, 15050, 15550, 14900]\n",
    "]\n",
    "result=[]\n",
    "for i in range(3):\n",
    "    k=[]\n",
    "    for j in range(4):\n",
    "        ans = data[i][j]\n",
    "        x=ans*0.014\n",
    "        x/=100\n",
    "        k.append(ans+x)\n",
    "    result.append(k)\n",
    "print(result)"
   ]
  },
  {
   "cell_type": "markdown",
   "id": "b5d25093",
   "metadata": {},
   "source": [
    "# 195\n",
    "ohlc 리스트에는 시가(open), 고가 (high), 저가 (low) , 종가(close)가 날짜별로 저장돼 있다. 화면에 종가데이터를 출력하라.\n",
    "\n",
    "ohlc = [[\"open\", \"high\", \"low\", \"close\"],\n",
    "        \n",
    "        [100, 110, 70, 100],\n",
    "        \n",
    "        [200, 210, 180, 190],\n",
    "        \n",
    "        [300, 310, 300, 310]]"
   ]
  },
  {
   "cell_type": "code",
   "execution_count": 203,
   "id": "62d28d83",
   "metadata": {},
   "outputs": [
    {
     "name": "stdout",
     "output_type": "stream",
     "text": [
      "100\n",
      "190\n",
      "310\n"
     ]
    }
   ],
   "source": [
    "ohlc = [[\"open\", \"high\", \"low\", \"close\"],\n",
    "        [100, 110, 70, 100],\n",
    "        [200, 210, 180, 190],\n",
    "        [300, 310, 300, 310]]\n",
    "for i in range(1,4):\n",
    "    print(ohlc[i][-1])"
   ]
  },
  {
   "cell_type": "markdown",
   "id": "ea13fc70",
   "metadata": {},
   "source": [
    "# 196\n",
    "ohlc 리스트에는 시가(open), 고가 (high), 저가 (low) , 종가(close)가 날짜별로 저장돼 있다. 종가가 150원보다 큰경우에만 종가를 출력하라.\n",
    "\n",
    "ohlc = [[\"open\", \"high\", \"low\", \"close\"],\n",
    "        \n",
    "        [100, 110, 70, 100],\n",
    "        \n",
    "        [200, 210, 180, 190],\n",
    "        \n",
    "        [300, 310, 300, 310]]\n",
    "\n",
    "190\n",
    "\n",
    "310"
   ]
  },
  {
   "cell_type": "code",
   "execution_count": 205,
   "id": "159759d9",
   "metadata": {},
   "outputs": [
    {
     "name": "stdout",
     "output_type": "stream",
     "text": [
      "190\n",
      "310\n"
     ]
    }
   ],
   "source": [
    "ohlc = [[\"open\", \"high\", \"low\", \"close\"],\n",
    "        [100, 110, 70, 100],\n",
    "        [200, 210, 180, 190],\n",
    "        [300, 310, 300, 310]]\n",
    "for i in range(1,4):\n",
    "    x=ohlc[i][-1]\n",
    "    if x>150:\n",
    "        print(x)"
   ]
  },
  {
   "cell_type": "markdown",
   "id": "cf1fba57",
   "metadata": {},
   "source": [
    "# 197\n",
    "ohlc 리스트에는 시가(open), 고가 (high), 저가 (low) , 종가(close)가 날짜별로 저장돼 있다. 종가가 시가 보다 크거나 같은 경우에만 종가를 출력하라.\n",
    "\n",
    "ohlc = [[\"open\", \"high\", \"low\", \"close\"],\n",
    "        \n",
    "        [100, 110, 70, 100],\n",
    "        \n",
    "        [200, 210, 180, 190],\n",
    "        \n",
    "        [300, 310, 300, 310]]\n",
    "100\n",
    "\n",
    "310"
   ]
  },
  {
   "cell_type": "code",
   "execution_count": 206,
   "id": "657b135d",
   "metadata": {},
   "outputs": [
    {
     "name": "stdout",
     "output_type": "stream",
     "text": [
      "100\n",
      "310\n"
     ]
    }
   ],
   "source": [
    "ohlc = [[\"open\", \"high\", \"low\", \"close\"],\n",
    "        [100, 110, 70, 100],\n",
    "        [200, 210, 180, 190],\n",
    "        [300, 310, 300, 310]]\n",
    "for i in range(1,4):\n",
    "    if ohlc[i][-1] >= ohlc[i][0]:\n",
    "        print(ohlc[i][-1])"
   ]
  },
  {
   "cell_type": "markdown",
   "id": "86c2d34a",
   "metadata": {},
   "source": [
    "# 198\n",
    "ohlc 리스트에는 시가(open), 고가 (high), 저가 (low) , 종가(close)가 날짜별로 저장돼 있다. 고가와 저가의 차이를 변동폭으로 정의할 때 변동폭을 volatility 이름의 리스트에 저장하라.\n",
    "\n",
    "ohlc = [[\"open\", \"high\", \"low\", \"close\"],\n",
    "        \n",
    "        [100, 110, 70, 100],\n",
    "        \n",
    "        [200, 210, 180, 190],\n",
    "        \n",
    "        [300, 310, 300, 310]]\n",
    "\n",
    "print(volatility)\n",
    "\n",
    "[40, 30, 10]"
   ]
  },
  {
   "cell_type": "code",
   "execution_count": 207,
   "id": "4f33b87e",
   "metadata": {},
   "outputs": [
    {
     "name": "stdout",
     "output_type": "stream",
     "text": [
      "[40, 30, 10]\n"
     ]
    }
   ],
   "source": [
    "ohlc = [[\"open\", \"high\", \"low\", \"close\"],\n",
    "        [100, 110, 70, 100],\n",
    "        [200, 210, 180, 190],\n",
    "        [300, 310, 300, 310]]\n",
    "volatility=[]\n",
    "for i in range(1,4):\n",
    "    x=ohlc[i][1]-ohlc[i][2]\n",
    "    volatility.append(x)\n",
    "print(volatility)"
   ]
  },
  {
   "cell_type": "markdown",
   "id": "383a9a35",
   "metadata": {},
   "source": [
    "# 199\n",
    "리스트에는 3일 간의 ohlc 데이터가 저장돼 있다. 종가가 시가보다 높은 날의 변동성 (고가 - 저가)을 화면에 출력하라.\n",
    "\n",
    "ohlc = [[\"open\", \"high\", \"low\", \"close\"],\n",
    "        \n",
    "        [100, 110, 70, 100],\n",
    "        \n",
    "        [200, 210, 180, 190],\n",
    "        \n",
    "        [300, 310, 300, 310]]\n",
    "        \n",
    "종가가 시가보다 높은 거래일의 OHLC는 [300, 310, 300, 310] 이다. 따라서 이 거래일의 변동성은 10 (310 - 300)이다.\n",
    "\n",
    "10"
   ]
  },
  {
   "cell_type": "code",
   "execution_count": 209,
   "id": "5b4631e8",
   "metadata": {},
   "outputs": [
    {
     "name": "stdout",
     "output_type": "stream",
     "text": [
      "10\n"
     ]
    }
   ],
   "source": [
    "ohlc = [[\"open\", \"high\", \"low\", \"close\"],\n",
    "        [100, 110, 70, 100],\n",
    "        [200, 210, 180, 190],\n",
    "        [300, 310, 300, 310]]\n",
    "for i in range(1,4):\n",
    "    if ohlc[i][-1]>ohlc[i][0]:\n",
    "        print(ohlc[i][1]-ohlc[i][2])"
   ]
  },
  {
   "cell_type": "markdown",
   "id": "4e63708c",
   "metadata": {},
   "source": [
    "# 200\n",
    "리스트에는 3일 간의 ohlc 데이터가 저장돼 있다. 시가에 매수해서 종가에 매도 했을 경우 총 수익금을 계산하라.\n",
    "\n",
    "ohlc = [[\"open\", \"high\", \"low\", \"close\"],\n",
    "        \n",
    "        [100, 110, 70, 100],\n",
    "        \n",
    "        [200, 210, 180, 190],\n",
    "        \n",
    "        [300, 310, 300, 310]]\n",
    "\n",
    "1일차 수익 0원 (100 - 100), 2일차 수익 -10원 (190 - 200), 3일차 수익 10원 (310 - 300) 이다.\n",
    "\n",
    "0"
   ]
  },
  {
   "cell_type": "code",
   "execution_count": 210,
   "id": "5978124f",
   "metadata": {},
   "outputs": [
    {
     "name": "stdout",
     "output_type": "stream",
     "text": [
      "0\n"
     ]
    }
   ],
   "source": [
    "ohlc = [[\"open\", \"high\", \"low\", \"close\"],\n",
    "        [100, 110, 70, 100],\n",
    "        [200, 210, 180, 190],\n",
    "        [300, 310, 300, 310]]\n",
    "ans=0\n",
    "for i in range(1,4):\n",
    "    ans += ohlc[i][0]-ohlc[i][-1]\n",
    "print(ans)"
   ]
  },
  {
   "cell_type": "markdown",
   "id": "3cd1bf76",
   "metadata": {},
   "source": [
    "# <09. 파이썬 함수>"
   ]
  },
  {
   "cell_type": "markdown",
   "id": "31085e6e",
   "metadata": {},
   "source": [
    "# 201\n",
    "\"비트코인\" 문자열을 화면에 출력하는 print_coin() 함수를 정의하라."
   ]
  },
  {
   "cell_type": "code",
   "execution_count": 212,
   "id": "a8b20e2a",
   "metadata": {},
   "outputs": [],
   "source": [
    "def print_coin():\n",
    "    print(\"비트코인\")"
   ]
  },
  {
   "cell_type": "markdown",
   "id": "c9c62ea2",
   "metadata": {},
   "source": [
    "# 202\n",
    "201번에서 정의한 함수를 호출하라."
   ]
  },
  {
   "cell_type": "code",
   "execution_count": 213,
   "id": "d60ea076",
   "metadata": {},
   "outputs": [
    {
     "name": "stdout",
     "output_type": "stream",
     "text": [
      "비트코인\n"
     ]
    }
   ],
   "source": [
    "print_coin()"
   ]
  },
  {
   "cell_type": "markdown",
   "id": "99114b34",
   "metadata": {},
   "source": [
    "# 203\n",
    "201번에서 정의한 print_coin 함수를 100번호출하라."
   ]
  },
  {
   "cell_type": "code",
   "execution_count": 216,
   "id": "f760069a",
   "metadata": {},
   "outputs": [
    {
     "name": "stdout",
     "output_type": "stream",
     "text": [
      "비트코인\n",
      "비트코인\n",
      "비트코인\n",
      "비트코인\n",
      "비트코인\n",
      "비트코인\n",
      "비트코인\n",
      "비트코인\n",
      "비트코인\n",
      "비트코인\n",
      "비트코인\n",
      "비트코인\n",
      "비트코인\n",
      "비트코인\n",
      "비트코인\n",
      "비트코인\n",
      "비트코인\n",
      "비트코인\n",
      "비트코인\n",
      "비트코인\n",
      "비트코인\n",
      "비트코인\n",
      "비트코인\n",
      "비트코인\n",
      "비트코인\n",
      "비트코인\n",
      "비트코인\n",
      "비트코인\n",
      "비트코인\n",
      "비트코인\n",
      "비트코인\n",
      "비트코인\n",
      "비트코인\n",
      "비트코인\n",
      "비트코인\n",
      "비트코인\n",
      "비트코인\n",
      "비트코인\n",
      "비트코인\n",
      "비트코인\n",
      "비트코인\n",
      "비트코인\n",
      "비트코인\n",
      "비트코인\n",
      "비트코인\n",
      "비트코인\n",
      "비트코인\n",
      "비트코인\n",
      "비트코인\n",
      "비트코인\n",
      "비트코인\n",
      "비트코인\n",
      "비트코인\n",
      "비트코인\n",
      "비트코인\n",
      "비트코인\n",
      "비트코인\n",
      "비트코인\n",
      "비트코인\n",
      "비트코인\n",
      "비트코인\n",
      "비트코인\n",
      "비트코인\n",
      "비트코인\n",
      "비트코인\n",
      "비트코인\n",
      "비트코인\n",
      "비트코인\n",
      "비트코인\n",
      "비트코인\n",
      "비트코인\n",
      "비트코인\n",
      "비트코인\n",
      "비트코인\n",
      "비트코인\n",
      "비트코인\n",
      "비트코인\n",
      "비트코인\n",
      "비트코인\n",
      "비트코인\n",
      "비트코인\n",
      "비트코인\n",
      "비트코인\n",
      "비트코인\n",
      "비트코인\n",
      "비트코인\n",
      "비트코인\n",
      "비트코인\n",
      "비트코인\n",
      "비트코인\n",
      "비트코인\n",
      "비트코인\n",
      "비트코인\n",
      "비트코인\n",
      "비트코인\n",
      "비트코인\n",
      "비트코인\n",
      "비트코인\n",
      "비트코인\n",
      "비트코인\n"
     ]
    }
   ],
   "source": [
    "for i in range(100):\n",
    "    print_coin()"
   ]
  },
  {
   "cell_type": "markdown",
   "id": "cc10390a",
   "metadata": {},
   "source": [
    "# 204\n",
    "\"비트코인\" 문자열을 100번 화면에 출력하는 print_coins() 함수를 정의하라."
   ]
  },
  {
   "cell_type": "code",
   "execution_count": 215,
   "id": "5c5942dc",
   "metadata": {},
   "outputs": [
    {
     "name": "stdout",
     "output_type": "stream",
     "text": [
      "비트코인\n",
      "비트코인\n",
      "비트코인\n",
      "비트코인\n",
      "비트코인\n",
      "비트코인\n",
      "비트코인\n",
      "비트코인\n",
      "비트코인\n",
      "비트코인\n",
      "비트코인\n",
      "비트코인\n",
      "비트코인\n",
      "비트코인\n",
      "비트코인\n",
      "비트코인\n",
      "비트코인\n",
      "비트코인\n",
      "비트코인\n",
      "비트코인\n",
      "비트코인\n",
      "비트코인\n",
      "비트코인\n",
      "비트코인\n",
      "비트코인\n",
      "비트코인\n",
      "비트코인\n",
      "비트코인\n",
      "비트코인\n",
      "비트코인\n",
      "비트코인\n",
      "비트코인\n",
      "비트코인\n",
      "비트코인\n",
      "비트코인\n",
      "비트코인\n",
      "비트코인\n",
      "비트코인\n",
      "비트코인\n",
      "비트코인\n",
      "비트코인\n",
      "비트코인\n",
      "비트코인\n",
      "비트코인\n",
      "비트코인\n",
      "비트코인\n",
      "비트코인\n",
      "비트코인\n",
      "비트코인\n",
      "비트코인\n",
      "비트코인\n",
      "비트코인\n",
      "비트코인\n",
      "비트코인\n",
      "비트코인\n",
      "비트코인\n",
      "비트코인\n",
      "비트코인\n",
      "비트코인\n",
      "비트코인\n",
      "비트코인\n",
      "비트코인\n",
      "비트코인\n",
      "비트코인\n",
      "비트코인\n",
      "비트코인\n",
      "비트코인\n",
      "비트코인\n",
      "비트코인\n",
      "비트코인\n",
      "비트코인\n",
      "비트코인\n",
      "비트코인\n",
      "비트코인\n",
      "비트코인\n",
      "비트코인\n",
      "비트코인\n",
      "비트코인\n",
      "비트코인\n",
      "비트코인\n",
      "비트코인\n",
      "비트코인\n",
      "비트코인\n",
      "비트코인\n",
      "비트코인\n",
      "비트코인\n",
      "비트코인\n",
      "비트코인\n",
      "비트코인\n",
      "비트코인\n",
      "비트코인\n",
      "비트코인\n",
      "비트코인\n",
      "비트코인\n",
      "비트코인\n",
      "비트코인\n",
      "비트코인\n",
      "비트코인\n",
      "비트코인\n",
      "비트코인\n"
     ]
    }
   ],
   "source": [
    "def print_coins():\n",
    "    for i in range(100):\n",
    "        print(\"비트코인\")\n",
    "print_coins()"
   ]
  },
  {
   "cell_type": "markdown",
   "id": "9cc532d9",
   "metadata": {},
   "source": [
    "# 205\n",
    "아래의 에러가 발생하는 이유에 대해 설명하라.\n",
    "\n",
    "hello()\n",
    "\n",
    "def hello():\n",
    "    \n",
    "    print(\"Hi\")"
   ]
  },
  {
   "cell_type": "markdown",
   "id": "cddb2880",
   "metadata": {},
   "source": [
    "답 : hello() 함수를 저장하기 전에 hello()를 실행해서 NameError 발생"
   ]
  },
  {
   "cell_type": "markdown",
   "id": "028d9577",
   "metadata": {},
   "source": [
    "# 206\n",
    "아래 코드의 실행 결과를 예측하라.\n",
    "\n",
    "def message() :\n",
    "    \n",
    "    print(\"A\")\n",
    "    \n",
    "    print(\"B\")\n",
    "\n",
    "message()\n",
    "\n",
    "print(\"C\")\n",
    "\n",
    "message()"
   ]
  },
  {
   "cell_type": "markdown",
   "id": "731d8554",
   "metadata": {},
   "source": [
    "답 :"
   ]
  },
  {
   "cell_type": "markdown",
   "id": "8298a924",
   "metadata": {},
   "source": [
    "A\n",
    "\n",
    "B\n",
    "\n",
    "C\n",
    "\n",
    "A\n",
    "\n",
    "B"
   ]
  },
  {
   "cell_type": "markdown",
   "id": "69e178a8",
   "metadata": {},
   "source": [
    "출력"
   ]
  },
  {
   "cell_type": "code",
   "execution_count": 217,
   "id": "bfcd9f7c",
   "metadata": {},
   "outputs": [
    {
     "name": "stdout",
     "output_type": "stream",
     "text": [
      "A\n",
      "B\n",
      "C\n",
      "A\n",
      "B\n"
     ]
    }
   ],
   "source": [
    "def message() :\n",
    "    print(\"A\")\n",
    "    print(\"B\")\n",
    "\n",
    "message()\n",
    "print(\"C\")\n",
    "message()"
   ]
  },
  {
   "cell_type": "markdown",
   "id": "4ea0197a",
   "metadata": {},
   "source": [
    "# 207\n",
    "아래 코드의 실행 결과를 예측하라. (읽기 어려운 코드의 예입니다.)\n",
    "\n",
    "print(\"A\")\n",
    "\n",
    "def message() :\n",
    "    \n",
    "    print(\"B\")\n",
    "\n",
    "print(\"C\")\n",
    "\n",
    "message()"
   ]
  },
  {
   "cell_type": "markdown",
   "id": "a5e1540d",
   "metadata": {},
   "source": [
    "답 :"
   ]
  },
  {
   "cell_type": "markdown",
   "id": "6cddf534",
   "metadata": {},
   "source": [
    "A\n",
    "\n",
    "C\n",
    "\n",
    "B"
   ]
  },
  {
   "cell_type": "markdown",
   "id": "a169ee44",
   "metadata": {},
   "source": [
    "출력"
   ]
  },
  {
   "cell_type": "code",
   "execution_count": 218,
   "id": "8a4b5d8a",
   "metadata": {},
   "outputs": [
    {
     "name": "stdout",
     "output_type": "stream",
     "text": [
      "A\n",
      "C\n",
      "B\n"
     ]
    }
   ],
   "source": [
    "print(\"A\")\n",
    "\n",
    "def message() :\n",
    "    print(\"B\")\n",
    "\n",
    "print(\"C\")\n",
    "message()"
   ]
  },
  {
   "cell_type": "markdown",
   "id": "8e1c6b55",
   "metadata": {},
   "source": [
    "# 208\n",
    "아래 코드의 실행 결과를 예측하라. (읽기 어려운 코드의 예입니다.)\n",
    "\n",
    "print(\"A\")\n",
    "\n",
    "def message1() :\n",
    "    \n",
    "    print(\"B\")\n",
    "\n",
    "print(\"C\")\n",
    "\n",
    "def message2() :\n",
    "    \n",
    "    print(\"D\")\n",
    "\n",
    "message1()\n",
    "\n",
    "print(\"E\")\n",
    "\n",
    "message2()"
   ]
  },
  {
   "cell_type": "markdown",
   "id": "5e6af19f",
   "metadata": {},
   "source": [
    "답 :"
   ]
  },
  {
   "cell_type": "markdown",
   "id": "7ecaff84",
   "metadata": {},
   "source": [
    "A\n",
    "\n",
    "C\n",
    "\n",
    "B\n",
    "\n",
    "E\n",
    "\n",
    "D"
   ]
  },
  {
   "cell_type": "markdown",
   "id": "708dacae",
   "metadata": {},
   "source": [
    "출력"
   ]
  },
  {
   "cell_type": "code",
   "execution_count": 219,
   "id": "6ad6707a",
   "metadata": {},
   "outputs": [
    {
     "name": "stdout",
     "output_type": "stream",
     "text": [
      "A\n",
      "C\n",
      "B\n",
      "E\n",
      "D\n"
     ]
    }
   ],
   "source": [
    "print(\"A\")\n",
    "def message1() :\n",
    "    print(\"B\")\n",
    "print(\"C\")\n",
    "def message2() :\n",
    "    print(\"D\")\n",
    "message1()\n",
    "print(\"E\")\n",
    "message2()"
   ]
  },
  {
   "cell_type": "markdown",
   "id": "2dc9e2f3",
   "metadata": {},
   "source": [
    "# 209\n",
    "아래 코드의 실행 결과를 예측하라.\n",
    "\n",
    "def message1():\n",
    "    \n",
    "    print(\"A\")\n",
    "\n",
    "def message2():\n",
    "    \n",
    "    print(\"B\")\n",
    "    \n",
    "    message1()\n",
    "\n",
    "message2()"
   ]
  },
  {
   "cell_type": "markdown",
   "id": "60e41bb4",
   "metadata": {},
   "source": [
    "답 :"
   ]
  },
  {
   "cell_type": "markdown",
   "id": "b136aa8c",
   "metadata": {},
   "source": [
    "B\n",
    "\n",
    "A"
   ]
  },
  {
   "cell_type": "markdown",
   "id": "1cc32159",
   "metadata": {},
   "source": [
    "출력"
   ]
  },
  {
   "cell_type": "code",
   "execution_count": 220,
   "id": "5588b6ef",
   "metadata": {},
   "outputs": [
    {
     "name": "stdout",
     "output_type": "stream",
     "text": [
      "B\n",
      "A\n"
     ]
    }
   ],
   "source": [
    "def message1():\n",
    "    print(\"A\")\n",
    "\n",
    "def message2():\n",
    "    print(\"B\")\n",
    "    message1()\n",
    "\n",
    "message2()"
   ]
  },
  {
   "cell_type": "markdown",
   "id": "1f45ba68",
   "metadata": {},
   "source": [
    "# 210\n",
    "아래 코드의 실행 결과를 예측하라.\n",
    "\n",
    "def message1():\n",
    "    \n",
    "    print(\"A\")\n",
    "\n",
    "def message2():\n",
    "    \n",
    "    print(\"B\")\n",
    "\n",
    "def message3():\n",
    "    \n",
    "    for i in range (3) :\n",
    "        \n",
    "        message2()\n",
    "        \n",
    "        print(\"C\")\n",
    "    \n",
    "    message1()\n",
    "\n",
    "message3()"
   ]
  },
  {
   "cell_type": "markdown",
   "id": "9bcea8cf",
   "metadata": {},
   "source": [
    "답 :"
   ]
  },
  {
   "cell_type": "markdown",
   "id": "9c71c227",
   "metadata": {},
   "source": [
    "B\n",
    "\n",
    "C\n",
    "\n",
    "B\n",
    "\n",
    "C\n",
    "\n",
    "B\n",
    "\n",
    "C\n",
    "\n",
    "A"
   ]
  },
  {
   "cell_type": "markdown",
   "id": "fa0acca8",
   "metadata": {},
   "source": [
    "출력"
   ]
  },
  {
   "cell_type": "code",
   "execution_count": 221,
   "id": "46066d2e",
   "metadata": {},
   "outputs": [
    {
     "name": "stdout",
     "output_type": "stream",
     "text": [
      "B\n",
      "C\n",
      "B\n",
      "C\n",
      "B\n",
      "C\n",
      "A\n"
     ]
    }
   ],
   "source": [
    "def message1():\n",
    "    print(\"A\")\n",
    "\n",
    "def message2():\n",
    "    print(\"B\")\n",
    "\n",
    "def message3():\n",
    "    for i in range (3) :\n",
    "        message2()\n",
    "        print(\"C\")\n",
    "    message1()\n",
    "\n",
    "message3()"
   ]
  },
  {
   "cell_type": "markdown",
   "id": "9b9e4074",
   "metadata": {},
   "source": [
    "# 211\n",
    "함수의 호출 결과를 예측하라.\n",
    "\n",
    "def 함수(문자열) :\n",
    "    \n",
    "    print(문자열)\n",
    "\n",
    "함수(\"안녕\")\n",
    "\n",
    "함수(\"Hi\")"
   ]
  },
  {
   "cell_type": "markdown",
   "id": "85a6f340",
   "metadata": {},
   "source": [
    "답:"
   ]
  },
  {
   "cell_type": "markdown",
   "id": "b7852bb8",
   "metadata": {},
   "source": [
    "안녕\n",
    "\n",
    "HI\n",
    "\n",
    "출력"
   ]
  },
  {
   "cell_type": "code",
   "execution_count": 222,
   "id": "a15676b7",
   "metadata": {},
   "outputs": [
    {
     "name": "stdout",
     "output_type": "stream",
     "text": [
      "안녕\n",
      "Hi\n"
     ]
    }
   ],
   "source": [
    "def 함수(문자열) :\n",
    "    print(문자열)\n",
    "\n",
    "함수(\"안녕\")\n",
    "함수(\"Hi\")"
   ]
  },
  {
   "cell_type": "markdown",
   "id": "a113ea10",
   "metadata": {},
   "source": [
    "# 212\n",
    "함수의 호출 결과를 예측하라.\n",
    "\n",
    "def 함수(a, b) :\n",
    "    \n",
    "    print(a + b)\n",
    "\n",
    "함수(3, 4)\n",
    "\n",
    "함수(7, 8)"
   ]
  },
  {
   "cell_type": "markdown",
   "id": "3bae0c9a",
   "metadata": {},
   "source": [
    "답:"
   ]
  },
  {
   "cell_type": "markdown",
   "id": "1b28c9fc",
   "metadata": {},
   "source": [
    "7\n",
    "\n",
    "15\n",
    "\n",
    "출력"
   ]
  },
  {
   "cell_type": "code",
   "execution_count": 223,
   "id": "6905b9c5",
   "metadata": {},
   "outputs": [
    {
     "name": "stdout",
     "output_type": "stream",
     "text": [
      "7\n",
      "15\n"
     ]
    }
   ],
   "source": [
    "def 함수(a, b) :\n",
    "    print(a + b)\n",
    "\n",
    "함수(3, 4)\n",
    "함수(7, 8)"
   ]
  },
  {
   "cell_type": "markdown",
   "id": "5b1b3c44",
   "metadata": {},
   "source": [
    "# 213\n",
    "아래와 같은 에러가 발생하는 원인을 설명하라.\n",
    "\n",
    "def 함수(문자열) :\n",
    "    \n",
    "    print(문자열)\n",
    "\n",
    "함수()\n",
    "\n",
    "TypeError: 함수() missing 1 required positional argument: '문자열'"
   ]
  },
  {
   "cell_type": "markdown",
   "id": "f3dbcb77",
   "metadata": {},
   "source": [
    "답 : 함수에 정의와 다르게 함수를 호출하고 있다. 함수를 호출할 때 하나의 파라미터를 입력해야한다."
   ]
  },
  {
   "cell_type": "markdown",
   "id": "0e7b9e9e",
   "metadata": {},
   "source": [
    "# 214\n",
    "아래와 같은 에러가 발생하는 원인을 설명하라.\n",
    "\n",
    "def 함수(a, b) :\n",
    "    \n",
    "    print(a + b)\n",
    "\n",
    "함수(\"안녕\", 3)\n"
   ]
  },
  {
   "cell_type": "markdown",
   "id": "e57dd0e2",
   "metadata": {},
   "source": [
    "답 : 문자열과 정수형은 더할 수 없음"
   ]
  },
  {
   "cell_type": "markdown",
   "id": "00f5eafc",
   "metadata": {},
   "source": [
    "# 215\n",
    "하나의 문자를 입력받아 문자열 끝에 \":D\" 스마일 문자열을 이어 붙여 출력하는 print_with_smile 함수를 정의하라."
   ]
  },
  {
   "cell_type": "code",
   "execution_count": 228,
   "id": "2d8b84ec",
   "metadata": {},
   "outputs": [],
   "source": [
    "def print_with_smile(string):\n",
    "    print(string+\":D\")"
   ]
  },
  {
   "cell_type": "markdown",
   "id": "b795b176",
   "metadata": {},
   "source": [
    "# 216\n",
    "215에서 정의한 함수를 호출하라. 파라미터는 \"안녕하세요\"로 입력하라"
   ]
  },
  {
   "cell_type": "code",
   "execution_count": 238,
   "id": "4f52bbf9",
   "metadata": {},
   "outputs": [
    {
     "name": "stdout",
     "output_type": "stream",
     "text": [
      "안녕하세요\n",
      "안녕하세요:D\n"
     ]
    }
   ],
   "source": [
    "print_with_smile(input())"
   ]
  },
  {
   "cell_type": "markdown",
   "id": "28df28a1",
   "metadata": {},
   "source": [
    "# 217\n",
    "현재 가격을 입력 받아 상한가 (30%)를 출력하는 print_upper_price 함수를 정의하라."
   ]
  },
  {
   "cell_type": "code",
   "execution_count": 237,
   "id": "c2834807",
   "metadata": {},
   "outputs": [
    {
     "name": "stdout",
     "output_type": "stream",
     "text": [
      "100\n",
      "130.0\n"
     ]
    }
   ],
   "source": [
    "def print_upper_price(x):\n",
    "    print(x+x*0.3)\n",
    "print_upper_price(int(input()))"
   ]
  },
  {
   "cell_type": "markdown",
   "id": "c9b40af1",
   "metadata": {},
   "source": [
    "# 218\n",
    "두 개의 숫자를 입력받아 두 수의 합을 출력하는 print_sum 함수를 정의하라."
   ]
  },
  {
   "cell_type": "code",
   "execution_count": 236,
   "id": "478744f4",
   "metadata": {},
   "outputs": [
    {
     "name": "stdout",
     "output_type": "stream",
     "text": [
      "3 5\n",
      "8\n"
     ]
    }
   ],
   "source": [
    "def print_sum(x,y):\n",
    "    print(x+y)\n",
    "a,b=map(int,input().split())\n",
    "print_sum(a,b)"
   ]
  },
  {
   "cell_type": "markdown",
   "id": "985ff68f",
   "metadata": {},
   "source": [
    "# 219\n",
    "두 개의 숫자를 입력받아 합/차/곱/나눗셈을 출력하는 print_arithmetic_operation 함수를 작성하라.\n",
    "\n",
    "\n",
    "print_arithmetic_operation(3, 4)\n",
    "\n",
    "3 + 4 = 7\n",
    "\n",
    "3 - 4 = -1\n",
    "\n",
    "3 * 4 = 12\n",
    "\n",
    "3 / 4 = 0.75\n"
   ]
  },
  {
   "cell_type": "code",
   "execution_count": 235,
   "id": "f613cddc",
   "metadata": {},
   "outputs": [
    {
     "name": "stdout",
     "output_type": "stream",
     "text": [
      "3 4\n",
      "3 + 4 = 7\n",
      "3 - 4 = -1\n",
      "3 * 4 = 12\n",
      "3 / 4 = 0.75\n"
     ]
    }
   ],
   "source": [
    "def print_arithmetic_operation(x,y):\n",
    "    print(f'{x} + {y} = {x+y}')\n",
    "    print(f'{x} - {y} = {x-y}')\n",
    "    print(f'{x} * {y} = {x*y}')\n",
    "    print(f'{x} / {y} = {x/y}')\n",
    "a,b=map(int,input().split())\n",
    "print_arithmetic_operation(a,b)"
   ]
  },
  {
   "cell_type": "markdown",
   "id": "0546939a",
   "metadata": {},
   "source": [
    "# 220\n",
    "세 개의 숫자를 입력받아 가장 큰수를 출력하는 print_max 함수를 정의하라. 단 if 문을 사용해서 수를 비교하라."
   ]
  },
  {
   "cell_type": "code",
   "execution_count": 244,
   "id": "40944019",
   "metadata": {},
   "outputs": [
    {
     "name": "stdout",
     "output_type": "stream",
     "text": [
      "10 20 30\n",
      "30\n"
     ]
    }
   ],
   "source": [
    "def print_max(a,b,c):\n",
    "    if a>b:\n",
    "        if a>c:\n",
    "            print(a)\n",
    "        else:\n",
    "            print(c)\n",
    "    else:\n",
    "        if b>c:\n",
    "            print(b)\n",
    "        else:\n",
    "            print(c)\n",
    "a,b,c=map(int,input().split())\n",
    "print_max(a,b,c)"
   ]
  },
  {
   "cell_type": "markdown",
   "id": "b45789fd",
   "metadata": {},
   "source": [
    "# 221\n",
    "입력된 문자열을 역순으로 출력하는 print_reverse 함수를 정의하라.\n",
    "\n",
    "print_reverse(\"python\")\n",
    "\n",
    "nohtyp"
   ]
  },
  {
   "cell_type": "code",
   "execution_count": 250,
   "id": "730c9a24",
   "metadata": {},
   "outputs": [
    {
     "name": "stdout",
     "output_type": "stream",
     "text": [
      "python\n",
      "nohtyp\n"
     ]
    }
   ],
   "source": [
    "def print_reverse(string):\n",
    "    print(string[::-1])\n",
    "print_reverse(input())"
   ]
  },
  {
   "cell_type": "markdown",
   "id": "47171d18",
   "metadata": {},
   "source": [
    "# 222\n",
    "성적 리스트를 입력 받아 평균을 출력하는 print_score 함수를 정의하라.\n",
    "\n",
    "print_score ([1, 2, 3])\n",
    "\n",
    "2.0"
   ]
  },
  {
   "cell_type": "code",
   "execution_count": 252,
   "id": "1c04f650",
   "metadata": {},
   "outputs": [
    {
     "name": "stdout",
     "output_type": "stream",
     "text": [
      "1 2 3\n",
      "2.0\n"
     ]
    }
   ],
   "source": [
    "def print_score(list):\n",
    "    print(sum(list)/len(list))\n",
    "a=list(map(int,input().split()))\n",
    "print_score(a)"
   ]
  },
  {
   "cell_type": "markdown",
   "id": "ed0a910e",
   "metadata": {},
   "source": [
    "# 223\n",
    "하나의 리스트를 입력받아 짝수만 화면에 출력하는 print_even 함수를 정의하라.\n",
    "\n",
    "print_even ([1, 3, 2, 10, 12, 11, 15])\n",
    "\n",
    "2\n",
    "\n",
    "10\n",
    "\n",
    "12"
   ]
  },
  {
   "cell_type": "code",
   "execution_count": 258,
   "id": "d4f5aca2",
   "metadata": {},
   "outputs": [
    {
     "name": "stdout",
     "output_type": "stream",
     "text": [
      "1 3 2 10 12 11 15\n",
      "2\n",
      "10\n",
      "12\n"
     ]
    }
   ],
   "source": [
    "def print_even(list):\n",
    "    for i in list:\n",
    "        if i %2 ==0:\n",
    "            print(i)\n",
    "a=list(map(int,input().split()))\n",
    "print_even(a)"
   ]
  },
  {
   "cell_type": "markdown",
   "id": "66d1f936",
   "metadata": {},
   "source": [
    "# 224\n",
    "하나의 딕셔너리를 입력받아 딕셔너리의 key 값을 화면에 출력하는 print_keys 함수를 정의하라.\n",
    "\n",
    "print_keys ({\"이름\":\"김말똥\", \"나이\":30, \"성별\":0})\n",
    "\n",
    "이름\n",
    "\n",
    "나이\n",
    "\n",
    "성별"
   ]
  },
  {
   "cell_type": "code",
   "execution_count": 259,
   "id": "bb3c0055",
   "metadata": {},
   "outputs": [
    {
     "name": "stdout",
     "output_type": "stream",
     "text": [
      "이름\n",
      "나이\n",
      "성별\n"
     ]
    }
   ],
   "source": [
    "def print_keys(dic):\n",
    "    for i in dic.keys():\n",
    "        print(i)\n",
    "print_keys ({\"이름\":\"김말똥\", \"나이\":30, \"성별\":0})"
   ]
  },
  {
   "cell_type": "markdown",
   "id": "d4484137",
   "metadata": {},
   "source": [
    "# 225\n",
    "my_dict에는 날짜를 키값으로 OHLC가 리스트로 저장돼 있다.\n",
    "\n",
    "my_dict = {\"10/26\" : [100, 130, 100, 100],\n",
    "           \n",
    "           \"10/27\" : [10, 12, 10, 11]}\n",
    "\n",
    "my_dict와 날짜 키값을 입력받아 OHLC 리스트를 출력하는 print_value_by_key 함수를 정의하라.\n",
    "\n",
    "print_value_by_key  (my_dict, \"10/26\")\n",
    "\n",
    "[100, 130, 100, 100]"
   ]
  },
  {
   "cell_type": "code",
   "execution_count": 260,
   "id": "6ad7874c",
   "metadata": {},
   "outputs": [
    {
     "name": "stdout",
     "output_type": "stream",
     "text": [
      "[100, 130, 100, 100]\n"
     ]
    }
   ],
   "source": [
    "my_dict = {\"10/26\" : [100, 130, 100, 100],\n",
    "           \"10/27\" : [10, 12, 10, 11]}\n",
    "\n",
    "def print_value_by_key(my_dict,key):\n",
    "    print(my_dict[key])\n",
    "\n",
    "print_value_by_key (my_dict, \"10/26\")"
   ]
  },
  {
   "cell_type": "markdown",
   "id": "20a26248",
   "metadata": {},
   "source": [
    "# 226\n",
    "입력 문자열을 한 줄에 다섯글자씩 출력하는 print_5xn(string) 함수를 작성하라.\n",
    "\n",
    "print_5xn(\"아이엠어보이유알어걸\")\n",
    "\n",
    "아이엠어보\n",
    "\n",
    "이유알어걸"
   ]
  },
  {
   "cell_type": "code",
   "execution_count": 268,
   "id": "5d2991e6",
   "metadata": {},
   "outputs": [
    {
     "name": "stdout",
     "output_type": "stream",
     "text": [
      "아이엠어보이유알어걸\n",
      "아이엠어보\n",
      "이유알어걸\n",
      "\n"
     ]
    }
   ],
   "source": [
    "def print_5xn(string):\n",
    "    a = len(string)\n",
    "    a//=5\n",
    "    a+=1\n",
    "    for i in range(a):\n",
    "        print(string[i*5:(i+1)*5])\n",
    "print_5xn(input())"
   ]
  },
  {
   "cell_type": "markdown",
   "id": "a802023c",
   "metadata": {},
   "source": [
    "# 227\n",
    "문자열과 한줄에 출력될 글자 수를 입력을 받아 한 줄에 입력된 글자 수만큼 출력하는 print_mxn(string) 함수를 작성하라.\n",
    "\n",
    "printmxn(\"아이엠어보이유알어걸\", 3)\n",
    "\n",
    "아이엠\n",
    "\n",
    "어보이\n",
    "\n",
    "유알어\n",
    "\n",
    "걸"
   ]
  },
  {
   "cell_type": "code",
   "execution_count": 272,
   "id": "3702afac",
   "metadata": {},
   "outputs": [
    {
     "name": "stdout",
     "output_type": "stream",
     "text": [
      "아이엠어보이유알어걸\n",
      "3\n",
      "아이엠\n",
      "어보이\n",
      "유알어\n",
      "걸\n"
     ]
    }
   ],
   "source": [
    "def print_mxn(string,x):\n",
    "    a = len(string)\n",
    "    a//=x\n",
    "    a+=1\n",
    "    for i in range(a):\n",
    "        print(string[i*x:(i+1)*x])\n",
    "a=input()\n",
    "b=int(input())\n",
    "print_mxn(a,b)"
   ]
  },
  {
   "cell_type": "markdown",
   "id": "375ae85a",
   "metadata": {},
   "source": [
    "# 228\n",
    "연봉을 입력받아 월급을 계산하는 calc_monthly_salary(annual_salary) 함수를 정의하라. 회사는 연봉을 12개월로 나누어 분할 지급하며, 이 때 1원 미만은 버림한다.\n",
    "\n",
    "calc_monthly_salary(12000000)\n",
    "\n",
    "1000000"
   ]
  },
  {
   "cell_type": "code",
   "execution_count": 274,
   "id": "f9f16e84",
   "metadata": {},
   "outputs": [
    {
     "name": "stdout",
     "output_type": "stream",
     "text": [
      "12000000\n",
      "1000000\n"
     ]
    }
   ],
   "source": [
    "def calc_monthly_salary(annual_salary):\n",
    "    print(annual_salary//12)\n",
    "calc_monthly_salary(int(input()))"
   ]
  },
  {
   "cell_type": "markdown",
   "id": "5e918cd8",
   "metadata": {},
   "source": [
    "# 229\n",
    "아래 코드의 실행 결과를 예측하라.\n",
    "\n",
    "def my_print (a, b) :\n",
    "    \n",
    "    print(\"왼쪽:\", a)\n",
    "    \n",
    "    print(\"오른쪽:\", b)\n",
    "\n",
    "my_print(b=100, a=200)"
   ]
  },
  {
   "cell_type": "markdown",
   "id": "e803e86c",
   "metadata": {},
   "source": [
    "답 :"
   ]
  },
  {
   "cell_type": "markdown",
   "id": "e0e53a07",
   "metadata": {},
   "source": [
    "왼쪽: 100\n",
    "\n",
    "오른쪽: 200\n",
    "\n",
    "출력"
   ]
  },
  {
   "cell_type": "code",
   "execution_count": 278,
   "id": "a6bf0e2e",
   "metadata": {},
   "outputs": [
    {
     "name": "stdout",
     "output_type": "stream",
     "text": [
      "왼쪽: 100\n",
      "오른쪽: 200\n"
     ]
    }
   ],
   "source": [
    "def my_print (a, b) :\n",
    "    print(\"왼쪽:\", a)\n",
    "    print(\"오른쪽:\", b)\n",
    "\n",
    "my_print(a=100, b=200)"
   ]
  },
  {
   "cell_type": "markdown",
   "id": "7945da4f",
   "metadata": {},
   "source": [
    "# 230\n",
    "아래 코드의 실행 결과를 예측하라.\n",
    "\n",
    "def my_print (a, b) :\n",
    "    \n",
    "    print(\"왼쪽:\", a)\n",
    "    \n",
    "    print(\"오른쪽:\", b)\n",
    "\n",
    "my_print(b=100, a=200)\n"
   ]
  },
  {
   "cell_type": "markdown",
   "id": "6ef61e47",
   "metadata": {},
   "source": [
    "답 :"
   ]
  },
  {
   "cell_type": "markdown",
   "id": "5bae35fb",
   "metadata": {},
   "source": [
    "왼쪽: 100\n",
    "\n",
    "오른쪽: 200\n",
    "\n",
    "출력"
   ]
  },
  {
   "cell_type": "code",
   "execution_count": 277,
   "id": "aae68765",
   "metadata": {},
   "outputs": [
    {
     "name": "stdout",
     "output_type": "stream",
     "text": [
      "왼쪽: 200\n",
      "오른쪽: 100\n"
     ]
    }
   ],
   "source": [
    "def my_print (a, b) :\n",
    "    print(\"왼쪽:\", a)\n",
    "    print(\"오른쪽:\", b)\n",
    "\n",
    "my_print(b=100, a=200)"
   ]
  },
  {
   "cell_type": "markdown",
   "id": "bc9de535",
   "metadata": {},
   "source": [
    "# 231\n",
    "아래 코드를 실행한 결과를 예상하라.\n",
    "\n",
    "def n_plus_1 (n) :\n",
    "    \n",
    "    result = n + 1\n",
    "\n",
    "n_plus_1(3)\n",
    "\n",
    "print (result)"
   ]
  },
  {
   "cell_type": "markdown",
   "id": "3339ae5a",
   "metadata": {},
   "source": [
    "답 : 에러 발생\n",
    "\n",
    "Since, 함수 내부에 있는 변수는 밖에서 접근 불가능"
   ]
  },
  {
   "cell_type": "code",
   "execution_count": 1,
   "id": "bc78e5d0",
   "metadata": {},
   "outputs": [
    {
     "ename": "NameError",
     "evalue": "name 'result' is not defined",
     "output_type": "error",
     "traceback": [
      "\u001b[1;31m---------------------------------------------------------------------------\u001b[0m",
      "\u001b[1;31mNameError\u001b[0m                                 Traceback (most recent call last)",
      "Input \u001b[1;32mIn [1]\u001b[0m, in \u001b[0;36m<cell line: 5>\u001b[1;34m()\u001b[0m\n\u001b[0;32m      2\u001b[0m     result \u001b[38;5;241m=\u001b[39m n \u001b[38;5;241m+\u001b[39m \u001b[38;5;241m1\u001b[39m\n\u001b[0;32m      4\u001b[0m n_plus_1(\u001b[38;5;241m3\u001b[39m)\n\u001b[1;32m----> 5\u001b[0m \u001b[38;5;28mprint\u001b[39m (\u001b[43mresult\u001b[49m)\n",
      "\u001b[1;31mNameError\u001b[0m: name 'result' is not defined"
     ]
    }
   ],
   "source": [
    "def n_plus_1 (n) :\n",
    "    result = n + 1\n",
    "\n",
    "n_plus_1(3)\n",
    "print (result)"
   ]
  },
  {
   "cell_type": "markdown",
   "id": "3c61c03a",
   "metadata": {},
   "source": [
    "# 232\n",
    "문자열 하나를 입력받아 인터넷 주소를 반환하는 make_url 함수를 정의하라.\n",
    "\n",
    "make_url(\"naver\")\n",
    "\n",
    "www.naver.com"
   ]
  },
  {
   "cell_type": "code",
   "execution_count": 4,
   "id": "aaca169f",
   "metadata": {},
   "outputs": [
    {
     "name": "stdout",
     "output_type": "stream",
     "text": [
      "www.naver.com\n"
     ]
    }
   ],
   "source": [
    "def make_url(string):\n",
    "    print(f'www.{string}.com')\n",
    "make_url(\"naver\")"
   ]
  },
  {
   "cell_type": "markdown",
   "id": "267237b6",
   "metadata": {},
   "source": [
    "# 233\n",
    "문자열을 입력받아 각 문자들로 구성된 리스트로 반환하는 make_list 함수를 정의하라.\n",
    "\n",
    "make_list(\"abcd\")\n",
    "\n",
    "['a', 'b', 'c', 'd']"
   ]
  },
  {
   "cell_type": "code",
   "execution_count": 9,
   "id": "ee92a636",
   "metadata": {},
   "outputs": [
    {
     "name": "stdout",
     "output_type": "stream",
     "text": [
      "['a', 'b', 'c', 'd']\n"
     ]
    }
   ],
   "source": [
    "def make_list(string):\n",
    "    k=[]\n",
    "    for i in range(len(string)):\n",
    "        k.append(string[i])\n",
    "    print(k)\n",
    "make_list(\"abcd\")"
   ]
  },
  {
   "cell_type": "markdown",
   "id": "e361ba60",
   "metadata": {},
   "source": [
    "# 234\n",
    "숫자로 구성된 하나의 리스트를 입력받아, 짝수들을 추출하여 리스트로 반환하는 \n",
    "\n",
    "pickup_even 함수를 구현하라.\n",
    "\n",
    "pickup_even([3, 4, 5, 6, 7, 8])\n",
    "\n",
    "[4, 6, 8]"
   ]
  },
  {
   "cell_type": "code",
   "execution_count": 11,
   "id": "2614bd40",
   "metadata": {},
   "outputs": [
    {
     "name": "stdout",
     "output_type": "stream",
     "text": [
      "[4, 6, 8]\n"
     ]
    }
   ],
   "source": [
    "def pickup_even(list):\n",
    "    ans=[]\n",
    "    for i in list:\n",
    "        if i%2==0:\n",
    "            ans.append(i)\n",
    "    print(ans)\n",
    "pickup_even([3,4,5,6,7,8])"
   ]
  },
  {
   "cell_type": "markdown",
   "id": "0e11ffaa",
   "metadata": {},
   "source": [
    "# 235\n",
    "콤마가 포함된 문자열 숫자를 입력받아 정수로 변환하는 convert_int 함수를 정의하라.\n",
    "\n",
    "convert_int(\"1,234,567\")\n",
    "\n",
    "1234567"
   ]
  },
  {
   "cell_type": "code",
   "execution_count": 14,
   "id": "680e6818",
   "metadata": {},
   "outputs": [
    {
     "name": "stdout",
     "output_type": "stream",
     "text": [
      "1234567\n"
     ]
    }
   ],
   "source": [
    "def convert_int(string):\n",
    "    k=string.replace(',','')\n",
    "    k=int(k)\n",
    "    print(k)\n",
    "convert_int('1,234,567')"
   ]
  },
  {
   "cell_type": "markdown",
   "id": "18a92e8d",
   "metadata": {},
   "source": [
    "# 236\n",
    "아래 코드의 실행 결과를 예측하라.\n",
    "\n",
    "def 함수(num) :\n",
    "    \n",
    "    return num + 4\n",
    "\n",
    "a = 함수(10)\n",
    "\n",
    "b = 함수(a)\n",
    "\n",
    "c = 함수(b)\n",
    "\n",
    "print(c)"
   ]
  },
  {
   "cell_type": "markdown",
   "id": "b60cf4f9",
   "metadata": {},
   "source": [
    "답 : 22\n",
    "\n",
    "a=14 -> b=18 -> c=22\n",
    "\n"
   ]
  },
  {
   "cell_type": "markdown",
   "id": "d5660272",
   "metadata": {},
   "source": [
    "# 237\n",
    "아래 코드의 실행 결과를 예측하라.\n",
    "\n",
    "def 함수(num) :\n",
    "    \n",
    "    return num + 4\n",
    "\n",
    "c = 함수(함수(함수(10)))\n",
    "\n",
    "print(c)"
   ]
  },
  {
   "cell_type": "markdown",
   "id": "59aaa73b",
   "metadata": {},
   "source": [
    "답 : 22\n",
    "\n",
    "(((10+4)+4)+4)+4=22"
   ]
  },
  {
   "cell_type": "code",
   "execution_count": 17,
   "id": "8ba49b0d",
   "metadata": {},
   "outputs": [
    {
     "name": "stdout",
     "output_type": "stream",
     "text": [
      "22\n"
     ]
    }
   ],
   "source": [
    "def 함수(num) :\n",
    "    return num + 4\n",
    "\n",
    "c = 함수(함수(함수(10)))\n",
    "print(c)"
   ]
  },
  {
   "cell_type": "markdown",
   "id": "0b8236d9",
   "metadata": {},
   "source": [
    "# 238\n",
    "아래 코드의 실행 결과를 예측하라.\n",
    "\n",
    "def 함수1(num) :\n",
    "    \n",
    "    return num + 4\n",
    "\n",
    "def 함수2(num) :\n",
    "    \n",
    "    return num * 10\n",
    "\n",
    "a = 함수1(10)\n",
    "\n",
    "c = 함수2(a)\n",
    "\n",
    "print(c)"
   ]
  },
  {
   "cell_type": "markdown",
   "id": "aceb0a6e",
   "metadata": {},
   "source": [
    "답 : 140\n",
    "\n",
    "a = 14 -> c=140"
   ]
  },
  {
   "cell_type": "code",
   "execution_count": 18,
   "id": "ea2d9f13",
   "metadata": {},
   "outputs": [
    {
     "name": "stdout",
     "output_type": "stream",
     "text": [
      "140\n"
     ]
    }
   ],
   "source": [
    "def 함수1(num) :\n",
    "    return num + 4\n",
    "\n",
    "def 함수2(num) :\n",
    "    return num * 10\n",
    "\n",
    "a = 함수1(10)\n",
    "c = 함수2(a)\n",
    "print(c)"
   ]
  },
  {
   "cell_type": "markdown",
   "id": "d5783009",
   "metadata": {},
   "source": [
    "# 239\n",
    "def 함수1(num) :\n",
    "    \n",
    "    return num + 4\n",
    "\n",
    "def 함수2(num) :\n",
    "    \n",
    "    num = num + 2\n",
    "    \n",
    "    return 함수1(num)\n",
    "\n",
    "c = 함수2(10)\n",
    "\n",
    "print(c)"
   ]
  },
  {
   "cell_type": "markdown",
   "id": "592824df",
   "metadata": {},
   "source": [
    "답 : 16\n",
    "\n",
    "함수2(10)=함수1(12)=16"
   ]
  },
  {
   "cell_type": "code",
   "execution_count": 19,
   "id": "39e44ebd",
   "metadata": {},
   "outputs": [
    {
     "name": "stdout",
     "output_type": "stream",
     "text": [
      "16\n"
     ]
    }
   ],
   "source": [
    "def 함수1(num) :\n",
    "    return num + 4\n",
    "\n",
    "def 함수2(num) :\n",
    "    num = num + 2\n",
    "    return 함수1(num)\n",
    "\n",
    "c = 함수2(10)\n",
    "print(c)"
   ]
  },
  {
   "cell_type": "markdown",
   "id": "86e6e7f4",
   "metadata": {},
   "source": [
    "# 240\n",
    "아래 코드의 실행 결과를 예측하라.\n",
    "\n",
    "def 함수0(num) :\n",
    "    \n",
    "    return num * 2\n",
    "\n",
    "def 함수1(num) :\n",
    "    \n",
    "    return 함수0(num + 2)\n",
    "\n",
    "def 함수2(num) :\n",
    "    \n",
    "    num = num + 10\n",
    "    \n",
    "    return 함수1(num)\n",
    "\n",
    "c = 함수2(2)\n",
    "\n",
    "print(c)"
   ]
  },
  {
   "cell_type": "markdown",
   "id": "4a84e5f2",
   "metadata": {},
   "source": [
    "답 : 28\n",
    "\n",
    "함수2(2)=함수1(12)=함수0(14)=28"
   ]
  },
  {
   "cell_type": "code",
   "execution_count": 20,
   "id": "6c14fe6e",
   "metadata": {},
   "outputs": [
    {
     "name": "stdout",
     "output_type": "stream",
     "text": [
      "28\n"
     ]
    }
   ],
   "source": [
    "def 함수0(num) :\n",
    "    return num * 2\n",
    "\n",
    "def 함수1(num) :\n",
    "    return 함수0(num + 2)\n",
    "\n",
    "def 함수2(num) :\n",
    "    num = num + 10\n",
    "    return 함수1(num)\n",
    "\n",
    "c = 함수2(2)\n",
    "print(c)"
   ]
  },
  {
   "cell_type": "markdown",
   "id": "ac38890a",
   "metadata": {},
   "source": [
    "# <파이썬 모듈>"
   ]
  },
  {
   "cell_type": "markdown",
   "id": "abc46b2c",
   "metadata": {},
   "source": [
    "# 241 현재시간\n",
    "\n",
    "datetime 모듈을 사용해서 현재 시간을 화면에 출력해보세요.\n",
    "\n"
   ]
  },
  {
   "cell_type": "code",
   "execution_count": 21,
   "id": "74ca6a58",
   "metadata": {},
   "outputs": [
    {
     "name": "stdout",
     "output_type": "stream",
     "text": [
      "2023-03-14 13:19:08.780821\n"
     ]
    }
   ],
   "source": [
    "import datetime\n",
    "print(datetime.datetime.now())"
   ]
  },
  {
   "cell_type": "markdown",
   "id": "ad5a176a",
   "metadata": {},
   "source": [
    "# 242 현재시간의 타입\n",
    "datetime 모듈의 now 함수의 리턴 값의 타입을 화면에 출력해보세요."
   ]
  },
  {
   "cell_type": "code",
   "execution_count": 22,
   "id": "f9582403",
   "metadata": {},
   "outputs": [
    {
     "name": "stdout",
     "output_type": "stream",
     "text": [
      "2023-03-14 13:19:58.904579 <class 'datetime.datetime'>\n"
     ]
    }
   ],
   "source": [
    "import datetime\n",
    "ans=datetime.datetime.now()\n",
    "print(ans,type(ans))"
   ]
  },
  {
   "cell_type": "markdown",
   "id": "9f7ddb9e",
   "metadata": {},
   "source": [
    "# 243 timedelta\n",
    "datetime 모듈의 timedelta를 사용해서 오늘로부터 5일, 4일, 3일, 2일, 1일 전의 날짜를 화면에 출력해보세요."
   ]
  },
  {
   "cell_type": "code",
   "execution_count": 23,
   "id": "22a02009",
   "metadata": {},
   "outputs": [
    {
     "name": "stdout",
     "output_type": "stream",
     "text": [
      "2023-03-09 13:21:23.053297\n",
      "2023-03-10 13:21:23.053297\n",
      "2023-03-11 13:21:23.053297\n",
      "2023-03-12 13:21:23.053297\n",
      "2023-03-13 13:21:23.053297\n"
     ]
    }
   ],
   "source": [
    "import datetime\n",
    "\n",
    "k = datetime.datetime.now()\n",
    "\n",
    "for i in range(5,0,-1):\n",
    "    delta = datetime.timedelta(days=i)\n",
    "    ans = k-delta\n",
    "    print(ans)"
   ]
  },
  {
   "cell_type": "markdown",
   "id": "0ea75842",
   "metadata": {},
   "source": [
    "# 244 strftime\n",
    "현재시간을 얻어온 후 다음과 같은 포맷으로 시간을 출력해보세요. strftime 메서드를 사용하세요."
   ]
  },
  {
   "cell_type": "code",
   "execution_count": 24,
   "id": "68b710b1",
   "metadata": {},
   "outputs": [
    {
     "name": "stdout",
     "output_type": "stream",
     "text": [
      "13:22:22\n"
     ]
    }
   ],
   "source": [
    "import datetime\n",
    "ans=datetime.datetime.now()\n",
    "print(ans.strftime(\"%H:%M:%S\"))"
   ]
  },
  {
   "cell_type": "markdown",
   "id": "7b93bdb8",
   "metadata": {},
   "source": [
    "# 245 strptime\n",
    "datetime.datetime.strptime 메서드를 사용하면 문자열 형식의 시간을 datetime.datetime 타입의 시간 값으로 만들어줍니다. \"2020-05-04\"의 문자열을 시간 타입으로 변환해보세요."
   ]
  },
  {
   "cell_type": "code",
   "execution_count": 25,
   "id": "9957f17a",
   "metadata": {},
   "outputs": [
    {
     "name": "stdout",
     "output_type": "stream",
     "text": [
      "2020-05-04 00:00:00 <class 'datetime.datetime'>\n"
     ]
    }
   ],
   "source": [
    "import datetime\n",
    "a=\"2020-05-04\"\n",
    "ans = datetime.datetime.strptime(a,\"%Y-%m-%d\")\n",
    "print(ans,type(ans))"
   ]
  },
  {
   "cell_type": "markdown",
   "id": "f49e38d8",
   "metadata": {},
   "source": [
    "# 246 sleep 함수\n",
    "time 모듈, datetime 모듈을 사용해서 1초에 한 번 현재 시간을 출력하는 코드를 작성하세요."
   ]
  },
  {
   "cell_type": "code",
   "execution_count": 27,
   "id": "7fad6fbc",
   "metadata": {},
   "outputs": [
    {
     "name": "stdout",
     "output_type": "stream",
     "text": [
      "2023-03-14 13:25:14.869279\n",
      "2023-03-14 13:25:15.871166\n",
      "2023-03-14 13:25:16.885128\n",
      "2023-03-14 13:25:17.892509\n",
      "2023-03-14 13:25:18.894369\n",
      "2023-03-14 13:25:19.897685\n",
      "2023-03-14 13:25:20.900716\n",
      "2023-03-14 13:25:21.904759\n",
      "2023-03-14 13:25:22.907771\n",
      "2023-03-14 13:25:23.911078\n"
     ]
    }
   ],
   "source": [
    "import time\n",
    "import datetime\n",
    "i = 0\n",
    "while 1:\n",
    "    if i==10:break\n",
    "    ans = datetime.datetime.now()\n",
    "    print(ans)\n",
    "    time.sleep(1)\n",
    "    i+=1"
   ]
  },
  {
   "cell_type": "markdown",
   "id": "67131946",
   "metadata": {},
   "source": [
    "# 247 모듈임포트\n",
    "모듈을 임포트하는 4가지 방식에 대해 설명해보세요."
   ]
  },
  {
   "cell_type": "markdown",
   "id": "93f13006",
   "metadata": {},
   "source": [
    "답 :"
   ]
  },
  {
   "cell_type": "markdown",
   "id": "7340313e",
   "metadata": {},
   "source": [
    "1. import os              # os.rename()\n",
    "\n",
    "2. from os import rename  # rename()\n",
    "\n",
    "3. from os import *       # getcwd(),rename(),...\n",
    "\n",
    "4. import os as myos      # myos.getcwd()"
   ]
  },
  {
   "cell_type": "markdown",
   "id": "9a898c20",
   "metadata": {},
   "source": [
    "# 248 os모듈\n",
    "os 모듈의 getcwd 함수를 호출하여 현재 디렉터리의 경로를 화면에 출력해보세요."
   ]
  },
  {
   "cell_type": "code",
   "execution_count": 29,
   "id": "c9cd662b",
   "metadata": {},
   "outputs": [
    {
     "name": "stdout",
     "output_type": "stream",
     "text": [
      "C:\\Users\\kbk\\Desktop\\2023년1학기\\MA <class 'str'>\n"
     ]
    }
   ],
   "source": [
    "import os\n",
    "ans = os.getcwd()\n",
    "print(ans,type(ans))"
   ]
  },
  {
   "cell_type": "markdown",
   "id": "5ba03563",
   "metadata": {},
   "source": [
    "# 249 rename 모듈\n",
    "바탕화면에 텍스트 파일을 하나 생성한 후 os 모듈의 rename 함수를 호출하여 해당 파일의 이름을 변경해보세요."
   ]
  },
  {
   "cell_type": "markdown",
   "id": "e2225e25",
   "metadata": {},
   "source": [
    "# 250 numpy\n",
    "numpy 모듈의 arange 함수를 사용해서 0.0 부터 5.0까지 0.1씩 증가하는 값을 화면에 출력해보세요."
   ]
  },
  {
   "cell_type": "code",
   "execution_count": 41,
   "id": "f1f503fa",
   "metadata": {},
   "outputs": [
    {
     "name": "stdout",
     "output_type": "stream",
     "text": [
      "0.0\n",
      "0.1\n",
      "0.2\n",
      "0.3\n",
      "0.4\n",
      "0.5\n",
      "0.6\n",
      "0.7\n",
      "0.8\n",
      "0.9\n",
      "1.0\n",
      "1.1\n",
      "1.2\n",
      "1.3\n",
      "1.4\n",
      "1.5\n",
      "1.6\n",
      "1.7\n",
      "1.8\n",
      "1.9\n",
      "2.0\n",
      "2.1\n",
      "2.2\n",
      "2.3\n",
      "2.4\n",
      "2.5\n",
      "2.6\n",
      "2.7\n",
      "2.8\n",
      "2.9\n",
      "3.0\n",
      "3.1\n",
      "3.2\n",
      "3.3\n",
      "3.4\n",
      "3.5\n",
      "3.6\n",
      "3.7\n",
      "3.8\n",
      "3.9\n",
      "4.0\n",
      "4.1\n",
      "4.2\n",
      "4.3\n",
      "4.4\n",
      "4.5\n",
      "4.6\n",
      "4.7\n",
      "4.8\n",
      "4.9\n",
      "5.0\n"
     ]
    }
   ],
   "source": [
    "import numpy as np\n",
    "for i in np.arange(0,5.1,0.1):\n",
    "    ans = round(i,2)\n",
    "    print(ans)"
   ]
  },
  {
   "cell_type": "markdown",
   "id": "537c9482",
   "metadata": {},
   "source": [
    "# <파이썬 클래스>"
   ]
  },
  {
   "cell_type": "markdown",
   "id": "cf5904cb",
   "metadata": {},
   "source": [
    "# 251 클래스, 객체, 인스턴스\n",
    "클래스, 객체, 인스턴스에 대해 설명해봅시다."
   ]
  },
  {
   "cell_type": "markdown",
   "id": "2d4aeb22",
   "metadata": {},
   "source": [
    "답:"
   ]
  },
  {
   "cell_type": "markdown",
   "id": "09891509",
   "metadata": {},
   "source": [
    "클래스 : 똑같은 무언인가를 계속해서 만들어 낼 수 있는 설계 도면\n",
    "\n",
    "객체 : 클래스로 만든 피조물\n",
    "\n",
    "인스턴스 : 특정 객체가 어떤 클래스의 객체인지 괸계를 중점으로 표현할 때 사용"
   ]
  },
  {
   "cell_type": "markdown",
   "id": "9fcb693e",
   "metadata": {},
   "source": [
    "# 252 클래스 정의\n",
    "비어있는 사람 (Human) 클래스를 \"정의\" 해보세요."
   ]
  },
  {
   "cell_type": "code",
   "execution_count": 42,
   "id": "887b5245",
   "metadata": {},
   "outputs": [],
   "source": [
    "class Human:\n",
    "    pass"
   ]
  },
  {
   "cell_type": "markdown",
   "id": "9102d5e6",
   "metadata": {},
   "source": [
    "# 253 인스턴스 생성\n",
    "사람 (Human) 클래스의 인스턴스를 \"생성\" 하고 이를 areum 변수로 바인딩해보세요."
   ]
  },
  {
   "cell_type": "code",
   "execution_count": 43,
   "id": "ce656938",
   "metadata": {},
   "outputs": [],
   "source": [
    "class Human:\n",
    "    pass\n",
    "\n",
    "areum = Human()"
   ]
  },
  {
   "cell_type": "markdown",
   "id": "cb301851",
   "metadata": {},
   "source": [
    "# 254 클래스 생성자-1\n",
    "사람 (Human) 클래스에 \"응애응애\"를 출력하는 생성자를 추가하세요.\n",
    "\n",
    "areum = Human()\n",
    "\n",
    "응애응애"
   ]
  },
  {
   "cell_type": "code",
   "execution_count": 45,
   "id": "0d32bd92",
   "metadata": {
    "scrolled": true
   },
   "outputs": [
    {
     "name": "stdout",
     "output_type": "stream",
     "text": [
      "응애응애\n"
     ]
    }
   ],
   "source": [
    "class Human():\n",
    "    def __init__(self):\n",
    "        print(\"응애응애\")\n",
    "areum = Human()"
   ]
  },
  {
   "cell_type": "markdown",
   "id": "2ea7f95c",
   "metadata": {},
   "source": [
    "# 255 클래스 생성자-2\n",
    "사람 (Human) 클래스에 (이름, 나이, 성별)을 받는 생성자를 추가하세요.\n",
    "\n",
    "areum = Human(\"아름\", 25, \"여자\")\n"
   ]
  },
  {
   "cell_type": "code",
   "execution_count": 52,
   "id": "028c2c0d",
   "metadata": {},
   "outputs": [
    {
     "name": "stdout",
     "output_type": "stream",
     "text": [
      "아름\n",
      "25\n",
      "여자\n",
      "<__main__.Human object at 0x0000014565A217F0>\n"
     ]
    }
   ],
   "source": [
    "class Human:\n",
    "    def __init__(self, name, age, sex):\n",
    "        self.name = name\n",
    "        self.age = age\n",
    "        self.sex = sex\n",
    "\n",
    "areum = Human(\"아름\",25,\"여자\")\n",
    "print(areum.name)\n",
    "print(areum.age)\n",
    "print(areum.sex)\n",
    "print(areum)"
   ]
  },
  {
   "cell_type": "markdown",
   "id": "aee5b803",
   "metadata": {},
   "source": [
    "# 256 인스턴스 속성에 접근\n",
    "255에서 생성한 인스턴스의 이름, 나이, 성별을 출력하세요. 인스턴스 변수에 접근하여 값을 출력하면 됩니다.\n",
    "\n",
    "이름: 조아름, 나이: 25, 성별: 여자\n",
    "\n",
    "인스턴스 변수에 접근하여 값을 가져오는 예\n",
    "\n",
    "areum.age\n",
    "\n",
    "25"
   ]
  },
  {
   "cell_type": "code",
   "execution_count": 53,
   "id": "af90b208",
   "metadata": {
    "scrolled": true
   },
   "outputs": [
    {
     "name": "stdout",
     "output_type": "stream",
     "text": [
      "아름\n",
      "25\n",
      "여자\n"
     ]
    }
   ],
   "source": [
    "print(areum.name)\n",
    "print(areum.age)\n",
    "print(areum.sex)"
   ]
  },
  {
   "cell_type": "markdown",
   "id": "f9327965",
   "metadata": {},
   "source": [
    "# 257 클래스 메소드 - 1\n",
    "사람 (Human) 클래스에서 이름, 나이, 성별을 출력하는 who() 메소드를 추가하세요.\n",
    "\n",
    "areum.who()\n",
    "\n",
    "이름: 조아름, 나이: 25, 성별: 여자\n"
   ]
  },
  {
   "cell_type": "code",
   "execution_count": 55,
   "id": "cc9e315f",
   "metadata": {},
   "outputs": [
    {
     "name": "stdout",
     "output_type": "stream",
     "text": [
      "이름: 아름, 나이: 25, 성별: 여자\n"
     ]
    }
   ],
   "source": [
    "class Human:\n",
    "    def __init__(self, name, age, sex):\n",
    "        self.name = name\n",
    "        self.age = age\n",
    "        self.sex = sex\n",
    "    \n",
    "    def who(self):\n",
    "        print(\"이름: {}, 나이: {}, 성별: {}\".\n",
    "             format(self.name,self.age,self.sex))\n",
    "        \n",
    "areum = Human(\"아름\",25,\"여자\")\n",
    "areum.who()"
   ]
  },
  {
   "cell_type": "markdown",
   "id": "628a62b4",
   "metadata": {},
   "source": [
    "# 258 클래스 메소드 -2\n",
    "사람 (Human) 클래스에 (이름, 나이, 성별)을 받는 setInfo 메소드를 추가하세요.\n",
    "\n",
    "areum = Human(\"모름\", 0, \"모름\")\n",
    "\n",
    "areum.setInfo(\"아름\", 25, \"여자\")"
   ]
  },
  {
   "cell_type": "code",
   "execution_count": 58,
   "id": "b8561391",
   "metadata": {},
   "outputs": [
    {
     "name": "stdout",
     "output_type": "stream",
     "text": [
      "이름: 모름, 나이: 모름, 성별: 모름\n",
      "\n",
      "\n",
      "이름: 아름, 나이: 25, 성별: 여자\n"
     ]
    }
   ],
   "source": [
    "class Human:\n",
    "    def __init__(self, name, age, sex):\n",
    "        self.name = name\n",
    "        self.age = age\n",
    "        self.sex = sex\n",
    "    \n",
    "    def who(self):\n",
    "        print(\"이름: {}, 나이: {}, 성별: {}\".\n",
    "             format(self.name,self.age,self.sex))\n",
    "        \n",
    "    def setInfo(self, name, age, sex):\n",
    "        self.name = name\n",
    "        self.age = age\n",
    "        self.sex = sex\n",
    "\n",
    "areum = Human(\"모름\",\"모름\",\"모름\")\n",
    "areum.who()\n",
    "print(\"\\n\")\n",
    "areum = Human(\"아름\",25,\"여자\")\n",
    "areum.who()"
   ]
  },
  {
   "cell_type": "markdown",
   "id": "ef2c5696",
   "metadata": {},
   "source": [
    "# 259\n",
    "사람 (human) 클래스에 \"나의 죽음을 알리지 말라\"를 출력하는 소멸자를 추가하세요.\n",
    "\n",
    "areum = Human(\"아름\", 25, \"여자\")\n",
    "\n",
    "del areum\n",
    "\n",
    "나의 죽음을 알리지 말라"
   ]
  },
  {
   "cell_type": "code",
   "execution_count": 59,
   "id": "42f97fda",
   "metadata": {},
   "outputs": [
    {
     "name": "stdout",
     "output_type": "stream",
     "text": [
      "나의 죽음을 알리지마라\n"
     ]
    }
   ],
   "source": [
    "class Human:\n",
    "    def __init__(self, name, age, sex):\n",
    "        self.name = name\n",
    "        self.age = age\n",
    "        self.sex = sex\n",
    "    \n",
    "    def who(self):\n",
    "        print(\"이름: {}, 나이: {}, 성별: {}\".\n",
    "             format(self.name,self.age,self.sex))\n",
    "        \n",
    "    def setInfo(self, name, age, sex):\n",
    "        self.name = name\n",
    "        self.age = age\n",
    "        self.sex = sex\n",
    "    \n",
    "    def __del__(self):\n",
    "        print(\"나의 죽음을 알리지마라\")\n",
    "\n",
    "areum = Human(\"아름\",25,\"여자\")\n",
    "del(areum)"
   ]
  },
  {
   "cell_type": "markdown",
   "id": "c7b9d491",
   "metadata": {},
   "source": [
    "# 260 에러의 원인\n",
    "아래와 같은 에러가 발생한 원인에 대해 설명하세요.\n",
    "\n",
    "class OMG : \n",
    "    \n",
    "    def print() :\n",
    "        \n",
    "        print(\"Oh my god\")\n",
    "\n",
    "myStock = OMG()\n",
    "\n",
    "myStock.print()\n",
    "\n",
    "TypeError Traceback (most recent call last)\n",
    "\n",
    "<ipython-input-233-c85c04535b22> in <module>()\n",
    "\n",
    "    ----> myStock.print()\n",
    "\n",
    "TypeError: print() takes 0 positional arguments but 1 was given\n"
   ]
  },
  {
   "cell_type": "code",
   "execution_count": 60,
   "id": "f384cac8",
   "metadata": {},
   "outputs": [],
   "source": [
    "class OMG : \n",
    "    def print() :\n",
    "        print(\"Oh my god\")"
   ]
  },
  {
   "cell_type": "code",
   "execution_count": 66,
   "id": "fe89f5dd",
   "metadata": {
    "scrolled": true
   },
   "outputs": [
    {
     "name": "stdout",
     "output_type": "stream",
     "text": [
      "Oh my god\n"
     ]
    }
   ],
   "source": [
    "mystock = OMG()\n",
    "OMG.print()"
   ]
  },
  {
   "cell_type": "markdown",
   "id": "8bc886a3",
   "metadata": {},
   "source": [
    "print()에 인자가 없는데\n",
    "\n",
    "mystock.print()는 OMG.print(mystock)로 print 안에 인자가 들어서가서\n",
    "\n",
    "에러가 뜬다"
   ]
  },
  {
   "cell_type": "markdown",
   "id": "a730523e",
   "metadata": {},
   "source": [
    "# 261 Stock 클래스 생성\n",
    "주식 종목에 대한 정보를 저장하는 Stock 클래스를 정의해보세요. 클래스는 속성과 메서드를 갖고 있지 않습니다.\n"
   ]
  },
  {
   "cell_type": "code",
   "execution_count": 67,
   "id": "5b5794e2",
   "metadata": {},
   "outputs": [],
   "source": [
    "class Stock:\n",
    "    pass"
   ]
  },
  {
   "cell_type": "markdown",
   "id": "05080d9b",
   "metadata": {},
   "source": [
    "# 262 생성자\n",
    "Stock 클래스의 객체가 생성될 때 종목명과 종목코드를 입력 받을 수 있도록 생성자를 정의해보세요.\n",
    "\n",
    "삼성 = Stock(\"삼성전자\", \"005930\")"
   ]
  },
  {
   "cell_type": "code",
   "execution_count": 69,
   "id": "b17c275c",
   "metadata": {},
   "outputs": [
    {
     "name": "stdout",
     "output_type": "stream",
     "text": [
      "삼성전자\n",
      "005930\n"
     ]
    }
   ],
   "source": [
    "class Stock:\n",
    "    def __init__(self,name,code):\n",
    "        self.name = name\n",
    "        self.code = code\n",
    "\n",
    "삼성 = Stock(\"삼성전자\",\"005930\")\n",
    "print(삼성.name)\n",
    "print(삼성.code)"
   ]
  },
  {
   "cell_type": "markdown",
   "id": "050331e9",
   "metadata": {},
   "source": [
    "# 263 메서드\n",
    "객체에 종목명을 입력할 수 있는 set_name 메서드를 추가해보세요.\n",
    "\n",
    "a = Stock(None, None)\n",
    "\n",
    "a.set_name(\"삼성전자\")"
   ]
  },
  {
   "cell_type": "code",
   "execution_count": 70,
   "id": "8ce5975e",
   "metadata": {},
   "outputs": [
    {
     "name": "stdout",
     "output_type": "stream",
     "text": [
      "삼성전자\n"
     ]
    }
   ],
   "source": [
    "class Stock:\n",
    "    def __init__(self,name,code):\n",
    "        self.name = name\n",
    "        self.code = code\n",
    "        \n",
    "    def set_name(self,name):\n",
    "        self.name = name\n",
    "\n",
    "a=Stock(None,None)\n",
    "a.set_name(\"삼성전자\")\n",
    "print(a.name)"
   ]
  },
  {
   "cell_type": "markdown",
   "id": "3525342c",
   "metadata": {},
   "source": [
    "# 264 메서드\n",
    "객체에 종목코드를 입력할 수 있는 set_code 메서드를 추가해보세요.\n",
    "\n",
    "a = Stock(None, None)\n",
    "\n",
    "a.set_code(\"005930\")"
   ]
  },
  {
   "cell_type": "code",
   "execution_count": 73,
   "id": "3176273b",
   "metadata": {},
   "outputs": [
    {
     "name": "stdout",
     "output_type": "stream",
     "text": [
      "005930\n"
     ]
    }
   ],
   "source": [
    "class Stock:\n",
    "    def __init__(self,name,code):\n",
    "        self.name = name\n",
    "        self.code = code\n",
    "        \n",
    "    def set_name(self,name):\n",
    "        self.name = name\n",
    "        \n",
    "    def set_code(self,code):\n",
    "        self.code = code\n",
    "\n",
    "a = Stock(None, None)\n",
    "a.set_code(\"005930\")\n",
    "print(a.code)"
   ]
  },
  {
   "cell_type": "markdown",
   "id": "0d1704d8",
   "metadata": {},
   "source": [
    "# 265 메서드\n",
    "종목명과 종목코드를 리턴하는 get_name, get_code 메서드를 추가하세요. 해당 메서드를 사용하여 종목명과 종목코드를 얻고 이를 출력해보세요.\n",
    "\n",
    "삼성 = Stock(\"삼성전자\", \"005930\")"
   ]
  },
  {
   "cell_type": "code",
   "execution_count": 77,
   "id": "3395faeb",
   "metadata": {},
   "outputs": [
    {
     "name": "stdout",
     "output_type": "stream",
     "text": [
      "삼성전자\n",
      "005930\n",
      "\n",
      "\n",
      "삼성전자\n",
      "005930\n"
     ]
    }
   ],
   "source": [
    "class Stock:\n",
    "    def __init__(self,name,code):\n",
    "        self.name = name\n",
    "        self.code = code\n",
    "        \n",
    "    def set_name(self,name):\n",
    "        self.name = name\n",
    "        \n",
    "    def set_code(self,code):\n",
    "        self.code = code\n",
    "        \n",
    "    def get_name(self):\n",
    "        return self.name\n",
    "    \n",
    "    def get_code(self):\n",
    "        return self.code\n",
    "\n",
    "삼성 = Stock(\"삼성전자\",\"005930\")\n",
    "print(삼성.name)\n",
    "print(삼성.code)\n",
    "print(\"\\n\")\n",
    "print(삼성.get_name())\n",
    "print(삼성.get_code())"
   ]
  },
  {
   "cell_type": "markdown",
   "id": "e7e965c7",
   "metadata": {},
   "source": [
    "# 266 객체의 속성값 업데이트\n",
    "생성자에서 종목명, 종목코드, PER, PBR, 배당수익률을 입력 받을 수 있도록 생성자를 수정하세요. PER, PBR, 배당수익률은 float 타입입니다."
   ]
  },
  {
   "cell_type": "code",
   "execution_count": 79,
   "id": "549baa7d",
   "metadata": {},
   "outputs": [],
   "source": [
    "class Stock:\n",
    "    def __init__(self,name,code,PER,PBR,배당수익률):\n",
    "        self.name = name\n",
    "        self.code = code\n",
    "        self.PER = PER\n",
    "        self.PBR = PBR\n",
    "        self.배당수익률 = 배당수익률\n",
    "        \n",
    "    def set_name(self,name):\n",
    "        self.name = name\n",
    "        \n",
    "    def set_code(self,code):\n",
    "        self.code = code\n",
    "        \n",
    "    def get_name(self):\n",
    "        return self.name\n",
    "    \n",
    "    def get_code(self):\n",
    "        return self.code"
   ]
  },
  {
   "cell_type": "markdown",
   "id": "c85d3848",
   "metadata": {},
   "source": [
    "# 267 객체 생성\n",
    "266번에서 정의한 생성자를 통해 다음 정보를 갖는 객체를 생성해보세요."
   ]
  },
  {
   "cell_type": "code",
   "execution_count": 80,
   "id": "254d534d",
   "metadata": {},
   "outputs": [],
   "source": [
    "삼성 = Stock(\"삼성전자\",\"005930\",15.79,1.33,2.83)"
   ]
  },
  {
   "cell_type": "markdown",
   "id": "2b57c290",
   "metadata": {},
   "source": [
    "# 268 객체의 속성 수정\n",
    "PER, PBR, 배당수익률은 변경될 수 있는 값입니다. 이 값을 변경할 때 사용하는 set_per, set_pbr, set_dividend 메서드를 추가하세요."
   ]
  },
  {
   "cell_type": "code",
   "execution_count": 83,
   "id": "527f8bf6",
   "metadata": {},
   "outputs": [],
   "source": [
    "class Stock:\n",
    "    def __init__(self,name,code,per,pbr,dividend):\n",
    "        self.name = name\n",
    "        self.code = code\n",
    "        self.per = per\n",
    "        self.pbr = pbr\n",
    "        self.dividend = dividend\n",
    "        \n",
    "    def set_name(self,name):\n",
    "        self.name = name\n",
    "        \n",
    "    def set_code(self,code):\n",
    "        self.code = code\n",
    "        \n",
    "    def get_name(self):\n",
    "        return self.name\n",
    "    \n",
    "    def get_code(self):\n",
    "        return self.code\n",
    "    \n",
    "    def set_per(self,per):\n",
    "        self.per = per\n",
    "        \n",
    "    def set_pbr(self,pbr):\n",
    "        self.pbr = pbr\n",
    "    \n",
    "    def set_dividend(self,dividend):\n",
    "        self.dividend = dividend"
   ]
  },
  {
   "cell_type": "markdown",
   "id": "05792b93",
   "metadata": {},
   "source": [
    "# 269\n",
    "267번에서 생성한 객체에 set_per 메서드를 호출하여 per 값을 12.75로 수정해보세요."
   ]
  },
  {
   "cell_type": "code",
   "execution_count": 84,
   "id": "4cfdbdfc",
   "metadata": {},
   "outputs": [
    {
     "name": "stdout",
     "output_type": "stream",
     "text": [
      "12.75\n"
     ]
    }
   ],
   "source": [
    "삼성 = Stock(\"삼성전자\", \"005930\", 15.79, 1.33, 2.83)\n",
    "삼성.set_per(12.75)\n",
    "print(삼성.per)"
   ]
  },
  {
   "cell_type": "markdown",
   "id": "5cd216ac",
   "metadata": {},
   "source": [
    "# 270 여러 종목의 객체 생성\n",
    "아래의 표를 참조하여 3종목에 대해 객체를 생성하고 이를 파이썬 리스트에 저장하세요. 파이썬 리스트에 저장된 각 종목에 대해 for 루프를 통해 종목코드와 PER을 출력해보세요."
   ]
  },
  {
   "cell_type": "code",
   "execution_count": 85,
   "id": "59883ab1",
   "metadata": {},
   "outputs": [
    {
     "name": "stdout",
     "output_type": "stream",
     "text": [
      "005930 15.79\n",
      "005380 8.7\n",
      "066570 317.34\n"
     ]
    }
   ],
   "source": [
    "종목 = []\n",
    "\n",
    "삼성 = Stock(\"삼성전자\", \"005930\", 15.79, 1.33, 2.83)\n",
    "현대차 = Stock(\"현대차\", \"005380\", 8.70, 0.35, 4.27)\n",
    "LG전자 = Stock(\"LG전자\", \"066570\", 317.34, 0.69, 1.37)\n",
    "\n",
    "종목.append(삼성)\n",
    "종목.append(현대차)\n",
    "종목.append(LG전자)\n",
    "\n",
    "for i in 종목:\n",
    "    print(i.code, i.per)"
   ]
  },
  {
   "cell_type": "markdown",
   "id": "266c4ca7",
   "metadata": {},
   "source": [
    "# 271 Account 클래스\n",
    "은행에 가서 계좌를 개설하면 은행이름, 예금주, 계좌번호, 잔액이 설정됩니다. Account 클래스를 생성한 후 생성자를 구현해보세요. 생성자에서는 예금주와 초기 잔액만 입력 받습니다. 은행이름은 SC은행으로 계좌번호는 3자리-2자리-6자리 형태로 랜덤하게 생성됩니다.\n",
    "\n",
    "은행이름: SC은행\n",
    "\n",
    "계좌번호: 111-11-111111"
   ]
  },
  {
   "cell_type": "code",
   "execution_count": 2,
   "id": "48d81ea4",
   "metadata": {},
   "outputs": [],
   "source": [
    "import random\n",
    "class Account:\n",
    "    def __init__(self, name, balance):   # 예금주명, 초기잔액 입력\n",
    "        self.name = name\n",
    "        self.balance = balance\n",
    "        self.bank = \"SC은행\"\n",
    "        num1 = random.randint(0,999)\n",
    "        num2 = random.randint(0,99)\n",
    "        num3 = random.randint(0,999999)\n",
    "        num1 = str(num1).zfill(3)   # 자릿수 맞추기 위해서 앞에 0으로 채우는 함수\n",
    "        num2 = str(num2).zfill(2)\n",
    "        num3 = str(num3).zfill(6)   \n",
    "        self.account_number = num1+'-'+num2+'-'+num3"
   ]
  },
  {
   "cell_type": "code",
   "execution_count": 4,
   "id": "8502614c",
   "metadata": {},
   "outputs": [
    {
     "name": "stdout",
     "output_type": "stream",
     "text": [
      "A\n",
      "10000\n",
      "SC은행\n",
      "369-99-163423\n"
     ]
    }
   ],
   "source": [
    "a = Account(\"A\",10000)\n",
    "print(a.name)\n",
    "print(a.balance)\n",
    "print(a.bank)\n",
    "print(a.account_number)"
   ]
  },
  {
   "cell_type": "markdown",
   "id": "c46bf44e",
   "metadata": {},
   "source": [
    "# 272 클래스 변수\n",
    "클래스 변수를 사용해서 Account 클래스로부터 생성된 계좌 객체의 개수를 저장하세요."
   ]
  },
  {
   "cell_type": "code",
   "execution_count": 7,
   "id": "dfe58386",
   "metadata": {},
   "outputs": [
    {
     "name": "stdout",
     "output_type": "stream",
     "text": [
      "1\n",
      "2\n",
      "3\n",
      "4\n",
      "5\n",
      "6\n"
     ]
    }
   ],
   "source": [
    "class Account:\n",
    "    count = 0\n",
    "    def __init__(self, name, balance):   \n",
    "        self.name = name\n",
    "        self.balance = balance\n",
    "        self.bank = \"SC은행\"\n",
    "        num1 = random.randint(0,999)\n",
    "        num2 = random.randint(0,99)\n",
    "        num3 = random.randint(0,999999)\n",
    "        num1 = str(num1).zfill(3)   \n",
    "        num2 = str(num2).zfill(2)\n",
    "        num3 = str(num3).zfill(6)   \n",
    "        self.account_number = num1+'-'+num2+'-'+num3\n",
    "        Account.count+=1\n",
    "        \n",
    "a1 = Account(\"A1\",10000)\n",
    "print(Account.count)\n",
    "a2 = Account(\"A2\",10000)\n",
    "print(Account.count)\n",
    "a3 = Account(\"A3\",10000)\n",
    "print(Account.count)\n",
    "a4 = Account(\"A4\",10000)\n",
    "print(Account.count)\n",
    "a5 = Account(\"A5\",10000)\n",
    "print(Account.count)\n",
    "a6 = Account(\"A6\",10000)\n",
    "print(Account.count)"
   ]
  },
  {
   "cell_type": "markdown",
   "id": "ed61ee52",
   "metadata": {},
   "source": [
    "# 273 클래스 변수 출력\n",
    "Account 클래스로부터 생성된 계좌의 개수를 출력하는 get_account_num() 메서드를 추가하세요."
   ]
  },
  {
   "cell_type": "code",
   "execution_count": 10,
   "id": "7d331ffe",
   "metadata": {},
   "outputs": [
    {
     "name": "stdout",
     "output_type": "stream",
     "text": [
      "2\n"
     ]
    }
   ],
   "source": [
    "class Account:\n",
    "    count = 0\n",
    "    def __init__(self, name, balance):   \n",
    "        self.name = name\n",
    "        self.balance = balance\n",
    "        self.bank = \"SC은행\"\n",
    "        num1 = random.randint(0,999)\n",
    "        num2 = random.randint(0,99)\n",
    "        num3 = random.randint(0,999999)\n",
    "        num1 = str(num1).zfill(3)   \n",
    "        num2 = str(num2).zfill(2)\n",
    "        num3 = str(num3).zfill(6)   \n",
    "        self.account_number = num1+'-'+num2+'-'+num3\n",
    "        Account.count+=1\n",
    "        \n",
    "    def get_account_num(cls):\n",
    "        print(cls.count)\n",
    "\n",
    "a1 = Account(\"A1\",10000)\n",
    "a2 = Account(\"A2\",10000)\n",
    "a1.get_account_num()"
   ]
  },
  {
   "cell_type": "markdown",
   "id": "3f7e01ab",
   "metadata": {},
   "source": [
    "# 274 입금 메서드\n",
    "Account 클래스에 입금을 위한 deposit 메서드를 추가하세요. 입금은 최소 1원 이상만 가능합니다."
   ]
  },
  {
   "cell_type": "code",
   "execution_count": 13,
   "id": "02b0a7e4",
   "metadata": {},
   "outputs": [
    {
     "name": "stdout",
     "output_type": "stream",
     "text": [
      "10000\n",
      "20000\n"
     ]
    }
   ],
   "source": [
    "class Account:\n",
    "    count = 0\n",
    "    def __init__(self, name, balance):   \n",
    "        self.name = name\n",
    "        self.balance = balance\n",
    "        self.bank = \"SC은행\"\n",
    "        num1 = random.randint(0,999)\n",
    "        num2 = random.randint(0,99)\n",
    "        num3 = random.randint(0,999999)\n",
    "        num1 = str(num1).zfill(3)   \n",
    "        num2 = str(num2).zfill(2)\n",
    "        num3 = str(num3).zfill(6)   \n",
    "        self.account_number = num1+'-'+num2+'-'+num3\n",
    "        Account.count+=1\n",
    "        \n",
    "    def get_account_num(cls):\n",
    "        print(cls.count)\n",
    "        \n",
    "    def deposit(self, money_in):\n",
    "        if money_in >=1:\n",
    "            self.balance+=money_in\n",
    "\n",
    "a1 = Account(\"A1\",10000)\n",
    "print(a1.balance)\n",
    "a1.deposit(10000)\n",
    "print(a1.balance)"
   ]
  },
  {
   "cell_type": "markdown",
   "id": "e8bb595b",
   "metadata": {},
   "source": [
    "# 275 출금메서드\n",
    "Account 클래스에 출금을 위한 withdraw 메서드를 추가하세요. 출금은 계좌의 잔고 이상으로 출금할 수는 없습니다."
   ]
  },
  {
   "cell_type": "code",
   "execution_count": 14,
   "id": "f497be55",
   "metadata": {},
   "outputs": [
    {
     "name": "stdout",
     "output_type": "stream",
     "text": [
      "10000\n",
      "15000\n",
      "12000\n"
     ]
    }
   ],
   "source": [
    "class Account:\n",
    "    count = 0\n",
    "    def __init__(self, name, balance):   \n",
    "        self.name = name\n",
    "        self.balance = balance\n",
    "        self.bank = \"SC은행\"\n",
    "        num1 = random.randint(0,999)\n",
    "        num2 = random.randint(0,99)\n",
    "        num3 = random.randint(0,999999)\n",
    "        num1 = str(num1).zfill(3)   \n",
    "        num2 = str(num2).zfill(2)\n",
    "        num3 = str(num3).zfill(6)   \n",
    "        self.account_number = num1+'-'+num2+'-'+num3\n",
    "        Account.count+=1\n",
    "        \n",
    "    def get_account_num(cls):\n",
    "        print(cls.count)\n",
    "        \n",
    "    def deposit(self, money_in):\n",
    "        if money_in >=1:\n",
    "            self.balance+=money_in\n",
    "            \n",
    "    def withdraw(self, money_out):\n",
    "        if self.balance > money_out:\n",
    "            self.balance-=money_out\n",
    "\n",
    "a = Account(\"A1\",10000)\n",
    "print(a.balance)\n",
    "a.deposit(5000)\n",
    "print(a.balance)\n",
    "a.withdraw(3000)\n",
    "print(a.balance)"
   ]
  },
  {
   "cell_type": "markdown",
   "id": "b8a46830",
   "metadata": {},
   "source": [
    "# 276 정보 출력 메서드\n",
    "Account 인스턴스에 저장된 정보를 출력하는 display_info() 메서드를 추가하세요. 잔고는 세자리마다 쉼표를 출력하세요.\n",
    "\n",
    "은행이름: SC은행\n",
    "\n",
    "예금주: 파이썬\n",
    "\n",
    "계좌번호: 111-11-111111\n",
    "\n",
    "잔고: 10,000원"
   ]
  },
  {
   "cell_type": "code",
   "execution_count": 17,
   "id": "6e435c89",
   "metadata": {
    "scrolled": true
   },
   "outputs": [
    {
     "name": "stdout",
     "output_type": "stream",
     "text": [
      "은행이름 : SC은행\n",
      "예금주 : A1\n",
      "계좌번호 : 422-15-896605\n",
      "잔고 : 10000원\n"
     ]
    }
   ],
   "source": [
    "class Account:\n",
    "    count = 0\n",
    "    def __init__(self, name, balance):   \n",
    "        self.name = name\n",
    "        self.balance = balance\n",
    "        self.bank = \"SC은행\"\n",
    "        num1 = random.randint(0,999)\n",
    "        num2 = random.randint(0,99)\n",
    "        num3 = random.randint(0,999999)\n",
    "        num1 = str(num1).zfill(3)   \n",
    "        num2 = str(num2).zfill(2)\n",
    "        num3 = str(num3).zfill(6)   \n",
    "        self.account_number = num1+'-'+num2+'-'+num3\n",
    "        Account.count+=1\n",
    "        \n",
    "    def get_account_num(cls):\n",
    "        print(cls.count)\n",
    "        \n",
    "    def deposit(self, money_in):\n",
    "        if money_in >=1:\n",
    "            self.balance+=money_in\n",
    "            \n",
    "    def withdraw(self, money_out):\n",
    "        if self.balance > money_out:\n",
    "            self.balance-=money_out\n",
    "            \n",
    "    def display_info(self):\n",
    "        print(f\"은행이름 : {self.bank}\")\n",
    "        print(f\"예금주 : {self.name}\")\n",
    "        print(f\"계좌번호 : {self.account_number}\")\n",
    "        print(f\"잔고 : {self.balance}원\")\n",
    "        \n",
    "a = Account(\"A1\",10000)\n",
    "a.display_info()"
   ]
  },
  {
   "cell_type": "markdown",
   "id": "b5873a4f",
   "metadata": {},
   "source": [
    "# 277 이자 지급하기\n",
    "입금 횟수가 5회가 될 때 잔고를 기준으로 1%의 이자가 잔고에 추가되도록 코드를 변경해보세요."
   ]
  },
  {
   "cell_type": "code",
   "execution_count": 23,
   "id": "0bf9b54a",
   "metadata": {},
   "outputs": [
    {
     "name": "stdout",
     "output_type": "stream",
     "text": [
      "20000\n",
      "30000\n",
      "40000\n",
      "50000\n",
      "60600.0\n",
      "70600.0\n",
      "80600.0\n",
      "90600.0\n",
      "100600.0\n",
      "111706.0\n",
      "121706.0\n",
      "131706.0\n"
     ]
    }
   ],
   "source": [
    "class Account:\n",
    "    count = 0\n",
    "    def __init__(self, name, balance):   \n",
    "        self.deposit_count = 0\n",
    "        self.name = name\n",
    "        self.balance = balance\n",
    "        self.bank = \"SC은행\"\n",
    "        num1 = random.randint(0,999)\n",
    "        num2 = random.randint(0,99)\n",
    "        num3 = random.randint(0,999999)\n",
    "        num1 = str(num1).zfill(3)   \n",
    "        num2 = str(num2).zfill(2)\n",
    "        num3 = str(num3).zfill(6)   \n",
    "        self.account_number = num1+'-'+num2+'-'+num3\n",
    "        Account.count+=1\n",
    "        \n",
    "    def get_account_num(cls):\n",
    "        print(cls.count)\n",
    "        \n",
    "    def deposit(self, money_in):\n",
    "        if money_in >=1:\n",
    "            self.balance+=money_in\n",
    "            self.deposit_count+=1\n",
    "            \n",
    "            if self.deposit_count%5==0:\n",
    "                self.balance *= 1.01\n",
    "            \n",
    "    def withdraw(self, money_out):\n",
    "        if self.balance > money_out:\n",
    "            self.balance-=money_out\n",
    "            \n",
    "    def display_info(self):\n",
    "        print(f\"은행이름 : {self.bank}\")\n",
    "        print(f\"예금주 : {self.name}\")\n",
    "        print(f\"계좌번호 : {self.account_number}\")\n",
    "        print(f\"잔고 : {self.balance}원\")\n",
    "a=Account(\"A1\",10000)\n",
    "for i in range(12):\n",
    "    a.deposit(10000)\n",
    "    print(a.balance)"
   ]
  },
  {
   "cell_type": "markdown",
   "id": "46e9cda4",
   "metadata": {},
   "source": [
    "# 278 여러 객체 생성\n",
    "Account 클래스로부터 3개 이상 인스턴스를 생성하고 생성된 인스턴스를 리스트에 저장해보세요."
   ]
  },
  {
   "cell_type": "code",
   "execution_count": 27,
   "id": "dd616f9b",
   "metadata": {},
   "outputs": [
    {
     "name": "stdout",
     "output_type": "stream",
     "text": [
      "[<__main__.Account object at 0x000002465700A0D0>, <__main__.Account object at 0x0000024657004070>, <__main__.Account object at 0x000002465700A100>]\n"
     ]
    }
   ],
   "source": [
    "class Account:\n",
    "    count = 0\n",
    "    def __init__(self, name, balance):   \n",
    "        self.deposit_count = 0\n",
    "        self.name = name\n",
    "        self.balance = balance\n",
    "        self.bank = \"SC은행\"\n",
    "        num1 = random.randint(0,999)\n",
    "        num2 = random.randint(0,99)\n",
    "        num3 = random.randint(0,999999)\n",
    "        num1 = str(num1).zfill(3)   \n",
    "        num2 = str(num2).zfill(2)\n",
    "        num3 = str(num3).zfill(6)   \n",
    "        self.account_number = num1+'-'+num2+'-'+num3\n",
    "        Account.count+=1\n",
    "        \n",
    "    def get_account_num(cls):\n",
    "        print(cls.count)\n",
    "        \n",
    "    def deposit(self, money_in):\n",
    "        if money_in >=1:\n",
    "            self.balance+=money_in\n",
    "            self.deposit_count+=1\n",
    "            \n",
    "            if self.deposit_count%5==0:\n",
    "                self.balance *= 1.01\n",
    "            \n",
    "    def withdraw(self, money_out):\n",
    "        if self.balance > money_out:\n",
    "            self.balance-=money_out\n",
    "            \n",
    "    def display_info(self):\n",
    "        print(f\"은행이름 : {self.bank}\")\n",
    "        print(f\"예금주 : {self.name}\")\n",
    "        print(f\"계좌번호 : {self.account_number}\")\n",
    "        print(f\"잔고 : {self.balance}원\")\n",
    "\n",
    "ans=[]\n",
    "a1 = Account(\"A1\",10000)\n",
    "a2 = Account(\"A2\",5000)\n",
    "a3 = Account(\"A3\",4000)\n",
    "\n",
    "ans.append(a1)\n",
    "ans.append(a2)\n",
    "ans.append(a3)\n",
    "\n",
    "print(ans)"
   ]
  },
  {
   "cell_type": "markdown",
   "id": "b64b4596",
   "metadata": {},
   "source": [
    "# 279 객체 순회\n",
    "반복문을 통해 리스트에 있는 객체를 순회하면서 잔고가 100만원 이상인 고객의 정보만 출력하세요."
   ]
  },
  {
   "cell_type": "code",
   "execution_count": 28,
   "id": "2da5c1d4",
   "metadata": {},
   "outputs": [
    {
     "name": "stdout",
     "output_type": "stream",
     "text": [
      "은행이름 : SC은행\n",
      "예금주 : A1\n",
      "계좌번호 : 923-91-621318\n",
      "잔고 : 100000000000000원\n"
     ]
    }
   ],
   "source": [
    "class Account:\n",
    "    count = 0\n",
    "    def __init__(self, name, balance):   \n",
    "        self.deposit_count = 0\n",
    "        self.name = name\n",
    "        self.balance = balance\n",
    "        self.bank = \"SC은행\"\n",
    "        num1 = random.randint(0,999)\n",
    "        num2 = random.randint(0,99)\n",
    "        num3 = random.randint(0,999999)\n",
    "        num1 = str(num1).zfill(3)   \n",
    "        num2 = str(num2).zfill(2)\n",
    "        num3 = str(num3).zfill(6)   \n",
    "        self.account_number = num1+'-'+num2+'-'+num3\n",
    "        Account.count+=1\n",
    "        \n",
    "    def get_account_num(cls):\n",
    "        print(cls.count)\n",
    "        \n",
    "    def deposit(self, money_in):\n",
    "        if money_in >=1:\n",
    "            self.balance+=money_in\n",
    "            self.deposit_count+=1\n",
    "            \n",
    "            if self.deposit_count%5==0:\n",
    "                self.balance *= 1.01\n",
    "            \n",
    "    def withdraw(self, money_out):\n",
    "        if self.balance > money_out:\n",
    "            self.balance-=money_out\n",
    "            \n",
    "    def display_info(self):\n",
    "        print(f\"은행이름 : {self.bank}\")\n",
    "        print(f\"예금주 : {self.name}\")\n",
    "        print(f\"계좌번호 : {self.account_number}\")\n",
    "        print(f\"잔고 : {self.balance}원\")\n",
    "\n",
    "ans=[]\n",
    "a1 = Account(\"A1\",100000000000000)\n",
    "a2 = Account(\"A2\",5000)\n",
    "a3 = Account(\"A3\",4000)\n",
    "\n",
    "ans.append(a1)\n",
    "ans.append(a2)\n",
    "ans.append(a3)\n",
    "\n",
    "for i in ans:\n",
    "    if i.balance >= 1000000:\n",
    "        i.display_info()"
   ]
  },
  {
   "cell_type": "markdown",
   "id": "449a3369",
   "metadata": {},
   "source": [
    "# 280 입출금 내역\n",
    "입금과 출금 내역이 기록되도록 코드를 업데이트 하세요. 입금 내역과 출금 내역을 출력하는 deposit_history와 withdraw_history 메서드를 추가하세요."
   ]
  },
  {
   "cell_type": "code",
   "execution_count": 29,
   "id": "7af8c88b",
   "metadata": {},
   "outputs": [
    {
     "name": "stdout",
     "output_type": "stream",
     "text": [
      "100\n",
      "200\n",
      "300\n",
      "100\n",
      "200\n"
     ]
    }
   ],
   "source": [
    "import random\n",
    "\n",
    "\n",
    "class Account:\n",
    "    # class variable\n",
    "    account_count = 0\n",
    "\n",
    "    def __init__(self, name, balance):\n",
    "        self.deposit_count = 0\n",
    "        self.deposit_log = []\n",
    "        self.withdraw_log = []\n",
    "\n",
    "        self.name = name\n",
    "        self.balance = balance\n",
    "        self.bank = \"SC은행\"\n",
    "\n",
    "        # 3-2-6\n",
    "        num1 = random.randint(0, 999)\n",
    "        num2 = random.randint(0, 99)\n",
    "        num3 = random.randint(0, 999999)\n",
    "\n",
    "        num1 = str(num1).zfill(3)  # 1 -> '1' -> '001'\n",
    "        num2 = str(num2).zfill(2)  # 1 -> '1' -> '01'\n",
    "        num3 = str(num3).zfill(6)  # 1 -> '1' -> '0000001'\n",
    "        self.account_number = num1 + '-' + num2 + '-' + num3  # 001-01-000001\n",
    "        Account.account_count += 1\n",
    "\n",
    "    @classmethod\n",
    "    def get_account_num(cls):\n",
    "        print(cls.account_count)  # Account.account_count\n",
    "\n",
    "    def deposit(self, amount):\n",
    "        if amount >= 1:\n",
    "            self.deposit_log.append(amount)\n",
    "            self.balance += amount\n",
    "\n",
    "            self.deposit_count += 1\n",
    "            if self.deposit_count % 5 == 0:         # 5, 10, 15\n",
    "                # 이자 지금\n",
    "                self.balance = (self.balance * 1.01)\n",
    "\n",
    "\n",
    "    def withdraw(self, amount):\n",
    "        if self.balance > amount:\n",
    "            self.withdraw_log.append(amount)\n",
    "            self.balance -= amount\n",
    "\n",
    "    def display_info(self):\n",
    "        print(\"은행이름: \", self.bank)\n",
    "        print(\"예금주: \", self.name)\n",
    "        print(\"계좌번호: \", self.account_number)\n",
    "        print(\"잔고: \", self.balance)\n",
    "\n",
    "    def withdraw_history(self):\n",
    "        for amount in self.withdraw_log:\n",
    "            print(amount)\n",
    "\n",
    "    def deposit_history(self):\n",
    "        for amount in self.deposit_log:\n",
    "            print(amount)\n",
    "\n",
    "\n",
    "k = Account(\"Kim\", 1000)\n",
    "k.deposit(100)\n",
    "k.deposit(200)\n",
    "k.deposit(300)\n",
    "k.deposit_history()\n",
    "\n",
    "k.withdraw(100)\n",
    "k.withdraw(200)\n",
    "k.withdraw_history()\n"
   ]
  },
  {
   "cell_type": "markdown",
   "id": "360221e5",
   "metadata": {},
   "source": [
    "# 281 클래스 정의\n",
    "다음 코드가 동작하도록 차 클래스를 정의하세요.\n",
    "\n",
    "car = 차(2, 1000)\n",
    "\n",
    "car.바퀴\n",
    "\n",
    "2\n",
    "\n",
    "car.가격\n",
    "\n",
    "1000"
   ]
  },
  {
   "cell_type": "code",
   "execution_count": 33,
   "id": "417b65fc",
   "metadata": {},
   "outputs": [
    {
     "name": "stdout",
     "output_type": "stream",
     "text": [
      "2\n",
      "1000\n"
     ]
    }
   ],
   "source": [
    "class 차:\n",
    "    def __init__(self,바퀴,가격):\n",
    "        self.바퀴 = 바퀴\n",
    "        self.가격 = 가격\n",
    "\n",
    "car = 차(2, 1000)\n",
    "print(car.바퀴)\n",
    "print(car.가격)"
   ]
  },
  {
   "cell_type": "markdown",
   "id": "a4bb6dec",
   "metadata": {},
   "source": [
    "# 282 클래스 상속\n",
    "차 클래스를 상속받은 자전차 클래스를 정의하세요."
   ]
  },
  {
   "cell_type": "code",
   "execution_count": 34,
   "id": "e13bc576",
   "metadata": {},
   "outputs": [],
   "source": [
    "class 차:\n",
    "    def __init__(self,바퀴,가격):\n",
    "        self.바퀴 = 바퀴\n",
    "        self.가격 = 가격\n",
    "        \n",
    "class 자천차(차):\n",
    "    pass"
   ]
  },
  {
   "cell_type": "markdown",
   "id": "5be1df80",
   "metadata": {},
   "source": [
    "# 283 클래스 상속\n",
    "다음 코드가 동작하도록 자전차 클래스를 정의하세요. 단 자전차 클래스는 차 클래스를 상속받습니다.\n",
    "\n",
    "bicycle = 자전차(2, 100)\n",
    "\n",
    "bicycle.가격\n",
    "\n",
    "100"
   ]
  },
  {
   "cell_type": "code",
   "execution_count": 1,
   "id": "99792ad8",
   "metadata": {},
   "outputs": [
    {
     "name": "stdout",
     "output_type": "stream",
     "text": [
      "100\n"
     ]
    }
   ],
   "source": [
    "class 차:\n",
    "    def __init__(self, 바퀴, 가격):\n",
    "        self.바퀴 = 바퀴\n",
    "        self.가격 = 가격\n",
    "\n",
    "\n",
    "class 자전차(차):\n",
    "    def __init__(self, 바퀴, 가격):\n",
    "        self.바퀴 = 바퀴\n",
    "        self.가격 = 가격\n",
    "        \n",
    "bicycle = 자전차(2, 100)\n",
    "print(bicycle.가격)"
   ]
  },
  {
   "cell_type": "markdown",
   "id": "c019d343",
   "metadata": {},
   "source": [
    "# 284 클래스 상속\n",
    "다음 코드가 동작하도록 자전차 클래스를 정의하세요. 단 자전차 클래스는 차 클래스를 상속받습니다.\n",
    "\n",
    "bicycle = 자전차(2, 100, \"시마노\")\n",
    "\n",
    "bicycle.구동계\n",
    "\n",
    "시마노"
   ]
  },
  {
   "cell_type": "code",
   "execution_count": 2,
   "id": "caad44b4",
   "metadata": {},
   "outputs": [
    {
     "name": "stdout",
     "output_type": "stream",
     "text": [
      "시마노\n"
     ]
    }
   ],
   "source": [
    "class 차:\n",
    "    def __init__(self, 바퀴, 가격):\n",
    "        self.바퀴 = 바퀴\n",
    "        self.가격 = 가격\n",
    "\n",
    "\n",
    "class 자전차(차):\n",
    "    def __init__(self, 바퀴, 가격,구동계):\n",
    "        self.바퀴 = 바퀴\n",
    "        self.가격 = 가격\n",
    "        self.구동계 = 구동계\n",
    "        \n",
    "bicycle = 자전차(2, 100, \"시마노\")\n",
    "print(bicycle.구동계)"
   ]
  },
  {
   "cell_type": "markdown",
   "id": "55141417",
   "metadata": {},
   "source": [
    "# 285 클래스 상속\n",
    "다음 코드가 동작하도록 차 클래스를 상속받는 자동차 클래스를 정의하세요.\n",
    "\n",
    "car = 자동차(4, 1000)\n",
    "\n",
    "car.정보()\n",
    "\n",
    "바퀴수 4\n",
    "\n",
    "가격 1000"
   ]
  },
  {
   "cell_type": "code",
   "execution_count": 7,
   "id": "8ca81dae",
   "metadata": {},
   "outputs": [
    {
     "name": "stdout",
     "output_type": "stream",
     "text": [
      "바퀴수 4\n",
      "가격 1000\n"
     ]
    }
   ],
   "source": [
    "class 차:\n",
    "    def __init__(self, 바퀴, 가격):\n",
    "        self.바퀴 = 바퀴\n",
    "        self.가격 = 가격\n",
    "\n",
    "\n",
    "class 자동차(차):\n",
    "    def __init__(self, 바퀴, 가격):\n",
    "        self.바퀴 = 바퀴\n",
    "        self.가격 = 가격\n",
    "    def 정보(self):\n",
    "        print(f\"바퀴수 {self.바퀴}\")\n",
    "        print(f\"가격 {self.가격}\")\n",
    "car = 자동차(4, 1000)\n",
    "car.정보()"
   ]
  },
  {
   "cell_type": "markdown",
   "id": "469587b4",
   "metadata": {},
   "source": [
    "# 286 부모 클래스 생성자 호출\n",
    "다음 코드가 동작하도록 차 클래스를 수정하세요.\n",
    "\n",
    "bicycle = 자전차(2, 100, \"시마노\")\n",
    "\n",
    "bicycle.정보()\n",
    "\n",
    "바퀴수 2\n",
    "\n",
    "가격 100"
   ]
  },
  {
   "cell_type": "code",
   "execution_count": 8,
   "id": "3855868c",
   "metadata": {},
   "outputs": [
    {
     "name": "stdout",
     "output_type": "stream",
     "text": [
      "바퀴수 2\n",
      "가격 100\n"
     ]
    }
   ],
   "source": [
    "class 차:\n",
    "    def __init__(self, 바퀴, 가격):\n",
    "        self.바퀴 = 바퀴\n",
    "        self.가격 = 가격\n",
    "    def 정보(self):\n",
    "        print(f\"바퀴수 {self.바퀴}\")\n",
    "        print(f\"가격 {self.가격}\")\n",
    "        \n",
    "class 자동차(차):\n",
    "    def __init__(self,바퀴,가격):\n",
    "        super().__init__(바퀴,가격)\n",
    "        \n",
    "        \n",
    "class 자전차(차):\n",
    "    def __init__(self, 바퀴, 가격,구동계):\n",
    "        super().__init__(바퀴,가격)\n",
    "        self.구동계 = 구동계\n",
    "        \n",
    "bicycle = 자전차(2,100,\"시마노\")\n",
    "bicycle.정보()"
   ]
  },
  {
   "cell_type": "markdown",
   "id": "a95c3926",
   "metadata": {},
   "source": [
    "# 287 부모 클래스 메서드 호출\n",
    "자전차의 정보() 메서드로 구동계 정보까지 출력하도록 수정해보세요.\n",
    "\n",
    "bicycle = 자전차(2, 100, \"시마노\")\n",
    "\n",
    "bicycle.정보()\n",
    "\n",
    "바퀴수 2\n",
    "\n",
    "가격 100\n",
    "\n",
    "구동계 시마노"
   ]
  },
  {
   "cell_type": "code",
   "execution_count": 9,
   "id": "7cc5a260",
   "metadata": {},
   "outputs": [
    {
     "name": "stdout",
     "output_type": "stream",
     "text": [
      "바퀴수 2\n",
      "가격 100\n",
      "구동계 시마노\n"
     ]
    }
   ],
   "source": [
    "class 차:\n",
    "    def __init__(self, 바퀴, 가격):\n",
    "        self.바퀴 = 바퀴\n",
    "        self.가격 = 가격\n",
    "    def 정보(self):\n",
    "        print(f\"바퀴수 {self.바퀴}\")\n",
    "        print(f\"가격 {self.가격}\")\n",
    "        \n",
    "class 자동차(차):\n",
    "    def __init__(self,바퀴,가격):\n",
    "        super().__init__(바퀴,가격)\n",
    "        \n",
    "        \n",
    "class 자전차(차):\n",
    "    def __init__(self, 바퀴, 가격,구동계):\n",
    "        super().__init__(바퀴,가격)\n",
    "        self.구동계 = 구동계\n",
    "    def 정보(self):\n",
    "        super().정보()\n",
    "        print(f\"구동계 {self.구동계}\")\n",
    "        \n",
    "bicycle = 자전차(2,100,\"시마노\")\n",
    "bicycle.정보()"
   ]
  },
  {
   "cell_type": "markdown",
   "id": "b9b92c50",
   "metadata": {},
   "source": [
    "# 288 오버라이딩\n",
    "class 부모:\n",
    "  \n",
    "  def 호출(self):\n",
    "    \n",
    "    print(\"부모호출\")\n",
    "\n",
    "class 자식(부모):\n",
    "  \n",
    "  def 호출(self):\n",
    "    \n",
    "    print(\"자식호출\")\n",
    "\n",
    "나 = 자식()\n",
    "\n",
    "나.호출()"
   ]
  },
  {
   "cell_type": "markdown",
   "id": "1a6a414e",
   "metadata": {},
   "source": [
    "답 : 자식호출"
   ]
  },
  {
   "cell_type": "code",
   "execution_count": 10,
   "id": "577ea0f2",
   "metadata": {},
   "outputs": [
    {
     "name": "stdout",
     "output_type": "stream",
     "text": [
      "자식호출\n"
     ]
    }
   ],
   "source": [
    "class 부모:\n",
    "  def 호출(self):\n",
    "    print(\"부모호출\")\n",
    "\n",
    "class 자식(부모):\n",
    "  def 호출(self):\n",
    "    print(\"자식호출\")\n",
    "나 = 자식()\n",
    "나.호출()"
   ]
  },
  {
   "cell_type": "markdown",
   "id": "83683a09",
   "metadata": {},
   "source": [
    "# 289 생성자\n",
    "다음 코드의 실행 결과를 예상해보세요.\n",
    "\n",
    "class 부모:\n",
    "  \n",
    "  def __init__(self):\n",
    "    \n",
    "    print(\"부모생성\")\n",
    "\n",
    "class 자식(부모):\n",
    "  \n",
    "  def __init__(self):\n",
    "    \n",
    "    print(\"자식생성\")"
   ]
  },
  {
   "cell_type": "markdown",
   "id": "b9b07273",
   "metadata": {},
   "source": [
    "답 : 자식생성"
   ]
  },
  {
   "cell_type": "code",
   "execution_count": 14,
   "id": "48b1ed95",
   "metadata": {},
   "outputs": [
    {
     "name": "stdout",
     "output_type": "stream",
     "text": [
      "자식생성\n"
     ]
    }
   ],
   "source": [
    "class 부모:\n",
    "  def __init__(self):\n",
    "    print(\"부모생성\")\n",
    "\n",
    "class 자식(부모):\n",
    "  def __init__(self):\n",
    "    print(\"자식생성\")\n",
    "    \n",
    "나 = 자식()"
   ]
  },
  {
   "cell_type": "markdown",
   "id": "b4146c4d",
   "metadata": {},
   "source": [
    "# 290 부모클래스 생성자 호출\n",
    "다음 코드의 실행 결과를 예상해보세요.\n",
    "\n",
    "class 부모:\n",
    "  \n",
    "  def __init__(self):\n",
    "    \n",
    "    print(\"부모생성\")\n",
    "\n",
    "class 자식(부모):\n",
    "  \n",
    "  def __init__(self):\n",
    "    \n",
    "    print(\"자식생성\")\n",
    "    \n",
    "    super().__init__()\n",
    "\n",
    "나 = 자식()\n"
   ]
  },
  {
   "cell_type": "markdown",
   "id": "abd947f7",
   "metadata": {},
   "source": [
    "답 :"
   ]
  },
  {
   "cell_type": "markdown",
   "id": "18024244",
   "metadata": {},
   "source": [
    "자식생성\n",
    "\n",
    "부모생성"
   ]
  },
  {
   "cell_type": "code",
   "execution_count": 15,
   "id": "007cd41c",
   "metadata": {},
   "outputs": [
    {
     "name": "stdout",
     "output_type": "stream",
     "text": [
      "자식생성\n",
      "부모생성\n"
     ]
    }
   ],
   "source": [
    "class 부모:\n",
    "  def __init__(self):\n",
    "    print(\"부모생성\")\n",
    "\n",
    "class 자식(부모):\n",
    "  def __init__(self):\n",
    "    print(\"자식생성\")\n",
    "    super().__init__()\n",
    "\n",
    "나 = 자식()"
   ]
  },
  {
   "cell_type": "markdown",
   "id": "538aded8",
   "metadata": {},
   "source": [
    "# <12.파일 입출력과 예외처리>"
   ]
  },
  {
   "cell_type": "markdown",
   "id": "a29eaba7",
   "metadata": {},
   "source": [
    "# 291 파일쓰기\n",
    "바탕화면에 '매수종목1.txt' 파일을 생성한 후 다음과 같이 종목코드를 파일에 써보세요.\n",
    "\n",
    "005930\n",
    "\n",
    "005380\n",
    "\n",
    "035420"
   ]
  },
  {
   "cell_type": "code",
   "execution_count": 29,
   "id": "9ab786cb",
   "metadata": {},
   "outputs": [],
   "source": [
    "f = open(\"C:/Users\\kbk/desktop\\매수종목1.txt\", mode=\"wt\", encoding=\"utf-8\")\n",
    "f.write(\"005930\\n\")\n",
    "f.write(\"005380\\n\")\n",
    "f.write(\"035420\")\n",
    "f.close()"
   ]
  },
  {
   "cell_type": "markdown",
   "id": "61cc1703",
   "metadata": {},
   "source": [
    "# 292 파일쓰기\n",
    "바탕화면에 '매수종목2.txt' 파일을 생성한 후 다음과 같이 종목코드와 종목명을 파일에 써보세요.\n",
    "\n",
    "005930 삼성전자\n",
    "\n",
    "005380 현대차\n",
    "\n",
    "035420 NAVER"
   ]
  },
  {
   "cell_type": "code",
   "execution_count": 30,
   "id": "7850a919",
   "metadata": {},
   "outputs": [],
   "source": [
    "f = open(\"C:/Users\\kbk/desktop\\매수종목2.txt\", mode=\"wt\", encoding=\"utf-8\")\n",
    "f.write(\"005930 삼성전자\\n\")\n",
    "f.write(\"005380 현대차\\n\")\n",
    "f.write(\"035420 NAVER\")\n",
    "f.close()"
   ]
  },
  {
   "cell_type": "markdown",
   "id": "20a8c556",
   "metadata": {},
   "source": [
    "# 293 CSV 파일 쓰기\n",
    "바탕화면에 '매수종목.csv' 파일을 생성한 후 다음과 같이 종목코드와 종목명을 파일에 써보세요. 인코딩은 'cp949'를 사용해야합니다."
   ]
  },
  {
   "cell_type": "code",
   "execution_count": 31,
   "id": "d2930803",
   "metadata": {},
   "outputs": [],
   "source": [
    "import csv\n",
    "\n",
    "f = open(\"C:/Users\\kbk/desktop\\매수종목.csv\", mode=\"wt\", encoding=\"cp949\",\n",
    "        newline='')\n",
    "writer = csv.writer(f)\n",
    "writer.writerow([\"종목명\",\"종목코드\",\"PER\"])\n",
    "writer.writerow([\"삼성전자\",\"005930\",\"15.59\"])\n",
    "writer.writerow([\"NAVER\",\"035420\",\"55.82\"])\n",
    "f.close()"
   ]
  },
  {
   "cell_type": "markdown",
   "id": "b8042ea5",
   "metadata": {},
   "source": [
    "# 294 파일 읽기\n",
    "바탕화면에 생성한 '매수종목1.txt' 파일을 읽은 후 종목코드를 리스트에 저장해보세요."
   ]
  },
  {
   "cell_type": "code",
   "execution_count": 33,
   "id": "cb42cb97",
   "metadata": {},
   "outputs": [
    {
     "name": "stdout",
     "output_type": "stream",
     "text": [
      "['005930', '005380', '035420']\n"
     ]
    }
   ],
   "source": [
    "f = open(\"C:/Users\\kbk/desktop\\매수종목1.txt\", encoding=\"utf-8\")\n",
    "lines = f.readlines()\n",
    "codes=[]\n",
    "for a in lines:\n",
    "    code = a.strip()\n",
    "    codes.append(code)\n",
    "f.close()\n",
    "    \n",
    "print(codes)\n"
   ]
  },
  {
   "cell_type": "markdown",
   "id": "81e277ca",
   "metadata": {},
   "source": [
    "# 295 파일 읽기\n",
    "바탕화면에 생성한 '매수종목2.txt' 파일을 읽은 후 종목코드와 종목명을 딕셔너리로 저장해보세요. 종목명을 key로 종목명을 value로 저장합니다.\n",
    "\n"
   ]
  },
  {
   "cell_type": "code",
   "execution_count": 40,
   "id": "761503cc",
   "metadata": {
    "scrolled": true
   },
   "outputs": [
    {
     "name": "stdout",
     "output_type": "stream",
     "text": [
      "{'005930': '삼성전자', '005380': '현대차', '035420': 'NAVER'}\n"
     ]
    }
   ],
   "source": [
    "f = open(\"C:/Users\\kbk/desktop\\매수종목2.txt\", encoding=\"utf-8\")\n",
    "lines = f.readlines()\n",
    "dic = {}\n",
    "for line in lines:\n",
    "    line = line.strip()\n",
    "    k, v = line.split()\n",
    "    dic[k] = v\n",
    "f.close()\n",
    "\n",
    "print(data)"
   ]
  },
  {
   "cell_type": "markdown",
   "id": "e0f242e6",
   "metadata": {},
   "source": [
    "# 296 예외처리\n",
    "문자열 PER (Price to Earning Ratio) 값을 실수로 변환할 때 에러가 발생합니다. 예외처리를 통해 에러가 발생하는 PER은 0으로 출력하세요.\n",
    "\n",
    "per = [\"10.31\", \"\", \"8.00\"]\n",
    "\n",
    "for i in per:\n",
    "    \n",
    "    print(float(i))\n"
   ]
  },
  {
   "cell_type": "code",
   "execution_count": 41,
   "id": "bab3d1cf",
   "metadata": {},
   "outputs": [
    {
     "name": "stdout",
     "output_type": "stream",
     "text": [
      "10.31\n",
      "0\n",
      "8.0\n"
     ]
    }
   ],
   "source": [
    "per = [\"10.31\", \"\", \"8.00\"]\n",
    "for i in per:\n",
    "    try:\n",
    "        print(float(i))\n",
    "    except:print(0)"
   ]
  },
  {
   "cell_type": "markdown",
   "id": "6902a4e4",
   "metadata": {},
   "source": [
    "# 297 예외처리 및 리스트에 저장\n",
    "문자열로 표현된 PER 값을 실수로 변환한 후 이를 새로운 리스트에 저장해보세요.\n",
    "\n",
    "per = [\"10.31\", \"\", \"8.00\"]\n",
    "\n",
    "for i in per:\n",
    "    \n",
    "    print(float(per))"
   ]
  },
  {
   "cell_type": "code",
   "execution_count": 42,
   "id": "d97ec99d",
   "metadata": {},
   "outputs": [
    {
     "name": "stdout",
     "output_type": "stream",
     "text": [
      "[10.31, 0, 8.0]\n"
     ]
    }
   ],
   "source": [
    "per = [\"10.31\", \"\", \"8.00\"]\n",
    "ans = []\n",
    "for i in per:\n",
    "    try:\n",
    "        x=float(i)\n",
    "    except:\n",
    "        x=0\n",
    "    ans.append(x)\n",
    "print(ans)"
   ]
  },
  {
   "cell_type": "markdown",
   "id": "87245c2c",
   "metadata": {},
   "source": [
    "# 298 특정 예외만 처리하기\n",
    "어떤 값을 0으로 나누면 ZeroDivisionError 에러가 발생합니다. try ~ except로 모든 에러에 대해 예외처리하지 말고 ZeroDivisionError 에러만 예외처리해보세요."
   ]
  },
  {
   "cell_type": "code",
   "execution_count": 43,
   "id": "afe7576b",
   "metadata": {},
   "outputs": [
    {
     "name": "stdout",
     "output_type": "stream",
     "text": [
      "0으로 나눌수 없음\n"
     ]
    }
   ],
   "source": [
    "try :\n",
    "    b=3/0\n",
    "except ZeroDivisionError:\n",
    "    print(\"0으로 나눌수 없음\")"
   ]
  },
  {
   "cell_type": "markdown",
   "id": "c2f3d909",
   "metadata": {},
   "source": [
    "# 299 예외의 메시지 출력하기\n",
    "다음과 같은 코드 구조를 사용하면 예외 발생 시 에러 메시지를 변수로 바인딩할 수 있습니다.\n",
    "\n",
    "try:\n",
    "    \n",
    "    실행코드\n",
    "\n",
    "except 예외 as 변수:\n",
    "    \n",
    "    예외처리코드 \n",
    "\n",
    "리스트의 인덱싱에 대해 에러를 출력해보세요.\n",
    "\n",
    "data = [1, 2, 3]\n",
    "\n",
    "for i in range(5)\n",
    "    \n",
    "    print(data[i])"
   ]
  },
  {
   "cell_type": "code",
   "execution_count": 45,
   "id": "d43465a3",
   "metadata": {},
   "outputs": [
    {
     "name": "stdout",
     "output_type": "stream",
     "text": [
      "1\n",
      "2\n",
      "3\n",
      "Index Error!!!\n",
      "Index Error!!!\n"
     ]
    }
   ],
   "source": [
    "data=[1,2,3]\n",
    "for i in range(5):\n",
    "    try:\n",
    "        print(data[i])\n",
    "    except IndexError :\n",
    "        print(\"Index Error!!!\")"
   ]
  },
  {
   "cell_type": "markdown",
   "id": "b298a87c",
   "metadata": {},
   "source": [
    "# 300 try,except,else,finally 구조 사용해보기\n",
    "파이썬 예외처리는 다음과 같은 구조를 가질 수 있습니다.\n",
    "\n",
    "try:\n",
    "    \n",
    "    실행 코드\n",
    "\n",
    "except:\n",
    "    \n",
    "    예외가 발생했을 때 수행할 코드\n",
    "\n",
    "else:\n",
    "    \n",
    "    예외가 발생하지 않았을 때 수행할 코드\n",
    "\n",
    "finally:\n",
    "    \n",
    "    예외 발생 여부와 상관없이 항상 수행할 코드\n",
    "\n",
    "아래의 코드에 대해서 예외처리를 사용하고 try, except, else, finally에 적당한 코드\n",
    "를 작성해봅시다. else와 finally는 적당한 문구를 print하시면 됩니다.\n",
    "\n",
    "per = [\"10.31\", \"\", \"8.00\"]\n",
    "\n",
    "for i in per:\n",
    "    \n",
    "    print(float(per))"
   ]
  },
  {
   "cell_type": "code",
   "execution_count": 47,
   "id": "e710219f",
   "metadata": {},
   "outputs": [
    {
     "name": "stdout",
     "output_type": "stream",
     "text": [
      "10.31\n",
      "예외가 발생하지 않음\n",
      "항상 마지막에 오는 코드\n",
      "\n",
      "0\n",
      "항상 마지막에 오는 코드\n",
      "\n",
      "8.0\n",
      "예외가 발생하지 않음\n",
      "항상 마지막에 오는 코드\n",
      "\n"
     ]
    }
   ],
   "source": [
    "per = [\"10.31\", \"\", \"8.00\"]\n",
    "for i in per:\n",
    "    try:\n",
    "        print(float(i))\n",
    "    except:\n",
    "        print(0)\n",
    "    else:\n",
    "        print(\"예외가 발생하지 않음\")\n",
    "    finally:\n",
    "        print(\"항상 마지막에 오는 코드\\n\")"
   ]
  }
 ],
 "metadata": {
  "kernelspec": {
   "display_name": "Python 3 (ipykernel)",
   "language": "python",
   "name": "python3"
  },
  "language_info": {
   "codemirror_mode": {
    "name": "ipython",
    "version": 3
   },
   "file_extension": ".py",
   "mimetype": "text/x-python",
   "name": "python",
   "nbconvert_exporter": "python",
   "pygments_lexer": "ipython3",
   "version": "3.9.12"
  }
 },
 "nbformat": 4,
 "nbformat_minor": 5
}
