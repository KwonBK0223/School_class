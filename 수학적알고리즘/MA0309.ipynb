{
 "cells": [
  {
   "cell_type": "markdown",
   "id": "d5c6d43a",
   "metadata": {},
   "source": [
    "# 지난 수업 리마인드\n",
    "\n",
    "권병근 : 엑셀 파일을 불러 올때 , 확장자에 따라 불러오는 함수가 다르다는것이 신기했음\n",
    "\n",
    "김종원 : 엑셀 파일을 불러 올때, 경로설정의 어려움을 겪었었음\n",
    "\n",
    "윤창운 : 주피터 노트북을 처음 써봐서 shift + enter로 실행이 된다는것을 알게됨\n",
    "\n",
    "황정훈 : 엑셀 파일에 입력 값이 열의 넓이 보다 길면 ####으로 뜨는데 그것을 더블 클릭으로 늘리는 방법을 알게됨"
   ]
  },
  {
   "cell_type": "markdown",
   "id": "96e37434",
   "metadata": {},
   "source": [
    "========================================================================"
   ]
  },
  {
   "cell_type": "markdown",
   "id": "91d7b98b",
   "metadata": {},
   "source": [
    "# 회의록 작성"
   ]
  },
  {
   "cell_type": "markdown",
   "id": "8bb72ad1",
   "metadata": {},
   "source": [
    "각 조마다 회의록 만들기"
   ]
  },
  {
   "cell_type": "markdown",
   "id": "ba0253c3",
   "metadata": {},
   "source": [
    "매수업마다 팀원끼리의 회의록을 모아서 하나의 회의록으로 만들기"
   ]
  },
  {
   "cell_type": "markdown",
   "id": "9997b06c",
   "metadata": {},
   "source": [
    "회의주제, 회의 내용, 이름, 날짜, 장소, 최종 회의록 작성자"
   ]
  },
  {
   "cell_type": "markdown",
   "id": "904bfec8",
   "metadata": {},
   "source": [
    "교수님 이메일로 최종 회의록 보내기"
   ]
  },
  {
   "cell_type": "markdown",
   "id": "a50d4829",
   "metadata": {},
   "source": [
    "종합해서 이메일로 보내면 모두 자료실에 올려주면 다른 조의 회의록도 읽어보고 생각해보기"
   ]
  },
  {
   "cell_type": "markdown",
   "id": "822aec82",
   "metadata": {},
   "source": [
    "제출 파일명 : 수학적알고리즘 _ 회의록 _ (팀명) _ (제출날짜)"
   ]
  },
  {
   "cell_type": "markdown",
   "id": "274229ec",
   "metadata": {},
   "source": [
    "========================================================================"
   ]
  },
  {
   "cell_type": "markdown",
   "id": "e09e8cd9",
   "metadata": {},
   "source": [
    "과제 파이썬 문제 풀면서 혼자 공부해보기"
   ]
  },
  {
   "cell_type": "markdown",
   "id": "2dc745e3",
   "metadata": {},
   "source": [
    "========================================================================"
   ]
  },
  {
   "cell_type": "markdown",
   "id": "38a0ec76",
   "metadata": {},
   "source": [
    "변수 잡을때 알파벳 하나로 하지 않고\n",
    "\n",
    "직관적으로 알수있는 변수명 정하기"
   ]
  },
  {
   "cell_type": "markdown",
   "id": "a6cb1840",
   "metadata": {},
   "source": [
    "========================================================================"
   ]
  },
  {
   "cell_type": "markdown",
   "id": "7ed53ac2",
   "metadata": {},
   "source": [
    "# 프로젝트"
   ]
  },
  {
   "cell_type": "markdown",
   "id": "20448e9f",
   "metadata": {},
   "source": [
    "배경 요약정리\n",
    "\n",
    "의뢰인이 원하는 내가 해야하는일 만들기"
   ]
  },
  {
   "cell_type": "markdown",
   "id": "38105266",
   "metadata": {},
   "source": [
    "즉, 문제정의 + 의뢰인이 원하는 답이 무엇인지"
   ]
  },
  {
   "cell_type": "markdown",
   "id": "13ba7633",
   "metadata": {},
   "source": [
    "짧게 짧게 딱딱 글로 적기"
   ]
  },
  {
   "cell_type": "markdown",
   "id": "a3000635",
   "metadata": {},
   "source": [
    "이후 >> 추진 체계 + 추진 일정"
   ]
  },
  {
   "cell_type": "markdown",
   "id": "3e47199a",
   "metadata": {},
   "source": [
    "========================================================================"
   ]
  },
  {
   "cell_type": "code",
   "execution_count": 1,
   "id": "d067b24a",
   "metadata": {},
   "outputs": [],
   "source": [
    "import pandas as pd"
   ]
  },
  {
   "cell_type": "code",
   "execution_count": 6,
   "id": "43efde30",
   "metadata": {},
   "outputs": [],
   "source": [
    "hat=pd.read_csv('class0309.csv')"
   ]
  },
  {
   "cell_type": "code",
   "execution_count": 7,
   "id": "680ea868",
   "metadata": {
    "scrolled": true
   },
   "outputs": [
    {
     "data": {
      "text/html": [
       "<div>\n",
       "<style scoped>\n",
       "    .dataframe tbody tr th:only-of-type {\n",
       "        vertical-align: middle;\n",
       "    }\n",
       "\n",
       "    .dataframe tbody tr th {\n",
       "        vertical-align: top;\n",
       "    }\n",
       "\n",
       "    .dataframe thead th {\n",
       "        text-align: right;\n",
       "    }\n",
       "</style>\n",
       "<table border=\"1\" class=\"dataframe\">\n",
       "  <thead>\n",
       "    <tr style=\"text-align: right;\">\n",
       "      <th></th>\n",
       "      <th>hatchery</th>\n",
       "      <th>chick</th>\n",
       "    </tr>\n",
       "  </thead>\n",
       "  <tbody>\n",
       "    <tr>\n",
       "      <th>0</th>\n",
       "      <td>A</td>\n",
       "      <td>30</td>\n",
       "    </tr>\n",
       "    <tr>\n",
       "      <th>1</th>\n",
       "      <td>B</td>\n",
       "      <td>30</td>\n",
       "    </tr>\n",
       "    <tr>\n",
       "      <th>2</th>\n",
       "      <td>C</td>\n",
       "      <td>29</td>\n",
       "    </tr>\n",
       "    <tr>\n",
       "      <th>3</th>\n",
       "      <td>D</td>\n",
       "      <td>26</td>\n",
       "    </tr>\n",
       "    <tr>\n",
       "      <th>4</th>\n",
       "      <td>E</td>\n",
       "      <td>24</td>\n",
       "    </tr>\n",
       "    <tr>\n",
       "      <th>5</th>\n",
       "      <td>F</td>\n",
       "      <td>28</td>\n",
       "    </tr>\n",
       "    <tr>\n",
       "      <th>6</th>\n",
       "      <td>G</td>\n",
       "      <td>27</td>\n",
       "    </tr>\n",
       "  </tbody>\n",
       "</table>\n",
       "</div>"
      ],
      "text/plain": [
       "  hatchery  chick\n",
       "0        A     30\n",
       "1        B     30\n",
       "2        C     29\n",
       "3        D     26\n",
       "4        E     24\n",
       "5        F     28\n",
       "6        G     27"
      ]
     },
     "execution_count": 7,
     "metadata": {},
     "output_type": "execute_result"
    }
   ],
   "source": [
    "hat"
   ]
  },
  {
   "cell_type": "markdown",
   "id": "d6a8ea3f",
   "metadata": {},
   "source": [
    "변수 잡을때 알파벳 하나로 하지 않고\n",
    "\n",
    "직관적으로 알수있는 변수명 정하기"
   ]
  },
  {
   "cell_type": "code",
   "execution_count": 8,
   "id": "a0acdd8a",
   "metadata": {},
   "outputs": [
    {
     "data": {
      "text/html": [
       "<div>\n",
       "<style scoped>\n",
       "    .dataframe tbody tr th:only-of-type {\n",
       "        vertical-align: middle;\n",
       "    }\n",
       "\n",
       "    .dataframe tbody tr th {\n",
       "        vertical-align: top;\n",
       "    }\n",
       "\n",
       "    .dataframe thead th {\n",
       "        text-align: right;\n",
       "    }\n",
       "</style>\n",
       "<table border=\"1\" class=\"dataframe\">\n",
       "  <thead>\n",
       "    <tr style=\"text-align: right;\">\n",
       "      <th></th>\n",
       "      <th>hatchery</th>\n",
       "      <th>chick</th>\n",
       "    </tr>\n",
       "  </thead>\n",
       "  <tbody>\n",
       "    <tr>\n",
       "      <th>0</th>\n",
       "      <td>A</td>\n",
       "      <td>30</td>\n",
       "    </tr>\n",
       "    <tr>\n",
       "      <th>1</th>\n",
       "      <td>B</td>\n",
       "      <td>30</td>\n",
       "    </tr>\n",
       "    <tr>\n",
       "      <th>2</th>\n",
       "      <td>C</td>\n",
       "      <td>29</td>\n",
       "    </tr>\n",
       "    <tr>\n",
       "      <th>3</th>\n",
       "      <td>D</td>\n",
       "      <td>26</td>\n",
       "    </tr>\n",
       "    <tr>\n",
       "      <th>4</th>\n",
       "      <td>E</td>\n",
       "      <td>24</td>\n",
       "    </tr>\n",
       "  </tbody>\n",
       "</table>\n",
       "</div>"
      ],
      "text/plain": [
       "  hatchery  chick\n",
       "0        A     30\n",
       "1        B     30\n",
       "2        C     29\n",
       "3        D     26\n",
       "4        E     24"
      ]
     },
     "execution_count": 8,
     "metadata": {},
     "output_type": "execute_result"
    }
   ],
   "source": [
    "hat.head()"
   ]
  },
  {
   "cell_type": "code",
   "execution_count": 10,
   "id": "bfd73c72",
   "metadata": {},
   "outputs": [
    {
     "data": {
      "text/html": [
       "<div>\n",
       "<style scoped>\n",
       "    .dataframe tbody tr th:only-of-type {\n",
       "        vertical-align: middle;\n",
       "    }\n",
       "\n",
       "    .dataframe tbody tr th {\n",
       "        vertical-align: top;\n",
       "    }\n",
       "\n",
       "    .dataframe thead th {\n",
       "        text-align: right;\n",
       "    }\n",
       "</style>\n",
       "<table border=\"1\" class=\"dataframe\">\n",
       "  <thead>\n",
       "    <tr style=\"text-align: right;\">\n",
       "      <th></th>\n",
       "      <th>hatchery</th>\n",
       "      <th>chick</th>\n",
       "    </tr>\n",
       "  </thead>\n",
       "  <tbody>\n",
       "    <tr>\n",
       "      <th>4</th>\n",
       "      <td>E</td>\n",
       "      <td>24</td>\n",
       "    </tr>\n",
       "    <tr>\n",
       "      <th>5</th>\n",
       "      <td>F</td>\n",
       "      <td>28</td>\n",
       "    </tr>\n",
       "    <tr>\n",
       "      <th>6</th>\n",
       "      <td>G</td>\n",
       "      <td>27</td>\n",
       "    </tr>\n",
       "  </tbody>\n",
       "</table>\n",
       "</div>"
      ],
      "text/plain": [
       "  hatchery  chick\n",
       "4        E     24\n",
       "5        F     28\n",
       "6        G     27"
      ]
     },
     "execution_count": 10,
     "metadata": {},
     "output_type": "execute_result"
    }
   ],
   "source": [
    "hat.tail(3)"
   ]
  },
  {
   "cell_type": "code",
   "execution_count": 12,
   "id": "d187dea2",
   "metadata": {},
   "outputs": [
    {
     "data": {
      "text/html": [
       "<div>\n",
       "<style scoped>\n",
       "    .dataframe tbody tr th:only-of-type {\n",
       "        vertical-align: middle;\n",
       "    }\n",
       "\n",
       "    .dataframe tbody tr th {\n",
       "        vertical-align: top;\n",
       "    }\n",
       "\n",
       "    .dataframe thead th {\n",
       "        text-align: right;\n",
       "    }\n",
       "</style>\n",
       "<table border=\"1\" class=\"dataframe\">\n",
       "  <thead>\n",
       "    <tr style=\"text-align: right;\">\n",
       "      <th></th>\n",
       "      <th>hatchery</th>\n",
       "      <th>chick</th>\n",
       "    </tr>\n",
       "  </thead>\n",
       "  <tbody>\n",
       "    <tr>\n",
       "      <th>0</th>\n",
       "      <td>A</td>\n",
       "      <td>30</td>\n",
       "    </tr>\n",
       "    <tr>\n",
       "      <th>1</th>\n",
       "      <td>B</td>\n",
       "      <td>30</td>\n",
       "    </tr>\n",
       "    <tr>\n",
       "      <th>2</th>\n",
       "      <td>C</td>\n",
       "      <td>29</td>\n",
       "    </tr>\n",
       "    <tr>\n",
       "      <th>3</th>\n",
       "      <td>D</td>\n",
       "      <td>26</td>\n",
       "    </tr>\n",
       "    <tr>\n",
       "      <th>4</th>\n",
       "      <td>E</td>\n",
       "      <td>24</td>\n",
       "    </tr>\n",
       "  </tbody>\n",
       "</table>\n",
       "</div>"
      ],
      "text/plain": [
       "  hatchery  chick\n",
       "0        A     30\n",
       "1        B     30\n",
       "2        C     29\n",
       "3        D     26\n",
       "4        E     24"
      ]
     },
     "execution_count": 12,
     "metadata": {},
     "output_type": "execute_result"
    }
   ],
   "source": [
    "hat.head()"
   ]
  },
  {
   "cell_type": "code",
   "execution_count": 11,
   "id": "7a0df2a5",
   "metadata": {},
   "outputs": [
    {
     "data": {
      "text/html": [
       "<div>\n",
       "<style scoped>\n",
       "    .dataframe tbody tr th:only-of-type {\n",
       "        vertical-align: middle;\n",
       "    }\n",
       "\n",
       "    .dataframe tbody tr th {\n",
       "        vertical-align: top;\n",
       "    }\n",
       "\n",
       "    .dataframe thead th {\n",
       "        text-align: right;\n",
       "    }\n",
       "</style>\n",
       "<table border=\"1\" class=\"dataframe\">\n",
       "  <thead>\n",
       "    <tr style=\"text-align: right;\">\n",
       "      <th></th>\n",
       "      <th>hatchery</th>\n",
       "      <th>chick</th>\n",
       "    </tr>\n",
       "  </thead>\n",
       "  <tbody>\n",
       "    <tr>\n",
       "      <th>2</th>\n",
       "      <td>C</td>\n",
       "      <td>29</td>\n",
       "    </tr>\n",
       "    <tr>\n",
       "      <th>3</th>\n",
       "      <td>D</td>\n",
       "      <td>26</td>\n",
       "    </tr>\n",
       "    <tr>\n",
       "      <th>4</th>\n",
       "      <td>E</td>\n",
       "      <td>24</td>\n",
       "    </tr>\n",
       "    <tr>\n",
       "      <th>5</th>\n",
       "      <td>F</td>\n",
       "      <td>28</td>\n",
       "    </tr>\n",
       "    <tr>\n",
       "      <th>6</th>\n",
       "      <td>G</td>\n",
       "      <td>27</td>\n",
       "    </tr>\n",
       "  </tbody>\n",
       "</table>\n",
       "</div>"
      ],
      "text/plain": [
       "  hatchery  chick\n",
       "2        C     29\n",
       "3        D     26\n",
       "4        E     24\n",
       "5        F     28\n",
       "6        G     27"
      ]
     },
     "execution_count": 11,
     "metadata": {},
     "output_type": "execute_result"
    }
   ],
   "source": [
    "hat.tail()"
   ]
  },
  {
   "cell_type": "code",
   "execution_count": 13,
   "id": "a89bbd19",
   "metadata": {},
   "outputs": [
    {
     "data": {
      "text/plain": [
       "194"
      ]
     },
     "execution_count": 13,
     "metadata": {},
     "output_type": "execute_result"
    }
   ],
   "source": [
    "hat.chick.sum()"
   ]
  },
  {
   "cell_type": "code",
   "execution_count": 14,
   "id": "43cf6207",
   "metadata": {},
   "outputs": [
    {
     "data": {
      "text/plain": [
       "194"
      ]
     },
     "execution_count": 14,
     "metadata": {},
     "output_type": "execute_result"
    }
   ],
   "source": [
    "hat['chick'].sum()"
   ]
  },
  {
   "cell_type": "code",
   "execution_count": 23,
   "id": "564a9403",
   "metadata": {},
   "outputs": [
    {
     "data": {
      "text/plain": [
       "27.714285714285715"
      ]
     },
     "execution_count": 23,
     "metadata": {},
     "output_type": "execute_result"
    }
   ],
   "source": [
    "hat.chick.mean()"
   ]
  },
  {
   "cell_type": "code",
   "execution_count": 15,
   "id": "261e8b04",
   "metadata": {},
   "outputs": [
    {
     "data": {
      "text/plain": [
       "27.714285714285715"
      ]
     },
     "execution_count": 15,
     "metadata": {},
     "output_type": "execute_result"
    }
   ],
   "source": [
    "hat['chick'].mean()"
   ]
  },
  {
   "cell_type": "code",
   "execution_count": 16,
   "id": "9a85baf5",
   "metadata": {},
   "outputs": [
    {
     "data": {
      "text/plain": [
       "2.2146697055682827"
      ]
     },
     "execution_count": 16,
     "metadata": {},
     "output_type": "execute_result"
    }
   ],
   "source": [
    "hat['chick'].std()"
   ]
  },
  {
   "cell_type": "code",
   "execution_count": 17,
   "id": "f6350dc5",
   "metadata": {},
   "outputs": [
    {
     "data": {
      "text/plain": [
       "28.0"
      ]
     },
     "execution_count": 17,
     "metadata": {},
     "output_type": "execute_result"
    }
   ],
   "source": [
    "hat['chick'].median()"
   ]
  },
  {
   "cell_type": "code",
   "execution_count": 18,
   "id": "75e78e0c",
   "metadata": {},
   "outputs": [
    {
     "data": {
      "text/plain": [
       "24"
      ]
     },
     "execution_count": 18,
     "metadata": {},
     "output_type": "execute_result"
    }
   ],
   "source": [
    "hat['chick'].min()"
   ]
  },
  {
   "cell_type": "code",
   "execution_count": 19,
   "id": "73878ab3",
   "metadata": {},
   "outputs": [
    {
     "data": {
      "text/plain": [
       "30"
      ]
     },
     "execution_count": 19,
     "metadata": {},
     "output_type": "execute_result"
    }
   ],
   "source": [
    "hat['chick'].max()"
   ]
  },
  {
   "cell_type": "code",
   "execution_count": 25,
   "id": "41e9b669",
   "metadata": {},
   "outputs": [
    {
     "data": {
      "text/html": [
       "<div>\n",
       "<style scoped>\n",
       "    .dataframe tbody tr th:only-of-type {\n",
       "        vertical-align: middle;\n",
       "    }\n",
       "\n",
       "    .dataframe tbody tr th {\n",
       "        vertical-align: top;\n",
       "    }\n",
       "\n",
       "    .dataframe thead th {\n",
       "        text-align: right;\n",
       "    }\n",
       "</style>\n",
       "<table border=\"1\" class=\"dataframe\">\n",
       "  <thead>\n",
       "    <tr style=\"text-align: right;\">\n",
       "      <th></th>\n",
       "      <th>hatchery</th>\n",
       "      <th>chick</th>\n",
       "    </tr>\n",
       "  </thead>\n",
       "  <tbody>\n",
       "    <tr>\n",
       "      <th>4</th>\n",
       "      <td>E</td>\n",
       "      <td>24</td>\n",
       "    </tr>\n",
       "    <tr>\n",
       "      <th>3</th>\n",
       "      <td>D</td>\n",
       "      <td>26</td>\n",
       "    </tr>\n",
       "    <tr>\n",
       "      <th>6</th>\n",
       "      <td>G</td>\n",
       "      <td>27</td>\n",
       "    </tr>\n",
       "    <tr>\n",
       "      <th>5</th>\n",
       "      <td>F</td>\n",
       "      <td>28</td>\n",
       "    </tr>\n",
       "    <tr>\n",
       "      <th>2</th>\n",
       "      <td>C</td>\n",
       "      <td>29</td>\n",
       "    </tr>\n",
       "    <tr>\n",
       "      <th>0</th>\n",
       "      <td>A</td>\n",
       "      <td>30</td>\n",
       "    </tr>\n",
       "    <tr>\n",
       "      <th>1</th>\n",
       "      <td>B</td>\n",
       "      <td>30</td>\n",
       "    </tr>\n",
       "  </tbody>\n",
       "</table>\n",
       "</div>"
      ],
      "text/plain": [
       "  hatchery  chick\n",
       "4        E     24\n",
       "3        D     26\n",
       "6        G     27\n",
       "5        F     28\n",
       "2        C     29\n",
       "0        A     30\n",
       "1        B     30"
      ]
     },
     "execution_count": 25,
     "metadata": {},
     "output_type": "execute_result"
    }
   ],
   "source": [
    "hat.sort_values(by=['chick'],ascending=True)"
   ]
  },
  {
   "cell_type": "code",
   "execution_count": 26,
   "id": "d3cb3eb4",
   "metadata": {},
   "outputs": [
    {
     "data": {
      "text/html": [
       "<div>\n",
       "<style scoped>\n",
       "    .dataframe tbody tr th:only-of-type {\n",
       "        vertical-align: middle;\n",
       "    }\n",
       "\n",
       "    .dataframe tbody tr th {\n",
       "        vertical-align: top;\n",
       "    }\n",
       "\n",
       "    .dataframe thead th {\n",
       "        text-align: right;\n",
       "    }\n",
       "</style>\n",
       "<table border=\"1\" class=\"dataframe\">\n",
       "  <thead>\n",
       "    <tr style=\"text-align: right;\">\n",
       "      <th></th>\n",
       "      <th>hatchery</th>\n",
       "      <th>chick</th>\n",
       "    </tr>\n",
       "  </thead>\n",
       "  <tbody>\n",
       "    <tr>\n",
       "      <th>0</th>\n",
       "      <td>A</td>\n",
       "      <td>30</td>\n",
       "    </tr>\n",
       "    <tr>\n",
       "      <th>1</th>\n",
       "      <td>B</td>\n",
       "      <td>30</td>\n",
       "    </tr>\n",
       "    <tr>\n",
       "      <th>2</th>\n",
       "      <td>C</td>\n",
       "      <td>29</td>\n",
       "    </tr>\n",
       "    <tr>\n",
       "      <th>5</th>\n",
       "      <td>F</td>\n",
       "      <td>28</td>\n",
       "    </tr>\n",
       "    <tr>\n",
       "      <th>6</th>\n",
       "      <td>G</td>\n",
       "      <td>27</td>\n",
       "    </tr>\n",
       "    <tr>\n",
       "      <th>3</th>\n",
       "      <td>D</td>\n",
       "      <td>26</td>\n",
       "    </tr>\n",
       "    <tr>\n",
       "      <th>4</th>\n",
       "      <td>E</td>\n",
       "      <td>24</td>\n",
       "    </tr>\n",
       "  </tbody>\n",
       "</table>\n",
       "</div>"
      ],
      "text/plain": [
       "  hatchery  chick\n",
       "0        A     30\n",
       "1        B     30\n",
       "2        C     29\n",
       "5        F     28\n",
       "6        G     27\n",
       "3        D     26\n",
       "4        E     24"
      ]
     },
     "execution_count": 26,
     "metadata": {},
     "output_type": "execute_result"
    }
   ],
   "source": [
    "hat.sort_values(by=['chick'],ascending=False)"
   ]
  },
  {
   "cell_type": "code",
   "execution_count": 27,
   "id": "c50ddcda",
   "metadata": {},
   "outputs": [],
   "source": [
    "import matplotlib.pyplot as plt"
   ]
  },
  {
   "cell_type": "code",
   "execution_count": 29,
   "id": "139c3946",
   "metadata": {},
   "outputs": [
    {
     "data": {
      "image/png": "[encoded data removed]",
      "text/plain": [
       "<Figure size 432x288 with 1 Axes>"
      ]
     },
     "metadata": {
      "needs_background": "light"
     },
     "output_type": "display_data"
    }
   ],
   "source": [
    "plt.bar(hat['hatchery'],hat['chick'])\n",
    "plt.show()"
   ]
  },
  {
   "cell_type": "code",
   "execution_count": 41,
   "id": "11e00151",
   "metadata": {},
   "outputs": [
    {
     "data": {
      "image/png": "[encoded data removed]",
      "text/plain": [
       "<Figure size 1080x720 with 1 Axes>"
      ]
     },
     "metadata": {
      "needs_background": "light"
     },
     "output_type": "display_data"
    }
   ],
   "source": [
    "plt.figure(figsize=(15,10))\n",
    "plt.bar(hat['hatchery'],hat['chick'],color=('red','orange','yellow',\n",
    "                                            'green','blue','navy','purple'))\n",
    "plt.title('hatchery chick NOW')\n",
    "plt.xlabel('hatchery')\n",
    "plt.ylabel('num')\n",
    "plt.show()"
   ]
  },
  {
   "cell_type": "code",
   "execution_count": 42,
   "id": "0a5d448d",
   "metadata": {},
   "outputs": [],
   "source": [
    "def addtext(x,y):\n",
    "    for i in range(len(x)):\n",
    "        plt.text(i,y[i]+0.5,y[i],ha='center')"
   ]
  },
  {
   "cell_type": "code",
   "execution_count": 47,
   "id": "1b11a943",
   "metadata": {},
   "outputs": [],
   "source": [
    "import seaborn as sns"
   ]
  },
  {
   "cell_type": "code",
   "execution_count": 48,
   "id": "14685668",
   "metadata": {
    "scrolled": false
   },
   "outputs": [
    {
     "data": {
      "image/png": "[encoded data removed]",
      "text/plain": [
       "<Figure size 720x504 with 1 Axes>"
      ]
     },
     "metadata": {
      "needs_background": "light"
     },
     "output_type": "display_data"
    }
   ],
   "source": [
    "col7 = sns.color_palette('Pastel2',7)\n",
    "plt.figure(figsize=(10,7))\n",
    "plt.bar(hat['hatchery'],hat['chick'],color=col7,edgecolor = 'black')\n",
    "addtext(hat['hatchery'],hat['chick'])\n",
    "plt.title('hatchery chick NOW',fontsize=17)\n",
    "plt.xlabel('hatchery')\n",
    "plt.ylabel('num')\n",
    "plt.show()"
   ]
  },
  {
   "cell_type": "markdown",
   "id": "9f7cd7ef",
   "metadata": {},
   "source": [
    "# 프로젝트"
   ]
  },
  {
   "cell_type": "markdown",
   "id": "6fe61f5e",
   "metadata": {},
   "source": [
    "배경 요약정리\n",
    "\n",
    "의뢰인이 원하는 내가 해야하는일 만들기"
   ]
  },
  {
   "cell_type": "markdown",
   "id": "f4c4046f",
   "metadata": {},
   "source": [
    "즉, 문제정의 + 의뢰인이 원하는 답이 무엇인지"
   ]
  },
  {
   "cell_type": "markdown",
   "id": "77b14544",
   "metadata": {},
   "source": [
    "짧게 짧게 딱딱 글로 적기"
   ]
  },
  {
   "cell_type": "markdown",
   "id": "e60da0a6",
   "metadata": {},
   "source": [
    "이후 >> 추진 체계 + 추진 일정"
   ]
  },
  {
   "cell_type": "code",
   "execution_count": null,
   "id": "e6fed624",
   "metadata": {},
   "outputs": [],
   "source": [
    "\n"
   ]
  }
 ],
 "metadata": {
  "kernelspec": {
   "display_name": "Python 3 (ipykernel)",
   "language": "python",
   "name": "python3"
  },
  "language_info": {
   "codemirror_mode": {
    "name": "ipython",
    "version": 3
   },
   "file_extension": ".py",
   "mimetype": "text/x-python",
   "name": "python",
   "nbconvert_exporter": "python",
   "pygments_lexer": "ipython3",
   "version": "3.9.12"
  }
 },
 "nbformat": 4,
 "nbformat_minor": 5
}
