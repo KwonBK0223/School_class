{
 "cells": [
  {
   "cell_type": "markdown",
   "id": "3adf0ca2",
   "metadata": {},
   "source": [
    "correlation 상관관계\n",
    "\n",
    "병아리의 몸무게가 어디에 연관이 되어 있는가\n",
    "\n",
    "피어슨 pearson's 상관계수 r\n",
    "\n",
    "산점도 그림 Scatter\n",
    "\n",
    "그림이 퍼져있으면 관계가 없을 것이다 VS 그림이 직선으로 나타나면 관계가 있을것이다\n",
    "\n",
    "나와 남의 관계 >> 공분산(Covariance) : positive definite matrix\n",
    "\n",
    "피어슨의 상관계수 r\n",
    "\n",
    "r = Cov(X,Y)/std(X) * std(Y)\n",
    "\n",
    "pairplot/heatmap\n",
    "\n"
   ]
  },
  {
   "cell_type": "markdown",
   "id": "70411c9b",
   "metadata": {},
   "source": [
    "비선형일때는 피어슨 상관관계로 만으로는 분석 불가능\n",
    "\n",
    "피어슨 상관관계는 정규분포를 가정한다"
   ]
  },
  {
   "cell_type": "markdown",
   "id": "781216ac",
   "metadata": {},
   "source": []
  }
 ],
 "metadata": {
  "kernelspec": {
   "display_name": "Python 3 (ipykernel)",
   "language": "python",
   "name": "python3"
  },
  "language_info": {
   "codemirror_mode": {
    "name": "ipython",
    "version": 3
   },
   "file_extension": ".py",
   "mimetype": "text/x-python",
   "name": "python",
   "nbconvert_exporter": "python",
   "pygments_lexer": "ipython3",
   "version": "3.9.12"
  }
 },
 "nbformat": 4,
 "nbformat_minor": 5
}
